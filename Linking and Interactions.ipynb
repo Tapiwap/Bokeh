{
 "cells": [
  {
   "cell_type": "code",
   "execution_count": 3,
   "metadata": {},
   "outputs": [
    {
     "data": {
      "text/html": [
       "\n",
       "    <div class=\"bk-root\">\n",
       "        <a href=\"https://bokeh.pydata.org\" target=\"_blank\" class=\"bk-logo bk-logo-small bk-logo-notebook\"></a>\n",
       "        <span id=\"1001\">Loading BokehJS ...</span>\n",
       "    </div>"
      ]
     },
     "metadata": {},
     "output_type": "display_data"
    },
    {
     "data": {
      "application/javascript": [
       "\n",
       "(function(root) {\n",
       "  function now() {\n",
       "    return new Date();\n",
       "  }\n",
       "\n",
       "  var force = true;\n",
       "\n",
       "  if (typeof root._bokeh_onload_callbacks === \"undefined\" || force === true) {\n",
       "    root._bokeh_onload_callbacks = [];\n",
       "    root._bokeh_is_loading = undefined;\n",
       "  }\n",
       "\n",
       "  var JS_MIME_TYPE = 'application/javascript';\n",
       "  var HTML_MIME_TYPE = 'text/html';\n",
       "  var EXEC_MIME_TYPE = 'application/vnd.bokehjs_exec.v0+json';\n",
       "  var CLASS_NAME = 'output_bokeh rendered_html';\n",
       "\n",
       "  /**\n",
       "   * Render data to the DOM node\n",
       "   */\n",
       "  function render(props, node) {\n",
       "    var script = document.createElement(\"script\");\n",
       "    node.appendChild(script);\n",
       "  }\n",
       "\n",
       "  /**\n",
       "   * Handle when an output is cleared or removed\n",
       "   */\n",
       "  function handleClearOutput(event, handle) {\n",
       "    var cell = handle.cell;\n",
       "\n",
       "    var id = cell.output_area._bokeh_element_id;\n",
       "    var server_id = cell.output_area._bokeh_server_id;\n",
       "    // Clean up Bokeh references\n",
       "    if (id != null && id in Bokeh.index) {\n",
       "      Bokeh.index[id].model.document.clear();\n",
       "      delete Bokeh.index[id];\n",
       "    }\n",
       "\n",
       "    if (server_id !== undefined) {\n",
       "      // Clean up Bokeh references\n",
       "      var cmd = \"from bokeh.io.state import curstate; print(curstate().uuid_to_server['\" + server_id + \"'].get_sessions()[0].document.roots[0]._id)\";\n",
       "      cell.notebook.kernel.execute(cmd, {\n",
       "        iopub: {\n",
       "          output: function(msg) {\n",
       "            var id = msg.content.text.trim();\n",
       "            if (id in Bokeh.index) {\n",
       "              Bokeh.index[id].model.document.clear();\n",
       "              delete Bokeh.index[id];\n",
       "            }\n",
       "          }\n",
       "        }\n",
       "      });\n",
       "      // Destroy server and session\n",
       "      var cmd = \"import bokeh.io.notebook as ion; ion.destroy_server('\" + server_id + \"')\";\n",
       "      cell.notebook.kernel.execute(cmd);\n",
       "    }\n",
       "  }\n",
       "\n",
       "  /**\n",
       "   * Handle when a new output is added\n",
       "   */\n",
       "  function handleAddOutput(event, handle) {\n",
       "    var output_area = handle.output_area;\n",
       "    var output = handle.output;\n",
       "\n",
       "    // limit handleAddOutput to display_data with EXEC_MIME_TYPE content only\n",
       "    if ((output.output_type != \"display_data\") || (!output.data.hasOwnProperty(EXEC_MIME_TYPE))) {\n",
       "      return\n",
       "    }\n",
       "\n",
       "    var toinsert = output_area.element.find(\".\" + CLASS_NAME.split(' ')[0]);\n",
       "\n",
       "    if (output.metadata[EXEC_MIME_TYPE][\"id\"] !== undefined) {\n",
       "      toinsert[toinsert.length - 1].firstChild.textContent = output.data[JS_MIME_TYPE];\n",
       "      // store reference to embed id on output_area\n",
       "      output_area._bokeh_element_id = output.metadata[EXEC_MIME_TYPE][\"id\"];\n",
       "    }\n",
       "    if (output.metadata[EXEC_MIME_TYPE][\"server_id\"] !== undefined) {\n",
       "      var bk_div = document.createElement(\"div\");\n",
       "      bk_div.innerHTML = output.data[HTML_MIME_TYPE];\n",
       "      var script_attrs = bk_div.children[0].attributes;\n",
       "      for (var i = 0; i < script_attrs.length; i++) {\n",
       "        toinsert[toinsert.length - 1].firstChild.setAttribute(script_attrs[i].name, script_attrs[i].value);\n",
       "      }\n",
       "      // store reference to server id on output_area\n",
       "      output_area._bokeh_server_id = output.metadata[EXEC_MIME_TYPE][\"server_id\"];\n",
       "    }\n",
       "  }\n",
       "\n",
       "  function register_renderer(events, OutputArea) {\n",
       "\n",
       "    function append_mime(data, metadata, element) {\n",
       "      // create a DOM node to render to\n",
       "      var toinsert = this.create_output_subarea(\n",
       "        metadata,\n",
       "        CLASS_NAME,\n",
       "        EXEC_MIME_TYPE\n",
       "      );\n",
       "      this.keyboard_manager.register_events(toinsert);\n",
       "      // Render to node\n",
       "      var props = {data: data, metadata: metadata[EXEC_MIME_TYPE]};\n",
       "      render(props, toinsert[toinsert.length - 1]);\n",
       "      element.append(toinsert);\n",
       "      return toinsert\n",
       "    }\n",
       "\n",
       "    /* Handle when an output is cleared or removed */\n",
       "    events.on('clear_output.CodeCell', handleClearOutput);\n",
       "    events.on('delete.Cell', handleClearOutput);\n",
       "\n",
       "    /* Handle when a new output is added */\n",
       "    events.on('output_added.OutputArea', handleAddOutput);\n",
       "\n",
       "    /**\n",
       "     * Register the mime type and append_mime function with output_area\n",
       "     */\n",
       "    OutputArea.prototype.register_mime_type(EXEC_MIME_TYPE, append_mime, {\n",
       "      /* Is output safe? */\n",
       "      safe: true,\n",
       "      /* Index of renderer in `output_area.display_order` */\n",
       "      index: 0\n",
       "    });\n",
       "  }\n",
       "\n",
       "  // register the mime type if in Jupyter Notebook environment and previously unregistered\n",
       "  if (root.Jupyter !== undefined) {\n",
       "    var events = require('base/js/events');\n",
       "    var OutputArea = require('notebook/js/outputarea').OutputArea;\n",
       "\n",
       "    if (OutputArea.prototype.mime_types().indexOf(EXEC_MIME_TYPE) == -1) {\n",
       "      register_renderer(events, OutputArea);\n",
       "    }\n",
       "  }\n",
       "\n",
       "  \n",
       "  if (typeof (root._bokeh_timeout) === \"undefined\" || force === true) {\n",
       "    root._bokeh_timeout = Date.now() + 5000;\n",
       "    root._bokeh_failed_load = false;\n",
       "  }\n",
       "\n",
       "  var NB_LOAD_WARNING = {'data': {'text/html':\n",
       "     \"<div style='background-color: #fdd'>\\n\"+\n",
       "     \"<p>\\n\"+\n",
       "     \"BokehJS does not appear to have successfully loaded. If loading BokehJS from CDN, this \\n\"+\n",
       "     \"may be due to a slow or bad network connection. Possible fixes:\\n\"+\n",
       "     \"</p>\\n\"+\n",
       "     \"<ul>\\n\"+\n",
       "     \"<li>re-rerun `output_notebook()` to attempt to load from CDN again, or</li>\\n\"+\n",
       "     \"<li>use INLINE resources instead, as so:</li>\\n\"+\n",
       "     \"</ul>\\n\"+\n",
       "     \"<code>\\n\"+\n",
       "     \"from bokeh.resources import INLINE\\n\"+\n",
       "     \"output_notebook(resources=INLINE)\\n\"+\n",
       "     \"</code>\\n\"+\n",
       "     \"</div>\"}};\n",
       "\n",
       "  function display_loaded() {\n",
       "    var el = document.getElementById(\"1001\");\n",
       "    if (el != null) {\n",
       "      el.textContent = \"BokehJS is loading...\";\n",
       "    }\n",
       "    if (root.Bokeh !== undefined) {\n",
       "      if (el != null) {\n",
       "        el.textContent = \"BokehJS \" + root.Bokeh.version + \" successfully loaded.\";\n",
       "      }\n",
       "    } else if (Date.now() < root._bokeh_timeout) {\n",
       "      setTimeout(display_loaded, 100)\n",
       "    }\n",
       "  }\n",
       "\n",
       "\n",
       "  function run_callbacks() {\n",
       "    try {\n",
       "      root._bokeh_onload_callbacks.forEach(function(callback) {\n",
       "        if (callback != null)\n",
       "          callback();\n",
       "      });\n",
       "    } finally {\n",
       "      delete root._bokeh_onload_callbacks\n",
       "    }\n",
       "    console.debug(\"Bokeh: all callbacks have finished\");\n",
       "  }\n",
       "\n",
       "  function load_libs(css_urls, js_urls, callback) {\n",
       "    if (css_urls == null) css_urls = [];\n",
       "    if (js_urls == null) js_urls = [];\n",
       "\n",
       "    root._bokeh_onload_callbacks.push(callback);\n",
       "    if (root._bokeh_is_loading > 0) {\n",
       "      console.debug(\"Bokeh: BokehJS is being loaded, scheduling callback at\", now());\n",
       "      return null;\n",
       "    }\n",
       "    if (js_urls == null || js_urls.length === 0) {\n",
       "      run_callbacks();\n",
       "      return null;\n",
       "    }\n",
       "    console.debug(\"Bokeh: BokehJS not loaded, scheduling load and callback at\", now());\n",
       "    root._bokeh_is_loading = css_urls.length + js_urls.length;\n",
       "\n",
       "    function on_load() {\n",
       "      root._bokeh_is_loading--;\n",
       "      if (root._bokeh_is_loading === 0) {\n",
       "        console.debug(\"Bokeh: all BokehJS libraries/stylesheets loaded\");\n",
       "        run_callbacks()\n",
       "      }\n",
       "    }\n",
       "\n",
       "    function on_error() {\n",
       "      console.error(\"failed to load \" + url);\n",
       "    }\n",
       "\n",
       "    for (var i = 0; i < css_urls.length; i++) {\n",
       "      var url = css_urls[i];\n",
       "      const element = document.createElement(\"link\");\n",
       "      element.onload = on_load;\n",
       "      element.onerror = on_error;\n",
       "      element.rel = \"stylesheet\";\n",
       "      element.type = \"text/css\";\n",
       "      element.href = url;\n",
       "      console.debug(\"Bokeh: injecting link tag for BokehJS stylesheet: \", url);\n",
       "      document.body.appendChild(element);\n",
       "    }\n",
       "\n",
       "    for (var i = 0; i < js_urls.length; i++) {\n",
       "      var url = js_urls[i];\n",
       "      var element = document.createElement('script');\n",
       "      element.onload = on_load;\n",
       "      element.onerror = on_error;\n",
       "      element.async = false;\n",
       "      element.src = url;\n",
       "      console.debug(\"Bokeh: injecting script tag for BokehJS library: \", url);\n",
       "      document.head.appendChild(element);\n",
       "    }\n",
       "  };var element = document.getElementById(\"1001\");\n",
       "  if (element == null) {\n",
       "    console.error(\"Bokeh: ERROR: autoload.js configured with elementid '1001' but no matching script tag was found. \")\n",
       "    return false;\n",
       "  }\n",
       "\n",
       "  function inject_raw_css(css) {\n",
       "    const element = document.createElement(\"style\");\n",
       "    element.appendChild(document.createTextNode(css));\n",
       "    document.body.appendChild(element);\n",
       "  }\n",
       "\n",
       "  var js_urls = [\"https://cdn.pydata.org/bokeh/release/bokeh-1.1.0.min.js\", \"https://cdn.pydata.org/bokeh/release/bokeh-widgets-1.1.0.min.js\", \"https://cdn.pydata.org/bokeh/release/bokeh-tables-1.1.0.min.js\", \"https://cdn.pydata.org/bokeh/release/bokeh-gl-1.1.0.min.js\"];\n",
       "  var css_urls = [\"https://cdn.pydata.org/bokeh/release/bokeh-1.1.0.min.css\", \"https://cdn.pydata.org/bokeh/release/bokeh-widgets-1.1.0.min.css\", \"https://cdn.pydata.org/bokeh/release/bokeh-tables-1.1.0.min.css\"];\n",
       "\n",
       "  var inline_js = [\n",
       "    function(Bokeh) {\n",
       "      Bokeh.set_log_level(\"info\");\n",
       "    },\n",
       "    \n",
       "    function(Bokeh) {\n",
       "      \n",
       "    },\n",
       "    function(Bokeh) {} // ensure no trailing comma for IE\n",
       "  ];\n",
       "\n",
       "  function run_inline_js() {\n",
       "    \n",
       "    if ((root.Bokeh !== undefined) || (force === true)) {\n",
       "      for (var i = 0; i < inline_js.length; i++) {\n",
       "        inline_js[i].call(root, root.Bokeh);\n",
       "      }if (force === true) {\n",
       "        display_loaded();\n",
       "      }} else if (Date.now() < root._bokeh_timeout) {\n",
       "      setTimeout(run_inline_js, 100);\n",
       "    } else if (!root._bokeh_failed_load) {\n",
       "      console.log(\"Bokeh: BokehJS failed to load within specified timeout.\");\n",
       "      root._bokeh_failed_load = true;\n",
       "    } else if (force !== true) {\n",
       "      var cell = $(document.getElementById(\"1001\")).parents('.cell').data().cell;\n",
       "      cell.output_area.append_execute_result(NB_LOAD_WARNING)\n",
       "    }\n",
       "\n",
       "  }\n",
       "\n",
       "  if (root._bokeh_is_loading === 0) {\n",
       "    console.debug(\"Bokeh: BokehJS loaded, going straight to plotting\");\n",
       "    run_inline_js();\n",
       "  } else {\n",
       "    load_libs(css_urls, js_urls, function() {\n",
       "      console.debug(\"Bokeh: BokehJS plotting callback run at\", now());\n",
       "      run_inline_js();\n",
       "    });\n",
       "  }\n",
       "}(window));"
      ],
      "application/vnd.bokehjs_load.v0+json": "\n(function(root) {\n  function now() {\n    return new Date();\n  }\n\n  var force = true;\n\n  if (typeof root._bokeh_onload_callbacks === \"undefined\" || force === true) {\n    root._bokeh_onload_callbacks = [];\n    root._bokeh_is_loading = undefined;\n  }\n\n  \n\n  \n  if (typeof (root._bokeh_timeout) === \"undefined\" || force === true) {\n    root._bokeh_timeout = Date.now() + 5000;\n    root._bokeh_failed_load = false;\n  }\n\n  var NB_LOAD_WARNING = {'data': {'text/html':\n     \"<div style='background-color: #fdd'>\\n\"+\n     \"<p>\\n\"+\n     \"BokehJS does not appear to have successfully loaded. If loading BokehJS from CDN, this \\n\"+\n     \"may be due to a slow or bad network connection. Possible fixes:\\n\"+\n     \"</p>\\n\"+\n     \"<ul>\\n\"+\n     \"<li>re-rerun `output_notebook()` to attempt to load from CDN again, or</li>\\n\"+\n     \"<li>use INLINE resources instead, as so:</li>\\n\"+\n     \"</ul>\\n\"+\n     \"<code>\\n\"+\n     \"from bokeh.resources import INLINE\\n\"+\n     \"output_notebook(resources=INLINE)\\n\"+\n     \"</code>\\n\"+\n     \"</div>\"}};\n\n  function display_loaded() {\n    var el = document.getElementById(\"1001\");\n    if (el != null) {\n      el.textContent = \"BokehJS is loading...\";\n    }\n    if (root.Bokeh !== undefined) {\n      if (el != null) {\n        el.textContent = \"BokehJS \" + root.Bokeh.version + \" successfully loaded.\";\n      }\n    } else if (Date.now() < root._bokeh_timeout) {\n      setTimeout(display_loaded, 100)\n    }\n  }\n\n\n  function run_callbacks() {\n    try {\n      root._bokeh_onload_callbacks.forEach(function(callback) {\n        if (callback != null)\n          callback();\n      });\n    } finally {\n      delete root._bokeh_onload_callbacks\n    }\n    console.debug(\"Bokeh: all callbacks have finished\");\n  }\n\n  function load_libs(css_urls, js_urls, callback) {\n    if (css_urls == null) css_urls = [];\n    if (js_urls == null) js_urls = [];\n\n    root._bokeh_onload_callbacks.push(callback);\n    if (root._bokeh_is_loading > 0) {\n      console.debug(\"Bokeh: BokehJS is being loaded, scheduling callback at\", now());\n      return null;\n    }\n    if (js_urls == null || js_urls.length === 0) {\n      run_callbacks();\n      return null;\n    }\n    console.debug(\"Bokeh: BokehJS not loaded, scheduling load and callback at\", now());\n    root._bokeh_is_loading = css_urls.length + js_urls.length;\n\n    function on_load() {\n      root._bokeh_is_loading--;\n      if (root._bokeh_is_loading === 0) {\n        console.debug(\"Bokeh: all BokehJS libraries/stylesheets loaded\");\n        run_callbacks()\n      }\n    }\n\n    function on_error() {\n      console.error(\"failed to load \" + url);\n    }\n\n    for (var i = 0; i < css_urls.length; i++) {\n      var url = css_urls[i];\n      const element = document.createElement(\"link\");\n      element.onload = on_load;\n      element.onerror = on_error;\n      element.rel = \"stylesheet\";\n      element.type = \"text/css\";\n      element.href = url;\n      console.debug(\"Bokeh: injecting link tag for BokehJS stylesheet: \", url);\n      document.body.appendChild(element);\n    }\n\n    for (var i = 0; i < js_urls.length; i++) {\n      var url = js_urls[i];\n      var element = document.createElement('script');\n      element.onload = on_load;\n      element.onerror = on_error;\n      element.async = false;\n      element.src = url;\n      console.debug(\"Bokeh: injecting script tag for BokehJS library: \", url);\n      document.head.appendChild(element);\n    }\n  };var element = document.getElementById(\"1001\");\n  if (element == null) {\n    console.error(\"Bokeh: ERROR: autoload.js configured with elementid '1001' but no matching script tag was found. \")\n    return false;\n  }\n\n  function inject_raw_css(css) {\n    const element = document.createElement(\"style\");\n    element.appendChild(document.createTextNode(css));\n    document.body.appendChild(element);\n  }\n\n  var js_urls = [\"https://cdn.pydata.org/bokeh/release/bokeh-1.1.0.min.js\", \"https://cdn.pydata.org/bokeh/release/bokeh-widgets-1.1.0.min.js\", \"https://cdn.pydata.org/bokeh/release/bokeh-tables-1.1.0.min.js\", \"https://cdn.pydata.org/bokeh/release/bokeh-gl-1.1.0.min.js\"];\n  var css_urls = [\"https://cdn.pydata.org/bokeh/release/bokeh-1.1.0.min.css\", \"https://cdn.pydata.org/bokeh/release/bokeh-widgets-1.1.0.min.css\", \"https://cdn.pydata.org/bokeh/release/bokeh-tables-1.1.0.min.css\"];\n\n  var inline_js = [\n    function(Bokeh) {\n      Bokeh.set_log_level(\"info\");\n    },\n    \n    function(Bokeh) {\n      \n    },\n    function(Bokeh) {} // ensure no trailing comma for IE\n  ];\n\n  function run_inline_js() {\n    \n    if ((root.Bokeh !== undefined) || (force === true)) {\n      for (var i = 0; i < inline_js.length; i++) {\n        inline_js[i].call(root, root.Bokeh);\n      }if (force === true) {\n        display_loaded();\n      }} else if (Date.now() < root._bokeh_timeout) {\n      setTimeout(run_inline_js, 100);\n    } else if (!root._bokeh_failed_load) {\n      console.log(\"Bokeh: BokehJS failed to load within specified timeout.\");\n      root._bokeh_failed_load = true;\n    } else if (force !== true) {\n      var cell = $(document.getElementById(\"1001\")).parents('.cell').data().cell;\n      cell.output_area.append_execute_result(NB_LOAD_WARNING)\n    }\n\n  }\n\n  if (root._bokeh_is_loading === 0) {\n    console.debug(\"Bokeh: BokehJS loaded, going straight to plotting\");\n    run_inline_js();\n  } else {\n    load_libs(css_urls, js_urls, function() {\n      console.debug(\"Bokeh: BokehJS plotting callback run at\", now());\n      run_inline_js();\n    });\n  }\n}(window));"
     },
     "metadata": {},
     "output_type": "display_data"
    }
   ],
   "source": [
    "from bokeh.io import output_notebook, show\n",
    "from bokeh.plotting import figure\n",
    "output_notebook()"
   ]
  },
  {
   "cell_type": "code",
   "execution_count": null,
   "metadata": {},
   "outputs": [],
   "source": []
  },
  {
   "cell_type": "markdown",
   "metadata": {},
   "source": [
    "## Linked Interactions"
   ]
  },
  {
   "cell_type": "markdown",
   "metadata": {},
   "source": [
    "### Linked Panning"
   ]
  },
  {
   "cell_type": "markdown",
   "metadata": {},
   "source": [
    "#### Panning   \n",
    "* when multiple plots have ranges that stay in sync"
   ]
  },
  {
   "cell_type": "code",
   "execution_count": 4,
   "metadata": {},
   "outputs": [],
   "source": [
    "from bokeh.layouts import gridplot"
   ]
  },
  {
   "cell_type": "code",
   "execution_count": 5,
   "metadata": {},
   "outputs": [],
   "source": [
    "x = list(range(11))\n",
    "y0, y1, y2 = x, [10-i for i in x], [abs(i-5) for i in x]"
   ]
  },
  {
   "cell_type": "code",
   "execution_count": null,
   "metadata": {},
   "outputs": [],
   "source": []
  },
  {
   "cell_type": "code",
   "execution_count": 6,
   "metadata": {},
   "outputs": [],
   "source": [
    "plot_options = dict(\n",
    "    width = 250,\n",
    "    plot_height = 250,\n",
    "    tools = 'pan, box_zoom, reset'\n",
    ")"
   ]
  },
  {
   "cell_type": "code",
   "execution_count": 7,
   "metadata": {},
   "outputs": [
    {
     "data": {
      "text/html": [
       "<div style=\"display: table;\"><div style=\"display: table-row;\"><div style=\"display: table-cell;\"><b title=\"bokeh.models.renderers.GlyphRenderer\">GlyphRenderer</b>(</div><div style=\"display: table-cell;\">id&nbsp;=&nbsp;'1090', <span id=\"1093\" style=\"cursor: pointer;\">&hellip;)</span></div></div><div class=\"1092\" style=\"display: none;\"><div style=\"display: table-cell;\"></div><div style=\"display: table-cell;\">data_source&nbsp;=&nbsp;ColumnDataSource(id='1087', ...),</div></div><div class=\"1092\" style=\"display: none;\"><div style=\"display: table-cell;\"></div><div style=\"display: table-cell;\">glyph&nbsp;=&nbsp;Square(id='1088', ...),</div></div><div class=\"1092\" style=\"display: none;\"><div style=\"display: table-cell;\"></div><div style=\"display: table-cell;\">hover_glyph&nbsp;=&nbsp;None,</div></div><div class=\"1092\" style=\"display: none;\"><div style=\"display: table-cell;\"></div><div style=\"display: table-cell;\">js_event_callbacks&nbsp;=&nbsp;{},</div></div><div class=\"1092\" style=\"display: none;\"><div style=\"display: table-cell;\"></div><div style=\"display: table-cell;\">js_property_callbacks&nbsp;=&nbsp;{},</div></div><div class=\"1092\" style=\"display: none;\"><div style=\"display: table-cell;\"></div><div style=\"display: table-cell;\">level&nbsp;=&nbsp;'glyph',</div></div><div class=\"1092\" style=\"display: none;\"><div style=\"display: table-cell;\"></div><div style=\"display: table-cell;\">muted&nbsp;=&nbsp;False,</div></div><div class=\"1092\" style=\"display: none;\"><div style=\"display: table-cell;\"></div><div style=\"display: table-cell;\">muted_glyph&nbsp;=&nbsp;None,</div></div><div class=\"1092\" style=\"display: none;\"><div style=\"display: table-cell;\"></div><div style=\"display: table-cell;\">name&nbsp;=&nbsp;None,</div></div><div class=\"1092\" style=\"display: none;\"><div style=\"display: table-cell;\"></div><div style=\"display: table-cell;\">nonselection_glyph&nbsp;=&nbsp;Square(id='1089', ...),</div></div><div class=\"1092\" style=\"display: none;\"><div style=\"display: table-cell;\"></div><div style=\"display: table-cell;\">selection_glyph&nbsp;=&nbsp;None,</div></div><div class=\"1092\" style=\"display: none;\"><div style=\"display: table-cell;\"></div><div style=\"display: table-cell;\">subscribed_events&nbsp;=&nbsp;[],</div></div><div class=\"1092\" style=\"display: none;\"><div style=\"display: table-cell;\"></div><div style=\"display: table-cell;\">tags&nbsp;=&nbsp;[],</div></div><div class=\"1092\" style=\"display: none;\"><div style=\"display: table-cell;\"></div><div style=\"display: table-cell;\">view&nbsp;=&nbsp;CDSView(id='1091', ...),</div></div><div class=\"1092\" style=\"display: none;\"><div style=\"display: table-cell;\"></div><div style=\"display: table-cell;\">visible&nbsp;=&nbsp;True,</div></div><div class=\"1092\" style=\"display: none;\"><div style=\"display: table-cell;\"></div><div style=\"display: table-cell;\">x_range_name&nbsp;=&nbsp;'default',</div></div><div class=\"1092\" style=\"display: none;\"><div style=\"display: table-cell;\"></div><div style=\"display: table-cell;\">y_range_name&nbsp;=&nbsp;'default')</div></div></div>\n",
       "<script>\n",
       "(function() {\n",
       "  var expanded = false;\n",
       "  var ellipsis = document.getElementById(\"1093\");\n",
       "  ellipsis.addEventListener(\"click\", function() {\n",
       "    var rows = document.getElementsByClassName(\"1092\");\n",
       "    for (var i = 0; i < rows.length; i++) {\n",
       "      var el = rows[i];\n",
       "      el.style.display = expanded ? \"none\" : \"table-row\";\n",
       "    }\n",
       "    ellipsis.innerHTML = expanded ? \"&hellip;)\" : \"&lsaquo;&lsaquo;&lsaquo;\";\n",
       "    expanded = !expanded;\n",
       "  });\n",
       "})();\n",
       "</script>\n"
      ],
      "text/plain": [
       "GlyphRenderer(id='1090', ...)"
      ]
     },
     "execution_count": 7,
     "metadata": {},
     "output_type": "execute_result"
    }
   ],
   "source": [
    "# create a new plot\n",
    "s1 = figure(**plot_options)\n",
    "s1.circle(x, y0, size=10, color=\"navy\")\n",
    "\n",
    "# create a new plot and share both ranges\n",
    "s2 = figure(x_range = s1.x_range, y_range = s1.y_range, **plot_options)\n",
    "s2.triangle(x, y1, size = 10, color = \"firebrick\")\n",
    "\n",
    "# create a new plot and share only one range\n",
    "s3 = figure (x_range = s1.x_range, **plot_options)\n",
    "s3.square(x, y2, size = 10, color = 'olive')"
   ]
  },
  {
   "cell_type": "code",
   "execution_count": 8,
   "metadata": {},
   "outputs": [
    {
     "data": {
      "text/html": [
       "\n",
       "\n",
       "\n",
       "\n",
       "\n",
       "\n",
       "  <div class=\"bk-root\" id=\"75e74f17-06c0-43a9-94f9-280773b480f9\" data-root-id=\"1127\"></div>\n"
      ]
     },
     "metadata": {},
     "output_type": "display_data"
    },
    {
     "data": {
      "application/javascript": [
       "(function(root) {\n",
       "  function embed_document(root) {\n",
       "    \n",
       "  var docs_json = {\"3eca2b7a-251a-4634-afdd-d055d4676c03\":{\"roots\":{\"references\":[{\"attributes\":{\"children\":[{\"id\":\"1126\",\"type\":\"ToolbarBox\"},{\"id\":\"1124\",\"type\":\"GridBox\"}]},\"id\":\"1127\",\"type\":\"Column\"},{\"attributes\":{\"text\":\"\"},\"id\":\"1115\",\"type\":\"Title\"},{\"attributes\":{},\"id\":\"1111\",\"type\":\"Selection\"},{\"attributes\":{\"bottom_units\":\"screen\",\"fill_alpha\":{\"value\":0.5},\"fill_color\":{\"value\":\"lightgrey\"},\"left_units\":\"screen\",\"level\":\"overlay\",\"line_alpha\":{\"value\":1.0},\"line_color\":{\"value\":\"black\"},\"line_dash\":[4,4],\"line_width\":{\"value\":2},\"render_mode\":\"css\",\"right_units\":\"screen\",\"top_units\":\"screen\"},\"id\":\"1110\",\"type\":\"BoxAnnotation\"},{\"attributes\":{\"ticker\":{\"id\":\"1012\",\"type\":\"BasicTicker\"}},\"id\":\"1015\",\"type\":\"Grid\"},{\"attributes\":{\"overlay\":{\"id\":\"1120\",\"type\":\"BoxAnnotation\"}},\"id\":\"1081\",\"type\":\"BoxZoomTool\"},{\"attributes\":{\"formatter\":{\"id\":\"1097\",\"type\":\"BasicTickFormatter\"},\"ticker\":{\"id\":\"1017\",\"type\":\"BasicTicker\"}},\"id\":\"1016\",\"type\":\"LinearAxis\"},{\"attributes\":{},\"id\":\"1082\",\"type\":\"ResetTool\"},{\"attributes\":{},\"id\":\"1017\",\"type\":\"BasicTicker\"},{\"attributes\":{\"active_drag\":\"auto\",\"active_inspect\":\"auto\",\"active_multi\":null,\"active_scroll\":\"auto\",\"active_tap\":\"auto\",\"tools\":[{\"id\":\"1080\",\"type\":\"PanTool\"},{\"id\":\"1081\",\"type\":\"BoxZoomTool\"},{\"id\":\"1082\",\"type\":\"ResetTool\"}]},\"id\":\"1083\",\"type\":\"Toolbar\"},{\"attributes\":{\"dimension\":1,\"ticker\":{\"id\":\"1017\",\"type\":\"BasicTicker\"}},\"id\":\"1020\",\"type\":\"Grid\"},{\"attributes\":{\"fill_alpha\":{\"value\":0.1},\"fill_color\":{\"value\":\"#1f77b4\"},\"line_alpha\":{\"value\":0.1},\"line_color\":{\"value\":\"#1f77b4\"},\"size\":{\"units\":\"screen\",\"value\":10},\"x\":{\"field\":\"x\"},\"y\":{\"field\":\"y\"}},\"id\":\"1089\",\"type\":\"Square\"},{\"attributes\":{\"active_drag\":\"auto\",\"active_inspect\":\"auto\",\"active_multi\":null,\"active_scroll\":\"auto\",\"active_tap\":\"auto\",\"tools\":[{\"id\":\"1021\",\"type\":\"PanTool\"},{\"id\":\"1022\",\"type\":\"BoxZoomTool\"},{\"id\":\"1023\",\"type\":\"ResetTool\"}]},\"id\":\"1024\",\"type\":\"Toolbar\"},{\"attributes\":{\"data_source\":{\"id\":\"1087\",\"type\":\"ColumnDataSource\"},\"glyph\":{\"id\":\"1088\",\"type\":\"Square\"},\"hover_glyph\":null,\"muted_glyph\":null,\"nonselection_glyph\":{\"id\":\"1089\",\"type\":\"Square\"},\"selection_glyph\":null,\"view\":{\"id\":\"1091\",\"type\":\"CDSView\"}},\"id\":\"1090\",\"type\":\"GlyphRenderer\"},{\"attributes\":{\"formatter\":{\"id\":\"1107\",\"type\":\"BasicTickFormatter\"},\"ticker\":{\"id\":\"1046\",\"type\":\"BasicTicker\"}},\"id\":\"1045\",\"type\":\"LinearAxis\"},{\"attributes\":{},\"id\":\"1021\",\"type\":\"PanTool\"},{\"attributes\":{\"source\":{\"id\":\"1087\",\"type\":\"ColumnDataSource\"}},\"id\":\"1091\",\"type\":\"CDSView\"},{\"attributes\":{\"overlay\":{\"id\":\"1100\",\"type\":\"BoxAnnotation\"}},\"id\":\"1022\",\"type\":\"BoxZoomTool\"},{\"attributes\":{},\"id\":\"1023\",\"type\":\"ResetTool\"},{\"attributes\":{\"text\":\"\"},\"id\":\"1095\",\"type\":\"Title\"},{\"attributes\":{\"fill_color\":{\"value\":\"navy\"},\"line_color\":{\"value\":\"navy\"},\"size\":{\"units\":\"screen\",\"value\":10},\"x\":{\"field\":\"x\"},\"y\":{\"field\":\"y\"}},\"id\":\"1029\",\"type\":\"Circle\"},{\"attributes\":{\"fill_alpha\":{\"value\":0.1},\"fill_color\":{\"value\":\"#1f77b4\"},\"line_alpha\":{\"value\":0.1},\"line_color\":{\"value\":\"#1f77b4\"},\"size\":{\"units\":\"screen\",\"value\":10},\"x\":{\"field\":\"x\"},\"y\":{\"field\":\"y\"}},\"id\":\"1030\",\"type\":\"Circle\"},{\"attributes\":{\"data_source\":{\"id\":\"1028\",\"type\":\"ColumnDataSource\"},\"glyph\":{\"id\":\"1029\",\"type\":\"Circle\"},\"hover_glyph\":null,\"muted_glyph\":null,\"nonselection_glyph\":{\"id\":\"1030\",\"type\":\"Circle\"},\"selection_glyph\":null,\"view\":{\"id\":\"1032\",\"type\":\"CDSView\"}},\"id\":\"1031\",\"type\":\"GlyphRenderer\"},{\"attributes\":{\"dimension\":1,\"ticker\":{\"id\":\"1046\",\"type\":\"BasicTicker\"}},\"id\":\"1049\",\"type\":\"Grid\"},{\"attributes\":{\"children\":[[{\"id\":\"1002\",\"subtype\":\"Figure\",\"type\":\"Plot\"},0,0],[{\"id\":\"1033\",\"subtype\":\"Figure\",\"type\":\"Plot\"},0,1],[{\"id\":\"1062\",\"subtype\":\"Figure\",\"type\":\"Plot\"},0,2]]},\"id\":\"1124\",\"type\":\"GridBox\"},{\"attributes\":{\"source\":{\"id\":\"1028\",\"type\":\"ColumnDataSource\"}},\"id\":\"1032\",\"type\":\"CDSView\"},{\"attributes\":{\"bottom_units\":\"screen\",\"fill_alpha\":{\"value\":0.5},\"fill_color\":{\"value\":\"lightgrey\"},\"left_units\":\"screen\",\"level\":\"overlay\",\"line_alpha\":{\"value\":1.0},\"line_color\":{\"value\":\"black\"},\"line_dash\":[4,4],\"line_width\":{\"value\":2},\"render_mode\":\"css\",\"right_units\":\"screen\",\"top_units\":\"screen\"},\"id\":\"1100\",\"type\":\"BoxAnnotation\"},{\"attributes\":{},\"id\":\"1097\",\"type\":\"BasicTickFormatter\"},{\"attributes\":{\"callback\":null,\"data\":{\"x\":[0,1,2,3,4,5,6,7,8,9,10],\"y\":[10,9,8,7,6,5,4,3,2,1,0]},\"selected\":{\"id\":\"1111\",\"type\":\"Selection\"},\"selection_policy\":{\"id\":\"1112\",\"type\":\"UnionRenderers\"}},\"id\":\"1057\",\"type\":\"ColumnDataSource\"},{\"attributes\":{},\"id\":\"1109\",\"type\":\"BasicTickFormatter\"},{\"attributes\":{\"fill_color\":{\"value\":\"firebrick\"},\"line_color\":{\"value\":\"firebrick\"},\"size\":{\"units\":\"screen\",\"value\":10},\"x\":{\"field\":\"x\"},\"y\":{\"field\":\"y\"}},\"id\":\"1058\",\"type\":\"Triangle\"},{\"attributes\":{},\"id\":\"1036\",\"type\":\"LinearScale\"},{\"attributes\":{\"text\":\"\"},\"id\":\"1105\",\"type\":\"Title\"},{\"attributes\":{},\"id\":\"1038\",\"type\":\"LinearScale\"},{\"attributes\":{},\"id\":\"1046\",\"type\":\"BasicTicker\"},{\"attributes\":{},\"id\":\"1102\",\"type\":\"UnionRenderers\"},{\"attributes\":{\"formatter\":{\"id\":\"1109\",\"type\":\"BasicTickFormatter\"},\"ticker\":{\"id\":\"1041\",\"type\":\"BasicTicker\"}},\"id\":\"1040\",\"type\":\"LinearAxis\"},{\"attributes\":{},\"id\":\"1099\",\"type\":\"BasicTickFormatter\"},{\"attributes\":{\"below\":[{\"id\":\"1070\",\"type\":\"LinearAxis\"}],\"center\":[{\"id\":\"1074\",\"type\":\"Grid\"},{\"id\":\"1079\",\"type\":\"Grid\"}],\"left\":[{\"id\":\"1075\",\"type\":\"LinearAxis\"}],\"plot_height\":250,\"plot_width\":250,\"renderers\":[{\"id\":\"1090\",\"type\":\"GlyphRenderer\"}],\"title\":{\"id\":\"1115\",\"type\":\"Title\"},\"toolbar\":{\"id\":\"1083\",\"type\":\"Toolbar\"},\"toolbar_location\":null,\"x_range\":{\"id\":\"1003\",\"type\":\"DataRange1d\"},\"x_scale\":{\"id\":\"1066\",\"type\":\"LinearScale\"},\"y_range\":{\"id\":\"1064\",\"type\":\"DataRange1d\"},\"y_scale\":{\"id\":\"1068\",\"type\":\"LinearScale\"}},\"id\":\"1062\",\"subtype\":\"Figure\",\"type\":\"Plot\"},{\"attributes\":{},\"id\":\"1041\",\"type\":\"BasicTicker\"},{\"attributes\":{},\"id\":\"1012\",\"type\":\"BasicTicker\"},{\"attributes\":{},\"id\":\"1101\",\"type\":\"Selection\"},{\"attributes\":{},\"id\":\"1052\",\"type\":\"ResetTool\"},{\"attributes\":{},\"id\":\"1119\",\"type\":\"BasicTickFormatter\"},{\"attributes\":{},\"id\":\"1107\",\"type\":\"BasicTickFormatter\"},{\"attributes\":{\"active_drag\":\"auto\",\"active_inspect\":\"auto\",\"active_multi\":null,\"active_scroll\":\"auto\",\"active_tap\":\"auto\",\"tools\":[{\"id\":\"1050\",\"type\":\"PanTool\"},{\"id\":\"1051\",\"type\":\"BoxZoomTool\"},{\"id\":\"1052\",\"type\":\"ResetTool\"}]},\"id\":\"1053\",\"type\":\"Toolbar\"},{\"attributes\":{\"overlay\":{\"id\":\"1110\",\"type\":\"BoxAnnotation\"}},\"id\":\"1051\",\"type\":\"BoxZoomTool\"},{\"attributes\":{\"ticker\":{\"id\":\"1041\",\"type\":\"BasicTicker\"}},\"id\":\"1044\",\"type\":\"Grid\"},{\"attributes\":{\"bottom_units\":\"screen\",\"fill_alpha\":{\"value\":0.5},\"fill_color\":{\"value\":\"lightgrey\"},\"left_units\":\"screen\",\"level\":\"overlay\",\"line_alpha\":{\"value\":1.0},\"line_color\":{\"value\":\"black\"},\"line_dash\":[4,4],\"line_width\":{\"value\":2},\"render_mode\":\"css\",\"right_units\":\"screen\",\"top_units\":\"screen\"},\"id\":\"1120\",\"type\":\"BoxAnnotation\"},{\"attributes\":{\"fill_alpha\":{\"value\":0.1},\"fill_color\":{\"value\":\"#1f77b4\"},\"line_alpha\":{\"value\":0.1},\"line_color\":{\"value\":\"#1f77b4\"},\"size\":{\"units\":\"screen\",\"value\":10},\"x\":{\"field\":\"x\"},\"y\":{\"field\":\"y\"}},\"id\":\"1059\",\"type\":\"Triangle\"},{\"attributes\":{\"data_source\":{\"id\":\"1057\",\"type\":\"ColumnDataSource\"},\"glyph\":{\"id\":\"1058\",\"type\":\"Triangle\"},\"hover_glyph\":null,\"muted_glyph\":null,\"nonselection_glyph\":{\"id\":\"1059\",\"type\":\"Triangle\"},\"selection_glyph\":null,\"view\":{\"id\":\"1061\",\"type\":\"CDSView\"}},\"id\":\"1060\",\"type\":\"GlyphRenderer\"},{\"attributes\":{},\"id\":\"1117\",\"type\":\"BasicTickFormatter\"},{\"attributes\":{\"source\":{\"id\":\"1057\",\"type\":\"ColumnDataSource\"}},\"id\":\"1061\",\"type\":\"CDSView\"},{\"attributes\":{\"toolbar\":{\"id\":\"1125\",\"type\":\"ProxyToolbar\"},\"toolbar_location\":\"above\"},\"id\":\"1126\",\"type\":\"ToolbarBox\"},{\"attributes\":{\"callback\":null,\"data\":{\"x\":[0,1,2,3,4,5,6,7,8,9,10],\"y\":[5,4,3,2,1,0,1,2,3,4,5]},\"selected\":{\"id\":\"1121\",\"type\":\"Selection\"},\"selection_policy\":{\"id\":\"1122\",\"type\":\"UnionRenderers\"}},\"id\":\"1087\",\"type\":\"ColumnDataSource\"},{\"attributes\":{\"tools\":[{\"id\":\"1021\",\"type\":\"PanTool\"},{\"id\":\"1022\",\"type\":\"BoxZoomTool\"},{\"id\":\"1023\",\"type\":\"ResetTool\"},{\"id\":\"1050\",\"type\":\"PanTool\"},{\"id\":\"1051\",\"type\":\"BoxZoomTool\"},{\"id\":\"1052\",\"type\":\"ResetTool\"},{\"id\":\"1080\",\"type\":\"PanTool\"},{\"id\":\"1081\",\"type\":\"BoxZoomTool\"},{\"id\":\"1082\",\"type\":\"ResetTool\"}]},\"id\":\"1125\",\"type\":\"ProxyToolbar\"},{\"attributes\":{\"callback\":null},\"id\":\"1064\",\"type\":\"DataRange1d\"},{\"attributes\":{},\"id\":\"1121\",\"type\":\"Selection\"},{\"attributes\":{},\"id\":\"1050\",\"type\":\"PanTool\"},{\"attributes\":{},\"id\":\"1066\",\"type\":\"LinearScale\"},{\"attributes\":{},\"id\":\"1122\",\"type\":\"UnionRenderers\"},{\"attributes\":{},\"id\":\"1068\",\"type\":\"LinearScale\"},{\"attributes\":{\"formatter\":{\"id\":\"1119\",\"type\":\"BasicTickFormatter\"},\"ticker\":{\"id\":\"1071\",\"type\":\"BasicTicker\"}},\"id\":\"1070\",\"type\":\"LinearAxis\"},{\"attributes\":{\"callback\":null,\"data\":{\"x\":[0,1,2,3,4,5,6,7,8,9,10],\"y\":[0,1,2,3,4,5,6,7,8,9,10]},\"selected\":{\"id\":\"1101\",\"type\":\"Selection\"},\"selection_policy\":{\"id\":\"1102\",\"type\":\"UnionRenderers\"}},\"id\":\"1028\",\"type\":\"ColumnDataSource\"},{\"attributes\":{\"below\":[{\"id\":\"1011\",\"type\":\"LinearAxis\"}],\"center\":[{\"id\":\"1015\",\"type\":\"Grid\"},{\"id\":\"1020\",\"type\":\"Grid\"}],\"left\":[{\"id\":\"1016\",\"type\":\"LinearAxis\"}],\"plot_height\":250,\"plot_width\":250,\"renderers\":[{\"id\":\"1031\",\"type\":\"GlyphRenderer\"}],\"title\":{\"id\":\"1095\",\"type\":\"Title\"},\"toolbar\":{\"id\":\"1024\",\"type\":\"Toolbar\"},\"toolbar_location\":null,\"x_range\":{\"id\":\"1003\",\"type\":\"DataRange1d\"},\"x_scale\":{\"id\":\"1007\",\"type\":\"LinearScale\"},\"y_range\":{\"id\":\"1005\",\"type\":\"DataRange1d\"},\"y_scale\":{\"id\":\"1009\",\"type\":\"LinearScale\"}},\"id\":\"1002\",\"subtype\":\"Figure\",\"type\":\"Plot\"},{\"attributes\":{},\"id\":\"1071\",\"type\":\"BasicTicker\"},{\"attributes\":{\"below\":[{\"id\":\"1040\",\"type\":\"LinearAxis\"}],\"center\":[{\"id\":\"1044\",\"type\":\"Grid\"},{\"id\":\"1049\",\"type\":\"Grid\"}],\"left\":[{\"id\":\"1045\",\"type\":\"LinearAxis\"}],\"plot_height\":250,\"plot_width\":250,\"renderers\":[{\"id\":\"1060\",\"type\":\"GlyphRenderer\"}],\"title\":{\"id\":\"1105\",\"type\":\"Title\"},\"toolbar\":{\"id\":\"1053\",\"type\":\"Toolbar\"},\"toolbar_location\":null,\"x_range\":{\"id\":\"1003\",\"type\":\"DataRange1d\"},\"x_scale\":{\"id\":\"1036\",\"type\":\"LinearScale\"},\"y_range\":{\"id\":\"1005\",\"type\":\"DataRange1d\"},\"y_scale\":{\"id\":\"1038\",\"type\":\"LinearScale\"}},\"id\":\"1033\",\"subtype\":\"Figure\",\"type\":\"Plot\"},{\"attributes\":{\"callback\":null},\"id\":\"1003\",\"type\":\"DataRange1d\"},{\"attributes\":{\"ticker\":{\"id\":\"1071\",\"type\":\"BasicTicker\"}},\"id\":\"1074\",\"type\":\"Grid\"},{\"attributes\":{\"callback\":null},\"id\":\"1005\",\"type\":\"DataRange1d\"},{\"attributes\":{\"formatter\":{\"id\":\"1117\",\"type\":\"BasicTickFormatter\"},\"ticker\":{\"id\":\"1076\",\"type\":\"BasicTicker\"}},\"id\":\"1075\",\"type\":\"LinearAxis\"},{\"attributes\":{},\"id\":\"1007\",\"type\":\"LinearScale\"},{\"attributes\":{},\"id\":\"1076\",\"type\":\"BasicTicker\"},{\"attributes\":{},\"id\":\"1009\",\"type\":\"LinearScale\"},{\"attributes\":{\"dimension\":1,\"ticker\":{\"id\":\"1076\",\"type\":\"BasicTicker\"}},\"id\":\"1079\",\"type\":\"Grid\"},{\"attributes\":{},\"id\":\"1112\",\"type\":\"UnionRenderers\"},{\"attributes\":{\"formatter\":{\"id\":\"1099\",\"type\":\"BasicTickFormatter\"},\"ticker\":{\"id\":\"1012\",\"type\":\"BasicTicker\"}},\"id\":\"1011\",\"type\":\"LinearAxis\"},{\"attributes\":{\"fill_color\":{\"value\":\"olive\"},\"line_color\":{\"value\":\"olive\"},\"size\":{\"units\":\"screen\",\"value\":10},\"x\":{\"field\":\"x\"},\"y\":{\"field\":\"y\"}},\"id\":\"1088\",\"type\":\"Square\"},{\"attributes\":{},\"id\":\"1080\",\"type\":\"PanTool\"}],\"root_ids\":[\"1127\"]},\"title\":\"Bokeh Application\",\"version\":\"1.1.0\"}};\n",
       "  var render_items = [{\"docid\":\"3eca2b7a-251a-4634-afdd-d055d4676c03\",\"roots\":{\"1127\":\"75e74f17-06c0-43a9-94f9-280773b480f9\"}}];\n",
       "  root.Bokeh.embed.embed_items_notebook(docs_json, render_items);\n",
       "\n",
       "  }\n",
       "  if (root.Bokeh !== undefined) {\n",
       "    embed_document(root);\n",
       "  } else {\n",
       "    var attempts = 0;\n",
       "    var timer = setInterval(function(root) {\n",
       "      if (root.Bokeh !== undefined) {\n",
       "        embed_document(root);\n",
       "        clearInterval(timer);\n",
       "      }\n",
       "      attempts++;\n",
       "      if (attempts > 100) {\n",
       "        console.log(\"Bokeh: ERROR: Unable to run BokehJS code because BokehJS library is missing\");\n",
       "        clearInterval(timer);\n",
       "      }\n",
       "    }, 10, root)\n",
       "  }\n",
       "})(window);"
      ],
      "application/vnd.bokehjs_exec.v0+json": ""
     },
     "metadata": {
      "application/vnd.bokehjs_exec.v0+json": {
       "id": "1127"
      }
     },
     "output_type": "display_data"
    }
   ],
   "source": [
    "fig = gridplot([[s1, s2, s3]])\n",
    "\n",
    "show(fig)"
   ]
  },
  {
   "cell_type": "code",
   "execution_count": null,
   "metadata": {},
   "outputs": [],
   "source": []
  },
  {
   "cell_type": "code",
   "execution_count": 9,
   "metadata": {},
   "outputs": [],
   "source": [
    "x_1 = list(range(11))\n",
    "y_1_ = [ item % 2 for item in x_1]"
   ]
  },
  {
   "cell_type": "code",
   "execution_count": null,
   "metadata": {},
   "outputs": [],
   "source": []
  },
  {
   "cell_type": "code",
   "execution_count": 10,
   "metadata": {},
   "outputs": [],
   "source": [
    "y_2_ = [i ** 2 for i in x_1]"
   ]
  },
  {
   "cell_type": "code",
   "execution_count": 11,
   "metadata": {},
   "outputs": [
    {
     "data": {
      "text/plain": [
       "[0, 1, 4, 9, 16, 25, 36, 49, 64, 81, 100]"
      ]
     },
     "execution_count": 11,
     "metadata": {},
     "output_type": "execute_result"
    }
   ],
   "source": [
    "y_2_"
   ]
  },
  {
   "cell_type": "code",
   "execution_count": 13,
   "metadata": {},
   "outputs": [
    {
     "data": {
      "text/html": [
       "\n",
       "\n",
       "\n",
       "\n",
       "\n",
       "\n",
       "  <div class=\"bk-root\" id=\"74e1826e-02d4-4e57-83b7-c20830f0897a\" data-root-id=\"1455\"></div>\n"
      ]
     },
     "metadata": {},
     "output_type": "display_data"
    },
    {
     "data": {
      "application/javascript": [
       "(function(root) {\n",
       "  function embed_document(root) {\n",
       "    \n",
       "  var docs_json = {\"e6ebb576-8372-4fcb-9fac-0ea4d2ba7180\":{\"roots\":{\"references\":[{\"attributes\":{\"children\":[{\"id\":\"1454\",\"type\":\"ToolbarBox\"},{\"id\":\"1452\",\"type\":\"GridBox\"}]},\"id\":\"1455\",\"type\":\"Column\"},{\"attributes\":{\"formatter\":{\"id\":\"1445\",\"type\":\"BasicTickFormatter\"},\"ticker\":{\"id\":\"1416\",\"type\":\"BasicTicker\"}},\"id\":\"1415\",\"type\":\"LinearAxis\"},{\"attributes\":{},\"id\":\"1440\",\"type\":\"UnionRenderers\"},{\"attributes\":{},\"id\":\"1416\",\"type\":\"BasicTicker\"},{\"attributes\":{},\"id\":\"1439\",\"type\":\"Selection\"},{\"attributes\":{},\"id\":\"1382\",\"type\":\"BasicTicker\"},{\"attributes\":{},\"id\":\"1450\",\"type\":\"UnionRenderers\"},{\"attributes\":{\"dimension\":1,\"ticker\":{\"id\":\"1416\",\"type\":\"BasicTicker\"}},\"id\":\"1419\",\"type\":\"Grid\"},{\"attributes\":{\"ticker\":{\"id\":\"1382\",\"type\":\"BasicTicker\"}},\"id\":\"1385\",\"type\":\"Grid\"},{\"attributes\":{\"tools\":[{\"id\":\"1391\",\"type\":\"PanTool\"},{\"id\":\"1392\",\"type\":\"BoxZoomTool\"},{\"id\":\"1393\",\"type\":\"ResetTool\"},{\"id\":\"1420\",\"type\":\"PanTool\"},{\"id\":\"1421\",\"type\":\"BoxZoomTool\"},{\"id\":\"1422\",\"type\":\"ResetTool\"}]},\"id\":\"1453\",\"type\":\"ProxyToolbar\"},{\"attributes\":{\"toolbar\":{\"id\":\"1453\",\"type\":\"ProxyToolbar\"},\"toolbar_location\":\"above\"},\"id\":\"1454\",\"type\":\"ToolbarBox\"},{\"attributes\":{\"active_drag\":\"auto\",\"active_inspect\":\"auto\",\"active_multi\":null,\"active_scroll\":\"auto\",\"active_tap\":\"auto\",\"tools\":[{\"id\":\"1420\",\"type\":\"PanTool\"},{\"id\":\"1421\",\"type\":\"BoxZoomTool\"},{\"id\":\"1422\",\"type\":\"ResetTool\"}]},\"id\":\"1423\",\"type\":\"Toolbar\"},{\"attributes\":{},\"id\":\"1379\",\"type\":\"LinearScale\"},{\"attributes\":{\"active_drag\":\"auto\",\"active_inspect\":\"auto\",\"active_multi\":null,\"active_scroll\":\"auto\",\"active_tap\":\"auto\",\"tools\":[{\"id\":\"1391\",\"type\":\"PanTool\"},{\"id\":\"1392\",\"type\":\"BoxZoomTool\"},{\"id\":\"1393\",\"type\":\"ResetTool\"}]},\"id\":\"1394\",\"type\":\"Toolbar\"},{\"attributes\":{},\"id\":\"1420\",\"type\":\"PanTool\"},{\"attributes\":{},\"id\":\"1391\",\"type\":\"PanTool\"},{\"attributes\":{\"callback\":null},\"id\":\"1373\",\"type\":\"DataRange1d\"},{\"attributes\":{\"overlay\":{\"id\":\"1448\",\"type\":\"BoxAnnotation\"}},\"id\":\"1421\",\"type\":\"BoxZoomTool\"},{\"attributes\":{\"overlay\":{\"id\":\"1438\",\"type\":\"BoxAnnotation\"}},\"id\":\"1392\",\"type\":\"BoxZoomTool\"},{\"attributes\":{},\"id\":\"1408\",\"type\":\"LinearScale\"},{\"attributes\":{},\"id\":\"1422\",\"type\":\"ResetTool\"},{\"attributes\":{},\"id\":\"1393\",\"type\":\"ResetTool\"},{\"attributes\":{\"callback\":null},\"id\":\"1375\",\"type\":\"DataRange1d\"},{\"attributes\":{\"bottom_units\":\"screen\",\"fill_alpha\":{\"value\":0.5},\"fill_color\":{\"value\":\"lightgrey\"},\"left_units\":\"screen\",\"level\":\"overlay\",\"line_alpha\":{\"value\":1.0},\"line_color\":{\"value\":\"black\"},\"line_dash\":[4,4],\"line_width\":{\"value\":2},\"render_mode\":\"css\",\"right_units\":\"screen\",\"top_units\":\"screen\"},\"id\":\"1438\",\"type\":\"BoxAnnotation\"},{\"attributes\":{\"dimension\":1,\"ticker\":{\"id\":\"1387\",\"type\":\"BasicTicker\"}},\"id\":\"1390\",\"type\":\"Grid\"},{\"attributes\":{\"below\":[{\"id\":\"1381\",\"type\":\"LinearAxis\"}],\"center\":[{\"id\":\"1385\",\"type\":\"Grid\"},{\"id\":\"1390\",\"type\":\"Grid\"}],\"left\":[{\"id\":\"1386\",\"type\":\"LinearAxis\"}],\"plot_height\":250,\"plot_width\":250,\"renderers\":[{\"id\":\"1401\",\"type\":\"GlyphRenderer\"}],\"title\":{\"id\":\"1433\",\"type\":\"Title\"},\"toolbar\":{\"id\":\"1394\",\"type\":\"Toolbar\"},\"toolbar_location\":null,\"x_range\":{\"id\":\"1373\",\"type\":\"DataRange1d\"},\"x_scale\":{\"id\":\"1377\",\"type\":\"LinearScale\"},\"y_range\":{\"id\":\"1375\",\"type\":\"DataRange1d\"},\"y_scale\":{\"id\":\"1379\",\"type\":\"LinearScale\"}},\"id\":\"1372\",\"subtype\":\"Figure\",\"type\":\"Plot\"},{\"attributes\":{\"fill_color\":{\"value\":\"navy\"},\"line_color\":{\"value\":\"navy\"},\"size\":{\"units\":\"screen\",\"value\":10},\"x\":{\"field\":\"x\"},\"y\":{\"field\":\"y\"}},\"id\":\"1399\",\"type\":\"Circle\"},{\"attributes\":{},\"id\":\"1445\",\"type\":\"BasicTickFormatter\"},{\"attributes\":{\"fill_color\":{\"value\":\"firebrick\"},\"line_color\":{\"value\":\"firebrick\"},\"size\":{\"units\":\"screen\",\"value\":10},\"x\":{\"field\":\"x\"},\"y\":{\"field\":\"y\"}},\"id\":\"1428\",\"type\":\"Triangle\"},{\"attributes\":{\"callback\":null,\"data\":{\"x\":[0,1,2,3,4,5,6,7,8,9,10],\"y\":[0,1,0,1,0,1,0,1,0,1,0]},\"selected\":{\"id\":\"1439\",\"type\":\"Selection\"},\"selection_policy\":{\"id\":\"1440\",\"type\":\"UnionRenderers\"}},\"id\":\"1398\",\"type\":\"ColumnDataSource\"},{\"attributes\":{\"fill_alpha\":{\"value\":0.1},\"fill_color\":{\"value\":\"#1f77b4\"},\"line_alpha\":{\"value\":0.1},\"line_color\":{\"value\":\"#1f77b4\"},\"size\":{\"units\":\"screen\",\"value\":10},\"x\":{\"field\":\"x\"},\"y\":{\"field\":\"y\"}},\"id\":\"1429\",\"type\":\"Triangle\"},{\"attributes\":{\"fill_alpha\":{\"value\":0.1},\"fill_color\":{\"value\":\"#1f77b4\"},\"line_alpha\":{\"value\":0.1},\"line_color\":{\"value\":\"#1f77b4\"},\"size\":{\"units\":\"screen\",\"value\":10},\"x\":{\"field\":\"x\"},\"y\":{\"field\":\"y\"}},\"id\":\"1400\",\"type\":\"Circle\"},{\"attributes\":{},\"id\":\"1447\",\"type\":\"BasicTickFormatter\"},{\"attributes\":{\"data_source\":{\"id\":\"1427\",\"type\":\"ColumnDataSource\"},\"glyph\":{\"id\":\"1428\",\"type\":\"Triangle\"},\"hover_glyph\":null,\"muted_glyph\":null,\"nonselection_glyph\":{\"id\":\"1429\",\"type\":\"Triangle\"},\"selection_glyph\":null,\"view\":{\"id\":\"1431\",\"type\":\"CDSView\"}},\"id\":\"1430\",\"type\":\"GlyphRenderer\"},{\"attributes\":{\"data_source\":{\"id\":\"1398\",\"type\":\"ColumnDataSource\"},\"glyph\":{\"id\":\"1399\",\"type\":\"Circle\"},\"hover_glyph\":null,\"muted_glyph\":null,\"nonselection_glyph\":{\"id\":\"1400\",\"type\":\"Circle\"},\"selection_glyph\":null,\"view\":{\"id\":\"1402\",\"type\":\"CDSView\"}},\"id\":\"1401\",\"type\":\"GlyphRenderer\"},{\"attributes\":{\"bottom_units\":\"screen\",\"fill_alpha\":{\"value\":0.5},\"fill_color\":{\"value\":\"lightgrey\"},\"left_units\":\"screen\",\"level\":\"overlay\",\"line_alpha\":{\"value\":1.0},\"line_color\":{\"value\":\"black\"},\"line_dash\":[4,4],\"line_width\":{\"value\":2},\"render_mode\":\"css\",\"right_units\":\"screen\",\"top_units\":\"screen\"},\"id\":\"1448\",\"type\":\"BoxAnnotation\"},{\"attributes\":{\"source\":{\"id\":\"1427\",\"type\":\"ColumnDataSource\"}},\"id\":\"1431\",\"type\":\"CDSView\"},{\"attributes\":{\"source\":{\"id\":\"1398\",\"type\":\"ColumnDataSource\"}},\"id\":\"1402\",\"type\":\"CDSView\"},{\"attributes\":{\"below\":[{\"id\":\"1410\",\"type\":\"LinearAxis\"}],\"center\":[{\"id\":\"1414\",\"type\":\"Grid\"},{\"id\":\"1419\",\"type\":\"Grid\"}],\"left\":[{\"id\":\"1415\",\"type\":\"LinearAxis\"}],\"plot_height\":250,\"plot_width\":250,\"renderers\":[{\"id\":\"1430\",\"type\":\"GlyphRenderer\"}],\"title\":{\"id\":\"1443\",\"type\":\"Title\"},\"toolbar\":{\"id\":\"1423\",\"type\":\"Toolbar\"},\"toolbar_location\":null,\"x_range\":{\"id\":\"1373\",\"type\":\"DataRange1d\"},\"x_scale\":{\"id\":\"1406\",\"type\":\"LinearScale\"},\"y_range\":{\"id\":\"1375\",\"type\":\"DataRange1d\"},\"y_scale\":{\"id\":\"1408\",\"type\":\"LinearScale\"}},\"id\":\"1403\",\"subtype\":\"Figure\",\"type\":\"Plot\"},{\"attributes\":{\"callback\":null,\"data\":{\"x\":[0,1,2,3,4,5,6,7,8,9,10],\"y\":[0,1,4,9,16,25,36,49,64,81,100]},\"selected\":{\"id\":\"1449\",\"type\":\"Selection\"},\"selection_policy\":{\"id\":\"1450\",\"type\":\"UnionRenderers\"}},\"id\":\"1427\",\"type\":\"ColumnDataSource\"},{\"attributes\":{\"children\":[[{\"id\":\"1372\",\"subtype\":\"Figure\",\"type\":\"Plot\"},0,0],[{\"id\":\"1403\",\"subtype\":\"Figure\",\"type\":\"Plot\"},0,1]]},\"id\":\"1452\",\"type\":\"GridBox\"},{\"attributes\":{},\"id\":\"1387\",\"type\":\"BasicTicker\"},{\"attributes\":{},\"id\":\"1449\",\"type\":\"Selection\"},{\"attributes\":{},\"id\":\"1406\",\"type\":\"LinearScale\"},{\"attributes\":{\"text\":\"\"},\"id\":\"1443\",\"type\":\"Title\"},{\"attributes\":{\"text\":\"\"},\"id\":\"1433\",\"type\":\"Title\"},{\"attributes\":{\"formatter\":{\"id\":\"1447\",\"type\":\"BasicTickFormatter\"},\"ticker\":{\"id\":\"1411\",\"type\":\"BasicTicker\"}},\"id\":\"1410\",\"type\":\"LinearAxis\"},{\"attributes\":{},\"id\":\"1435\",\"type\":\"BasicTickFormatter\"},{\"attributes\":{\"formatter\":{\"id\":\"1437\",\"type\":\"BasicTickFormatter\"},\"ticker\":{\"id\":\"1382\",\"type\":\"BasicTicker\"}},\"id\":\"1381\",\"type\":\"LinearAxis\"},{\"attributes\":{},\"id\":\"1411\",\"type\":\"BasicTicker\"},{\"attributes\":{},\"id\":\"1437\",\"type\":\"BasicTickFormatter\"},{\"attributes\":{\"formatter\":{\"id\":\"1435\",\"type\":\"BasicTickFormatter\"},\"ticker\":{\"id\":\"1387\",\"type\":\"BasicTicker\"}},\"id\":\"1386\",\"type\":\"LinearAxis\"},{\"attributes\":{\"ticker\":{\"id\":\"1411\",\"type\":\"BasicTicker\"}},\"id\":\"1414\",\"type\":\"Grid\"},{\"attributes\":{},\"id\":\"1377\",\"type\":\"LinearScale\"}],\"root_ids\":[\"1455\"]},\"title\":\"Bokeh Application\",\"version\":\"1.1.0\"}};\n",
       "  var render_items = [{\"docid\":\"e6ebb576-8372-4fcb-9fac-0ea4d2ba7180\",\"roots\":{\"1455\":\"74e1826e-02d4-4e57-83b7-c20830f0897a\"}}];\n",
       "  root.Bokeh.embed.embed_items_notebook(docs_json, render_items);\n",
       "\n",
       "  }\n",
       "  if (root.Bokeh !== undefined) {\n",
       "    embed_document(root);\n",
       "  } else {\n",
       "    var attempts = 0;\n",
       "    var timer = setInterval(function(root) {\n",
       "      if (root.Bokeh !== undefined) {\n",
       "        embed_document(root);\n",
       "        clearInterval(timer);\n",
       "      }\n",
       "      attempts++;\n",
       "      if (attempts > 100) {\n",
       "        console.log(\"Bokeh: ERROR: Unable to run BokehJS code because BokehJS library is missing\");\n",
       "        clearInterval(timer);\n",
       "      }\n",
       "    }, 10, root)\n",
       "  }\n",
       "})(window);"
      ],
      "application/vnd.bokehjs_exec.v0+json": ""
     },
     "metadata": {
      "application/vnd.bokehjs_exec.v0+json": {
       "id": "1455"
      }
     },
     "output_type": "display_data"
    }
   ],
   "source": [
    "# Interestingly, trying to use a copy of any of these lists in the plot will fail with an error\n",
    "\n",
    "\n",
    "# create a new plot\n",
    "p1 = figure(**plot_options)\n",
    "p1.circle(x_1, y_1_, size=10, color=\"navy\")\n",
    "\n",
    "# create a new plot and share both ranges\n",
    "p2 = figure(x_range = p1.x_range, y_range = p1.y_range, **plot_options)\n",
    "p2.triangle(x_1, y_2_, size = 10, color = \"firebrick\")\n",
    "\n",
    "fig = gridplot([[p1, p2]])\n",
    "\n",
    "show(fig)"
   ]
  },
  {
   "cell_type": "code",
   "execution_count": null,
   "metadata": {},
   "outputs": [],
   "source": []
  },
  {
   "cell_type": "markdown",
   "metadata": {},
   "source": [
    "## Linked Brushing"
   ]
  },
  {
   "cell_type": "markdown",
   "metadata": {},
   "source": [
    "The plots must share a data source"
   ]
  },
  {
   "cell_type": "code",
   "execution_count": 14,
   "metadata": {},
   "outputs": [],
   "source": [
    "from bokeh.models import ColumnDataSource"
   ]
  },
  {
   "cell_type": "code",
   "execution_count": 15,
   "metadata": {},
   "outputs": [],
   "source": [
    "x = list(range(-20, 21))\n",
    "y0, y1 = [abs(xx) for xx in x], [xx**2 for xx in x]"
   ]
  },
  {
   "cell_type": "code",
   "execution_count": 16,
   "metadata": {},
   "outputs": [],
   "source": [
    "#Create a column data source for the plots to share\n",
    "data = dict(x = x, y0 = y0, y1 = y1)\n",
    "source = ColumnDataSource(data)"
   ]
  },
  {
   "cell_type": "code",
   "execution_count": null,
   "metadata": {},
   "outputs": [],
   "source": []
  },
  {
   "cell_type": "code",
   "execution_count": 17,
   "metadata": {
    "scrolled": true
   },
   "outputs": [],
   "source": [
    "TOOLS = 'box_select,lasso_select,help, reset'"
   ]
  },
  {
   "cell_type": "code",
   "execution_count": 18,
   "metadata": {},
   "outputs": [
    {
     "data": {
      "text/html": [
       "<div style=\"display: table;\"><div style=\"display: table-row;\"><div style=\"display: table-cell;\"><b title=\"bokeh.models.renderers.GlyphRenderer\">GlyphRenderer</b>(</div><div style=\"display: table-cell;\">id&nbsp;=&nbsp;'1641', <span id=\"1644\" style=\"cursor: pointer;\">&hellip;)</span></div></div><div class=\"1643\" style=\"display: none;\"><div style=\"display: table-cell;\"></div><div style=\"display: table-cell;\">data_source&nbsp;=&nbsp;ColumnDataSource(id='1609', ...),</div></div><div class=\"1643\" style=\"display: none;\"><div style=\"display: table-cell;\"></div><div style=\"display: table-cell;\">glyph&nbsp;=&nbsp;Circle(id='1639', ...),</div></div><div class=\"1643\" style=\"display: none;\"><div style=\"display: table-cell;\"></div><div style=\"display: table-cell;\">hover_glyph&nbsp;=&nbsp;None,</div></div><div class=\"1643\" style=\"display: none;\"><div style=\"display: table-cell;\"></div><div style=\"display: table-cell;\">js_event_callbacks&nbsp;=&nbsp;{},</div></div><div class=\"1643\" style=\"display: none;\"><div style=\"display: table-cell;\"></div><div style=\"display: table-cell;\">js_property_callbacks&nbsp;=&nbsp;{},</div></div><div class=\"1643\" style=\"display: none;\"><div style=\"display: table-cell;\"></div><div style=\"display: table-cell;\">level&nbsp;=&nbsp;'glyph',</div></div><div class=\"1643\" style=\"display: none;\"><div style=\"display: table-cell;\"></div><div style=\"display: table-cell;\">muted&nbsp;=&nbsp;False,</div></div><div class=\"1643\" style=\"display: none;\"><div style=\"display: table-cell;\"></div><div style=\"display: table-cell;\">muted_glyph&nbsp;=&nbsp;None,</div></div><div class=\"1643\" style=\"display: none;\"><div style=\"display: table-cell;\"></div><div style=\"display: table-cell;\">name&nbsp;=&nbsp;None,</div></div><div class=\"1643\" style=\"display: none;\"><div style=\"display: table-cell;\"></div><div style=\"display: table-cell;\">nonselection_glyph&nbsp;=&nbsp;Circle(id='1640', ...),</div></div><div class=\"1643\" style=\"display: none;\"><div style=\"display: table-cell;\"></div><div style=\"display: table-cell;\">selection_glyph&nbsp;=&nbsp;None,</div></div><div class=\"1643\" style=\"display: none;\"><div style=\"display: table-cell;\"></div><div style=\"display: table-cell;\">subscribed_events&nbsp;=&nbsp;[],</div></div><div class=\"1643\" style=\"display: none;\"><div style=\"display: table-cell;\"></div><div style=\"display: table-cell;\">tags&nbsp;=&nbsp;[],</div></div><div class=\"1643\" style=\"display: none;\"><div style=\"display: table-cell;\"></div><div style=\"display: table-cell;\">view&nbsp;=&nbsp;CDSView(id='1642', ...),</div></div><div class=\"1643\" style=\"display: none;\"><div style=\"display: table-cell;\"></div><div style=\"display: table-cell;\">visible&nbsp;=&nbsp;True,</div></div><div class=\"1643\" style=\"display: none;\"><div style=\"display: table-cell;\"></div><div style=\"display: table-cell;\">x_range_name&nbsp;=&nbsp;'default',</div></div><div class=\"1643\" style=\"display: none;\"><div style=\"display: table-cell;\"></div><div style=\"display: table-cell;\">y_range_name&nbsp;=&nbsp;'default')</div></div></div>\n",
       "<script>\n",
       "(function() {\n",
       "  var expanded = false;\n",
       "  var ellipsis = document.getElementById(\"1644\");\n",
       "  ellipsis.addEventListener(\"click\", function() {\n",
       "    var rows = document.getElementsByClassName(\"1643\");\n",
       "    for (var i = 0; i < rows.length; i++) {\n",
       "      var el = rows[i];\n",
       "      el.style.display = expanded ? \"none\" : \"table-row\";\n",
       "    }\n",
       "    ellipsis.innerHTML = expanded ? \"&hellip;)\" : \"&lsaquo;&lsaquo;&lsaquo;\";\n",
       "    expanded = !expanded;\n",
       "  });\n",
       "})();\n",
       "</script>\n"
      ],
      "text/plain": [
       "GlyphRenderer(id='1641', ...)"
      ]
     },
     "execution_count": 18,
     "metadata": {},
     "output_type": "execute_result"
    }
   ],
   "source": [
    "# create a new plot and add a renderer\n",
    "left = figure(tools = TOOLS, width=300, height=300)\n",
    "left.circle('x', 'y0', source = source)"
   ]
  },
  {
   "cell_type": "code",
   "execution_count": 19,
   "metadata": {},
   "outputs": [
    {
     "data": {
      "text/html": [
       "<div style=\"display: table;\"><div style=\"display: table-row;\"><div style=\"display: table-cell;\"><b title=\"bokeh.models.renderers.GlyphRenderer\">GlyphRenderer</b>(</div><div style=\"display: table-cell;\">id&nbsp;=&nbsp;'1676', <span id=\"1679\" style=\"cursor: pointer;\">&hellip;)</span></div></div><div class=\"1678\" style=\"display: none;\"><div style=\"display: table-cell;\"></div><div style=\"display: table-cell;\">data_source&nbsp;=&nbsp;ColumnDataSource(id='1609', ...),</div></div><div class=\"1678\" style=\"display: none;\"><div style=\"display: table-cell;\"></div><div style=\"display: table-cell;\">glyph&nbsp;=&nbsp;Circle(id='1674', ...),</div></div><div class=\"1678\" style=\"display: none;\"><div style=\"display: table-cell;\"></div><div style=\"display: table-cell;\">hover_glyph&nbsp;=&nbsp;None,</div></div><div class=\"1678\" style=\"display: none;\"><div style=\"display: table-cell;\"></div><div style=\"display: table-cell;\">js_event_callbacks&nbsp;=&nbsp;{},</div></div><div class=\"1678\" style=\"display: none;\"><div style=\"display: table-cell;\"></div><div style=\"display: table-cell;\">js_property_callbacks&nbsp;=&nbsp;{},</div></div><div class=\"1678\" style=\"display: none;\"><div style=\"display: table-cell;\"></div><div style=\"display: table-cell;\">level&nbsp;=&nbsp;'glyph',</div></div><div class=\"1678\" style=\"display: none;\"><div style=\"display: table-cell;\"></div><div style=\"display: table-cell;\">muted&nbsp;=&nbsp;False,</div></div><div class=\"1678\" style=\"display: none;\"><div style=\"display: table-cell;\"></div><div style=\"display: table-cell;\">muted_glyph&nbsp;=&nbsp;None,</div></div><div class=\"1678\" style=\"display: none;\"><div style=\"display: table-cell;\"></div><div style=\"display: table-cell;\">name&nbsp;=&nbsp;None,</div></div><div class=\"1678\" style=\"display: none;\"><div style=\"display: table-cell;\"></div><div style=\"display: table-cell;\">nonselection_glyph&nbsp;=&nbsp;Circle(id='1675', ...),</div></div><div class=\"1678\" style=\"display: none;\"><div style=\"display: table-cell;\"></div><div style=\"display: table-cell;\">selection_glyph&nbsp;=&nbsp;None,</div></div><div class=\"1678\" style=\"display: none;\"><div style=\"display: table-cell;\"></div><div style=\"display: table-cell;\">subscribed_events&nbsp;=&nbsp;[],</div></div><div class=\"1678\" style=\"display: none;\"><div style=\"display: table-cell;\"></div><div style=\"display: table-cell;\">tags&nbsp;=&nbsp;[],</div></div><div class=\"1678\" style=\"display: none;\"><div style=\"display: table-cell;\"></div><div style=\"display: table-cell;\">view&nbsp;=&nbsp;CDSView(id='1677', ...),</div></div><div class=\"1678\" style=\"display: none;\"><div style=\"display: table-cell;\"></div><div style=\"display: table-cell;\">visible&nbsp;=&nbsp;True,</div></div><div class=\"1678\" style=\"display: none;\"><div style=\"display: table-cell;\"></div><div style=\"display: table-cell;\">x_range_name&nbsp;=&nbsp;'default',</div></div><div class=\"1678\" style=\"display: none;\"><div style=\"display: table-cell;\"></div><div style=\"display: table-cell;\">y_range_name&nbsp;=&nbsp;'default')</div></div></div>\n",
       "<script>\n",
       "(function() {\n",
       "  var expanded = false;\n",
       "  var ellipsis = document.getElementById(\"1679\");\n",
       "  ellipsis.addEventListener(\"click\", function() {\n",
       "    var rows = document.getElementsByClassName(\"1678\");\n",
       "    for (var i = 0; i < rows.length; i++) {\n",
       "      var el = rows[i];\n",
       "      el.style.display = expanded ? \"none\" : \"table-row\";\n",
       "    }\n",
       "    ellipsis.innerHTML = expanded ? \"&hellip;)\" : \"&lsaquo;&lsaquo;&lsaquo;\";\n",
       "    expanded = !expanded;\n",
       "  });\n",
       "})();\n",
       "</script>\n"
      ],
      "text/plain": [
       "GlyphRenderer(id='1676', ...)"
      ]
     },
     "execution_count": 19,
     "metadata": {},
     "output_type": "execute_result"
    }
   ],
   "source": [
    "# create another plot and add a renderer\n",
    "right = figure(tools = TOOLS,  width=300, height=300)\n",
    "right.circle('x', 'y1', source = source)"
   ]
  },
  {
   "cell_type": "code",
   "execution_count": 20,
   "metadata": {},
   "outputs": [
    {
     "data": {
      "text/html": [
       "\n",
       "\n",
       "\n",
       "\n",
       "\n",
       "\n",
       "  <div class=\"bk-root\" id=\"ac9e8a12-da96-4444-be7e-d894d3849679\" data-root-id=\"1705\"></div>\n"
      ]
     },
     "metadata": {},
     "output_type": "display_data"
    },
    {
     "data": {
      "application/javascript": [
       "(function(root) {\n",
       "  function embed_document(root) {\n",
       "    \n",
       "  var docs_json = {\"057d0225-ce1e-4fd4-8441-31647d812ce4\":{\"roots\":{\"references\":[{\"attributes\":{\"children\":[{\"id\":\"1704\",\"type\":\"ToolbarBox\"},{\"id\":\"1702\",\"type\":\"GridBox\"}]},\"id\":\"1705\",\"type\":\"Column\"},{\"attributes\":{},\"id\":\"1615\",\"type\":\"LinearScale\"},{\"attributes\":{},\"id\":\"1688\",\"type\":\"Selection\"},{\"attributes\":{},\"id\":\"1617\",\"type\":\"LinearScale\"},{\"attributes\":{\"callback\":null,\"overlay\":{\"id\":\"1697\",\"type\":\"BoxAnnotation\"}},\"id\":\"1664\",\"type\":\"BoxSelectTool\"},{\"attributes\":{\"formatter\":{\"id\":\"1685\",\"type\":\"BasicTickFormatter\"},\"ticker\":{\"id\":\"1620\",\"type\":\"BasicTicker\"}},\"id\":\"1619\",\"type\":\"LinearAxis\"},{\"attributes\":{\"callback\":null,\"overlay\":{\"id\":\"1698\",\"type\":\"PolyAnnotation\"}},\"id\":\"1665\",\"type\":\"LassoSelectTool\"},{\"attributes\":{\"fill_alpha\":{\"value\":0.1},\"fill_color\":{\"value\":\"#1f77b4\"},\"line_alpha\":{\"value\":0.1},\"line_color\":{\"value\":\"#1f77b4\"},\"x\":{\"field\":\"x\"},\"y\":{\"field\":\"y1\"}},\"id\":\"1675\",\"type\":\"Circle\"},{\"attributes\":{\"children\":[[{\"id\":\"1610\",\"subtype\":\"Figure\",\"type\":\"Plot\"},0,0],[{\"id\":\"1645\",\"subtype\":\"Figure\",\"type\":\"Plot\"},0,1]]},\"id\":\"1702\",\"type\":\"GridBox\"},{\"attributes\":{},\"id\":\"1620\",\"type\":\"BasicTicker\"},{\"attributes\":{},\"id\":\"1685\",\"type\":\"BasicTickFormatter\"},{\"attributes\":{\"callback\":null,\"data\":{\"x\":[-20,-19,-18,-17,-16,-15,-14,-13,-12,-11,-10,-9,-8,-7,-6,-5,-4,-3,-2,-1,0,1,2,3,4,5,6,7,8,9,10,11,12,13,14,15,16,17,18,19,20],\"y0\":[20,19,18,17,16,15,14,13,12,11,10,9,8,7,6,5,4,3,2,1,0,1,2,3,4,5,6,7,8,9,10,11,12,13,14,15,16,17,18,19,20],\"y1\":[400,361,324,289,256,225,196,169,144,121,100,81,64,49,36,25,16,9,4,1,0,1,4,9,16,25,36,49,64,81,100,121,144,169,196,225,256,289,324,361,400]},\"selected\":{\"id\":\"1688\",\"type\":\"Selection\"},\"selection_policy\":{\"id\":\"1689\",\"type\":\"UnionRenderers\"}},\"id\":\"1609\",\"type\":\"ColumnDataSource\"},{\"attributes\":{},\"id\":\"1689\",\"type\":\"UnionRenderers\"},{\"attributes\":{\"ticker\":{\"id\":\"1620\",\"type\":\"BasicTicker\"}},\"id\":\"1623\",\"type\":\"Grid\"},{\"attributes\":{\"active_drag\":\"auto\",\"active_inspect\":\"auto\",\"active_multi\":null,\"active_scroll\":\"auto\",\"active_tap\":\"auto\",\"tools\":[{\"id\":\"1664\",\"type\":\"BoxSelectTool\"},{\"id\":\"1665\",\"type\":\"LassoSelectTool\"},{\"id\":\"1666\",\"type\":\"HelpTool\"},{\"id\":\"1667\",\"type\":\"ResetTool\"}]},\"id\":\"1668\",\"type\":\"Toolbar\"},{\"attributes\":{},\"id\":\"1666\",\"type\":\"HelpTool\"},{\"attributes\":{\"below\":[{\"id\":\"1654\",\"type\":\"LinearAxis\"}],\"center\":[{\"id\":\"1658\",\"type\":\"Grid\"},{\"id\":\"1663\",\"type\":\"Grid\"}],\"left\":[{\"id\":\"1659\",\"type\":\"LinearAxis\"}],\"plot_height\":300,\"plot_width\":300,\"renderers\":[{\"id\":\"1676\",\"type\":\"GlyphRenderer\"}],\"title\":{\"id\":\"1692\",\"type\":\"Title\"},\"toolbar\":{\"id\":\"1668\",\"type\":\"Toolbar\"},\"toolbar_location\":null,\"x_range\":{\"id\":\"1646\",\"type\":\"DataRange1d\"},\"x_scale\":{\"id\":\"1650\",\"type\":\"LinearScale\"},\"y_range\":{\"id\":\"1648\",\"type\":\"DataRange1d\"},\"y_scale\":{\"id\":\"1652\",\"type\":\"LinearScale\"}},\"id\":\"1645\",\"subtype\":\"Figure\",\"type\":\"Plot\"},{\"attributes\":{\"formatter\":{\"id\":\"1683\",\"type\":\"BasicTickFormatter\"},\"ticker\":{\"id\":\"1625\",\"type\":\"BasicTicker\"}},\"id\":\"1624\",\"type\":\"LinearAxis\"},{\"attributes\":{\"tools\":[{\"id\":\"1629\",\"type\":\"BoxSelectTool\"},{\"id\":\"1630\",\"type\":\"LassoSelectTool\"},{\"id\":\"1631\",\"type\":\"HelpTool\"},{\"id\":\"1632\",\"type\":\"ResetTool\"},{\"id\":\"1664\",\"type\":\"BoxSelectTool\"},{\"id\":\"1665\",\"type\":\"LassoSelectTool\"},{\"id\":\"1666\",\"type\":\"HelpTool\"},{\"id\":\"1667\",\"type\":\"ResetTool\"}]},\"id\":\"1703\",\"type\":\"ProxyToolbar\"},{\"attributes\":{},\"id\":\"1667\",\"type\":\"ResetTool\"},{\"attributes\":{},\"id\":\"1625\",\"type\":\"BasicTicker\"},{\"attributes\":{\"text\":\"\"},\"id\":\"1692\",\"type\":\"Title\"},{\"attributes\":{\"dimension\":1,\"ticker\":{\"id\":\"1625\",\"type\":\"BasicTicker\"}},\"id\":\"1628\",\"type\":\"Grid\"},{\"attributes\":{\"callback\":null},\"id\":\"1646\",\"type\":\"DataRange1d\"},{\"attributes\":{\"bottom_units\":\"screen\",\"fill_alpha\":{\"value\":0.5},\"fill_color\":{\"value\":\"lightgrey\"},\"left_units\":\"screen\",\"level\":\"overlay\",\"line_alpha\":{\"value\":1.0},\"line_color\":{\"value\":\"black\"},\"line_dash\":[4,4],\"line_width\":{\"value\":2},\"render_mode\":\"css\",\"right_units\":\"screen\",\"top_units\":\"screen\"},\"id\":\"1686\",\"type\":\"BoxAnnotation\"},{\"attributes\":{\"callback\":null},\"id\":\"1648\",\"type\":\"DataRange1d\"},{\"attributes\":{\"fill_color\":{\"value\":\"#1f77b4\"},\"line_color\":{\"value\":\"#1f77b4\"},\"x\":{\"field\":\"x\"},\"y\":{\"field\":\"y1\"}},\"id\":\"1674\",\"type\":\"Circle\"},{\"attributes\":{\"below\":[{\"id\":\"1619\",\"type\":\"LinearAxis\"}],\"center\":[{\"id\":\"1623\",\"type\":\"Grid\"},{\"id\":\"1628\",\"type\":\"Grid\"}],\"left\":[{\"id\":\"1624\",\"type\":\"LinearAxis\"}],\"plot_height\":300,\"plot_width\":300,\"renderers\":[{\"id\":\"1641\",\"type\":\"GlyphRenderer\"}],\"title\":{\"id\":\"1681\",\"type\":\"Title\"},\"toolbar\":{\"id\":\"1633\",\"type\":\"Toolbar\"},\"toolbar_location\":null,\"x_range\":{\"id\":\"1611\",\"type\":\"DataRange1d\"},\"x_scale\":{\"id\":\"1615\",\"type\":\"LinearScale\"},\"y_range\":{\"id\":\"1613\",\"type\":\"DataRange1d\"},\"y_scale\":{\"id\":\"1617\",\"type\":\"LinearScale\"}},\"id\":\"1610\",\"subtype\":\"Figure\",\"type\":\"Plot\"},{\"attributes\":{\"fill_alpha\":{\"value\":0.5},\"fill_color\":{\"value\":\"lightgrey\"},\"level\":\"overlay\",\"line_alpha\":{\"value\":1.0},\"line_color\":{\"value\":\"black\"},\"line_dash\":[4,4],\"line_width\":{\"value\":2},\"xs_units\":\"screen\",\"ys_units\":\"screen\"},\"id\":\"1687\",\"type\":\"PolyAnnotation\"},{\"attributes\":{\"callback\":null,\"overlay\":{\"id\":\"1686\",\"type\":\"BoxAnnotation\"}},\"id\":\"1629\",\"type\":\"BoxSelectTool\"},{\"attributes\":{},\"id\":\"1650\",\"type\":\"LinearScale\"},{\"attributes\":{},\"id\":\"1683\",\"type\":\"BasicTickFormatter\"},{\"attributes\":{\"callback\":null,\"overlay\":{\"id\":\"1687\",\"type\":\"PolyAnnotation\"}},\"id\":\"1630\",\"type\":\"LassoSelectTool\"},{\"attributes\":{\"text\":\"\"},\"id\":\"1681\",\"type\":\"Title\"},{\"attributes\":{},\"id\":\"1652\",\"type\":\"LinearScale\"},{\"attributes\":{},\"id\":\"1696\",\"type\":\"BasicTickFormatter\"},{\"attributes\":{},\"id\":\"1631\",\"type\":\"HelpTool\"},{\"attributes\":{\"formatter\":{\"id\":\"1696\",\"type\":\"BasicTickFormatter\"},\"ticker\":{\"id\":\"1655\",\"type\":\"BasicTicker\"}},\"id\":\"1654\",\"type\":\"LinearAxis\"},{\"attributes\":{},\"id\":\"1694\",\"type\":\"BasicTickFormatter\"},{\"attributes\":{},\"id\":\"1632\",\"type\":\"ResetTool\"},{\"attributes\":{},\"id\":\"1655\",\"type\":\"BasicTicker\"},{\"attributes\":{\"toolbar\":{\"id\":\"1703\",\"type\":\"ProxyToolbar\"},\"toolbar_location\":\"above\"},\"id\":\"1704\",\"type\":\"ToolbarBox\"},{\"attributes\":{\"active_drag\":\"auto\",\"active_inspect\":\"auto\",\"active_multi\":null,\"active_scroll\":\"auto\",\"active_tap\":\"auto\",\"tools\":[{\"id\":\"1629\",\"type\":\"BoxSelectTool\"},{\"id\":\"1630\",\"type\":\"LassoSelectTool\"},{\"id\":\"1631\",\"type\":\"HelpTool\"},{\"id\":\"1632\",\"type\":\"ResetTool\"}]},\"id\":\"1633\",\"type\":\"Toolbar\"},{\"attributes\":{\"ticker\":{\"id\":\"1655\",\"type\":\"BasicTicker\"}},\"id\":\"1658\",\"type\":\"Grid\"},{\"attributes\":{\"bottom_units\":\"screen\",\"fill_alpha\":{\"value\":0.5},\"fill_color\":{\"value\":\"lightgrey\"},\"left_units\":\"screen\",\"level\":\"overlay\",\"line_alpha\":{\"value\":1.0},\"line_color\":{\"value\":\"black\"},\"line_dash\":[4,4],\"line_width\":{\"value\":2},\"render_mode\":\"css\",\"right_units\":\"screen\",\"top_units\":\"screen\"},\"id\":\"1697\",\"type\":\"BoxAnnotation\"},{\"attributes\":{\"fill_color\":{\"value\":\"#1f77b4\"},\"line_color\":{\"value\":\"#1f77b4\"},\"x\":{\"field\":\"x\"},\"y\":{\"field\":\"y0\"}},\"id\":\"1639\",\"type\":\"Circle\"},{\"attributes\":{\"callback\":null},\"id\":\"1613\",\"type\":\"DataRange1d\"},{\"attributes\":{\"formatter\":{\"id\":\"1694\",\"type\":\"BasicTickFormatter\"},\"ticker\":{\"id\":\"1660\",\"type\":\"BasicTicker\"}},\"id\":\"1659\",\"type\":\"LinearAxis\"},{\"attributes\":{\"data_source\":{\"id\":\"1609\",\"type\":\"ColumnDataSource\"},\"glyph\":{\"id\":\"1674\",\"type\":\"Circle\"},\"hover_glyph\":null,\"muted_glyph\":null,\"nonselection_glyph\":{\"id\":\"1675\",\"type\":\"Circle\"},\"selection_glyph\":null,\"view\":{\"id\":\"1677\",\"type\":\"CDSView\"}},\"id\":\"1676\",\"type\":\"GlyphRenderer\"},{\"attributes\":{\"source\":{\"id\":\"1609\",\"type\":\"ColumnDataSource\"}},\"id\":\"1677\",\"type\":\"CDSView\"},{\"attributes\":{\"fill_alpha\":{\"value\":0.1},\"fill_color\":{\"value\":\"#1f77b4\"},\"line_alpha\":{\"value\":0.1},\"line_color\":{\"value\":\"#1f77b4\"},\"x\":{\"field\":\"x\"},\"y\":{\"field\":\"y0\"}},\"id\":\"1640\",\"type\":\"Circle\"},{\"attributes\":{\"callback\":null},\"id\":\"1611\",\"type\":\"DataRange1d\"},{\"attributes\":{},\"id\":\"1660\",\"type\":\"BasicTicker\"},{\"attributes\":{\"data_source\":{\"id\":\"1609\",\"type\":\"ColumnDataSource\"},\"glyph\":{\"id\":\"1639\",\"type\":\"Circle\"},\"hover_glyph\":null,\"muted_glyph\":null,\"nonselection_glyph\":{\"id\":\"1640\",\"type\":\"Circle\"},\"selection_glyph\":null,\"view\":{\"id\":\"1642\",\"type\":\"CDSView\"}},\"id\":\"1641\",\"type\":\"GlyphRenderer\"},{\"attributes\":{\"dimension\":1,\"ticker\":{\"id\":\"1660\",\"type\":\"BasicTicker\"}},\"id\":\"1663\",\"type\":\"Grid\"},{\"attributes\":{\"fill_alpha\":{\"value\":0.5},\"fill_color\":{\"value\":\"lightgrey\"},\"level\":\"overlay\",\"line_alpha\":{\"value\":1.0},\"line_color\":{\"value\":\"black\"},\"line_dash\":[4,4],\"line_width\":{\"value\":2},\"xs_units\":\"screen\",\"ys_units\":\"screen\"},\"id\":\"1698\",\"type\":\"PolyAnnotation\"},{\"attributes\":{\"source\":{\"id\":\"1609\",\"type\":\"ColumnDataSource\"}},\"id\":\"1642\",\"type\":\"CDSView\"}],\"root_ids\":[\"1705\"]},\"title\":\"Bokeh Application\",\"version\":\"1.1.0\"}};\n",
       "  var render_items = [{\"docid\":\"057d0225-ce1e-4fd4-8441-31647d812ce4\",\"roots\":{\"1705\":\"ac9e8a12-da96-4444-be7e-d894d3849679\"}}];\n",
       "  root.Bokeh.embed.embed_items_notebook(docs_json, render_items);\n",
       "\n",
       "  }\n",
       "  if (root.Bokeh !== undefined) {\n",
       "    embed_document(root);\n",
       "  } else {\n",
       "    var attempts = 0;\n",
       "    var timer = setInterval(function(root) {\n",
       "      if (root.Bokeh !== undefined) {\n",
       "        embed_document(root);\n",
       "        clearInterval(timer);\n",
       "      }\n",
       "      attempts++;\n",
       "      if (attempts > 100) {\n",
       "        console.log(\"Bokeh: ERROR: Unable to run BokehJS code because BokehJS library is missing\");\n",
       "        clearInterval(timer);\n",
       "      }\n",
       "    }, 10, root)\n",
       "  }\n",
       "})(window);"
      ],
      "application/vnd.bokehjs_exec.v0+json": ""
     },
     "metadata": {
      "application/vnd.bokehjs_exec.v0+json": {
       "id": "1705"
      }
     },
     "output_type": "display_data"
    }
   ],
   "source": [
    "fig = gridplot([[left, right]])\n",
    "\n",
    "show(fig)"
   ]
  },
  {
   "cell_type": "code",
   "execution_count": null,
   "metadata": {},
   "outputs": [],
   "source": []
  },
  {
   "cell_type": "markdown",
   "metadata": {},
   "source": [
    "## Widgets"
   ]
  },
  {
   "cell_type": "code",
   "execution_count": 21,
   "metadata": {},
   "outputs": [],
   "source": [
    "from bokeh.layouts import widgetbox\n",
    "from bokeh.models.widgets import Slider"
   ]
  },
  {
   "cell_type": "code",
   "execution_count": null,
   "metadata": {},
   "outputs": [],
   "source": []
  },
  {
   "cell_type": "code",
   "execution_count": 27,
   "metadata": {},
   "outputs": [
    {
     "data": {
      "text/html": [
       "\n",
       "\n",
       "\n",
       "\n",
       "\n",
       "\n",
       "  <div class=\"bk-root\" id=\"198364e9-aa61-4b26-acbc-0436eecbcb96\" data-root-id=\"2205\"></div>\n"
      ]
     },
     "metadata": {},
     "output_type": "display_data"
    },
    {
     "data": {
      "application/javascript": [
       "(function(root) {\n",
       "  function embed_document(root) {\n",
       "    \n",
       "  var docs_json = {\"ec8d2dcd-9f1d-41cf-8f54-afde210b272f\":{\"roots\":{\"references\":[{\"attributes\":{\"children\":[{\"id\":\"2204\",\"type\":\"Slider\"}]},\"id\":\"2205\",\"type\":\"WidgetBox\"},{\"attributes\":{\"callback\":null,\"end\":10,\"start\":0,\"step\":0.1,\"title\":\"Example Slider\",\"value\":1},\"id\":\"2204\",\"type\":\"Slider\"}],\"root_ids\":[\"2205\"]},\"title\":\"Bokeh Application\",\"version\":\"1.1.0\"}};\n",
       "  var render_items = [{\"docid\":\"ec8d2dcd-9f1d-41cf-8f54-afde210b272f\",\"roots\":{\"2205\":\"198364e9-aa61-4b26-acbc-0436eecbcb96\"}}];\n",
       "  root.Bokeh.embed.embed_items_notebook(docs_json, render_items);\n",
       "\n",
       "  }\n",
       "  if (root.Bokeh !== undefined) {\n",
       "    embed_document(root);\n",
       "  } else {\n",
       "    var attempts = 0;\n",
       "    var timer = setInterval(function(root) {\n",
       "      if (root.Bokeh !== undefined) {\n",
       "        embed_document(root);\n",
       "        clearInterval(timer);\n",
       "      }\n",
       "      attempts++;\n",
       "      if (attempts > 100) {\n",
       "        console.log(\"Bokeh: ERROR: Unable to run BokehJS code because BokehJS library is missing\");\n",
       "        clearInterval(timer);\n",
       "      }\n",
       "    }, 10, root)\n",
       "  }\n",
       "})(window);"
      ],
      "application/vnd.bokehjs_exec.v0+json": ""
     },
     "metadata": {
      "application/vnd.bokehjs_exec.v0+json": {
       "id": "2205"
      }
     },
     "output_type": "display_data"
    }
   ],
   "source": [
    "slider = Slider(start = 0, end = 10, value = 1, step = .1, title = 'Example Slider')\n",
    "\n",
    "show(widgetbox(slider))"
   ]
  },
  {
   "cell_type": "code",
   "execution_count": 30,
   "metadata": {},
   "outputs": [],
   "source": [
    "from bokeh.models.widgets import Select\n",
    "\n",
    "#slect = Select()\n",
    "\n",
    "#show(widgetbox(select))"
   ]
  },
  {
   "cell_type": "code",
   "execution_count": null,
   "metadata": {},
   "outputs": [],
   "source": []
  },
  {
   "cell_type": "markdown",
   "metadata": {},
   "source": [
    "## Custom JS Callbacks"
   ]
  },
  {
   "cell_type": "code",
   "execution_count": 31,
   "metadata": {},
   "outputs": [],
   "source": [
    "from bokeh.models import TapTool, CustomJS, ColumnDataSource"
   ]
  },
  {
   "cell_type": "code",
   "execution_count": 36,
   "metadata": {},
   "outputs": [
    {
     "data": {
      "text/html": [
       "\n",
       "\n",
       "\n",
       "\n",
       "\n",
       "\n",
       "  <div class=\"bk-root\" id=\"10538023-8f6d-4dde-ade5-073433c1f872\" data-root-id=\"2609\"></div>\n"
      ]
     },
     "metadata": {},
     "output_type": "display_data"
    },
    {
     "data": {
      "application/javascript": [
       "(function(root) {\n",
       "  function embed_document(root) {\n",
       "    \n",
       "  var docs_json = {\"eee05109-59be-4861-a22f-3f41f6cf1120\":{\"roots\":{\"references\":[{\"attributes\":{\"below\":[{\"id\":\"2618\",\"type\":\"LinearAxis\"}],\"center\":[{\"id\":\"2622\",\"type\":\"Grid\"},{\"id\":\"2627\",\"type\":\"Grid\"}],\"left\":[{\"id\":\"2623\",\"type\":\"LinearAxis\"}],\"plot_height\":300,\"renderers\":[{\"id\":\"2637\",\"type\":\"GlyphRenderer\"}],\"title\":{\"id\":\"2719\",\"type\":\"Title\"},\"toolbar\":{\"id\":\"2630\",\"type\":\"Toolbar\"},\"x_range\":{\"id\":\"2610\",\"type\":\"DataRange1d\"},\"x_scale\":{\"id\":\"2614\",\"type\":\"LinearScale\"},\"y_range\":{\"id\":\"2612\",\"type\":\"DataRange1d\"},\"y_scale\":{\"id\":\"2616\",\"type\":\"LinearScale\"}},\"id\":\"2609\",\"subtype\":\"Figure\",\"type\":\"Plot\"},{\"attributes\":{\"bottom_units\":\"screen\",\"fill_alpha\":{\"value\":0.5},\"fill_color\":{\"value\":\"lightgrey\"},\"left_units\":\"screen\",\"level\":\"overlay\",\"line_alpha\":{\"value\":1.0},\"line_color\":{\"value\":\"black\"},\"line_dash\":[4,4],\"line_width\":{\"value\":2},\"render_mode\":\"css\",\"right_units\":\"screen\",\"top_units\":\"screen\"},\"id\":\"2724\",\"type\":\"BoxAnnotation\"},{\"attributes\":{},\"id\":\"2721\",\"type\":\"BasicTickFormatter\"},{\"attributes\":{\"callback\":null,\"overlay\":{\"id\":\"2724\",\"type\":\"BoxAnnotation\"}},\"id\":\"2629\",\"type\":\"BoxSelectTool\"},{\"attributes\":{\"callback\":{\"id\":\"2607\",\"type\":\"CustomJS\"}},\"id\":\"2608\",\"type\":\"TapTool\"},{\"attributes\":{\"code\":\"alert(\\\"You Tapped a circle\\\")\"},\"id\":\"2607\",\"type\":\"CustomJS\"},{\"attributes\":{\"callback\":null},\"id\":\"2610\",\"type\":\"DataRange1d\"},{\"attributes\":{},\"id\":\"2628\",\"type\":\"ResetTool\"},{\"attributes\":{\"fill_alpha\":{\"value\":0.7},\"fill_color\":{\"value\":\"#1f77b4\"},\"line_alpha\":{\"value\":0.7},\"line_color\":{\"value\":\"#1f77b4\"},\"size\":{\"units\":\"screen\",\"value\":20},\"x\":{\"field\":\"x\"},\"y\":{\"field\":\"y\"}},\"id\":\"2635\",\"type\":\"Circle\"},{\"attributes\":{},\"id\":\"2624\",\"type\":\"BasicTicker\"},{\"attributes\":{\"data_source\":{\"id\":\"2634\",\"type\":\"ColumnDataSource\"},\"glyph\":{\"id\":\"2635\",\"type\":\"Circle\"},\"hover_glyph\":null,\"muted_glyph\":null,\"nonselection_glyph\":{\"id\":\"2636\",\"type\":\"Circle\"},\"selection_glyph\":null,\"view\":{\"id\":\"2638\",\"type\":\"CDSView\"}},\"id\":\"2637\",\"type\":\"GlyphRenderer\"},{\"attributes\":{\"text\":\"\"},\"id\":\"2719\",\"type\":\"Title\"},{\"attributes\":{},\"id\":\"2725\",\"type\":\"Selection\"},{\"attributes\":{},\"id\":\"2619\",\"type\":\"BasicTicker\"},{\"attributes\":{\"callback\":null},\"id\":\"2612\",\"type\":\"DataRange1d\"},{\"attributes\":{},\"id\":\"2726\",\"type\":\"UnionRenderers\"},{\"attributes\":{\"formatter\":{\"id\":\"2723\",\"type\":\"BasicTickFormatter\"},\"ticker\":{\"id\":\"2619\",\"type\":\"BasicTicker\"}},\"id\":\"2618\",\"type\":\"LinearAxis\"},{\"attributes\":{},\"id\":\"2614\",\"type\":\"LinearScale\"},{\"attributes\":{\"fill_alpha\":{\"value\":0.1},\"fill_color\":{\"value\":\"#1f77b4\"},\"line_alpha\":{\"value\":0.1},\"line_color\":{\"value\":\"#1f77b4\"},\"size\":{\"units\":\"screen\",\"value\":20},\"x\":{\"field\":\"x\"},\"y\":{\"field\":\"y\"}},\"id\":\"2636\",\"type\":\"Circle\"},{\"attributes\":{\"dimension\":1,\"ticker\":{\"id\":\"2624\",\"type\":\"BasicTicker\"}},\"id\":\"2627\",\"type\":\"Grid\"},{\"attributes\":{\"source\":{\"id\":\"2634\",\"type\":\"ColumnDataSource\"}},\"id\":\"2638\",\"type\":\"CDSView\"},{\"attributes\":{\"callback\":null,\"data\":{\"x\":[1,2,3,4,5],\"y\":[2,5,8,2,7]},\"selected\":{\"id\":\"2725\",\"type\":\"Selection\"},\"selection_policy\":{\"id\":\"2726\",\"type\":\"UnionRenderers\"}},\"id\":\"2634\",\"type\":\"ColumnDataSource\"},{\"attributes\":{\"ticker\":{\"id\":\"2619\",\"type\":\"BasicTicker\"}},\"id\":\"2622\",\"type\":\"Grid\"},{\"attributes\":{\"active_drag\":\"auto\",\"active_inspect\":\"auto\",\"active_multi\":null,\"active_scroll\":\"auto\",\"active_tap\":\"auto\",\"tools\":[{\"id\":\"2608\",\"type\":\"TapTool\"},{\"id\":\"2628\",\"type\":\"ResetTool\"},{\"id\":\"2629\",\"type\":\"BoxSelectTool\"}]},\"id\":\"2630\",\"type\":\"Toolbar\"},{\"attributes\":{},\"id\":\"2723\",\"type\":\"BasicTickFormatter\"},{\"attributes\":{\"formatter\":{\"id\":\"2721\",\"type\":\"BasicTickFormatter\"},\"ticker\":{\"id\":\"2624\",\"type\":\"BasicTicker\"}},\"id\":\"2623\",\"type\":\"LinearAxis\"},{\"attributes\":{},\"id\":\"2616\",\"type\":\"LinearScale\"}],\"root_ids\":[\"2609\"]},\"title\":\"Bokeh Application\",\"version\":\"1.1.0\"}};\n",
       "  var render_items = [{\"docid\":\"eee05109-59be-4861-a22f-3f41f6cf1120\",\"roots\":{\"2609\":\"10538023-8f6d-4dde-ade5-073433c1f872\"}}];\n",
       "  root.Bokeh.embed.embed_items_notebook(docs_json, render_items);\n",
       "\n",
       "  }\n",
       "  if (root.Bokeh !== undefined) {\n",
       "    embed_document(root);\n",
       "  } else {\n",
       "    var attempts = 0;\n",
       "    var timer = setInterval(function(root) {\n",
       "      if (root.Bokeh !== undefined) {\n",
       "        embed_document(root);\n",
       "        clearInterval(timer);\n",
       "      }\n",
       "      attempts++;\n",
       "      if (attempts > 100) {\n",
       "        console.log(\"Bokeh: ERROR: Unable to run BokehJS code because BokehJS library is missing\");\n",
       "        clearInterval(timer);\n",
       "      }\n",
       "    }, 10, root)\n",
       "  }\n",
       "})(window);"
      ],
      "application/vnd.bokehjs_exec.v0+json": ""
     },
     "metadata": {
      "application/vnd.bokehjs_exec.v0+json": {
       "id": "2609"
      }
     },
     "output_type": "display_data"
    }
   ],
   "source": [
    "callback = CustomJS(code = 'alert(\"You Tapped a circle\")')\n",
    "\n",
    "tap = TapTool(callback = callback)\n",
    "\n",
    "fig = figure(plot_width=600, plot_height=300, tools=[tap, 'reset', 'box_select'])\n",
    "\n",
    "fig.circle(x=[1, 2, 3, 4, 5], y=[2, 5, 8, 2, 7], size=20, alpha = 0.7)\n",
    "\n",
    "show(fig)"
   ]
  },
  {
   "cell_type": "code",
   "execution_count": null,
   "metadata": {},
   "outputs": [],
   "source": []
  },
  {
   "cell_type": "markdown",
   "metadata": {},
   "source": [
    "## Slider widget example\n",
    "\n",
    "* The example below shows an action attached to a slider that updates a data source whenever the slider is moved."
   ]
  },
  {
   "cell_type": "code",
   "execution_count": 41,
   "metadata": {},
   "outputs": [],
   "source": [
    "from bokeh.layouts import column\n",
    "from bokeh.models import CustomJS, ColumnDataSource, Slider"
   ]
  },
  {
   "cell_type": "code",
   "execution_count": null,
   "metadata": {},
   "outputs": [],
   "source": []
  },
  {
   "cell_type": "code",
   "execution_count": 42,
   "metadata": {},
   "outputs": [],
   "source": [
    "x = [x*0.005 for x in range(0, 201)]"
   ]
  },
  {
   "cell_type": "code",
   "execution_count": 43,
   "metadata": {},
   "outputs": [],
   "source": [
    "source = ColumnDataSource(data = dict(x = x, y = x))"
   ]
  },
  {
   "cell_type": "code",
   "execution_count": 45,
   "metadata": {},
   "outputs": [
    {
     "data": {
      "text/html": [
       "<div style=\"display: table;\"><div style=\"display: table-row;\"><div style=\"display: table-cell;\"><b title=\"bokeh.models.renderers.GlyphRenderer\">GlyphRenderer</b>(</div><div style=\"display: table-cell;\">id&nbsp;=&nbsp;'2896', <span id=\"2899\" style=\"cursor: pointer;\">&hellip;)</span></div></div><div class=\"2898\" style=\"display: none;\"><div style=\"display: table-cell;\"></div><div style=\"display: table-cell;\">data_source&nbsp;=&nbsp;ColumnDataSource(id='2821', ...),</div></div><div class=\"2898\" style=\"display: none;\"><div style=\"display: table-cell;\"></div><div style=\"display: table-cell;\">glyph&nbsp;=&nbsp;Line(id='2894', ...),</div></div><div class=\"2898\" style=\"display: none;\"><div style=\"display: table-cell;\"></div><div style=\"display: table-cell;\">hover_glyph&nbsp;=&nbsp;None,</div></div><div class=\"2898\" style=\"display: none;\"><div style=\"display: table-cell;\"></div><div style=\"display: table-cell;\">js_event_callbacks&nbsp;=&nbsp;{},</div></div><div class=\"2898\" style=\"display: none;\"><div style=\"display: table-cell;\"></div><div style=\"display: table-cell;\">js_property_callbacks&nbsp;=&nbsp;{},</div></div><div class=\"2898\" style=\"display: none;\"><div style=\"display: table-cell;\"></div><div style=\"display: table-cell;\">level&nbsp;=&nbsp;'glyph',</div></div><div class=\"2898\" style=\"display: none;\"><div style=\"display: table-cell;\"></div><div style=\"display: table-cell;\">muted&nbsp;=&nbsp;False,</div></div><div class=\"2898\" style=\"display: none;\"><div style=\"display: table-cell;\"></div><div style=\"display: table-cell;\">muted_glyph&nbsp;=&nbsp;None,</div></div><div class=\"2898\" style=\"display: none;\"><div style=\"display: table-cell;\"></div><div style=\"display: table-cell;\">name&nbsp;=&nbsp;None,</div></div><div class=\"2898\" style=\"display: none;\"><div style=\"display: table-cell;\"></div><div style=\"display: table-cell;\">nonselection_glyph&nbsp;=&nbsp;Line(id='2895', ...),</div></div><div class=\"2898\" style=\"display: none;\"><div style=\"display: table-cell;\"></div><div style=\"display: table-cell;\">selection_glyph&nbsp;=&nbsp;None,</div></div><div class=\"2898\" style=\"display: none;\"><div style=\"display: table-cell;\"></div><div style=\"display: table-cell;\">subscribed_events&nbsp;=&nbsp;[],</div></div><div class=\"2898\" style=\"display: none;\"><div style=\"display: table-cell;\"></div><div style=\"display: table-cell;\">tags&nbsp;=&nbsp;[],</div></div><div class=\"2898\" style=\"display: none;\"><div style=\"display: table-cell;\"></div><div style=\"display: table-cell;\">view&nbsp;=&nbsp;CDSView(id='2897', ...),</div></div><div class=\"2898\" style=\"display: none;\"><div style=\"display: table-cell;\"></div><div style=\"display: table-cell;\">visible&nbsp;=&nbsp;True,</div></div><div class=\"2898\" style=\"display: none;\"><div style=\"display: table-cell;\"></div><div style=\"display: table-cell;\">x_range_name&nbsp;=&nbsp;'default',</div></div><div class=\"2898\" style=\"display: none;\"><div style=\"display: table-cell;\"></div><div style=\"display: table-cell;\">y_range_name&nbsp;=&nbsp;'default')</div></div></div>\n",
       "<script>\n",
       "(function() {\n",
       "  var expanded = false;\n",
       "  var ellipsis = document.getElementById(\"2899\");\n",
       "  ellipsis.addEventListener(\"click\", function() {\n",
       "    var rows = document.getElementsByClassName(\"2898\");\n",
       "    for (var i = 0; i < rows.length; i++) {\n",
       "      var el = rows[i];\n",
       "      el.style.display = expanded ? \"none\" : \"table-row\";\n",
       "    }\n",
       "    ellipsis.innerHTML = expanded ? \"&hellip;)\" : \"&lsaquo;&lsaquo;&lsaquo;\";\n",
       "    expanded = !expanded;\n",
       "  });\n",
       "})();\n",
       "</script>\n"
      ],
      "text/plain": [
       "GlyphRenderer(id='2896', ...)"
      ]
     },
     "execution_count": 45,
     "metadata": {},
     "output_type": "execute_result"
    }
   ],
   "source": [
    "plot = figure(plot_width=400, plot_height=400)\n",
    "plot.line('x', 'y', source = source, line_width = 3, line_alpha = 0.6)\n",
    "\n"
   ]
  },
  {
   "cell_type": "code",
   "execution_count": 46,
   "metadata": {},
   "outputs": [],
   "source": [
    "slider = Slider(start = 0.1, end = 6, value = 1, step = .1, title = 'Power')\n",
    "\n"
   ]
  },
  {
   "cell_type": "code",
   "execution_count": null,
   "metadata": {},
   "outputs": [],
   "source": []
  },
  {
   "cell_type": "code",
   "execution_count": 52,
   "metadata": {},
   "outputs": [],
   "source": [
    "update_curve = CustomJS(args=dict(source=source, slider=slider), code=\"\"\"\n",
    "    var data = source.data;\n",
    "    var f = slider.value;\n",
    "    x = data['x']\n",
    "    y = data['y']\n",
    "    for (i = 0; i < x.length; i++) {\n",
    "        y[i] = Math.pow(x[i], f)\n",
    "    }\n",
    "    \n",
    "    // necessary becasue we mutated source.data in-place\n",
    "    source.change.emit();\n",
    "\"\"\")\n",
    "\n"
   ]
  },
  {
   "cell_type": "code",
   "execution_count": 53,
   "metadata": {},
   "outputs": [
    {
     "data": {
      "text/html": [
       "\n",
       "\n",
       "\n",
       "\n",
       "\n",
       "\n",
       "  <div class=\"bk-root\" id=\"e7c48507-8a59-4959-9de5-f0518ee85504\" data-root-id=\"2905\"></div>\n"
      ]
     },
     "metadata": {},
     "output_type": "display_data"
    },
    {
     "data": {
      "application/javascript": [
       "(function(root) {\n",
       "  function embed_document(root) {\n",
       "    \n",
       "  var docs_json = {\"fdbce205-5640-4f82-91b9-d1b8e312700d\":{\"roots\":{\"references\":[{\"attributes\":{\"children\":[{\"id\":\"2900\",\"type\":\"Slider\"},{\"id\":\"2861\",\"subtype\":\"Figure\",\"type\":\"Plot\"}]},\"id\":\"2905\",\"type\":\"Column\"},{\"attributes\":{},\"id\":\"2868\",\"type\":\"LinearScale\"},{\"attributes\":{\"source\":{\"id\":\"2821\",\"type\":\"ColumnDataSource\"}},\"id\":\"2897\",\"type\":\"CDSView\"},{\"attributes\":{\"line_alpha\":0.1,\"line_color\":\"#1f77b4\",\"line_width\":3,\"x\":{\"field\":\"x\"},\"y\":{\"field\":\"y\"}},\"id\":\"2895\",\"type\":\"Line\"},{\"attributes\":{\"dimension\":1,\"ticker\":{\"id\":\"2876\",\"type\":\"BasicTicker\"}},\"id\":\"2879\",\"type\":\"Grid\"},{\"attributes\":{\"callback\":null,\"end\":6,\"js_property_callbacks\":{\"change:value\":[{\"id\":\"2904\",\"type\":\"CustomJS\"}]},\"start\":0.1,\"step\":0.1,\"title\":\"Power\",\"value\":1},\"id\":\"2900\",\"type\":\"Slider\"},{\"attributes\":{},\"id\":\"2871\",\"type\":\"BasicTicker\"},{\"attributes\":{\"args\":{\"slider\":{\"id\":\"2900\",\"type\":\"Slider\"},\"source\":{\"id\":\"2821\",\"type\":\"ColumnDataSource\"}},\"code\":\"\\n    var data = source.data;\\n    var f = slider.value;\\n    x = data['x']\\n    y = data['y']\\n    for (i = 0; i < x.length; i++) {\\n        y[i] = Math.pow(x[i], f)\\n    }\\n    \\n    // necessary becasue we mutated source.data in-place\\n    source.change.emit();\\n\"},\"id\":\"2904\",\"type\":\"CustomJS\"},{\"attributes\":{\"line_alpha\":0.6,\"line_color\":\"#1f77b4\",\"line_width\":3,\"x\":{\"field\":\"x\"},\"y\":{\"field\":\"y\"}},\"id\":\"2894\",\"type\":\"Line\"},{\"attributes\":{},\"id\":\"2880\",\"type\":\"PanTool\"},{\"attributes\":{\"data_source\":{\"id\":\"2821\",\"type\":\"ColumnDataSource\"},\"glyph\":{\"id\":\"2894\",\"type\":\"Line\"},\"hover_glyph\":null,\"muted_glyph\":null,\"nonselection_glyph\":{\"id\":\"2895\",\"type\":\"Line\"},\"selection_glyph\":null,\"view\":{\"id\":\"2897\",\"type\":\"CDSView\"}},\"id\":\"2896\",\"type\":\"GlyphRenderer\"},{\"attributes\":{\"formatter\":{\"id\":\"2997\",\"type\":\"BasicTickFormatter\"},\"ticker\":{\"id\":\"2876\",\"type\":\"BasicTicker\"}},\"id\":\"2875\",\"type\":\"LinearAxis\"},{\"attributes\":{\"callback\":null,\"data\":{\"x\":[0.0,0.005,0.01,0.015,0.02,0.025,0.03,0.035,0.04,0.045,0.05,0.055,0.06,0.065,0.07,0.075,0.08,0.085,0.09,0.095,0.1,0.105,0.11,0.115,0.12,0.125,0.13,0.135,0.14,0.145,0.15,0.155,0.16,0.165,0.17,0.17500000000000002,0.18,0.185,0.19,0.195,0.2,0.20500000000000002,0.21,0.215,0.22,0.225,0.23,0.23500000000000001,0.24,0.245,0.25,0.255,0.26,0.265,0.27,0.275,0.28,0.28500000000000003,0.29,0.295,0.3,0.305,0.31,0.315,0.32,0.325,0.33,0.335,0.34,0.34500000000000003,0.35000000000000003,0.355,0.36,0.365,0.37,0.375,0.38,0.385,0.39,0.395,0.4,0.405,0.41000000000000003,0.41500000000000004,0.42,0.425,0.43,0.435,0.44,0.445,0.45,0.455,0.46,0.465,0.47000000000000003,0.47500000000000003,0.48,0.485,0.49,0.495,0.5,0.505,0.51,0.515,0.52,0.525,0.53,0.535,0.54,0.545,0.55,0.555,0.56,0.5650000000000001,0.5700000000000001,0.5750000000000001,0.58,0.585,0.59,0.595,0.6,0.605,0.61,0.615,0.62,0.625,0.63,0.635,0.64,0.645,0.65,0.655,0.66,0.665,0.67,0.675,0.68,0.685,0.6900000000000001,0.6950000000000001,0.7000000000000001,0.705,0.71,0.715,0.72,0.725,0.73,0.735,0.74,0.745,0.75,0.755,0.76,0.765,0.77,0.775,0.78,0.785,0.79,0.795,0.8,0.805,0.81,0.8150000000000001,0.8200000000000001,0.8250000000000001,0.8300000000000001,0.835,0.84,0.845,0.85,0.855,0.86,0.865,0.87,0.875,0.88,0.885,0.89,0.895,0.9,0.905,0.91,0.915,0.92,0.925,0.93,0.935,0.9400000000000001,0.9450000000000001,0.9500000000000001,0.9550000000000001,0.96,0.965,0.97,0.975,0.98,0.985,0.99,0.995,1.0],\"y\":[0.0,0.005,0.01,0.015,0.02,0.025,0.03,0.035,0.04,0.045,0.05,0.055,0.06,0.065,0.07,0.075,0.08,0.085,0.09,0.095,0.1,0.105,0.11,0.115,0.12,0.125,0.13,0.135,0.14,0.145,0.15,0.155,0.16,0.165,0.17,0.17500000000000002,0.18,0.185,0.19,0.195,0.2,0.20500000000000002,0.21,0.215,0.22,0.225,0.23,0.23500000000000001,0.24,0.245,0.25,0.255,0.26,0.265,0.27,0.275,0.28,0.28500000000000003,0.29,0.295,0.3,0.305,0.31,0.315,0.32,0.325,0.33,0.335,0.34,0.34500000000000003,0.35000000000000003,0.355,0.36,0.365,0.37,0.375,0.38,0.385,0.39,0.395,0.4,0.405,0.41000000000000003,0.41500000000000004,0.42,0.425,0.43,0.435,0.44,0.445,0.45,0.455,0.46,0.465,0.47000000000000003,0.47500000000000003,0.48,0.485,0.49,0.495,0.5,0.505,0.51,0.515,0.52,0.525,0.53,0.535,0.54,0.545,0.55,0.555,0.56,0.5650000000000001,0.5700000000000001,0.5750000000000001,0.58,0.585,0.59,0.595,0.6,0.605,0.61,0.615,0.62,0.625,0.63,0.635,0.64,0.645,0.65,0.655,0.66,0.665,0.67,0.675,0.68,0.685,0.6900000000000001,0.6950000000000001,0.7000000000000001,0.705,0.71,0.715,0.72,0.725,0.73,0.735,0.74,0.745,0.75,0.755,0.76,0.765,0.77,0.775,0.78,0.785,0.79,0.795,0.8,0.805,0.81,0.8150000000000001,0.8200000000000001,0.8250000000000001,0.8300000000000001,0.835,0.84,0.845,0.85,0.855,0.86,0.865,0.87,0.875,0.88,0.885,0.89,0.895,0.9,0.905,0.91,0.915,0.92,0.925,0.93,0.935,0.9400000000000001,0.9450000000000001,0.9500000000000001,0.9550000000000001,0.96,0.965,0.97,0.975,0.98,0.985,0.99,0.995,1.0]},\"selected\":{\"id\":\"3000\",\"type\":\"Selection\"},\"selection_policy\":{\"id\":\"3001\",\"type\":\"UnionRenderers\"}},\"id\":\"2821\",\"type\":\"ColumnDataSource\"},{\"attributes\":{},\"id\":\"2885\",\"type\":\"HelpTool\"},{\"attributes\":{\"active_drag\":\"auto\",\"active_inspect\":\"auto\",\"active_multi\":null,\"active_scroll\":\"auto\",\"active_tap\":\"auto\",\"tools\":[{\"id\":\"2880\",\"type\":\"PanTool\"},{\"id\":\"2881\",\"type\":\"WheelZoomTool\"},{\"id\":\"2882\",\"type\":\"BoxZoomTool\"},{\"id\":\"2883\",\"type\":\"SaveTool\"},{\"id\":\"2884\",\"type\":\"ResetTool\"},{\"id\":\"2885\",\"type\":\"HelpTool\"}]},\"id\":\"2886\",\"type\":\"Toolbar\"},{\"attributes\":{},\"id\":\"2866\",\"type\":\"LinearScale\"},{\"attributes\":{},\"id\":\"2876\",\"type\":\"BasicTicker\"},{\"attributes\":{\"callback\":null},\"id\":\"2864\",\"type\":\"DataRange1d\"},{\"attributes\":{},\"id\":\"2997\",\"type\":\"BasicTickFormatter\"},{\"attributes\":{},\"id\":\"2883\",\"type\":\"SaveTool\"},{\"attributes\":{\"ticker\":{\"id\":\"2871\",\"type\":\"BasicTicker\"}},\"id\":\"2874\",\"type\":\"Grid\"},{\"attributes\":{},\"id\":\"2999\",\"type\":\"BasicTickFormatter\"},{\"attributes\":{\"below\":[{\"id\":\"2870\",\"type\":\"LinearAxis\"}],\"center\":[{\"id\":\"2874\",\"type\":\"Grid\"},{\"id\":\"2879\",\"type\":\"Grid\"}],\"left\":[{\"id\":\"2875\",\"type\":\"LinearAxis\"}],\"plot_height\":400,\"plot_width\":400,\"renderers\":[{\"id\":\"2896\",\"type\":\"GlyphRenderer\"}],\"title\":{\"id\":\"2995\",\"type\":\"Title\"},\"toolbar\":{\"id\":\"2886\",\"type\":\"Toolbar\"},\"x_range\":{\"id\":\"2862\",\"type\":\"DataRange1d\"},\"x_scale\":{\"id\":\"2866\",\"type\":\"LinearScale\"},\"y_range\":{\"id\":\"2864\",\"type\":\"DataRange1d\"},\"y_scale\":{\"id\":\"2868\",\"type\":\"LinearScale\"}},\"id\":\"2861\",\"subtype\":\"Figure\",\"type\":\"Plot\"},{\"attributes\":{},\"id\":\"3000\",\"type\":\"Selection\"},{\"attributes\":{\"callback\":null},\"id\":\"2862\",\"type\":\"DataRange1d\"},{\"attributes\":{},\"id\":\"2881\",\"type\":\"WheelZoomTool\"},{\"attributes\":{\"text\":\"\"},\"id\":\"2995\",\"type\":\"Title\"},{\"attributes\":{},\"id\":\"3001\",\"type\":\"UnionRenderers\"},{\"attributes\":{\"overlay\":{\"id\":\"3002\",\"type\":\"BoxAnnotation\"}},\"id\":\"2882\",\"type\":\"BoxZoomTool\"},{\"attributes\":{\"bottom_units\":\"screen\",\"fill_alpha\":{\"value\":0.5},\"fill_color\":{\"value\":\"lightgrey\"},\"left_units\":\"screen\",\"level\":\"overlay\",\"line_alpha\":{\"value\":1.0},\"line_color\":{\"value\":\"black\"},\"line_dash\":[4,4],\"line_width\":{\"value\":2},\"render_mode\":\"css\",\"right_units\":\"screen\",\"top_units\":\"screen\"},\"id\":\"3002\",\"type\":\"BoxAnnotation\"},{\"attributes\":{},\"id\":\"2884\",\"type\":\"ResetTool\"},{\"attributes\":{\"formatter\":{\"id\":\"2999\",\"type\":\"BasicTickFormatter\"},\"ticker\":{\"id\":\"2871\",\"type\":\"BasicTicker\"}},\"id\":\"2870\",\"type\":\"LinearAxis\"}],\"root_ids\":[\"2905\"]},\"title\":\"Bokeh Application\",\"version\":\"1.1.0\"}};\n",
       "  var render_items = [{\"docid\":\"fdbce205-5640-4f82-91b9-d1b8e312700d\",\"roots\":{\"2905\":\"e7c48507-8a59-4959-9de5-f0518ee85504\"}}];\n",
       "  root.Bokeh.embed.embed_items_notebook(docs_json, render_items);\n",
       "\n",
       "  }\n",
       "  if (root.Bokeh !== undefined) {\n",
       "    embed_document(root);\n",
       "  } else {\n",
       "    var attempts = 0;\n",
       "    var timer = setInterval(function(root) {\n",
       "      if (root.Bokeh !== undefined) {\n",
       "        embed_document(root);\n",
       "        clearInterval(timer);\n",
       "      }\n",
       "      attempts++;\n",
       "      if (attempts > 100) {\n",
       "        console.log(\"Bokeh: ERROR: Unable to run BokehJS code because BokehJS library is missing\");\n",
       "        clearInterval(timer);\n",
       "      }\n",
       "    }, 10, root)\n",
       "  }\n",
       "})(window);"
      ],
      "application/vnd.bokehjs_exec.v0+json": ""
     },
     "metadata": {
      "application/vnd.bokehjs_exec.v0+json": {
       "id": "2905"
      }
     },
     "output_type": "display_data"
    }
   ],
   "source": [
    "slider.js_on_change('value', update_curve)\n",
    "\n",
    "show(column(slider, plot))"
   ]
  },
  {
   "cell_type": "code",
   "execution_count": null,
   "metadata": {},
   "outputs": [],
   "source": []
  },
  {
   "cell_type": "markdown",
   "metadata": {},
   "source": [
    "## Data Selection Example"
   ]
  },
  {
   "cell_type": "code",
   "execution_count": null,
   "metadata": {},
   "outputs": [],
   "source": []
  },
  {
   "cell_type": "code",
   "execution_count": 73,
   "metadata": {},
   "outputs": [],
   "source": [
    "#Break this down\n",
    "\n",
    "from random import random\n",
    "\n",
    "# Generate 50 between 0.0 and 1.0 random floats in x and y\n",
    "x = [random() for x in range(500)]\n",
    "y = [random() for y in range(500)]\n",
    "\n",
    "# Generate a string, navy, 50 times in a list\n",
    "color = [\"navy\"] * len(x)"
   ]
  },
  {
   "cell_type": "code",
   "execution_count": 60,
   "metadata": {},
   "outputs": [],
   "source": [
    "s1 = ColumnDataSource(data=dict(x=x, y=y, color=color))"
   ]
  },
  {
   "cell_type": "code",
   "execution_count": 74,
   "metadata": {},
   "outputs": [],
   "source": [
    "p = figure(plot_width=400, plot_height=400, tools=\"lasso_select, reset\", title=\"Select Here\")"
   ]
  },
  {
   "cell_type": "code",
   "execution_count": 75,
   "metadata": {},
   "outputs": [
    {
     "data": {
      "text/html": [
       "<div style=\"display: table;\"><div style=\"display: table-row;\"><div style=\"display: table-cell;\"><b title=\"bokeh.models.renderers.GlyphRenderer\">GlyphRenderer</b>(</div><div style=\"display: table-cell;\">id&nbsp;=&nbsp;'3515', <span id=\"3518\" style=\"cursor: pointer;\">&hellip;)</span></div></div><div class=\"3517\" style=\"display: none;\"><div style=\"display: table-cell;\"></div><div style=\"display: table-cell;\">data_source&nbsp;=&nbsp;ColumnDataSource(id='3266', ...),</div></div><div class=\"3517\" style=\"display: none;\"><div style=\"display: table-cell;\"></div><div style=\"display: table-cell;\">glyph&nbsp;=&nbsp;Circle(id='3512', ...),</div></div><div class=\"3517\" style=\"display: none;\"><div style=\"display: table-cell;\"></div><div style=\"display: table-cell;\">hover_glyph&nbsp;=&nbsp;None,</div></div><div class=\"3517\" style=\"display: none;\"><div style=\"display: table-cell;\"></div><div style=\"display: table-cell;\">js_event_callbacks&nbsp;=&nbsp;{},</div></div><div class=\"3517\" style=\"display: none;\"><div style=\"display: table-cell;\"></div><div style=\"display: table-cell;\">js_property_callbacks&nbsp;=&nbsp;{},</div></div><div class=\"3517\" style=\"display: none;\"><div style=\"display: table-cell;\"></div><div style=\"display: table-cell;\">level&nbsp;=&nbsp;'glyph',</div></div><div class=\"3517\" style=\"display: none;\"><div style=\"display: table-cell;\"></div><div style=\"display: table-cell;\">muted&nbsp;=&nbsp;False,</div></div><div class=\"3517\" style=\"display: none;\"><div style=\"display: table-cell;\"></div><div style=\"display: table-cell;\">muted_glyph&nbsp;=&nbsp;None,</div></div><div class=\"3517\" style=\"display: none;\"><div style=\"display: table-cell;\"></div><div style=\"display: table-cell;\">name&nbsp;=&nbsp;None,</div></div><div class=\"3517\" style=\"display: none;\"><div style=\"display: table-cell;\"></div><div style=\"display: table-cell;\">nonselection_glyph&nbsp;=&nbsp;Circle(id='3513', ...),</div></div><div class=\"3517\" style=\"display: none;\"><div style=\"display: table-cell;\"></div><div style=\"display: table-cell;\">selection_glyph&nbsp;=&nbsp;Circle(id='3514', ...),</div></div><div class=\"3517\" style=\"display: none;\"><div style=\"display: table-cell;\"></div><div style=\"display: table-cell;\">subscribed_events&nbsp;=&nbsp;[],</div></div><div class=\"3517\" style=\"display: none;\"><div style=\"display: table-cell;\"></div><div style=\"display: table-cell;\">tags&nbsp;=&nbsp;[],</div></div><div class=\"3517\" style=\"display: none;\"><div style=\"display: table-cell;\"></div><div style=\"display: table-cell;\">view&nbsp;=&nbsp;CDSView(id='3516', ...),</div></div><div class=\"3517\" style=\"display: none;\"><div style=\"display: table-cell;\"></div><div style=\"display: table-cell;\">visible&nbsp;=&nbsp;True,</div></div><div class=\"3517\" style=\"display: none;\"><div style=\"display: table-cell;\"></div><div style=\"display: table-cell;\">x_range_name&nbsp;=&nbsp;'default',</div></div><div class=\"3517\" style=\"display: none;\"><div style=\"display: table-cell;\"></div><div style=\"display: table-cell;\">y_range_name&nbsp;=&nbsp;'default')</div></div></div>\n",
       "<script>\n",
       "(function() {\n",
       "  var expanded = false;\n",
       "  var ellipsis = document.getElementById(\"3518\");\n",
       "  ellipsis.addEventListener(\"click\", function() {\n",
       "    var rows = document.getElementsByClassName(\"3517\");\n",
       "    for (var i = 0; i < rows.length; i++) {\n",
       "      var el = rows[i];\n",
       "      el.style.display = expanded ? \"none\" : \"table-row\";\n",
       "    }\n",
       "    ellipsis.innerHTML = expanded ? \"&hellip;)\" : \"&lsaquo;&lsaquo;&lsaquo;\";\n",
       "    expanded = !expanded;\n",
       "  });\n",
       "})();\n",
       "</script>\n"
      ],
      "text/plain": [
       "GlyphRenderer(id='3515', ...)"
      ]
     },
     "execution_count": 75,
     "metadata": {},
     "output_type": "execute_result"
    }
   ],
   "source": [
    "# Create a figure usin the ColumnDataSource created\n",
    "p.circle('x', 'y', color='color', size=8, alpha=0.4, source=s1, \n",
    "         selection_color=\"firebrick\", selection_alpha=0.4)"
   ]
  },
  {
   "cell_type": "code",
   "execution_count": 76,
   "metadata": {},
   "outputs": [
    {
     "data": {
      "text/html": [
       "<div style=\"display: table;\"><div style=\"display: table-row;\"><div style=\"display: table-cell;\"><b title=\"bokeh.models.renderers.GlyphRenderer\">GlyphRenderer</b>(</div><div style=\"display: table-cell;\">id&nbsp;=&nbsp;'3523', <span id=\"3526\" style=\"cursor: pointer;\">&hellip;)</span></div></div><div class=\"3525\" style=\"display: none;\"><div style=\"display: table-cell;\"></div><div style=\"display: table-cell;\">data_source&nbsp;=&nbsp;ColumnDataSource(id='3519', ...),</div></div><div class=\"3525\" style=\"display: none;\"><div style=\"display: table-cell;\"></div><div style=\"display: table-cell;\">glyph&nbsp;=&nbsp;Line(id='3521', ...),</div></div><div class=\"3525\" style=\"display: none;\"><div style=\"display: table-cell;\"></div><div style=\"display: table-cell;\">hover_glyph&nbsp;=&nbsp;None,</div></div><div class=\"3525\" style=\"display: none;\"><div style=\"display: table-cell;\"></div><div style=\"display: table-cell;\">js_event_callbacks&nbsp;=&nbsp;{},</div></div><div class=\"3525\" style=\"display: none;\"><div style=\"display: table-cell;\"></div><div style=\"display: table-cell;\">js_property_callbacks&nbsp;=&nbsp;{},</div></div><div class=\"3525\" style=\"display: none;\"><div style=\"display: table-cell;\"></div><div style=\"display: table-cell;\">level&nbsp;=&nbsp;'glyph',</div></div><div class=\"3525\" style=\"display: none;\"><div style=\"display: table-cell;\"></div><div style=\"display: table-cell;\">muted&nbsp;=&nbsp;False,</div></div><div class=\"3525\" style=\"display: none;\"><div style=\"display: table-cell;\"></div><div style=\"display: table-cell;\">muted_glyph&nbsp;=&nbsp;None,</div></div><div class=\"3525\" style=\"display: none;\"><div style=\"display: table-cell;\"></div><div style=\"display: table-cell;\">name&nbsp;=&nbsp;None,</div></div><div class=\"3525\" style=\"display: none;\"><div style=\"display: table-cell;\"></div><div style=\"display: table-cell;\">nonselection_glyph&nbsp;=&nbsp;Line(id='3522', ...),</div></div><div class=\"3525\" style=\"display: none;\"><div style=\"display: table-cell;\"></div><div style=\"display: table-cell;\">selection_glyph&nbsp;=&nbsp;None,</div></div><div class=\"3525\" style=\"display: none;\"><div style=\"display: table-cell;\"></div><div style=\"display: table-cell;\">subscribed_events&nbsp;=&nbsp;[],</div></div><div class=\"3525\" style=\"display: none;\"><div style=\"display: table-cell;\"></div><div style=\"display: table-cell;\">tags&nbsp;=&nbsp;[],</div></div><div class=\"3525\" style=\"display: none;\"><div style=\"display: table-cell;\"></div><div style=\"display: table-cell;\">view&nbsp;=&nbsp;CDSView(id='3524', ...),</div></div><div class=\"3525\" style=\"display: none;\"><div style=\"display: table-cell;\"></div><div style=\"display: table-cell;\">visible&nbsp;=&nbsp;True,</div></div><div class=\"3525\" style=\"display: none;\"><div style=\"display: table-cell;\"></div><div style=\"display: table-cell;\">x_range_name&nbsp;=&nbsp;'default',</div></div><div class=\"3525\" style=\"display: none;\"><div style=\"display: table-cell;\"></div><div style=\"display: table-cell;\">y_range_name&nbsp;=&nbsp;'default')</div></div></div>\n",
       "<script>\n",
       "(function() {\n",
       "  var expanded = false;\n",
       "  var ellipsis = document.getElementById(\"3526\");\n",
       "  ellipsis.addEventListener(\"click\", function() {\n",
       "    var rows = document.getElementsByClassName(\"3525\");\n",
       "    for (var i = 0; i < rows.length; i++) {\n",
       "      var el = rows[i];\n",
       "      el.style.display = expanded ? \"none\" : \"table-row\";\n",
       "    }\n",
       "    ellipsis.innerHTML = expanded ? \"&hellip;)\" : \"&lsaquo;&lsaquo;&lsaquo;\";\n",
       "    expanded = !expanded;\n",
       "  });\n",
       "})();\n",
       "</script>\n"
      ],
      "text/plain": [
       "GlyphRenderer(id='3523', ...)"
      ]
     },
     "execution_count": 76,
     "metadata": {},
     "output_type": "execute_result"
    }
   ],
   "source": [
    "# s2 data has 2 lists that both have 2 elements in them; [0,1] and [0.5, 0.5]\n",
    "# This will draw a horizontal line across the canvs\n",
    "s2 = ColumnDataSource(data=dict(xm=[0,1],ym=[0.5, 0.5]))\n",
    "p.line(x='xm', y='ym', color=\"orange\", line_width=5, alpha=0.6, source=s2)\n"
   ]
  },
  {
   "cell_type": "code",
   "execution_count": 64,
   "metadata": {},
   "outputs": [
    {
     "data": {
      "text/html": [
       "\n",
       "\n",
       "\n",
       "\n",
       "\n",
       "\n",
       "  <div class=\"bk-root\" id=\"345c030d-0fa9-4f2a-acf4-03ab2edd8759\" data-root-id=\"3267\"></div>\n"
      ]
     },
     "metadata": {},
     "output_type": "display_data"
    },
    {
     "data": {
      "application/javascript": [
       "(function(root) {\n",
       "  function embed_document(root) {\n",
       "    \n",
       "  var docs_json = {\"771d75ad-08ca-4a84-ae1e-ac3d81a966a7\":{\"roots\":{\"references\":[{\"attributes\":{\"below\":[{\"id\":\"3278\",\"type\":\"LinearAxis\"}],\"center\":[{\"id\":\"3282\",\"type\":\"Grid\"},{\"id\":\"3287\",\"type\":\"Grid\"}],\"left\":[{\"id\":\"3283\",\"type\":\"LinearAxis\"}],\"plot_height\":400,\"plot_width\":400,\"renderers\":[{\"id\":\"3295\",\"type\":\"GlyphRenderer\"},{\"id\":\"3303\",\"type\":\"GlyphRenderer\"}],\"title\":{\"id\":\"3268\",\"type\":\"Title\"},\"toolbar\":{\"id\":\"3289\",\"type\":\"Toolbar\"},\"x_range\":{\"id\":\"3270\",\"type\":\"DataRange1d\"},\"x_scale\":{\"id\":\"3274\",\"type\":\"LinearScale\"},\"y_range\":{\"id\":\"3272\",\"type\":\"DataRange1d\"},\"y_scale\":{\"id\":\"3276\",\"type\":\"LinearScale\"}},\"id\":\"3267\",\"subtype\":\"Figure\",\"type\":\"Plot\"},{\"attributes\":{},\"id\":\"3279\",\"type\":\"BasicTicker\"},{\"attributes\":{},\"id\":\"3274\",\"type\":\"LinearScale\"},{\"attributes\":{\"ticker\":{\"id\":\"3279\",\"type\":\"BasicTicker\"}},\"id\":\"3282\",\"type\":\"Grid\"},{\"attributes\":{\"data_source\":{\"id\":\"3266\",\"type\":\"ColumnDataSource\"},\"glyph\":{\"id\":\"3292\",\"type\":\"Circle\"},\"hover_glyph\":null,\"muted_glyph\":null,\"nonselection_glyph\":{\"id\":\"3293\",\"type\":\"Circle\"},\"selection_glyph\":{\"id\":\"3294\",\"type\":\"Circle\"},\"view\":{\"id\":\"3296\",\"type\":\"CDSView\"}},\"id\":\"3295\",\"type\":\"GlyphRenderer\"},{\"attributes\":{\"formatter\":{\"id\":\"3417\",\"type\":\"BasicTickFormatter\"},\"ticker\":{\"id\":\"3284\",\"type\":\"BasicTicker\"}},\"id\":\"3283\",\"type\":\"LinearAxis\"},{\"attributes\":{\"source\":{\"id\":\"3266\",\"type\":\"ColumnDataSource\"}},\"id\":\"3296\",\"type\":\"CDSView\"},{\"attributes\":{},\"id\":\"3284\",\"type\":\"BasicTicker\"},{\"attributes\":{},\"id\":\"3419\",\"type\":\"BasicTickFormatter\"},{\"attributes\":{\"callback\":null},\"id\":\"3270\",\"type\":\"DataRange1d\"},{\"attributes\":{\"callback\":null,\"data\":{\"xm\":[0,1],\"ym\":[0.5,0.5]},\"selected\":{\"id\":\"3423\",\"type\":\"Selection\"},\"selection_policy\":{\"id\":\"3424\",\"type\":\"UnionRenderers\"}},\"id\":\"3299\",\"type\":\"ColumnDataSource\"},{\"attributes\":{\"dimension\":1,\"ticker\":{\"id\":\"3284\",\"type\":\"BasicTicker\"}},\"id\":\"3287\",\"type\":\"Grid\"},{\"attributes\":{\"fill_alpha\":{\"value\":0.5},\"fill_color\":{\"value\":\"lightgrey\"},\"level\":\"overlay\",\"line_alpha\":{\"value\":1.0},\"line_color\":{\"value\":\"black\"},\"line_dash\":[4,4],\"line_width\":{\"value\":2},\"xs_units\":\"screen\",\"ys_units\":\"screen\"},\"id\":\"3420\",\"type\":\"PolyAnnotation\"},{\"attributes\":{\"active_drag\":\"auto\",\"active_inspect\":\"auto\",\"active_multi\":null,\"active_scroll\":\"auto\",\"active_tap\":\"auto\",\"tools\":[{\"id\":\"3288\",\"type\":\"LassoSelectTool\"}]},\"id\":\"3289\",\"type\":\"Toolbar\"},{\"attributes\":{},\"id\":\"3424\",\"type\":\"UnionRenderers\"},{\"attributes\":{\"callback\":null,\"overlay\":{\"id\":\"3420\",\"type\":\"PolyAnnotation\"}},\"id\":\"3288\",\"type\":\"LassoSelectTool\"},{\"attributes\":{\"formatter\":{\"id\":\"3419\",\"type\":\"BasicTickFormatter\"},\"ticker\":{\"id\":\"3279\",\"type\":\"BasicTicker\"}},\"id\":\"3278\",\"type\":\"LinearAxis\"},{\"attributes\":{},\"id\":\"3423\",\"type\":\"Selection\"},{\"attributes\":{},\"id\":\"3422\",\"type\":\"UnionRenderers\"},{\"attributes\":{\"callback\":{\"id\":\"3307\",\"type\":\"CustomJS\"},\"data\":{\"color\":[\"navy\",\"navy\",\"navy\",\"navy\",\"navy\",\"navy\",\"navy\",\"navy\",\"navy\",\"navy\",\"navy\",\"navy\",\"navy\",\"navy\",\"navy\",\"navy\",\"navy\",\"navy\",\"navy\",\"navy\",\"navy\",\"navy\",\"navy\",\"navy\",\"navy\",\"navy\",\"navy\",\"navy\",\"navy\",\"navy\",\"navy\",\"navy\",\"navy\",\"navy\",\"navy\",\"navy\",\"navy\",\"navy\",\"navy\",\"navy\",\"navy\",\"navy\",\"navy\",\"navy\",\"navy\",\"navy\",\"navy\",\"navy\",\"navy\",\"navy\",\"navy\",\"navy\",\"navy\",\"navy\",\"navy\",\"navy\",\"navy\",\"navy\",\"navy\",\"navy\",\"navy\",\"navy\",\"navy\",\"navy\",\"navy\",\"navy\",\"navy\",\"navy\",\"navy\",\"navy\",\"navy\",\"navy\",\"navy\",\"navy\",\"navy\",\"navy\",\"navy\",\"navy\",\"navy\",\"navy\",\"navy\",\"navy\",\"navy\",\"navy\",\"navy\",\"navy\",\"navy\",\"navy\",\"navy\",\"navy\",\"navy\",\"navy\",\"navy\",\"navy\",\"navy\",\"navy\",\"navy\",\"navy\",\"navy\",\"navy\",\"navy\",\"navy\",\"navy\",\"navy\",\"navy\",\"navy\",\"navy\",\"navy\",\"navy\",\"navy\",\"navy\",\"navy\",\"navy\",\"navy\",\"navy\",\"navy\",\"navy\",\"navy\",\"navy\",\"navy\",\"navy\",\"navy\",\"navy\",\"navy\",\"navy\",\"navy\",\"navy\",\"navy\",\"navy\",\"navy\",\"navy\",\"navy\",\"navy\",\"navy\",\"navy\",\"navy\",\"navy\",\"navy\",\"navy\",\"navy\",\"navy\",\"navy\",\"navy\",\"navy\",\"navy\",\"navy\",\"navy\",\"navy\",\"navy\",\"navy\",\"navy\",\"navy\",\"navy\",\"navy\",\"navy\",\"navy\",\"navy\",\"navy\",\"navy\",\"navy\",\"navy\",\"navy\",\"navy\",\"navy\",\"navy\",\"navy\",\"navy\",\"navy\",\"navy\",\"navy\",\"navy\",\"navy\",\"navy\",\"navy\",\"navy\",\"navy\",\"navy\",\"navy\",\"navy\",\"navy\",\"navy\",\"navy\",\"navy\",\"navy\",\"navy\",\"navy\",\"navy\",\"navy\",\"navy\",\"navy\",\"navy\",\"navy\",\"navy\",\"navy\",\"navy\",\"navy\",\"navy\",\"navy\",\"navy\",\"navy\",\"navy\",\"navy\",\"navy\",\"navy\",\"navy\",\"navy\",\"navy\",\"navy\",\"navy\",\"navy\",\"navy\",\"navy\",\"navy\",\"navy\",\"navy\",\"navy\",\"navy\",\"navy\",\"navy\",\"navy\",\"navy\",\"navy\",\"navy\",\"navy\",\"navy\",\"navy\",\"navy\",\"navy\",\"navy\",\"navy\",\"navy\",\"navy\",\"navy\",\"navy\",\"navy\",\"navy\",\"navy\",\"navy\",\"navy\",\"navy\",\"navy\",\"navy\",\"navy\",\"navy\",\"navy\",\"navy\",\"navy\",\"navy\",\"navy\",\"navy\",\"navy\",\"navy\",\"navy\",\"navy\",\"navy\",\"navy\",\"navy\",\"navy\",\"navy\",\"navy\",\"navy\",\"navy\",\"navy\",\"navy\",\"navy\",\"navy\",\"navy\",\"navy\",\"navy\",\"navy\",\"navy\",\"navy\",\"navy\",\"navy\",\"navy\",\"navy\",\"navy\",\"navy\",\"navy\",\"navy\",\"navy\",\"navy\",\"navy\",\"navy\",\"navy\",\"navy\",\"navy\",\"navy\",\"navy\",\"navy\",\"navy\",\"navy\",\"navy\",\"navy\",\"navy\",\"navy\",\"navy\",\"navy\",\"navy\",\"navy\",\"navy\",\"navy\",\"navy\",\"navy\",\"navy\",\"navy\",\"navy\",\"navy\",\"navy\",\"navy\",\"navy\",\"navy\",\"navy\",\"navy\",\"navy\",\"navy\",\"navy\",\"navy\",\"navy\",\"navy\",\"navy\",\"navy\",\"navy\",\"navy\",\"navy\",\"navy\",\"navy\",\"navy\",\"navy\",\"navy\",\"navy\",\"navy\",\"navy\",\"navy\",\"navy\",\"navy\",\"navy\",\"navy\",\"navy\",\"navy\",\"navy\",\"navy\",\"navy\",\"navy\",\"navy\",\"navy\",\"navy\",\"navy\",\"navy\",\"navy\",\"navy\",\"navy\",\"navy\",\"navy\",\"navy\",\"navy\",\"navy\",\"navy\",\"navy\",\"navy\",\"navy\",\"navy\",\"navy\",\"navy\",\"navy\",\"navy\",\"navy\",\"navy\",\"navy\",\"navy\",\"navy\",\"navy\",\"navy\",\"navy\",\"navy\",\"navy\",\"navy\",\"navy\",\"navy\",\"navy\",\"navy\",\"navy\",\"navy\",\"navy\",\"navy\",\"navy\",\"navy\",\"navy\",\"navy\",\"navy\",\"navy\",\"navy\",\"navy\",\"navy\",\"navy\",\"navy\",\"navy\",\"navy\",\"navy\",\"navy\",\"navy\",\"navy\",\"navy\",\"navy\",\"navy\",\"navy\",\"navy\",\"navy\",\"navy\",\"navy\",\"navy\",\"navy\",\"navy\",\"navy\",\"navy\",\"navy\",\"navy\",\"navy\",\"navy\",\"navy\",\"navy\",\"navy\",\"navy\",\"navy\",\"navy\",\"navy\",\"navy\",\"navy\",\"navy\",\"navy\",\"navy\",\"navy\",\"navy\",\"navy\",\"navy\",\"navy\",\"navy\",\"navy\",\"navy\",\"navy\",\"navy\",\"navy\",\"navy\",\"navy\",\"navy\",\"navy\",\"navy\",\"navy\",\"navy\",\"navy\",\"navy\",\"navy\",\"navy\",\"navy\",\"navy\",\"navy\",\"navy\",\"navy\",\"navy\",\"navy\",\"navy\",\"navy\",\"navy\",\"navy\",\"navy\",\"navy\",\"navy\",\"navy\",\"navy\",\"navy\",\"navy\",\"navy\",\"navy\",\"navy\",\"navy\",\"navy\",\"navy\",\"navy\",\"navy\",\"navy\",\"navy\",\"navy\",\"navy\",\"navy\",\"navy\",\"navy\",\"navy\",\"navy\",\"navy\",\"navy\",\"navy\",\"navy\",\"navy\",\"navy\",\"navy\",\"navy\",\"navy\",\"navy\",\"navy\",\"navy\"],\"x\":[0.5220393105160752,0.36022356661060084,0.8942531859221767,0.758957069252811,0.3446316538709703,0.5113122627468868,0.9239345617706115,0.6655303669220936,0.3634758969401152,0.16941456423044066,0.07318679850692822,0.21822137485926474,0.33735751930272195,0.09538390224119853,0.484053962006356,0.2997706491716472,0.637072632045033,0.7233036354730458,0.5424307614258796,0.033590522240810716,0.9812730117429694,0.534384712794409,0.7135630106585888,0.7426360096663986,0.9676168687700766,0.6785414587015429,0.7139674587416537,0.3275198944572846,0.009720957609813397,0.604006733915042,0.9212070567284474,0.4373475609643951,0.2914373386579032,0.3160112146913343,0.134014171481024,0.8594373276599708,0.5996720761620757,0.17118692557773396,0.5009208870094332,0.048212784361186256,0.913326282210069,0.4357563464710704,0.07343232900762786,0.5053633875246781,0.14145893431012924,0.17999936765584512,0.551040235750474,0.16675036874770044,0.9643715898833614,0.9124827952532673,0.29251188272273276,0.6598567510735811,0.4196177120283807,0.5426112950891027,0.02154501001271958,0.15449479769381458,0.9852403645683232,0.11480139178602644,0.1768722174436408,0.4516163587978109,0.2121909470170762,0.4961388766263115,0.40328610055872516,0.3104955805183093,0.585330746247177,0.1745537475077642,0.5913219001853106,0.07218138606084379,0.27381135234050524,0.4231440160711808,0.02249169443604171,0.6469456655453147,0.7457060654272717,0.3436277920797143,0.4530351730689738,0.22757332193244584,0.44790590434000754,0.7712318005315442,0.9497617567791522,0.2678351897875717,0.32503894989788495,0.9126318576443885,0.2505336060548262,0.906813769792847,0.4168074331055933,0.37149161680696696,0.5341237775998059,0.09598683360702809,0.1725935301901529,0.6168552957834826,0.0958328119923546,0.48934367544373214,0.6390467280341608,0.7310264835791002,0.7384830444935332,0.8543825813064264,0.4499974534804324,0.18868662542415293,0.741858898605779,0.9388239328219449,0.9553647219339392,0.20538294770407006,0.47687764558394663,0.3865433419798554,0.20398522857966472,0.4849090623549591,0.3260868083619115,0.5921274226360543,0.848362623495575,0.35318338773866365,0.03502404579062546,0.712754520812025,0.490471458565342,0.45818042089347544,0.6501691074828453,0.9483272335693755,0.36237069247867026,0.7840477285207188,0.984988872068198,0.19265314441094172,0.32172011812336854,0.3177346259492616,0.7256254886719612,0.5412449704630583,0.3695252670358994,0.9516083808493474,0.5798726740317712,0.282038983136799,0.3274819320072745,0.970113123074371,0.08522685544516506,0.18483421811217426,0.5871470733821669,0.6682850192384677,0.46989048475641204,0.1677915105237483,0.7528140139382722,0.49713231482918185,0.42471396869264344,0.6820940222509226,0.0922183106784008,0.08693690840781165,0.3011829021250235,0.02182618806183334,0.9671423386594384,0.27526271597504093,0.19641435836602283,0.025474204289912872,0.0682614839597867,0.0009649818778055819,0.4835852337502614,0.8192079926964936,0.9028193025217154,0.6935601292644598,0.4613337180299111,0.4101740989938374,0.1357952285849131,0.0353470987577813,0.8295300926844729,0.4231400962794817,0.495541657329734,0.599275919406131,0.2182033154509765,0.15776788133051434,0.48012452278264617,0.027196336763483764,0.7492156530900311,0.6277744766968695,0.6261428003716422,0.20768285000089326,0.39635540299479644,0.7199140844145184,0.23581382115817817,0.6896618120577134,0.48561038648765953,0.42937978296370927,0.6427162098253403,0.7850712668903047,0.1856333200963055,0.9168578487391644,0.24673003057163068,0.06948411186937864,0.304548346903013,0.9451208761638941,0.2892744312718505,0.29964520682273377,0.25043341325592994,0.6088796490632623,0.4608467113551047,0.8733549354943535,0.11258553475951838,0.39260386350359655,0.3704835523059372,0.7772848820848599,0.9193227560252262,0.33231788520791694,0.6479369676386685,0.6187864520108333,0.7842035129444311,0.8849033370736956,0.9542777796788129,0.43242504654752123,0.6080616929450035,0.8624522552504249,0.023302060187569307,0.7354546521500037,0.9501759452265262,0.5736977031523611,0.8908717139180645,0.2535387955805952,0.4758650993017687,0.43695742770369816,0.3776269364482602,0.05383323285862862,0.4149584353025231,0.39035601017004573,0.6756360283643457,0.6994515036021558,0.44563571670765356,0.04425417221861405,0.5348512635205894,0.7609991831105307,0.84832123017347,0.4262331007926978,0.2409840912526383,0.8064899108662293,0.49429932679972255,0.9271661898082043,0.24194817772214716,0.11401169044943082,0.9024111348268807,0.43677873826160074,0.9377269254670412,0.08336628367128907,0.5060696977027578,0.9069565007754153,0.5575736435930094,0.04802676187542021,0.5606060904983514,0.10014809607672426,0.36629942763256074,0.529315376626811,0.07384913837254825,0.7293211081492559,0.8863433483260688,0.4259992307357424,0.8451972331651089,0.760989387317787,0.7119769924625826,0.8899492957188817,0.27458513599790246,0.5345107094178287,0.6496187434538873,0.5485031135616883,0.6222808509906674,0.8910306094699255,0.5720927711147169,0.8053997643434884,0.18469155069783705,0.9405609046431187,0.7485403848072769,0.790590766497494,0.4138161776423426,0.8459127517611168,0.16957030340495838,0.001924357878203331,0.8491696481467196,0.40001979482457983,0.05632145569752034,0.7530108610077446,0.5383704597230412,0.9315911366221185,0.4234043160592046,0.9827835262276995,0.40149439441190105,0.7690392844913703,0.9936380917099058,0.852271966746279,0.7663689724756362,0.6766974753906552,0.33329528336831593,0.35002726363007397,0.4113424453864142,0.6502667582898372,0.10424114015040198,0.6056997207027858,0.6905873496589291,0.35784559723455867,0.674399682158624,0.7030683398276631,0.8043374462844004,0.4670901407334893,0.09623222949008758,0.9352699027908247,0.4938811592286484,0.8782632816183442,0.9181083416030796,0.8748528009668557,0.24511217855859568,0.8643498514253413,0.2862382609211941,0.5667732237016804,0.5527495637466746,0.3558515301895454,0.44182087360273836,0.438248394982634,0.1963946893040126,0.7328523641610005,0.7431645342724267,0.3317066191835466,0.42738335648629056,0.8056309413393858,0.8876374309118656,0.7656390291283703,0.9184350357772889,0.848044507901296,0.49596770322388695,0.020433543705477675,0.22570222993718192,0.34216192686041313,0.2860666585113797,0.137707287642454,0.8707186488427753,0.13701080379393726,0.6383406017182791,0.1614622233942964,0.743184732500557,0.760996335936129,0.21978002078437198,0.8217039362233478,0.2860300764320164,0.4063597804879523,0.9592575892172345,0.016504804092577596,0.733380923633241,0.24356104998818207,0.9897917365247637,0.0020936504908115605,0.5603199621382329,0.45895558471716735,0.40695608120423277,0.37350564995018587,0.061341091690945926,0.2689333650861011,0.33387690315073937,0.2349095911301179,0.5675036024542162,0.3535705093378899,0.11898925644471381,0.4231416813070945,0.6870431415815309,0.18304365713606263,0.7051335821271042,0.21061156653024982,0.013231948936849425,0.11528049077737412,0.3235882710670861,0.3675855772383959,0.9609520157335489,0.3537035305441909,0.447336110873635,0.09503569669568457,0.33666461964842,0.8293868500030622,0.9921869271154236,0.06532899838745476,0.8862190364551897,0.5462471474132636,0.7431384688934773,0.006453554775014747,0.5691180209206187,0.8710277680163537,0.8260049580367008,0.8615350545650474,0.40849093051767105,0.3648899297483673,0.43464691126707455,0.6868121403464816,0.23288365455893933,0.5905743169177077,0.47780227453614244,0.11017904027067504,0.6447638356697211,0.8826169636540708,0.8306721429389377,0.06996221654165058,0.12942743090144948,0.7920688695116462,0.9113251651873334,0.4870532019871502,0.0765861612863381,0.08402118993661123,0.12409420067811727,0.4010934912114943,0.06717662853488826,0.8149416772307001,0.5359460259379675,0.6375057159169871,0.12610961064706983,0.3960833631620687,0.1705908739030898,0.052154753547624,0.41040419179135823,0.4455291493452189,0.646550682396532,0.49683940328474985,0.9677752168694401,0.04080136921656963,0.8134690023228984,0.6101584454084336,0.8534378068726077,0.05263523537083381,0.08445077215416041,0.8997295515897756,0.07407506561504995,0.11801171066686733,0.18566934761669618,0.21329078400536783,0.897980410956531,0.8488832223153053,0.4535762881246893,0.1916324756853215,0.7153041980011006,0.08140741886541225,0.8736105289124811,0.42493400132759107,0.45227005842755763,0.9074805084147357,0.13742302089053138,0.583069385762014,0.231006191061087,0.7108675044846938,0.05964148846277739,0.8509102422196555,0.5290762485749446,0.9364256399640035,0.08776139727204069,0.04430175245214363,0.513797733002631,0.3765804736830326,0.8630190073578858,0.8721457926288787,0.6323310598515288,0.4066089870598535,0.011046820147216363,0.41542362549198075,0.2821679749610736,0.3432237515709925,0.6115960409257062,0.473696018811121,0.8235323780378073,0.12414378349062694,0.12993653744097466,0.12215075931069286,0.6396638154015308,0.5347772673494137,0.5936806873983486,0.8376533221597582,0.6474115742030309,0.024344851747552854,0.5967308498915449,0.2938245618576477,0.5174666842561385,0.04981826115626187,0.0338484012931658,0.3143124186029357,0.9826778354220547,0.03974596564545807,0.595150278336064,0.19167923781825302,0.12559567122500703,0.9198574168474476,0.7762901243127052,0.3379618670110366,0.7478163765707095,0.0024858744083107176,0.1763763782621578,0.6039900138173482,0.7845755899082967,0.09003956177954364,0.24359558925675795,0.6574068698811105,0.48703111951931166,0.9192779847747571,0.8458856557362953,0.5231434575518997,0.3918637323368527,0.44680946681887446,0.02817613423479559,0.27113450710199405,0.03285321938807706,0.12197255749463842,0.3429352533523434,0.5855377917268327,0.6545277886789979,0.38538328180558257,0.25331837363961063,0.4583749437221766,0.6628261212030603,0.3749670256416586],\"y\":[0.5480953441409909,0.2900516524985527,0.7739095621703146,0.3983517751955492,0.1415342793128448,0.7491358933620086,0.0004412041345255302,0.020238924396682845,0.11048883307849333,0.686167886294998,0.4891069959207711,0.3150185146758939,0.6716945932071519,0.8864708049221652,0.8794862417705485,0.16390604422605115,0.40597660127806234,0.7353023559649827,0.7039267300279133,0.30568505620692377,0.7031123693298678,0.8217913439279868,0.9395308233123697,0.41835158530138694,0.9006159755192216,0.6641122059248058,0.1387035554731989,0.584035286065322,0.884958111855258,0.8369605197009882,0.3716491866417221,0.2614925736929474,0.03760864281098619,0.8562668230529662,0.22550439485377827,0.29979500876188137,0.8326967809350542,0.276596431705149,0.11203228069154247,0.6602065555793282,0.07798141423881233,0.7966929501549761,0.781188444074215,0.30112650452337386,0.5184872309114739,0.13213335765754164,0.08824427674279589,0.4800044492093455,0.7684224688281611,0.49995258758059835,0.33871327625128667,0.6970099235038254,0.8597994570169029,0.3419145762587805,0.18879494968585786,0.4798656030616907,0.768034614631418,0.5866677244167093,0.7097708370425106,0.19802629022185003,0.1638172222699128,0.514330773157029,0.5306635488077113,0.7199371565729134,0.19014447025378023,0.9737958919209684,0.1870665915509594,0.47594420746722577,0.9674430068558406,0.3739761632622016,0.6264645334486506,0.1922121339348295,0.4756292636778251,0.4958250667940768,0.5058186577773558,0.017413737011759745,0.19791081688045975,0.36486110043846587,0.9749305629710826,0.4090855458510487,0.25402299585835975,0.2989701671031165,0.12633888077354205,0.8925055722329205,0.688453681534553,0.6357553059695512,0.8379300002142239,0.9792822006966124,0.1166184828598702,0.8627670235478881,0.621354254731633,0.16505906415817528,0.4491969500410513,0.9764112829155724,0.039060147886849084,0.13296010831786564,0.8158555022298408,0.10166769423011723,0.06297210230291139,0.8583968421307285,0.7118713738226174,0.0949950984522645,0.44462647327029337,0.07188032071683037,0.8677103239104261,0.40799205215052814,0.3072154389173162,0.7766370788477701,0.15544886673674685,0.2870995897001726,0.4441864943655267,0.20265709553482314,0.9588896598810197,0.0036256735771721393,0.018311433546051803,0.38304892916703215,0.6722260667160864,0.5391000333640817,0.9041253126544857,0.5413193699773923,0.272052454742589,0.9626262443852094,0.9284661610925085,0.3418410379736947,0.3977441092577485,0.42833456632288924,0.26281978511122284,0.5742082532167582,0.9748936728295723,0.22756209057815258,0.33196477483121156,0.806555736194883,0.920048924963812,0.7455725450013256,0.6695536238983262,0.9298483856132451,0.1628837209425359,0.6135039170305863,0.892598036243078,0.8601519684708563,0.8466751207552355,0.4103504897724284,0.2332005513071782,0.24511164683330233,0.4351108036343724,0.4102590599037629,0.6287877807686533,0.9890688365197694,0.47875447340217314,0.8145875566373346,0.21625696948529893,0.8071364759878277,0.8613626167143875,0.2619736641495215,0.5592264893706046,0.5821220420990675,0.49005800988087,0.7061027686521948,0.5602290929579746,0.623189221661989,0.4156381419751479,0.5243508343466599,0.3869403046090206,0.36748355162289115,0.4687231325679515,0.5354297231547256,0.1525244491325809,0.470688200467138,0.45951177399863163,0.31739250316464884,0.18980038608276584,0.49789270419760245,0.06616834521491322,0.26866346140682706,0.8155325488244257,0.7063915272843972,0.5328657216564675,0.699693910020325,0.8843456441671832,0.36199148396450886,0.8368304816786134,0.37538844188325904,0.7293426137344892,0.6349105203163157,0.20659939557422236,0.03350179783835272,0.9748254125889678,0.9082731215011298,0.5717323076237891,0.9308562767622726,0.5287149445365348,0.4651557414738495,0.5260301734647018,0.0742415228023321,0.41827024491561604,0.6413680668629458,0.9382727866484453,0.9757333814661643,0.531956759272632,0.7869241249749692,0.17658482133815412,0.6414493346200273,0.3305832868936308,0.4142098041174227,0.09211935047382236,0.9625403373953102,0.6114162799573203,0.6690386636202984,0.9441814253375267,0.7912282654877626,0.17813956106041362,0.18212596932150293,0.4846238766737355,0.5637946928286953,0.4520854978706701,0.15994185306812925,0.014559902149234416,0.20762007683009043,0.7149141402714542,0.02042457313235624,0.8581219952835153,0.09213721989342483,0.764417803623951,0.9212826829671069,0.20900225658478988,0.476524092827707,0.06829662080367283,0.5378717630641476,0.7342550843176798,0.850298749434166,0.6006385947904405,0.37114412213273307,0.3157532449322151,0.37120291955225515,0.157274800954735,0.0453890805304199,0.32484838376059444,0.7305791096949569,0.2507802315030613,0.02053956827971526,0.3612995672469217,0.9814853059152433,0.8048698252422352,0.9498323987524393,0.7768825663877109,0.05842275837780375,0.9136697416855852,0.2522328365716838,0.42006128069239745,0.8297306988004313,0.11276507385618728,0.7551062827726952,0.5796523782290866,0.9694962306455508,0.5616844911302555,0.6398018467147908,0.2597285900299675,0.02454133776073697,0.13203387933666288,0.8825951169901189,0.9587612107302853,0.7251106318507449,0.29414649456677877,0.6393812515772025,0.39963218537162803,0.7045801111136772,0.112513187530621,0.1987908158332724,0.974525264411759,0.8335633956929486,0.37951222229459114,0.5135337578866853,0.12035365681351307,0.7715999162661261,0.09485444525038544,0.5293212809032277,0.3438131165391364,0.5796275140084435,0.6100994247147326,0.3628109393446415,0.5152010455705865,0.76256469577806,0.15476672050198836,0.9730619384316159,0.14131823584155534,0.2548857001148218,0.5879689276971829,0.31046955834407597,0.5315914562402985,0.16990052111637266,0.44043430475088907,0.6665739189503804,0.18395068776474,0.973412236037925,0.271766224352174,0.9685942812728655,0.03008707041575165,0.9168666262883411,0.2599511047654366,0.6096991346349451,0.46416003288728125,0.28358236674398374,0.25098335105445024,0.2527562370036949,0.03588353385818721,0.49985932307346526,0.6326671859649919,0.46102644052384956,0.5912181507163112,0.22315904046482404,0.5455590173897747,0.1868550393145043,0.8790183913392798,0.5998889779174498,0.2926787495148543,0.7690714912173565,0.06399473128574529,0.8386837575880663,0.8063368636953169,0.31852509567684884,0.01192903633306186,0.06320185904919384,0.24072525956294744,0.7574704931200598,0.8104446155691616,0.12777347047082477,0.4079809080673784,0.1457982841349137,0.0244025292211012,0.8616570471096148,0.194863006993925,0.728814165225013,0.7449215154831683,0.32775854971531326,0.05956798530062324,0.7600222603457302,0.6447099834800983,0.629412789235113,0.5794698149445083,0.4684019661497414,0.8407171916834053,0.49979438913424545,0.003168367939924921,0.8884049406237843,0.7482123013825194,0.3216945023040253,0.9977647996850721,0.5494514786198387,0.26471827956271277,0.17510747316073727,0.1754003575983928,0.7175198839345096,0.48652900707096824,0.8152091628594281,0.2076074875275642,0.7460940101880706,0.753699838319687,0.8483733505509563,0.5190182755044632,0.822606880371715,0.17172578792353776,0.8762535670596442,0.2655981180251311,0.3108569426376586,0.6896973137230574,0.4231698884980267,0.14252362204820812,0.5489912148848378,0.827308890259263,0.8761031558068404,0.9663357650464531,0.4586481204808065,0.5850742883216599,0.47821935853891406,0.91150644206672,0.5216257747492332,0.5695294887668785,0.9550332535515118,0.11229674762875941,0.9268857561594097,0.23395935929305345,0.35826746717401936,0.3129563990766173,0.8449146240190221,0.5941695759247001,0.05348804782545147,0.5028864499094349,0.3273032314546417,0.901803080177918,0.18643983486666782,0.809614746764888,0.9372224850210711,0.7390552400286987,0.6314789943163716,0.09924902673657454,0.7054961457538921,0.778281281060242,0.4267253568547489,0.568410942765863,0.058935711205825525,0.6777309858269431,0.2470265990594599,0.20411634927058364,0.515915332302918,0.8462554915594469,0.45590905685007166,0.30943431905218644,0.7626221781377971,0.8963600682555282,0.37177030739070305,0.09292818552745241,0.2044093452872473,0.22030700493981814,0.05139280204917862,0.9803405125207111,0.01171634378427755,0.13043705775491043,0.9325358042346398,0.32436884198267757,0.4616817448172813,0.11567978477388208,0.5155379079644893,0.6647666113060382,0.5422289592559919,0.7006139861446599,0.4501891612208049,0.6755528266810504,0.41310702964478174,0.3864738620611259,0.6569268842339782,0.8936624105200046,0.7917721246501529,0.9754514303391246,0.2638140664121046,0.4093591775842864,0.9213334793494028,0.32952367129077353,0.5217902593855778,0.27642473537342827,0.9985586808887017,0.005290540284385137,0.8809528927691147,0.060445628775111504,0.8600219390697132,0.7683463437134121,0.5890931058436746,0.7672447321130554,0.4090080990732805,0.2929418263976573,0.9189207287308195,0.004145730981508056,0.043567725694676596,0.5805673219329823,0.8735395377735344,0.46044628876408067,0.21319176629843706,0.3386290299946396,0.2627633416459425,0.2637035382082916,0.8966063151077397,0.4500638147365139,0.8426782044143571,0.2577790372234464,0.21363607558525233,0.9336536093188649,0.10405546503937724,0.6204430328945942,0.459619428620727,0.034513643115003156,0.021475192160131384,0.6254922874098892,0.15847674768065267,0.6440001659512667,0.30155450216057067,0.3306339085188531,0.08761020573579126,0.8879400021392375,0.8273049743216963,0.26962392924315415,0.8839289675836856,0.9706915162518898,0.012906824018031116,0.9838375357764673,0.6407145811576652,0.4310205276699718,0.17231838707546432,0.01800227185769865,0.28939189016160727,0.5252235978862773,0.9998103364473414,0.3471361860612492,0.48313638192555697,0.031083767074953528,0.09436575963345295,0.7375678973081857,0.46209401561456553,0.06554763936665753,0.04267617704256543,0.1351023596089137,0.5196690556829601]},\"selected\":{\"id\":\"3421\",\"type\":\"Selection\"},\"selection_policy\":{\"id\":\"3422\",\"type\":\"UnionRenderers\"}},\"id\":\"3266\",\"type\":\"ColumnDataSource\"},{\"attributes\":{},\"id\":\"3417\",\"type\":\"BasicTickFormatter\"},{\"attributes\":{\"fill_alpha\":{\"value\":0.1},\"fill_color\":{\"value\":\"#1f77b4\"},\"line_alpha\":{\"value\":0.1},\"line_color\":{\"value\":\"#1f77b4\"},\"size\":{\"units\":\"screen\",\"value\":8},\"x\":{\"field\":\"x\"},\"y\":{\"field\":\"y\"}},\"id\":\"3293\",\"type\":\"Circle\"},{\"attributes\":{\"args\":{\"s1\":{\"id\":\"3266\",\"type\":\"ColumnDataSource\"},\"s2\":{\"id\":\"3299\",\"type\":\"ColumnDataSource\"}},\"code\":\"\\n    var inds = s1.selected.indices;\\n    if (inds.length == 0)\\n        return;\\n\\n    var ym = 0\\n    for (var i = 0; i < inds.length; i++) {\\n        ym += s1.data.y[inds[i]]\\n    }\\n    \\n    ym /= inds.length\\n    s2.data.ym = [ym, ym]\\n\\n    // necessary becasue we mutated source.data in-place\\n    s2.change.emit();  \\n\"},\"id\":\"3307\",\"type\":\"CustomJS\"},{\"attributes\":{\"callback\":null},\"id\":\"3272\",\"type\":\"DataRange1d\"},{\"attributes\":{\"data_source\":{\"id\":\"3299\",\"type\":\"ColumnDataSource\"},\"glyph\":{\"id\":\"3301\",\"type\":\"Line\"},\"hover_glyph\":null,\"muted_glyph\":null,\"nonselection_glyph\":{\"id\":\"3302\",\"type\":\"Line\"},\"selection_glyph\":null,\"view\":{\"id\":\"3304\",\"type\":\"CDSView\"}},\"id\":\"3303\",\"type\":\"GlyphRenderer\"},{\"attributes\":{\"line_alpha\":0.1,\"line_color\":\"#1f77b4\",\"line_width\":5,\"x\":{\"field\":\"xm\"},\"y\":{\"field\":\"ym\"}},\"id\":\"3302\",\"type\":\"Line\"},{\"attributes\":{},\"id\":\"3276\",\"type\":\"LinearScale\"},{\"attributes\":{\"line_alpha\":0.6,\"line_color\":\"orange\",\"line_width\":5,\"x\":{\"field\":\"xm\"},\"y\":{\"field\":\"ym\"}},\"id\":\"3301\",\"type\":\"Line\"},{\"attributes\":{\"fill_alpha\":{\"value\":0.4},\"fill_color\":{\"field\":\"color\"},\"line_alpha\":{\"value\":0.4},\"line_color\":{\"field\":\"color\"},\"size\":{\"units\":\"screen\",\"value\":8},\"x\":{\"field\":\"x\"},\"y\":{\"field\":\"y\"}},\"id\":\"3292\",\"type\":\"Circle\"},{\"attributes\":{\"source\":{\"id\":\"3299\",\"type\":\"ColumnDataSource\"}},\"id\":\"3304\",\"type\":\"CDSView\"},{\"attributes\":{},\"id\":\"3421\",\"type\":\"Selection\"},{\"attributes\":{\"text\":\"Select Here\"},\"id\":\"3268\",\"type\":\"Title\"},{\"attributes\":{\"fill_alpha\":{\"value\":0.4},\"fill_color\":{\"value\":\"firebrick\"},\"line_alpha\":{\"value\":0.4},\"line_color\":{\"value\":\"firebrick\"},\"size\":{\"units\":\"screen\",\"value\":8},\"x\":{\"field\":\"x\"},\"y\":{\"field\":\"y\"}},\"id\":\"3294\",\"type\":\"Circle\"}],\"root_ids\":[\"3267\"]},\"title\":\"Bokeh Application\",\"version\":\"1.1.0\"}};\n",
       "  var render_items = [{\"docid\":\"771d75ad-08ca-4a84-ae1e-ac3d81a966a7\",\"roots\":{\"3267\":\"345c030d-0fa9-4f2a-acf4-03ab2edd8759\"}}];\n",
       "  root.Bokeh.embed.embed_items_notebook(docs_json, render_items);\n",
       "\n",
       "  }\n",
       "  if (root.Bokeh !== undefined) {\n",
       "    embed_document(root);\n",
       "  } else {\n",
       "    var attempts = 0;\n",
       "    var timer = setInterval(function(root) {\n",
       "      if (root.Bokeh !== undefined) {\n",
       "        embed_document(root);\n",
       "        clearInterval(timer);\n",
       "      }\n",
       "      attempts++;\n",
       "      if (attempts > 100) {\n",
       "        console.log(\"Bokeh: ERROR: Unable to run BokehJS code because BokehJS library is missing\");\n",
       "        clearInterval(timer);\n",
       "      }\n",
       "    }, 10, root)\n",
       "  }\n",
       "})(window);"
      ],
      "application/vnd.bokehjs_exec.v0+json": ""
     },
     "metadata": {
      "application/vnd.bokehjs_exec.v0+json": {
       "id": "3267"
      }
     },
     "output_type": "display_data"
    }
   ],
   "source": [
    "\n",
    "s1.callback = CustomJS(args=dict(s1=s1, s2=s2), code=\"\"\"\n",
    "    var inds = s1.selected.indices;\n",
    "    if (inds.length == 0)\n",
    "        return;\n",
    "\n",
    "    var ym = 0\n",
    "    for (var i = 0; i < inds.length; i++) {\n",
    "        ym += s1.data.y[inds[i]]\n",
    "    }\n",
    "    \n",
    "    ym /= inds.length\n",
    "    s2.data.ym = [ym, ym]\n",
    "\n",
    "    // necessary becasue we mutated source.data in-place\n",
    "    s2.change.emit();  \n",
    "\"\"\")\n",
    "\n",
    "show(p)"
   ]
  },
  {
   "cell_type": "code",
   "execution_count": null,
   "metadata": {},
   "outputs": [],
   "source": []
  },
  {
   "cell_type": "code",
   "execution_count": 78,
   "metadata": {},
   "outputs": [],
   "source": [
    "from bokeh.plotting import figure\n",
    "from bokeh import events\n",
    "from bokeh.models import CustomJS, Div, Button\n",
    "from bokeh.layouts import column, row\n",
    "\n",
    "import numpy as np\n"
   ]
  },
  {
   "cell_type": "code",
   "execution_count": 79,
   "metadata": {},
   "outputs": [],
   "source": [
    "x = np.random.random(size=2000) * 100\n",
    "y = np.random.random(size=2000) * 100"
   ]
  },
  {
   "cell_type": "code",
   "execution_count": 80,
   "metadata": {},
   "outputs": [
    {
     "data": {
      "text/html": [
       "<div style=\"display: table;\"><div style=\"display: table-row;\"><div style=\"display: table-cell;\"><b title=\"bokeh.models.renderers.GlyphRenderer\">GlyphRenderer</b>(</div><div style=\"display: table-cell;\">id&nbsp;=&nbsp;'3765', <span id=\"3768\" style=\"cursor: pointer;\">&hellip;)</span></div></div><div class=\"3767\" style=\"display: none;\"><div style=\"display: table-cell;\"></div><div style=\"display: table-cell;\">data_source&nbsp;=&nbsp;ColumnDataSource(id='3762', ...),</div></div><div class=\"3767\" style=\"display: none;\"><div style=\"display: table-cell;\"></div><div style=\"display: table-cell;\">glyph&nbsp;=&nbsp;Circle(id='3763', ...),</div></div><div class=\"3767\" style=\"display: none;\"><div style=\"display: table-cell;\"></div><div style=\"display: table-cell;\">hover_glyph&nbsp;=&nbsp;None,</div></div><div class=\"3767\" style=\"display: none;\"><div style=\"display: table-cell;\"></div><div style=\"display: table-cell;\">js_event_callbacks&nbsp;=&nbsp;{},</div></div><div class=\"3767\" style=\"display: none;\"><div style=\"display: table-cell;\"></div><div style=\"display: table-cell;\">js_property_callbacks&nbsp;=&nbsp;{},</div></div><div class=\"3767\" style=\"display: none;\"><div style=\"display: table-cell;\"></div><div style=\"display: table-cell;\">level&nbsp;=&nbsp;'glyph',</div></div><div class=\"3767\" style=\"display: none;\"><div style=\"display: table-cell;\"></div><div style=\"display: table-cell;\">muted&nbsp;=&nbsp;False,</div></div><div class=\"3767\" style=\"display: none;\"><div style=\"display: table-cell;\"></div><div style=\"display: table-cell;\">muted_glyph&nbsp;=&nbsp;None,</div></div><div class=\"3767\" style=\"display: none;\"><div style=\"display: table-cell;\"></div><div style=\"display: table-cell;\">name&nbsp;=&nbsp;None,</div></div><div class=\"3767\" style=\"display: none;\"><div style=\"display: table-cell;\"></div><div style=\"display: table-cell;\">nonselection_glyph&nbsp;=&nbsp;Circle(id='3764', ...),</div></div><div class=\"3767\" style=\"display: none;\"><div style=\"display: table-cell;\"></div><div style=\"display: table-cell;\">selection_glyph&nbsp;=&nbsp;None,</div></div><div class=\"3767\" style=\"display: none;\"><div style=\"display: table-cell;\"></div><div style=\"display: table-cell;\">subscribed_events&nbsp;=&nbsp;[],</div></div><div class=\"3767\" style=\"display: none;\"><div style=\"display: table-cell;\"></div><div style=\"display: table-cell;\">tags&nbsp;=&nbsp;[],</div></div><div class=\"3767\" style=\"display: none;\"><div style=\"display: table-cell;\"></div><div style=\"display: table-cell;\">view&nbsp;=&nbsp;CDSView(id='3766', ...),</div></div><div class=\"3767\" style=\"display: none;\"><div style=\"display: table-cell;\"></div><div style=\"display: table-cell;\">visible&nbsp;=&nbsp;True,</div></div><div class=\"3767\" style=\"display: none;\"><div style=\"display: table-cell;\"></div><div style=\"display: table-cell;\">x_range_name&nbsp;=&nbsp;'default',</div></div><div class=\"3767\" style=\"display: none;\"><div style=\"display: table-cell;\"></div><div style=\"display: table-cell;\">y_range_name&nbsp;=&nbsp;'default')</div></div></div>\n",
       "<script>\n",
       "(function() {\n",
       "  var expanded = false;\n",
       "  var ellipsis = document.getElementById(\"3768\");\n",
       "  ellipsis.addEventListener(\"click\", function() {\n",
       "    var rows = document.getElementsByClassName(\"3767\");\n",
       "    for (var i = 0; i < rows.length; i++) {\n",
       "      var el = rows[i];\n",
       "      el.style.display = expanded ? \"none\" : \"table-row\";\n",
       "    }\n",
       "    ellipsis.innerHTML = expanded ? \"&hellip;)\" : \"&lsaquo;&lsaquo;&lsaquo;\";\n",
       "    expanded = !expanded;\n",
       "  });\n",
       "})();\n",
       "</script>\n"
      ],
      "text/plain": [
       "GlyphRenderer(id='3765', ...)"
      ]
     },
     "execution_count": 80,
     "metadata": {},
     "output_type": "execute_result"
    }
   ],
   "source": [
    "p = figure(tools=\"box_select\")\n",
    "p.scatter(x, y, radius=1, fill_alpha=0.6, line_color=None)"
   ]
  },
  {
   "cell_type": "code",
   "execution_count": 81,
   "metadata": {},
   "outputs": [],
   "source": [
    "div = Div(width=400)\n",
    "button = Button(label=\"Button\", width=300)\n",
    "layout = column(button, row(p, div))"
   ]
  },
  {
   "cell_type": "code",
   "execution_count": 82,
   "metadata": {},
   "outputs": [
    {
     "data": {
      "text/html": [
       "\n",
       "\n",
       "\n",
       "\n",
       "\n",
       "\n",
       "  <div class=\"bk-root\" id=\"a6e54a05-6af9-4a18-9902-757c49eb2471\" data-root-id=\"3772\"></div>\n"
      ]
     },
     "metadata": {},
     "output_type": "display_data"
    },
    {
     "data": {
      "application/javascript": [
       "(function(root) {\n",
       "  function embed_document(root) {\n",
       "    \n",
       "  var docs_json = {\"bf6d0cf7-c322-43c5-a697-0c0f534ee62a\":{\"roots\":{\"references\":[{\"attributes\":{\"children\":[{\"id\":\"3770\",\"type\":\"Button\"},{\"id\":\"3771\",\"type\":\"Row\"}]},\"id\":\"3772\",\"type\":\"Column\"},{\"attributes\":{},\"id\":\"3747\",\"type\":\"LinearScale\"},{\"attributes\":{\"callback\":null,\"overlay\":{\"id\":\"3907\",\"type\":\"BoxAnnotation\"}},\"id\":\"3759\",\"type\":\"BoxSelectTool\"},{\"attributes\":{},\"id\":\"3755\",\"type\":\"BasicTicker\"},{\"attributes\":{\"formatter\":{\"id\":\"3904\",\"type\":\"BasicTickFormatter\"},\"ticker\":{\"id\":\"3755\",\"type\":\"BasicTicker\"}},\"id\":\"3754\",\"type\":\"LinearAxis\"},{\"attributes\":{\"dimension\":1,\"ticker\":{\"id\":\"3755\",\"type\":\"BasicTicker\"}},\"id\":\"3758\",\"type\":\"Grid\"},{\"attributes\":{},\"id\":\"3745\",\"type\":\"LinearScale\"},{\"attributes\":{\"children\":[{\"id\":\"3740\",\"subtype\":\"Figure\",\"type\":\"Plot\"},{\"id\":\"3769\",\"type\":\"Div\"}]},\"id\":\"3771\",\"type\":\"Row\"},{\"attributes\":{},\"id\":\"3750\",\"type\":\"BasicTicker\"},{\"attributes\":{\"bottom_units\":\"screen\",\"fill_alpha\":{\"value\":0.5},\"fill_color\":{\"value\":\"lightgrey\"},\"left_units\":\"screen\",\"level\":\"overlay\",\"line_alpha\":{\"value\":1.0},\"line_color\":{\"value\":\"black\"},\"line_dash\":[4,4],\"line_width\":{\"value\":2},\"render_mode\":\"css\",\"right_units\":\"screen\",\"top_units\":\"screen\"},\"id\":\"3907\",\"type\":\"BoxAnnotation\"},{\"attributes\":{\"callback\":null},\"id\":\"3743\",\"type\":\"DataRange1d\"},{\"attributes\":{\"text\":\"\"},\"id\":\"3902\",\"type\":\"Title\"},{\"attributes\":{\"callback\":null},\"id\":\"3741\",\"type\":\"DataRange1d\"},{\"attributes\":{\"below\":[{\"id\":\"3749\",\"type\":\"LinearAxis\"}],\"center\":[{\"id\":\"3753\",\"type\":\"Grid\"},{\"id\":\"3758\",\"type\":\"Grid\"}],\"js_event_callbacks\":{\"selectiongeometry\":[{\"id\":\"3774\",\"type\":\"CustomJS\"}]},\"left\":[{\"id\":\"3754\",\"type\":\"LinearAxis\"}],\"renderers\":[{\"id\":\"3765\",\"type\":\"GlyphRenderer\"}],\"title\":{\"id\":\"3902\",\"type\":\"Title\"},\"toolbar\":{\"id\":\"3760\",\"type\":\"Toolbar\"},\"x_range\":{\"id\":\"3741\",\"type\":\"DataRange1d\"},\"x_scale\":{\"id\":\"3745\",\"type\":\"LinearScale\"},\"y_range\":{\"id\":\"3743\",\"type\":\"DataRange1d\"},\"y_scale\":{\"id\":\"3747\",\"type\":\"LinearScale\"}},\"id\":\"3740\",\"subtype\":\"Figure\",\"type\":\"Plot\"},{\"attributes\":{\"fill_alpha\":{\"value\":0.6},\"fill_color\":{\"value\":\"#1f77b4\"},\"line_color\":{\"value\":null},\"radius\":{\"units\":\"data\",\"value\":1},\"x\":{\"field\":\"x\"},\"y\":{\"field\":\"y\"}},\"id\":\"3763\",\"type\":\"Circle\"},{\"attributes\":{\"callback\":null,\"icon\":null,\"js_event_callbacks\":{\"button_click\":[{\"id\":\"3773\",\"type\":\"CustomJS\"}]},\"width\":300},\"id\":\"3770\",\"type\":\"Button\"},{\"attributes\":{\"width\":400},\"id\":\"3769\",\"type\":\"Div\"},{\"attributes\":{},\"id\":\"3904\",\"type\":\"BasicTickFormatter\"},{\"attributes\":{},\"id\":\"3909\",\"type\":\"UnionRenderers\"},{\"attributes\":{\"formatter\":{\"id\":\"3906\",\"type\":\"BasicTickFormatter\"},\"ticker\":{\"id\":\"3750\",\"type\":\"BasicTicker\"}},\"id\":\"3749\",\"type\":\"LinearAxis\"},{\"attributes\":{\"ticker\":{\"id\":\"3750\",\"type\":\"BasicTicker\"}},\"id\":\"3753\",\"type\":\"Grid\"},{\"attributes\":{},\"id\":\"3906\",\"type\":\"BasicTickFormatter\"},{\"attributes\":{},\"id\":\"3908\",\"type\":\"Selection\"},{\"attributes\":{\"callback\":null,\"data\":{\"x\":{\"__ndarray__\":\"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\",\"dtype\":\"float64\",\"shape\":[2000]},\"y\":{\"__ndarray__\":\"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\",\"dtype\":\"float64\",\"shape\":[2000]}},\"selected\":{\"id\":\"3908\",\"type\":\"Selection\"},\"selection_policy\":{\"id\":\"3909\",\"type\":\"UnionRenderers\"}},\"id\":\"3762\",\"type\":\"ColumnDataSource\"},{\"attributes\":{\"args\":{\"div\":{\"id\":\"3769\",\"type\":\"Div\"}},\"code\":\"\\ndiv.text = \\\"Selection! <p> <p>\\\" + JSON.stringify(cb_obj.geometry, undefined, 2);\\n\"},\"id\":\"3774\",\"type\":\"CustomJS\"},{\"attributes\":{\"source\":{\"id\":\"3762\",\"type\":\"ColumnDataSource\"}},\"id\":\"3766\",\"type\":\"CDSView\"},{\"attributes\":{\"data_source\":{\"id\":\"3762\",\"type\":\"ColumnDataSource\"},\"glyph\":{\"id\":\"3763\",\"type\":\"Circle\"},\"hover_glyph\":null,\"muted_glyph\":null,\"nonselection_glyph\":{\"id\":\"3764\",\"type\":\"Circle\"},\"selection_glyph\":null,\"view\":{\"id\":\"3766\",\"type\":\"CDSView\"}},\"id\":\"3765\",\"type\":\"GlyphRenderer\"},{\"attributes\":{\"args\":{\"div\":{\"id\":\"3769\",\"type\":\"Div\"}},\"code\":\"\\ndiv.text = \\\"Button!\\\";\\n\"},\"id\":\"3773\",\"type\":\"CustomJS\"},{\"attributes\":{\"fill_alpha\":{\"value\":0.1},\"fill_color\":{\"value\":\"#1f77b4\"},\"line_alpha\":{\"value\":0.1},\"line_color\":{\"value\":\"#1f77b4\"},\"radius\":{\"units\":\"data\",\"value\":1},\"x\":{\"field\":\"x\"},\"y\":{\"field\":\"y\"}},\"id\":\"3764\",\"type\":\"Circle\"},{\"attributes\":{\"active_drag\":\"auto\",\"active_inspect\":\"auto\",\"active_multi\":null,\"active_scroll\":\"auto\",\"active_tap\":\"auto\",\"tools\":[{\"id\":\"3759\",\"type\":\"BoxSelectTool\"}]},\"id\":\"3760\",\"type\":\"Toolbar\"}],\"root_ids\":[\"3772\"]},\"title\":\"Bokeh Application\",\"version\":\"1.1.0\"}};\n",
       "  var render_items = [{\"docid\":\"bf6d0cf7-c322-43c5-a697-0c0f534ee62a\",\"roots\":{\"3772\":\"a6e54a05-6af9-4a18-9902-757c49eb2471\"}}];\n",
       "  root.Bokeh.embed.embed_items_notebook(docs_json, render_items);\n",
       "\n",
       "  }\n",
       "  if (root.Bokeh !== undefined) {\n",
       "    embed_document(root);\n",
       "  } else {\n",
       "    var attempts = 0;\n",
       "    var timer = setInterval(function(root) {\n",
       "      if (root.Bokeh !== undefined) {\n",
       "        embed_document(root);\n",
       "        clearInterval(timer);\n",
       "      }\n",
       "      attempts++;\n",
       "      if (attempts > 100) {\n",
       "        console.log(\"Bokeh: ERROR: Unable to run BokehJS code because BokehJS library is missing\");\n",
       "        clearInterval(timer);\n",
       "      }\n",
       "    }, 10, root)\n",
       "  }\n",
       "})(window);"
      ],
      "application/vnd.bokehjs_exec.v0+json": ""
     },
     "metadata": {
      "application/vnd.bokehjs_exec.v0+json": {
       "id": "3772"
      }
     },
     "output_type": "display_data"
    }
   ],
   "source": [
    "# Events with no attributes\n",
    "button.js_on_event(events.ButtonClick,  CustomJS(args=dict(div=div), code=\"\"\"\n",
    "div.text = \"Button!\";\n",
    "\"\"\")) \n",
    "\n",
    "p.js_on_event(events.SelectionGeometry, CustomJS(args=dict(div=div), code=\"\"\"\n",
    "div.text = \"Selection! <p> <p>\" + JSON.stringify(cb_obj.geometry, undefined, 2);\n",
    "\"\"\"))\n",
    "\n",
    "show(layout)"
   ]
  },
  {
   "cell_type": "code",
   "execution_count": null,
   "metadata": {},
   "outputs": [],
   "source": []
  },
  {
   "cell_type": "code",
   "execution_count": null,
   "metadata": {},
   "outputs": [],
   "source": []
  },
  {
   "cell_type": "code",
   "execution_count": null,
   "metadata": {},
   "outputs": [],
   "source": []
  },
  {
   "cell_type": "code",
   "execution_count": null,
   "metadata": {},
   "outputs": [],
   "source": []
  },
  {
   "cell_type": "code",
   "execution_count": null,
   "metadata": {},
   "outputs": [],
   "source": []
  },
  {
   "cell_type": "code",
   "execution_count": null,
   "metadata": {},
   "outputs": [],
   "source": []
  },
  {
   "cell_type": "code",
   "execution_count": null,
   "metadata": {},
   "outputs": [],
   "source": []
  },
  {
   "cell_type": "code",
   "execution_count": null,
   "metadata": {},
   "outputs": [],
   "source": []
  },
  {
   "cell_type": "code",
   "execution_count": null,
   "metadata": {},
   "outputs": [],
   "source": []
  },
  {
   "cell_type": "code",
   "execution_count": null,
   "metadata": {},
   "outputs": [],
   "source": []
  },
  {
   "cell_type": "code",
   "execution_count": null,
   "metadata": {},
   "outputs": [],
   "source": []
  },
  {
   "cell_type": "code",
   "execution_count": null,
   "metadata": {},
   "outputs": [],
   "source": []
  },
  {
   "cell_type": "code",
   "execution_count": null,
   "metadata": {},
   "outputs": [],
   "source": []
  },
  {
   "cell_type": "code",
   "execution_count": null,
   "metadata": {},
   "outputs": [],
   "source": []
  }
 ],
 "metadata": {
  "kernelspec": {
   "display_name": "Python 3",
   "language": "python",
   "name": "python3"
  },
  "language_info": {
   "codemirror_mode": {
    "name": "ipython",
    "version": 3
   },
   "file_extension": ".py",
   "mimetype": "text/x-python",
   "name": "python",
   "nbconvert_exporter": "python",
   "pygments_lexer": "ipython3",
   "version": "3.7.2"
  }
 },
 "nbformat": 4,
 "nbformat_minor": 2
}
