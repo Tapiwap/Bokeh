{
 "cells": [
  {
   "cell_type": "code",
   "execution_count": 1,
   "metadata": {},
   "outputs": [],
   "source": [
    "import bokeh\n",
    "from bokeh.io import output_notebook\n",
    "from bokeh.plotting import figure\n",
    "from bokeh.io import show\n",
    "from bokeh.models import NumeralTickFormatter\n",
    "from bokeh.models import ColumnDataSource\n",
    "from bokeh.models import HoverTool\n",
    "from bokeh.models import LinearInterpolator\n",
    "import pandas as pd"
   ]
  },
  {
   "cell_type": "code",
   "execution_count": null,
   "metadata": {},
   "outputs": [],
   "source": []
  },
  {
   "cell_type": "code",
   "execution_count": 2,
   "metadata": {},
   "outputs": [
    {
     "data": {
      "text/plain": [
       "'1.2.0'"
      ]
     },
     "execution_count": 2,
     "metadata": {},
     "output_type": "execute_result"
    }
   ],
   "source": [
    "bokeh.__version__"
   ]
  },
  {
   "cell_type": "markdown",
   "metadata": {},
   "source": [
    "## Import Data into the data Frame"
   ]
  },
  {
   "cell_type": "code",
   "execution_count": null,
   "metadata": {},
   "outputs": [],
   "source": []
  },
  {
   "cell_type": "code",
   "execution_count": 3,
   "metadata": {},
   "outputs": [],
   "source": [
    "#import the data making the year the index\n",
    "data = pd.read_csv('gapminder_tidy.csv', index_col='Year', thousands=',')"
   ]
  },
  {
   "cell_type": "code",
   "execution_count": 4,
   "metadata": {},
   "outputs": [
    {
     "data": {
      "text/html": [
       "<div>\n",
       "<style scoped>\n",
       "    .dataframe tbody tr th:only-of-type {\n",
       "        vertical-align: middle;\n",
       "    }\n",
       "\n",
       "    .dataframe tbody tr th {\n",
       "        vertical-align: top;\n",
       "    }\n",
       "\n",
       "    .dataframe thead th {\n",
       "        text-align: right;\n",
       "    }\n",
       "</style>\n",
       "<table border=\"1\" class=\"dataframe\">\n",
       "  <thead>\n",
       "    <tr style=\"text-align: right;\">\n",
       "      <th></th>\n",
       "      <th>Country</th>\n",
       "      <th>fertility</th>\n",
       "      <th>life</th>\n",
       "      <th>population</th>\n",
       "      <th>child_mortality</th>\n",
       "      <th>gdp</th>\n",
       "      <th>region</th>\n",
       "    </tr>\n",
       "    <tr>\n",
       "      <th>Year</th>\n",
       "      <th></th>\n",
       "      <th></th>\n",
       "      <th></th>\n",
       "      <th></th>\n",
       "      <th></th>\n",
       "      <th></th>\n",
       "      <th></th>\n",
       "    </tr>\n",
       "  </thead>\n",
       "  <tbody>\n",
       "    <tr>\n",
       "      <th>1964</th>\n",
       "      <td>Afghanistan</td>\n",
       "      <td>7.671</td>\n",
       "      <td>33.639</td>\n",
       "      <td>10474903.0</td>\n",
       "      <td>339.7</td>\n",
       "      <td>1182.0</td>\n",
       "      <td>South Asia</td>\n",
       "    </tr>\n",
       "    <tr>\n",
       "      <th>1965</th>\n",
       "      <td>Afghanistan</td>\n",
       "      <td>7.671</td>\n",
       "      <td>34.152</td>\n",
       "      <td>10697983.0</td>\n",
       "      <td>334.1</td>\n",
       "      <td>1182.0</td>\n",
       "      <td>South Asia</td>\n",
       "    </tr>\n",
       "    <tr>\n",
       "      <th>1966</th>\n",
       "      <td>Afghanistan</td>\n",
       "      <td>7.671</td>\n",
       "      <td>34.662</td>\n",
       "      <td>10927724.0</td>\n",
       "      <td>328.7</td>\n",
       "      <td>1168.0</td>\n",
       "      <td>South Asia</td>\n",
       "    </tr>\n",
       "    <tr>\n",
       "      <th>1967</th>\n",
       "      <td>Afghanistan</td>\n",
       "      <td>7.671</td>\n",
       "      <td>35.170</td>\n",
       "      <td>11163656.0</td>\n",
       "      <td>323.3</td>\n",
       "      <td>1173.0</td>\n",
       "      <td>South Asia</td>\n",
       "    </tr>\n",
       "    <tr>\n",
       "      <th>1968</th>\n",
       "      <td>Afghanistan</td>\n",
       "      <td>7.671</td>\n",
       "      <td>35.674</td>\n",
       "      <td>11411022.0</td>\n",
       "      <td>318.1</td>\n",
       "      <td>1187.0</td>\n",
       "      <td>South Asia</td>\n",
       "    </tr>\n",
       "  </tbody>\n",
       "</table>\n",
       "</div>"
      ],
      "text/plain": [
       "          Country  fertility    life  population  child_mortality     gdp  \\\n",
       "Year                                                                        \n",
       "1964  Afghanistan      7.671  33.639  10474903.0            339.7  1182.0   \n",
       "1965  Afghanistan      7.671  34.152  10697983.0            334.1  1182.0   \n",
       "1966  Afghanistan      7.671  34.662  10927724.0            328.7  1168.0   \n",
       "1967  Afghanistan      7.671  35.170  11163656.0            323.3  1173.0   \n",
       "1968  Afghanistan      7.671  35.674  11411022.0            318.1  1187.0   \n",
       "\n",
       "          region  \n",
       "Year              \n",
       "1964  South Asia  \n",
       "1965  South Asia  \n",
       "1966  South Asia  \n",
       "1967  South Asia  \n",
       "1968  South Asia  "
      ]
     },
     "execution_count": 4,
     "metadata": {},
     "output_type": "execute_result"
    }
   ],
   "source": [
    "data.head()"
   ]
  },
  {
   "cell_type": "code",
   "execution_count": null,
   "metadata": {},
   "outputs": [],
   "source": []
  },
  {
   "cell_type": "code",
   "execution_count": null,
   "metadata": {},
   "outputs": [],
   "source": []
  },
  {
   "cell_type": "code",
   "execution_count": null,
   "metadata": {},
   "outputs": [],
   "source": []
  },
  {
   "cell_type": "code",
   "execution_count": 5,
   "metadata": {},
   "outputs": [],
   "source": [
    "#check the data types of each series"
   ]
  },
  {
   "cell_type": "code",
   "execution_count": 6,
   "metadata": {},
   "outputs": [
    {
     "data": {
      "text/plain": [
       "Country             object\n",
       "fertility          float64\n",
       "life               float64\n",
       "population         float64\n",
       "child_mortality    float64\n",
       "gdp                float64\n",
       "region              object\n",
       "dtype: object"
      ]
     },
     "execution_count": 6,
     "metadata": {},
     "output_type": "execute_result"
    }
   ],
   "source": [
    "#check the data types of each series\n",
    "data.dtypes"
   ]
  },
  {
   "cell_type": "code",
   "execution_count": null,
   "metadata": {},
   "outputs": [],
   "source": []
  },
  {
   "cell_type": "code",
   "execution_count": 7,
   "metadata": {},
   "outputs": [
    {
     "data": {
      "text/html": [
       "\n",
       "    <div class=\"bk-root\">\n",
       "        <a href=\"https://bokeh.pydata.org\" target=\"_blank\" class=\"bk-logo bk-logo-small bk-logo-notebook\"></a>\n",
       "        <span id=\"1001\">Loading BokehJS ...</span>\n",
       "    </div>"
      ]
     },
     "metadata": {},
     "output_type": "display_data"
    },
    {
     "data": {
      "application/javascript": [
       "\n",
       "(function(root) {\n",
       "  function now() {\n",
       "    return new Date();\n",
       "  }\n",
       "\n",
       "  var force = true;\n",
       "\n",
       "  if (typeof root._bokeh_onload_callbacks === \"undefined\" || force === true) {\n",
       "    root._bokeh_onload_callbacks = [];\n",
       "    root._bokeh_is_loading = undefined;\n",
       "  }\n",
       "\n",
       "  var JS_MIME_TYPE = 'application/javascript';\n",
       "  var HTML_MIME_TYPE = 'text/html';\n",
       "  var EXEC_MIME_TYPE = 'application/vnd.bokehjs_exec.v0+json';\n",
       "  var CLASS_NAME = 'output_bokeh rendered_html';\n",
       "\n",
       "  /**\n",
       "   * Render data to the DOM node\n",
       "   */\n",
       "  function render(props, node) {\n",
       "    var script = document.createElement(\"script\");\n",
       "    node.appendChild(script);\n",
       "  }\n",
       "\n",
       "  /**\n",
       "   * Handle when an output is cleared or removed\n",
       "   */\n",
       "  function handleClearOutput(event, handle) {\n",
       "    var cell = handle.cell;\n",
       "\n",
       "    var id = cell.output_area._bokeh_element_id;\n",
       "    var server_id = cell.output_area._bokeh_server_id;\n",
       "    // Clean up Bokeh references\n",
       "    if (id != null && id in Bokeh.index) {\n",
       "      Bokeh.index[id].model.document.clear();\n",
       "      delete Bokeh.index[id];\n",
       "    }\n",
       "\n",
       "    if (server_id !== undefined) {\n",
       "      // Clean up Bokeh references\n",
       "      var cmd = \"from bokeh.io.state import curstate; print(curstate().uuid_to_server['\" + server_id + \"'].get_sessions()[0].document.roots[0]._id)\";\n",
       "      cell.notebook.kernel.execute(cmd, {\n",
       "        iopub: {\n",
       "          output: function(msg) {\n",
       "            var id = msg.content.text.trim();\n",
       "            if (id in Bokeh.index) {\n",
       "              Bokeh.index[id].model.document.clear();\n",
       "              delete Bokeh.index[id];\n",
       "            }\n",
       "          }\n",
       "        }\n",
       "      });\n",
       "      // Destroy server and session\n",
       "      var cmd = \"import bokeh.io.notebook as ion; ion.destroy_server('\" + server_id + \"')\";\n",
       "      cell.notebook.kernel.execute(cmd);\n",
       "    }\n",
       "  }\n",
       "\n",
       "  /**\n",
       "   * Handle when a new output is added\n",
       "   */\n",
       "  function handleAddOutput(event, handle) {\n",
       "    var output_area = handle.output_area;\n",
       "    var output = handle.output;\n",
       "\n",
       "    // limit handleAddOutput to display_data with EXEC_MIME_TYPE content only\n",
       "    if ((output.output_type != \"display_data\") || (!output.data.hasOwnProperty(EXEC_MIME_TYPE))) {\n",
       "      return\n",
       "    }\n",
       "\n",
       "    var toinsert = output_area.element.find(\".\" + CLASS_NAME.split(' ')[0]);\n",
       "\n",
       "    if (output.metadata[EXEC_MIME_TYPE][\"id\"] !== undefined) {\n",
       "      toinsert[toinsert.length - 1].firstChild.textContent = output.data[JS_MIME_TYPE];\n",
       "      // store reference to embed id on output_area\n",
       "      output_area._bokeh_element_id = output.metadata[EXEC_MIME_TYPE][\"id\"];\n",
       "    }\n",
       "    if (output.metadata[EXEC_MIME_TYPE][\"server_id\"] !== undefined) {\n",
       "      var bk_div = document.createElement(\"div\");\n",
       "      bk_div.innerHTML = output.data[HTML_MIME_TYPE];\n",
       "      var script_attrs = bk_div.children[0].attributes;\n",
       "      for (var i = 0; i < script_attrs.length; i++) {\n",
       "        toinsert[toinsert.length - 1].firstChild.setAttribute(script_attrs[i].name, script_attrs[i].value);\n",
       "      }\n",
       "      // store reference to server id on output_area\n",
       "      output_area._bokeh_server_id = output.metadata[EXEC_MIME_TYPE][\"server_id\"];\n",
       "    }\n",
       "  }\n",
       "\n",
       "  function register_renderer(events, OutputArea) {\n",
       "\n",
       "    function append_mime(data, metadata, element) {\n",
       "      // create a DOM node to render to\n",
       "      var toinsert = this.create_output_subarea(\n",
       "        metadata,\n",
       "        CLASS_NAME,\n",
       "        EXEC_MIME_TYPE\n",
       "      );\n",
       "      this.keyboard_manager.register_events(toinsert);\n",
       "      // Render to node\n",
       "      var props = {data: data, metadata: metadata[EXEC_MIME_TYPE]};\n",
       "      render(props, toinsert[toinsert.length - 1]);\n",
       "      element.append(toinsert);\n",
       "      return toinsert\n",
       "    }\n",
       "\n",
       "    /* Handle when an output is cleared or removed */\n",
       "    events.on('clear_output.CodeCell', handleClearOutput);\n",
       "    events.on('delete.Cell', handleClearOutput);\n",
       "\n",
       "    /* Handle when a new output is added */\n",
       "    events.on('output_added.OutputArea', handleAddOutput);\n",
       "\n",
       "    /**\n",
       "     * Register the mime type and append_mime function with output_area\n",
       "     */\n",
       "    OutputArea.prototype.register_mime_type(EXEC_MIME_TYPE, append_mime, {\n",
       "      /* Is output safe? */\n",
       "      safe: true,\n",
       "      /* Index of renderer in `output_area.display_order` */\n",
       "      index: 0\n",
       "    });\n",
       "  }\n",
       "\n",
       "  // register the mime type if in Jupyter Notebook environment and previously unregistered\n",
       "  if (root.Jupyter !== undefined) {\n",
       "    var events = require('base/js/events');\n",
       "    var OutputArea = require('notebook/js/outputarea').OutputArea;\n",
       "\n",
       "    if (OutputArea.prototype.mime_types().indexOf(EXEC_MIME_TYPE) == -1) {\n",
       "      register_renderer(events, OutputArea);\n",
       "    }\n",
       "  }\n",
       "\n",
       "  \n",
       "  if (typeof (root._bokeh_timeout) === \"undefined\" || force === true) {\n",
       "    root._bokeh_timeout = Date.now() + 5000;\n",
       "    root._bokeh_failed_load = false;\n",
       "  }\n",
       "\n",
       "  var NB_LOAD_WARNING = {'data': {'text/html':\n",
       "     \"<div style='background-color: #fdd'>\\n\"+\n",
       "     \"<p>\\n\"+\n",
       "     \"BokehJS does not appear to have successfully loaded. If loading BokehJS from CDN, this \\n\"+\n",
       "     \"may be due to a slow or bad network connection. Possible fixes:\\n\"+\n",
       "     \"</p>\\n\"+\n",
       "     \"<ul>\\n\"+\n",
       "     \"<li>re-rerun `output_notebook()` to attempt to load from CDN again, or</li>\\n\"+\n",
       "     \"<li>use INLINE resources instead, as so:</li>\\n\"+\n",
       "     \"</ul>\\n\"+\n",
       "     \"<code>\\n\"+\n",
       "     \"from bokeh.resources import INLINE\\n\"+\n",
       "     \"output_notebook(resources=INLINE)\\n\"+\n",
       "     \"</code>\\n\"+\n",
       "     \"</div>\"}};\n",
       "\n",
       "  function display_loaded() {\n",
       "    var el = document.getElementById(\"1001\");\n",
       "    if (el != null) {\n",
       "      el.textContent = \"BokehJS is loading...\";\n",
       "    }\n",
       "    if (root.Bokeh !== undefined) {\n",
       "      if (el != null) {\n",
       "        el.textContent = \"BokehJS \" + root.Bokeh.version + \" successfully loaded.\";\n",
       "      }\n",
       "    } else if (Date.now() < root._bokeh_timeout) {\n",
       "      setTimeout(display_loaded, 100)\n",
       "    }\n",
       "  }\n",
       "\n",
       "\n",
       "  function run_callbacks() {\n",
       "    try {\n",
       "      root._bokeh_onload_callbacks.forEach(function(callback) {\n",
       "        if (callback != null)\n",
       "          callback();\n",
       "      });\n",
       "    } finally {\n",
       "      delete root._bokeh_onload_callbacks\n",
       "    }\n",
       "    console.debug(\"Bokeh: all callbacks have finished\");\n",
       "  }\n",
       "\n",
       "  function load_libs(css_urls, js_urls, callback) {\n",
       "    if (css_urls == null) css_urls = [];\n",
       "    if (js_urls == null) js_urls = [];\n",
       "\n",
       "    root._bokeh_onload_callbacks.push(callback);\n",
       "    if (root._bokeh_is_loading > 0) {\n",
       "      console.debug(\"Bokeh: BokehJS is being loaded, scheduling callback at\", now());\n",
       "      return null;\n",
       "    }\n",
       "    if (js_urls == null || js_urls.length === 0) {\n",
       "      run_callbacks();\n",
       "      return null;\n",
       "    }\n",
       "    console.debug(\"Bokeh: BokehJS not loaded, scheduling load and callback at\", now());\n",
       "    root._bokeh_is_loading = css_urls.length + js_urls.length;\n",
       "\n",
       "    function on_load() {\n",
       "      root._bokeh_is_loading--;\n",
       "      if (root._bokeh_is_loading === 0) {\n",
       "        console.debug(\"Bokeh: all BokehJS libraries/stylesheets loaded\");\n",
       "        run_callbacks()\n",
       "      }\n",
       "    }\n",
       "\n",
       "    function on_error() {\n",
       "      console.error(\"failed to load \" + url);\n",
       "    }\n",
       "\n",
       "    for (var i = 0; i < css_urls.length; i++) {\n",
       "      var url = css_urls[i];\n",
       "      const element = document.createElement(\"link\");\n",
       "      element.onload = on_load;\n",
       "      element.onerror = on_error;\n",
       "      element.rel = \"stylesheet\";\n",
       "      element.type = \"text/css\";\n",
       "      element.href = url;\n",
       "      console.debug(\"Bokeh: injecting link tag for BokehJS stylesheet: \", url);\n",
       "      document.body.appendChild(element);\n",
       "    }\n",
       "\n",
       "    for (var i = 0; i < js_urls.length; i++) {\n",
       "      var url = js_urls[i];\n",
       "      var element = document.createElement('script');\n",
       "      element.onload = on_load;\n",
       "      element.onerror = on_error;\n",
       "      element.async = false;\n",
       "      element.src = url;\n",
       "      console.debug(\"Bokeh: injecting script tag for BokehJS library: \", url);\n",
       "      document.head.appendChild(element);\n",
       "    }\n",
       "  };var element = document.getElementById(\"1001\");\n",
       "  if (element == null) {\n",
       "    console.error(\"Bokeh: ERROR: autoload.js configured with elementid '1001' but no matching script tag was found. \")\n",
       "    return false;\n",
       "  }\n",
       "\n",
       "  function inject_raw_css(css) {\n",
       "    const element = document.createElement(\"style\");\n",
       "    element.appendChild(document.createTextNode(css));\n",
       "    document.body.appendChild(element);\n",
       "  }\n",
       "\n",
       "  var js_urls = [\"https://cdn.pydata.org/bokeh/release/bokeh-1.2.0.min.js\", \"https://cdn.pydata.org/bokeh/release/bokeh-widgets-1.2.0.min.js\", \"https://cdn.pydata.org/bokeh/release/bokeh-tables-1.2.0.min.js\", \"https://cdn.pydata.org/bokeh/release/bokeh-gl-1.2.0.min.js\"];\n",
       "  var css_urls = [\"https://cdn.pydata.org/bokeh/release/bokeh-1.2.0.min.css\", \"https://cdn.pydata.org/bokeh/release/bokeh-widgets-1.2.0.min.css\", \"https://cdn.pydata.org/bokeh/release/bokeh-tables-1.2.0.min.css\"];\n",
       "\n",
       "  var inline_js = [\n",
       "    function(Bokeh) {\n",
       "      Bokeh.set_log_level(\"info\");\n",
       "    },\n",
       "    \n",
       "    function(Bokeh) {\n",
       "      \n",
       "    },\n",
       "    function(Bokeh) {} // ensure no trailing comma for IE\n",
       "  ];\n",
       "\n",
       "  function run_inline_js() {\n",
       "    \n",
       "    if ((root.Bokeh !== undefined) || (force === true)) {\n",
       "      for (var i = 0; i < inline_js.length; i++) {\n",
       "        inline_js[i].call(root, root.Bokeh);\n",
       "      }if (force === true) {\n",
       "        display_loaded();\n",
       "      }} else if (Date.now() < root._bokeh_timeout) {\n",
       "      setTimeout(run_inline_js, 100);\n",
       "    } else if (!root._bokeh_failed_load) {\n",
       "      console.log(\"Bokeh: BokehJS failed to load within specified timeout.\");\n",
       "      root._bokeh_failed_load = true;\n",
       "    } else if (force !== true) {\n",
       "      var cell = $(document.getElementById(\"1001\")).parents('.cell').data().cell;\n",
       "      cell.output_area.append_execute_result(NB_LOAD_WARNING)\n",
       "    }\n",
       "\n",
       "  }\n",
       "\n",
       "  if (root._bokeh_is_loading === 0) {\n",
       "    console.debug(\"Bokeh: BokehJS loaded, going straight to plotting\");\n",
       "    run_inline_js();\n",
       "  } else {\n",
       "    load_libs(css_urls, js_urls, function() {\n",
       "      console.debug(\"Bokeh: BokehJS plotting callback run at\", now());\n",
       "      run_inline_js();\n",
       "    });\n",
       "  }\n",
       "}(window));"
      ],
      "application/vnd.bokehjs_load.v0+json": "\n(function(root) {\n  function now() {\n    return new Date();\n  }\n\n  var force = true;\n\n  if (typeof root._bokeh_onload_callbacks === \"undefined\" || force === true) {\n    root._bokeh_onload_callbacks = [];\n    root._bokeh_is_loading = undefined;\n  }\n\n  \n\n  \n  if (typeof (root._bokeh_timeout) === \"undefined\" || force === true) {\n    root._bokeh_timeout = Date.now() + 5000;\n    root._bokeh_failed_load = false;\n  }\n\n  var NB_LOAD_WARNING = {'data': {'text/html':\n     \"<div style='background-color: #fdd'>\\n\"+\n     \"<p>\\n\"+\n     \"BokehJS does not appear to have successfully loaded. If loading BokehJS from CDN, this \\n\"+\n     \"may be due to a slow or bad network connection. Possible fixes:\\n\"+\n     \"</p>\\n\"+\n     \"<ul>\\n\"+\n     \"<li>re-rerun `output_notebook()` to attempt to load from CDN again, or</li>\\n\"+\n     \"<li>use INLINE resources instead, as so:</li>\\n\"+\n     \"</ul>\\n\"+\n     \"<code>\\n\"+\n     \"from bokeh.resources import INLINE\\n\"+\n     \"output_notebook(resources=INLINE)\\n\"+\n     \"</code>\\n\"+\n     \"</div>\"}};\n\n  function display_loaded() {\n    var el = document.getElementById(\"1001\");\n    if (el != null) {\n      el.textContent = \"BokehJS is loading...\";\n    }\n    if (root.Bokeh !== undefined) {\n      if (el != null) {\n        el.textContent = \"BokehJS \" + root.Bokeh.version + \" successfully loaded.\";\n      }\n    } else if (Date.now() < root._bokeh_timeout) {\n      setTimeout(display_loaded, 100)\n    }\n  }\n\n\n  function run_callbacks() {\n    try {\n      root._bokeh_onload_callbacks.forEach(function(callback) {\n        if (callback != null)\n          callback();\n      });\n    } finally {\n      delete root._bokeh_onload_callbacks\n    }\n    console.debug(\"Bokeh: all callbacks have finished\");\n  }\n\n  function load_libs(css_urls, js_urls, callback) {\n    if (css_urls == null) css_urls = [];\n    if (js_urls == null) js_urls = [];\n\n    root._bokeh_onload_callbacks.push(callback);\n    if (root._bokeh_is_loading > 0) {\n      console.debug(\"Bokeh: BokehJS is being loaded, scheduling callback at\", now());\n      return null;\n    }\n    if (js_urls == null || js_urls.length === 0) {\n      run_callbacks();\n      return null;\n    }\n    console.debug(\"Bokeh: BokehJS not loaded, scheduling load and callback at\", now());\n    root._bokeh_is_loading = css_urls.length + js_urls.length;\n\n    function on_load() {\n      root._bokeh_is_loading--;\n      if (root._bokeh_is_loading === 0) {\n        console.debug(\"Bokeh: all BokehJS libraries/stylesheets loaded\");\n        run_callbacks()\n      }\n    }\n\n    function on_error() {\n      console.error(\"failed to load \" + url);\n    }\n\n    for (var i = 0; i < css_urls.length; i++) {\n      var url = css_urls[i];\n      const element = document.createElement(\"link\");\n      element.onload = on_load;\n      element.onerror = on_error;\n      element.rel = \"stylesheet\";\n      element.type = \"text/css\";\n      element.href = url;\n      console.debug(\"Bokeh: injecting link tag for BokehJS stylesheet: \", url);\n      document.body.appendChild(element);\n    }\n\n    for (var i = 0; i < js_urls.length; i++) {\n      var url = js_urls[i];\n      var element = document.createElement('script');\n      element.onload = on_load;\n      element.onerror = on_error;\n      element.async = false;\n      element.src = url;\n      console.debug(\"Bokeh: injecting script tag for BokehJS library: \", url);\n      document.head.appendChild(element);\n    }\n  };var element = document.getElementById(\"1001\");\n  if (element == null) {\n    console.error(\"Bokeh: ERROR: autoload.js configured with elementid '1001' but no matching script tag was found. \")\n    return false;\n  }\n\n  function inject_raw_css(css) {\n    const element = document.createElement(\"style\");\n    element.appendChild(document.createTextNode(css));\n    document.body.appendChild(element);\n  }\n\n  var js_urls = [\"https://cdn.pydata.org/bokeh/release/bokeh-1.2.0.min.js\", \"https://cdn.pydata.org/bokeh/release/bokeh-widgets-1.2.0.min.js\", \"https://cdn.pydata.org/bokeh/release/bokeh-tables-1.2.0.min.js\", \"https://cdn.pydata.org/bokeh/release/bokeh-gl-1.2.0.min.js\"];\n  var css_urls = [\"https://cdn.pydata.org/bokeh/release/bokeh-1.2.0.min.css\", \"https://cdn.pydata.org/bokeh/release/bokeh-widgets-1.2.0.min.css\", \"https://cdn.pydata.org/bokeh/release/bokeh-tables-1.2.0.min.css\"];\n\n  var inline_js = [\n    function(Bokeh) {\n      Bokeh.set_log_level(\"info\");\n    },\n    \n    function(Bokeh) {\n      \n    },\n    function(Bokeh) {} // ensure no trailing comma for IE\n  ];\n\n  function run_inline_js() {\n    \n    if ((root.Bokeh !== undefined) || (force === true)) {\n      for (var i = 0; i < inline_js.length; i++) {\n        inline_js[i].call(root, root.Bokeh);\n      }if (force === true) {\n        display_loaded();\n      }} else if (Date.now() < root._bokeh_timeout) {\n      setTimeout(run_inline_js, 100);\n    } else if (!root._bokeh_failed_load) {\n      console.log(\"Bokeh: BokehJS failed to load within specified timeout.\");\n      root._bokeh_failed_load = true;\n    } else if (force !== true) {\n      var cell = $(document.getElementById(\"1001\")).parents('.cell').data().cell;\n      cell.output_area.append_execute_result(NB_LOAD_WARNING)\n    }\n\n  }\n\n  if (root._bokeh_is_loading === 0) {\n    console.debug(\"Bokeh: BokehJS loaded, going straight to plotting\");\n    run_inline_js();\n  } else {\n    load_libs(css_urls, js_urls, function() {\n      console.debug(\"Bokeh: BokehJS plotting callback run at\", now());\n      run_inline_js();\n    });\n  }\n}(window));"
     },
     "metadata": {},
     "output_type": "display_data"
    }
   ],
   "source": [
    "#load bokehJS into Jupyter notebook\n",
    "output_notebook()"
   ]
  },
  {
   "cell_type": "code",
   "execution_count": null,
   "metadata": {},
   "outputs": [],
   "source": []
  },
  {
   "cell_type": "code",
   "execution_count": 8,
   "metadata": {},
   "outputs": [],
   "source": [
    "# get figure\n",
    "fig = figure(\n",
    "    #height = 200,\n",
    "    x_axis_type = 'log',\n",
    "           x_range = (100, 100000),\n",
    "           y_range = (0, 100)\n",
    "            )"
   ]
  },
  {
   "cell_type": "code",
   "execution_count": 9,
   "metadata": {},
   "outputs": [],
   "source": [
    "#Get the 2010 data only\n",
    "data_2010 = data.loc[2010]"
   ]
  },
  {
   "cell_type": "code",
   "execution_count": 10,
   "metadata": {},
   "outputs": [
    {
     "data": {
      "text/html": [
       "<div>\n",
       "<style scoped>\n",
       "    .dataframe tbody tr th:only-of-type {\n",
       "        vertical-align: middle;\n",
       "    }\n",
       "\n",
       "    .dataframe tbody tr th {\n",
       "        vertical-align: top;\n",
       "    }\n",
       "\n",
       "    .dataframe thead th {\n",
       "        text-align: right;\n",
       "    }\n",
       "</style>\n",
       "<table border=\"1\" class=\"dataframe\">\n",
       "  <thead>\n",
       "    <tr style=\"text-align: right;\">\n",
       "      <th></th>\n",
       "      <th>Country</th>\n",
       "      <th>fertility</th>\n",
       "      <th>life</th>\n",
       "      <th>population</th>\n",
       "      <th>child_mortality</th>\n",
       "      <th>gdp</th>\n",
       "      <th>region</th>\n",
       "    </tr>\n",
       "    <tr>\n",
       "      <th>Year</th>\n",
       "      <th></th>\n",
       "      <th></th>\n",
       "      <th></th>\n",
       "      <th></th>\n",
       "      <th></th>\n",
       "      <th></th>\n",
       "      <th></th>\n",
       "    </tr>\n",
       "  </thead>\n",
       "  <tbody>\n",
       "    <tr>\n",
       "      <th>2010</th>\n",
       "      <td>Afghanistan</td>\n",
       "      <td>5.659</td>\n",
       "      <td>59.612</td>\n",
       "      <td>31411743.0</td>\n",
       "      <td>105.0</td>\n",
       "      <td>1637.0</td>\n",
       "      <td>South Asia</td>\n",
       "    </tr>\n",
       "    <tr>\n",
       "      <th>2010</th>\n",
       "      <td>Albania</td>\n",
       "      <td>1.741</td>\n",
       "      <td>76.780</td>\n",
       "      <td>3204284.0</td>\n",
       "      <td>16.6</td>\n",
       "      <td>9374.0</td>\n",
       "      <td>Europe &amp; Central Asia</td>\n",
       "    </tr>\n",
       "    <tr>\n",
       "      <th>2010</th>\n",
       "      <td>Algeria</td>\n",
       "      <td>2.817</td>\n",
       "      <td>70.615</td>\n",
       "      <td>35468208.0</td>\n",
       "      <td>27.4</td>\n",
       "      <td>12494.0</td>\n",
       "      <td>Middle East &amp; North Africa</td>\n",
       "    </tr>\n",
       "    <tr>\n",
       "      <th>2010</th>\n",
       "      <td>Angola</td>\n",
       "      <td>6.218</td>\n",
       "      <td>50.689</td>\n",
       "      <td>19081912.0</td>\n",
       "      <td>182.5</td>\n",
       "      <td>7047.0</td>\n",
       "      <td>Sub-Saharan Africa</td>\n",
       "    </tr>\n",
       "    <tr>\n",
       "      <th>2010</th>\n",
       "      <td>Antigua and Barbuda</td>\n",
       "      <td>2.130</td>\n",
       "      <td>75.437</td>\n",
       "      <td>88710.0</td>\n",
       "      <td>9.9</td>\n",
       "      <td>20567.0</td>\n",
       "      <td>America</td>\n",
       "    </tr>\n",
       "  </tbody>\n",
       "</table>\n",
       "</div>"
      ],
      "text/plain": [
       "                  Country  fertility    life  population  child_mortality  \\\n",
       "Year                                                                        \n",
       "2010          Afghanistan      5.659  59.612  31411743.0            105.0   \n",
       "2010              Albania      1.741  76.780   3204284.0             16.6   \n",
       "2010              Algeria      2.817  70.615  35468208.0             27.4   \n",
       "2010               Angola      6.218  50.689  19081912.0            182.5   \n",
       "2010  Antigua and Barbuda      2.130  75.437     88710.0              9.9   \n",
       "\n",
       "          gdp                      region  \n",
       "Year                                       \n",
       "2010   1637.0                  South Asia  \n",
       "2010   9374.0       Europe & Central Asia  \n",
       "2010  12494.0  Middle East & North Africa  \n",
       "2010   7047.0          Sub-Saharan Africa  \n",
       "2010  20567.0                     America  "
      ]
     },
     "execution_count": 10,
     "metadata": {},
     "output_type": "execute_result"
    }
   ],
   "source": [
    "data_2010.head()"
   ]
  },
  {
   "cell_type": "code",
   "execution_count": null,
   "metadata": {},
   "outputs": [],
   "source": []
  },
  {
   "cell_type": "markdown",
   "metadata": {},
   "source": [
    "### Plot Life expectancy against GDP"
   ]
  },
  {
   "cell_type": "code",
   "execution_count": 11,
   "metadata": {},
   "outputs": [
    {
     "data": {
      "text/html": [
       "\n",
       "\n",
       "\n",
       "\n",
       "\n",
       "\n",
       "  <div class=\"bk-root\" id=\"93e46a4a-c89f-4b6b-bd92-7f33463e035e\" data-root-id=\"1002\"></div>\n"
      ]
     },
     "metadata": {},
     "output_type": "display_data"
    },
    {
     "data": {
      "application/javascript": [
       "(function(root) {\n",
       "  function embed_document(root) {\n",
       "    \n",
       "  var docs_json = {\"57b05433-5e0d-47d8-af97-a0d6ed506bdc\":{\"roots\":{\"references\":[{\"attributes\":{\"below\":[{\"id\":\"1011\",\"type\":\"LogAxis\"}],\"center\":[{\"id\":\"1015\",\"type\":\"Grid\"},{\"id\":\"1020\",\"type\":\"Grid\"}],\"left\":[{\"id\":\"1016\",\"type\":\"LinearAxis\"}],\"renderers\":[{\"id\":\"1037\",\"type\":\"GlyphRenderer\"}],\"title\":{\"id\":\"1040\",\"type\":\"Title\"},\"toolbar\":{\"id\":\"1027\",\"type\":\"Toolbar\"},\"x_range\":{\"id\":\"1003\",\"type\":\"Range1d\"},\"x_scale\":{\"id\":\"1007\",\"type\":\"LogScale\"},\"y_range\":{\"id\":\"1005\",\"type\":\"Range1d\"},\"y_scale\":{\"id\":\"1009\",\"type\":\"LinearScale\"}},\"id\":\"1002\",\"subtype\":\"Figure\",\"type\":\"Plot\"},{\"attributes\":{},\"id\":\"1026\",\"type\":\"HelpTool\"},{\"attributes\":{\"ticker\":null},\"id\":\"1043\",\"type\":\"LogTickFormatter\"},{\"attributes\":{\"callback\":null,\"end\":100000,\"start\":100},\"id\":\"1003\",\"type\":\"Range1d\"},{\"attributes\":{\"active_drag\":\"auto\",\"active_inspect\":\"auto\",\"active_multi\":null,\"active_scroll\":\"auto\",\"active_tap\":\"auto\",\"tools\":[{\"id\":\"1021\",\"type\":\"PanTool\"},{\"id\":\"1022\",\"type\":\"WheelZoomTool\"},{\"id\":\"1023\",\"type\":\"BoxZoomTool\"},{\"id\":\"1024\",\"type\":\"SaveTool\"},{\"id\":\"1025\",\"type\":\"ResetTool\"},{\"id\":\"1026\",\"type\":\"HelpTool\"}]},\"id\":\"1027\",\"type\":\"Toolbar\"},{\"attributes\":{},\"id\":\"1046\",\"type\":\"Selection\"},{\"attributes\":{\"callback\":null,\"end\":100},\"id\":\"1005\",\"type\":\"Range1d\"},{\"attributes\":{},\"id\":\"1007\",\"type\":\"LogScale\"},{\"attributes\":{},\"id\":\"1009\",\"type\":\"LinearScale\"},{\"attributes\":{\"formatter\":{\"id\":\"1043\",\"type\":\"LogTickFormatter\"},\"ticker\":{\"id\":\"1012\",\"type\":\"LogTicker\"}},\"id\":\"1011\",\"type\":\"LogAxis\"},{\"attributes\":{},\"id\":\"1047\",\"type\":\"UnionRenderers\"},{\"attributes\":{\"num_minor_ticks\":10},\"id\":\"1012\",\"type\":\"LogTicker\"},{\"attributes\":{\"ticker\":{\"id\":\"1012\",\"type\":\"LogTicker\"}},\"id\":\"1015\",\"type\":\"Grid\"},{\"attributes\":{\"fill_color\":{\"value\":\"#1f77b4\"},\"line_color\":{\"value\":\"#1f77b4\"},\"x\":{\"field\":\"x\"},\"y\":{\"field\":\"y\"}},\"id\":\"1035\",\"type\":\"Circle\"},{\"attributes\":{},\"id\":\"1017\",\"type\":\"BasicTicker\"},{\"attributes\":{\"dimension\":1,\"ticker\":{\"id\":\"1017\",\"type\":\"BasicTicker\"}},\"id\":\"1020\",\"type\":\"Grid\"},{\"attributes\":{\"bottom_units\":\"screen\",\"fill_alpha\":{\"value\":0.5},\"fill_color\":{\"value\":\"lightgrey\"},\"left_units\":\"screen\",\"level\":\"overlay\",\"line_alpha\":{\"value\":1.0},\"line_color\":{\"value\":\"black\"},\"line_dash\":[4,4],\"line_width\":{\"value\":2},\"render_mode\":\"css\",\"right_units\":\"screen\",\"top_units\":\"screen\"},\"id\":\"1045\",\"type\":\"BoxAnnotation\"},{\"attributes\":{\"callback\":null,\"data\":{\"x\":{\"__ndarray__\":\"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\",\"dtype\":\"float64\",\"shape\":[202]},\"y\":{\"__ndarray__\":\"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\",\"dtype\":\"float64\",\"shape\":[202]}},\"selected\":{\"id\":\"1046\",\"type\":\"Selection\"},\"selection_policy\":{\"id\":\"1047\",\"type\":\"UnionRenderers\"}},\"id\":\"1034\",\"type\":\"ColumnDataSource\"},{\"attributes\":{\"text\":\"\"},\"id\":\"1040\",\"type\":\"Title\"},{\"attributes\":{},\"id\":\"1021\",\"type\":\"PanTool\"},{\"attributes\":{},\"id\":\"1022\",\"type\":\"WheelZoomTool\"},{\"attributes\":{\"fill_alpha\":{\"value\":0.1},\"fill_color\":{\"value\":\"#1f77b4\"},\"line_alpha\":{\"value\":0.1},\"line_color\":{\"value\":\"#1f77b4\"},\"x\":{\"field\":\"x\"},\"y\":{\"field\":\"y\"}},\"id\":\"1036\",\"type\":\"Circle\"},{\"attributes\":{\"data_source\":{\"id\":\"1034\",\"type\":\"ColumnDataSource\"},\"glyph\":{\"id\":\"1035\",\"type\":\"Circle\"},\"hover_glyph\":null,\"muted_glyph\":null,\"nonselection_glyph\":{\"id\":\"1036\",\"type\":\"Circle\"},\"selection_glyph\":null,\"view\":{\"id\":\"1038\",\"type\":\"CDSView\"}},\"id\":\"1037\",\"type\":\"GlyphRenderer\"},{\"attributes\":{\"overlay\":{\"id\":\"1045\",\"type\":\"BoxAnnotation\"}},\"id\":\"1023\",\"type\":\"BoxZoomTool\"},{\"attributes\":{},\"id\":\"1024\",\"type\":\"SaveTool\"},{\"attributes\":{\"source\":{\"id\":\"1034\",\"type\":\"ColumnDataSource\"}},\"id\":\"1038\",\"type\":\"CDSView\"},{\"attributes\":{\"formatter\":{\"id\":\"1041\",\"type\":\"BasicTickFormatter\"},\"ticker\":{\"id\":\"1017\",\"type\":\"BasicTicker\"}},\"id\":\"1016\",\"type\":\"LinearAxis\"},{\"attributes\":{},\"id\":\"1025\",\"type\":\"ResetTool\"},{\"attributes\":{},\"id\":\"1041\",\"type\":\"BasicTickFormatter\"}],\"root_ids\":[\"1002\"]},\"title\":\"Bokeh Application\",\"version\":\"1.2.0\"}};\n",
       "  var render_items = [{\"docid\":\"57b05433-5e0d-47d8-af97-a0d6ed506bdc\",\"roots\":{\"1002\":\"93e46a4a-c89f-4b6b-bd92-7f33463e035e\"}}];\n",
       "  root.Bokeh.embed.embed_items_notebook(docs_json, render_items);\n",
       "\n",
       "  }\n",
       "  if (root.Bokeh !== undefined) {\n",
       "    embed_document(root);\n",
       "  } else {\n",
       "    var attempts = 0;\n",
       "    var timer = setInterval(function(root) {\n",
       "      if (root.Bokeh !== undefined) {\n",
       "        embed_document(root);\n",
       "        clearInterval(timer);\n",
       "      }\n",
       "      attempts++;\n",
       "      if (attempts > 100) {\n",
       "        console.log(\"Bokeh: ERROR: Unable to run BokehJS code because BokehJS library is missing\");\n",
       "        clearInterval(timer);\n",
       "      }\n",
       "    }, 10, root)\n",
       "  }\n",
       "})(window);"
      ],
      "application/vnd.bokehjs_exec.v0+json": ""
     },
     "metadata": {
      "application/vnd.bokehjs_exec.v0+json": {
       "id": "1002"
      }
     },
     "output_type": "display_data"
    }
   ],
   "source": [
    "gdp = data_2010.gdp\n",
    "life_expectancy = data_2010.life\n",
    "fig.circle(x = gdp, y = life_expectancy)\n",
    "show(fig)"
   ]
  },
  {
   "cell_type": "code",
   "execution_count": null,
   "metadata": {},
   "outputs": [],
   "source": []
  },
  {
   "cell_type": "code",
   "execution_count": 12,
   "metadata": {},
   "outputs": [
    {
     "data": {
      "text/html": [
       "\n",
       "\n",
       "\n",
       "\n",
       "\n",
       "\n",
       "  <div class=\"bk-root\" id=\"9753b42e-6726-4784-91c4-5aba58f5c2ee\" data-root-id=\"1002\"></div>\n"
      ]
     },
     "metadata": {},
     "output_type": "display_data"
    },
    {
     "data": {
      "application/javascript": [
       "(function(root) {\n",
       "  function embed_document(root) {\n",
       "    \n",
       "  var docs_json = {\"9cac7a0f-ea72-48ec-9ec1-14c394a7ac2d\":{\"roots\":{\"references\":[{\"attributes\":{\"below\":[{\"id\":\"1011\",\"type\":\"LogAxis\"}],\"center\":[{\"id\":\"1015\",\"type\":\"Grid\"},{\"id\":\"1020\",\"type\":\"Grid\"}],\"left\":[{\"id\":\"1016\",\"type\":\"LinearAxis\"}],\"renderers\":[{\"id\":\"1037\",\"type\":\"GlyphRenderer\"},{\"id\":\"1105\",\"type\":\"GlyphRenderer\"}],\"title\":{\"id\":\"1040\",\"type\":\"Title\"},\"toolbar\":{\"id\":\"1027\",\"type\":\"Toolbar\"},\"x_range\":{\"id\":\"1003\",\"type\":\"Range1d\"},\"x_scale\":{\"id\":\"1007\",\"type\":\"LogScale\"},\"y_range\":{\"id\":\"1005\",\"type\":\"Range1d\"},\"y_scale\":{\"id\":\"1009\",\"type\":\"LinearScale\"}},\"id\":\"1002\",\"subtype\":\"Figure\",\"type\":\"Plot\"},{\"attributes\":{},\"id\":\"1026\",\"type\":\"HelpTool\"},{\"attributes\":{\"callback\":null,\"end\":100000,\"start\":100},\"id\":\"1003\",\"type\":\"Range1d\"},{\"attributes\":{\"active_drag\":\"auto\",\"active_inspect\":\"auto\",\"active_multi\":null,\"active_scroll\":\"auto\",\"active_tap\":\"auto\",\"tools\":[{\"id\":\"1021\",\"type\":\"PanTool\"},{\"id\":\"1022\",\"type\":\"WheelZoomTool\"},{\"id\":\"1023\",\"type\":\"BoxZoomTool\"},{\"id\":\"1024\",\"type\":\"SaveTool\"},{\"id\":\"1025\",\"type\":\"ResetTool\"},{\"id\":\"1026\",\"type\":\"HelpTool\"}]},\"id\":\"1027\",\"type\":\"Toolbar\"},{\"attributes\":{},\"id\":\"1046\",\"type\":\"Selection\"},{\"attributes\":{\"callback\":null,\"end\":100},\"id\":\"1005\",\"type\":\"Range1d\"},{\"attributes\":{\"format\":\"$0,\"},\"id\":\"1118\",\"type\":\"NumeralTickFormatter\"},{\"attributes\":{},\"id\":\"1117\",\"type\":\"UnionRenderers\"},{\"attributes\":{},\"id\":\"1007\",\"type\":\"LogScale\"},{\"attributes\":{},\"id\":\"1009\",\"type\":\"LinearScale\"},{\"attributes\":{\"formatter\":{\"id\":\"1118\",\"type\":\"NumeralTickFormatter\"},\"ticker\":{\"id\":\"1012\",\"type\":\"LogTicker\"}},\"id\":\"1011\",\"type\":\"LogAxis\"},{\"attributes\":{},\"id\":\"1047\",\"type\":\"UnionRenderers\"},{\"attributes\":{\"fill_color\":{\"value\":\"#1f77b4\"},\"line_color\":{\"value\":\"#1f77b4\"},\"x\":{\"field\":\"x\"},\"y\":{\"field\":\"y\"}},\"id\":\"1103\",\"type\":\"Circle\"},{\"attributes\":{\"num_minor_ticks\":10},\"id\":\"1012\",\"type\":\"LogTicker\"},{\"attributes\":{\"ticker\":{\"id\":\"1012\",\"type\":\"LogTicker\"}},\"id\":\"1015\",\"type\":\"Grid\"},{\"attributes\":{\"fill_color\":{\"value\":\"#1f77b4\"},\"line_color\":{\"value\":\"#1f77b4\"},\"x\":{\"field\":\"x\"},\"y\":{\"field\":\"y\"}},\"id\":\"1035\",\"type\":\"Circle\"},{\"attributes\":{},\"id\":\"1017\",\"type\":\"BasicTicker\"},{\"attributes\":{\"dimension\":1,\"ticker\":{\"id\":\"1017\",\"type\":\"BasicTicker\"}},\"id\":\"1020\",\"type\":\"Grid\"},{\"attributes\":{\"bottom_units\":\"screen\",\"fill_alpha\":{\"value\":0.5},\"fill_color\":{\"value\":\"lightgrey\"},\"left_units\":\"screen\",\"level\":\"overlay\",\"line_alpha\":{\"value\":1.0},\"line_color\":{\"value\":\"black\"},\"line_dash\":[4,4],\"line_width\":{\"value\":2},\"render_mode\":\"css\",\"right_units\":\"screen\",\"top_units\":\"screen\"},\"id\":\"1045\",\"type\":\"BoxAnnotation\"},{\"attributes\":{},\"id\":\"1116\",\"type\":\"Selection\"},{\"attributes\":{\"callback\":null,\"data\":{\"x\":{\"__ndarray__\":\"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\",\"dtype\":\"float64\",\"shape\":[202]},\"y\":{\"__ndarray__\":\"dZMYBFbOTUBSuB6F6zFTQI/C9Shcp1FA1HjpJjFYSUCHFtnO99tSQMMgsHJo8VJAtMh2vp+SUkCyne+nxsNSQOn7qfHShVRArkfhehQmVED+1HjpJqFRQJzEILBysFJAokW28/0MU0Db+X5qvFxRQAAAAAAAuFJArBxaZDtnUUCcxCCwcgBUQI/C9ShcT1JAvHSTGARmTUApXI/C9cBQQLpJDAIrl1BAtvP91Hj5UkAlBoGVQ0tHQDu0yHa+R1JAd76fGi99U0BkO99PjU9SQO58PzVeiktAjWzn+6lRSkCWQ4ts57NRQJZDi2zn20pAyXa+nxo/VEC8dJMYBIZSQG8Sg8DKEUhAEoPAyqHlSEB9PzVeuvlTQJhuEoPAylNAZDvfT423UkBAYOXQIltSQAaBlUOLHE5A4XoUrkeBSEBaZDvfT51MQFK4HoXr0VNAGQRWDi3SSEDD9ShcjyJTQMl2vp8ar1NAg8DKoUXWU0AMAiuHFlFTQLx0kxgEvlNAnu+nxksnTkDl0CLb+S5SQMMgsHJo6VJAPd9PjZeeUUC4HoXrUfhRQOf7qfHSvUlAMzMzMzOjTkC8dJMYBIZSQJHtfD81vk5AjZduEoNQUUC6SQwCK/9TQGZmZmZmVlRAJQaBlUMbU0BkO99PjedSQLTIdr6fKk9Ay6FFtvMNTUCNl24Sg3hSQDRqeJpXD1RA5aWbxCBQTkAfhetRuA5UQJqZmZmZsVFAAAAAAAAYUkAbL90kBglUQG3n+6nxglNAZmZmZmbGUUB/arx0k6hLQESLbOf7yUpAmpmZmZlxUEAAAAAAAIBGQC2yne+nNlJA9ihcj8K1VEBKDAIrh45SQGiR7Xw/bVRAmpmZmZlpUECkcD0K14tRQLx0kxgERlJA1XjpJjEwUUCNbOf7qQlUQHsUrkfhUlRAT42XbhJ7VEDDILByaDlSQNrO91PjxVRAKVyPwvVYUkD0/dR46YZQQArXo3A9yk1AFK5H4Xr8UEBkO99PjUdRQMMgsHJoMVRAc2iR7Xx/UkD6fmq8dMNQQGiR7Xw/vVBAL90kBoH1UUDXo3A9CsdTQJhuEoPAykdAmG4Sg8C6TUACK4cW2a5SQKrx0k1i6FFAxUs3iUEAVEDFSzeJQfBTQBJYObTIrlJAcT0K16OwT0D4U+Olm8RKQC2yne+nnlJAYOXQItsxU0C+nxov3eRKQGZmZmZmzlNAPQrXo3AtVEDUeOkmMYhOQAwCK4cWSVJA7qfGSzehU0Av3SQGgTVTQGDl0CLbKVFAtMh2vp8iUUDNzMzMzLRQQJzvp8ZLn1JAOrTIdr6PUUAmMQisHJpIQCcxCKwcKlBAeekmMQhMT0CsHFpkO8dQQDu0yHa+J1RA/tR46SYhU0BAYOXQIutSQHsUrkfhKlRA9ihcj8J1UkDufD81XnpMQLx0kxgEpklAarx0kxhEVECgGi/dJO5SQNejcD0Kh1BAtMh2vp86U0CsHFpkO/9OQBsv3SQGAVJA7Hw/NV56UkBoke18Pw1RQH0/NV66+VJAtMh2vp/SU0DAnxov3ZRTQEw3iUFgfVNAxUs3iUG4U0BYObTIdl5SQCuHFtnO51BAF9nO91MjT0AzMzMzM5tSQEBg5dAiC1JAJzEIrBwSUkDsUbgehXtQQGiR7Xw/tVJAZDvfT413T0AlBoGVQ2tSQHOTGARWLlJAPzVeuklsRkDfT42XbnJUQOF6FK5HwVJAAAAAAADIU0B9PzVeusFQQAAAAAAAgEpAvHSTGARGS0BYObTIdr5KQESLbOf7aVRAw/UoXI9yUkAfhetRuL5OQLKd76fGk1FAbef7qfEySEAlBoGVQ1tUQEE1XrpJjFRAMQisHFqsUkCamZmZmclTQIXrUbgetVBA6SYxCKycTUBKDAIrh3ZSQLByaJHtfFBAbxKDwMrBS0BMN4lBYA1SQDMzMzMzY1FAwyCwcmjJUkCoxks3iZFSQAAAAAAAQFBARrbz/dSoTEB56SYxCAxRQM3MzMzMFFNAPQrXo3AFVECcxCCwcqBTQOx8PzVeMlNAOrTIdr73UEBkEFg5tLBRQBcEVg4tilJAj8L1KFzfUkAUg8DKod1TQClcj8L1KFJAvHSTGAS2UED4U+Olm0RPQIPAyqFFRktAZDvfT43XSkA=\",\"dtype\":\"float64\",\"shape\":[202]}},\"selected\":{\"id\":\"1046\",\"type\":\"Selection\"},\"selection_policy\":{\"id\":\"1047\",\"type\":\"UnionRenderers\"}},\"id\":\"1034\",\"type\":\"ColumnDataSource\"},{\"attributes\":{\"source\":{\"id\":\"1102\",\"type\":\"ColumnDataSource\"}},\"id\":\"1106\",\"type\":\"CDSView\"},{\"attributes\":{\"text\":\"\"},\"id\":\"1040\",\"type\":\"Title\"},{\"attributes\":{},\"id\":\"1021\",\"type\":\"PanTool\"},{\"attributes\":{},\"id\":\"1022\",\"type\":\"WheelZoomTool\"},{\"attributes\":{\"fill_alpha\":{\"value\":0.1},\"fill_color\":{\"value\":\"#1f77b4\"},\"line_alpha\":{\"value\":0.1},\"line_color\":{\"value\":\"#1f77b4\"},\"x\":{\"field\":\"x\"},\"y\":{\"field\":\"y\"}},\"id\":\"1036\",\"type\":\"Circle\"},{\"attributes\":{\"fill_alpha\":{\"value\":0.1},\"fill_color\":{\"value\":\"#1f77b4\"},\"line_alpha\":{\"value\":0.1},\"line_color\":{\"value\":\"#1f77b4\"},\"x\":{\"field\":\"x\"},\"y\":{\"field\":\"y\"}},\"id\":\"1104\",\"type\":\"Circle\"},{\"attributes\":{\"data_source\":{\"id\":\"1034\",\"type\":\"ColumnDataSource\"},\"glyph\":{\"id\":\"1035\",\"type\":\"Circle\"},\"hover_glyph\":null,\"muted_glyph\":null,\"nonselection_glyph\":{\"id\":\"1036\",\"type\":\"Circle\"},\"selection_glyph\":null,\"view\":{\"id\":\"1038\",\"type\":\"CDSView\"}},\"id\":\"1037\",\"type\":\"GlyphRenderer\"},{\"attributes\":{\"overlay\":{\"id\":\"1045\",\"type\":\"BoxAnnotation\"}},\"id\":\"1023\",\"type\":\"BoxZoomTool\"},{\"attributes\":{\"data_source\":{\"id\":\"1102\",\"type\":\"ColumnDataSource\"},\"glyph\":{\"id\":\"1103\",\"type\":\"Circle\"},\"hover_glyph\":null,\"muted_glyph\":null,\"nonselection_glyph\":{\"id\":\"1104\",\"type\":\"Circle\"},\"selection_glyph\":null,\"view\":{\"id\":\"1106\",\"type\":\"CDSView\"}},\"id\":\"1105\",\"type\":\"GlyphRenderer\"},{\"attributes\":{\"callback\":null,\"data\":{\"x\":{\"__ndarray__\":\"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\",\"dtype\":\"float64\",\"shape\":[202]},\"y\":{\"__ndarray__\":\"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\",\"dtype\":\"float64\",\"shape\":[202]}},\"selected\":{\"id\":\"1116\",\"type\":\"Selection\"},\"selection_policy\":{\"id\":\"1117\",\"type\":\"UnionRenderers\"}},\"id\":\"1102\",\"type\":\"ColumnDataSource\"},{\"attributes\":{},\"id\":\"1024\",\"type\":\"SaveTool\"},{\"attributes\":{\"source\":{\"id\":\"1034\",\"type\":\"ColumnDataSource\"}},\"id\":\"1038\",\"type\":\"CDSView\"},{\"attributes\":{\"formatter\":{\"id\":\"1041\",\"type\":\"BasicTickFormatter\"},\"ticker\":{\"id\":\"1017\",\"type\":\"BasicTicker\"}},\"id\":\"1016\",\"type\":\"LinearAxis\"},{\"attributes\":{},\"id\":\"1025\",\"type\":\"ResetTool\"},{\"attributes\":{},\"id\":\"1041\",\"type\":\"BasicTickFormatter\"}],\"root_ids\":[\"1002\"]},\"title\":\"Bokeh Application\",\"version\":\"1.2.0\"}};\n",
       "  var render_items = [{\"docid\":\"9cac7a0f-ea72-48ec-9ec1-14c394a7ac2d\",\"roots\":{\"1002\":\"9753b42e-6726-4784-91c4-5aba58f5c2ee\"}}];\n",
       "  root.Bokeh.embed.embed_items_notebook(docs_json, render_items);\n",
       "\n",
       "  }\n",
       "  if (root.Bokeh !== undefined) {\n",
       "    embed_document(root);\n",
       "  } else {\n",
       "    var attempts = 0;\n",
       "    var timer = setInterval(function(root) {\n",
       "      if (root.Bokeh !== undefined) {\n",
       "        embed_document(root);\n",
       "        clearInterval(timer);\n",
       "      }\n",
       "      attempts++;\n",
       "      if (attempts > 100) {\n",
       "        console.log(\"Bokeh: ERROR: Unable to run BokehJS code because BokehJS library is missing\");\n",
       "        clearInterval(timer);\n",
       "      }\n",
       "    }, 10, root)\n",
       "  }\n",
       "})(window);"
      ],
      "application/vnd.bokehjs_exec.v0+json": ""
     },
     "metadata": {
      "application/vnd.bokehjs_exec.v0+json": {
       "id": "1002"
      }
     },
     "output_type": "display_data"
    }
   ],
   "source": [
    "# use the formatter to format the x-axis\n",
    "gdp = data_2010.gdp\n",
    "life_expectancy = data_2010.life\n",
    "fig.circle(x = gdp, y = life_expectancy)\n",
    "fig.xaxis[0].formatter = NumeralTickFormatter(format=\"$0,\")\n",
    "show(fig)"
   ]
  },
  {
   "cell_type": "code",
   "execution_count": null,
   "metadata": {},
   "outputs": [],
   "source": []
  },
  {
   "cell_type": "markdown",
   "metadata": {},
   "source": [
    "##  ColumnDataSource"
   ]
  },
  {
   "cell_type": "code",
   "execution_count": 13,
   "metadata": {},
   "outputs": [],
   "source": [
    "source = ColumnDataSource(dict(\n",
    "    x = gdp,\n",
    "    y = life_expectancy,\n",
    "    country = data_2010.Country\n",
    "))"
   ]
  },
  {
   "cell_type": "code",
   "execution_count": 14,
   "metadata": {},
   "outputs": [
    {
     "data": {
      "text/plain": [
       "['x', 'y', 'country']"
      ]
     },
     "execution_count": 14,
     "metadata": {},
     "output_type": "execute_result"
    }
   ],
   "source": [
    "#source.data\n",
    "source.column_names"
   ]
  },
  {
   "cell_type": "code",
   "execution_count": null,
   "metadata": {},
   "outputs": [],
   "source": []
  },
  {
   "cell_type": "code",
   "execution_count": 15,
   "metadata": {},
   "outputs": [],
   "source": [
    "PLOT_OPTS = dict(\n",
    "   # height = 200,\n",
    "    x_axis_type = 'log',\n",
    "    x_range = (100, 100000),\n",
    "    y_range = (0, 100)\n",
    ")"
   ]
  },
  {
   "cell_type": "code",
   "execution_count": 16,
   "metadata": {},
   "outputs": [
    {
     "data": {
      "text/plain": [
       "{'x_axis_type': 'log', 'x_range': (100, 100000), 'y_range': (0, 100)}"
      ]
     },
     "execution_count": 16,
     "metadata": {},
     "output_type": "execute_result"
    }
   ],
   "source": [
    "PLOT_OPTS"
   ]
  },
  {
   "cell_type": "code",
   "execution_count": null,
   "metadata": {},
   "outputs": [],
   "source": []
  },
  {
   "cell_type": "code",
   "execution_count": 17,
   "metadata": {},
   "outputs": [
    {
     "data": {
      "text/html": [
       "\n",
       "\n",
       "\n",
       "\n",
       "\n",
       "\n",
       "  <div class=\"bk-root\" id=\"df4b515f-fbbc-4f97-8ab9-b81280a90ca6\" data-root-id=\"1191\"></div>\n"
      ]
     },
     "metadata": {},
     "output_type": "display_data"
    },
    {
     "data": {
      "application/javascript": [
       "(function(root) {\n",
       "  function embed_document(root) {\n",
       "    \n",
       "  var docs_json = {\"920f4dec-8192-4f50-aafe-cedd6f6fd74f\":{\"roots\":{\"references\":[{\"attributes\":{\"below\":[{\"id\":\"1200\",\"type\":\"LogAxis\"}],\"center\":[{\"id\":\"1204\",\"type\":\"Grid\"},{\"id\":\"1209\",\"type\":\"Grid\"}],\"left\":[{\"id\":\"1205\",\"type\":\"LinearAxis\"}],\"renderers\":[{\"id\":\"1226\",\"type\":\"GlyphRenderer\"}],\"title\":{\"id\":\"1241\",\"type\":\"Title\"},\"toolbar\":{\"id\":\"1216\",\"type\":\"Toolbar\"},\"x_range\":{\"id\":\"1192\",\"type\":\"Range1d\"},\"x_scale\":{\"id\":\"1196\",\"type\":\"LogScale\"},\"y_range\":{\"id\":\"1194\",\"type\":\"Range1d\"},\"y_scale\":{\"id\":\"1198\",\"type\":\"LinearScale\"}},\"id\":\"1191\",\"subtype\":\"Figure\",\"type\":\"Plot\"},{\"attributes\":{\"source\":{\"id\":\"1190\",\"type\":\"ColumnDataSource\"}},\"id\":\"1227\",\"type\":\"CDSView\"},{\"attributes\":{\"num_minor_ticks\":10},\"id\":\"1201\",\"type\":\"LogTicker\"},{\"attributes\":{\"data_source\":{\"id\":\"1190\",\"type\":\"ColumnDataSource\"},\"glyph\":{\"id\":\"1224\",\"type\":\"Circle\"},\"hover_glyph\":null,\"muted_glyph\":null,\"nonselection_glyph\":{\"id\":\"1225\",\"type\":\"Circle\"},\"selection_glyph\":null,\"view\":{\"id\":\"1227\",\"type\":\"CDSView\"}},\"id\":\"1226\",\"type\":\"GlyphRenderer\"},{\"attributes\":{\"active_drag\":\"auto\",\"active_inspect\":\"auto\",\"active_multi\":null,\"active_scroll\":\"auto\",\"active_tap\":\"auto\",\"tools\":[{\"id\":\"1210\",\"type\":\"PanTool\"},{\"id\":\"1211\",\"type\":\"WheelZoomTool\"},{\"id\":\"1212\",\"type\":\"BoxZoomTool\"},{\"id\":\"1213\",\"type\":\"SaveTool\"},{\"id\":\"1214\",\"type\":\"ResetTool\"},{\"id\":\"1215\",\"type\":\"HelpTool\"}]},\"id\":\"1216\",\"type\":\"Toolbar\"},{\"attributes\":{\"fill_color\":{\"value\":\"#1f77b4\"},\"line_color\":{\"value\":\"#1f77b4\"},\"x\":{\"field\":\"x\"},\"y\":{\"field\":\"y\"}},\"id\":\"1224\",\"type\":\"Circle\"},{\"attributes\":{\"formatter\":{\"id\":\"1228\",\"type\":\"NumeralTickFormatter\"},\"ticker\":{\"id\":\"1201\",\"type\":\"LogTicker\"}},\"id\":\"1200\",\"type\":\"LogAxis\"},{\"attributes\":{},\"id\":\"1211\",\"type\":\"WheelZoomTool\"},{\"attributes\":{\"fill_alpha\":{\"value\":0.1},\"fill_color\":{\"value\":\"#1f77b4\"},\"line_alpha\":{\"value\":0.1},\"line_color\":{\"value\":\"#1f77b4\"},\"x\":{\"field\":\"x\"},\"y\":{\"field\":\"y\"}},\"id\":\"1225\",\"type\":\"Circle\"},{\"attributes\":{},\"id\":\"1206\",\"type\":\"BasicTicker\"},{\"attributes\":{},\"id\":\"1210\",\"type\":\"PanTool\"},{\"attributes\":{},\"id\":\"1215\",\"type\":\"HelpTool\"},{\"attributes\":{\"callback\":null,\"end\":100},\"id\":\"1194\",\"type\":\"Range1d\"},{\"attributes\":{\"ticker\":{\"id\":\"1201\",\"type\":\"LogTicker\"}},\"id\":\"1204\",\"type\":\"Grid\"},{\"attributes\":{},\"id\":\"1214\",\"type\":\"ResetTool\"},{\"attributes\":{\"text\":\"\"},\"id\":\"1241\",\"type\":\"Title\"},{\"attributes\":{\"dimension\":1,\"ticker\":{\"id\":\"1206\",\"type\":\"BasicTicker\"}},\"id\":\"1209\",\"type\":\"Grid\"},{\"attributes\":{},\"id\":\"1198\",\"type\":\"LinearScale\"},{\"attributes\":{\"callback\":null,\"data\":{\"country\":[\"Afghanistan\",\"Albania\",\"Algeria\",\"Angola\",\"Antigua and Barbuda\",\"Argentina\",\"Armenia\",\"Aruba\",\"Australia\",\"Austria\",\"Azerbaijan\",\"Bahamas\",\"Bahrain\",\"Bangladesh\",\"Barbados\",\"Belarus\",\"Belgium\",\"Belize\",\"Benin\",\"Bhutan\",\"Bolivia\",\"Bosnia and Herzegovina\",\"Botswana\",\"Brazil\",\"Brunei\",\"Bulgaria\",\"Burkina Faso\",\"Burundi\",\"Cambodia\",\"Cameroon\",\"Canada\",\"Cape Verde\",\"Central African Rep.\",\"Chad\",\"Channel Islands\",\"Chile\",\"China\",\"Colombia\",\"Comoros\",\"Congo, Dem. Rep.\",\"Congo, Rep.\",\"Costa Rica\",\"Cote d'Ivoire\",\"Croatia\",\"Cuba\",\"Cyprus\",\"Czech Rep.\",\"Denmark\",\"Djibouti\",\"Dominican Rep.\",\"Ecuador\",\"Egypt\",\"El Salvador\",\"Equatorial Guinea\",\"Eritrea\",\"Estonia\",\"Ethiopia\",\"Fiji\",\"Finland\",\"France\",\"French Guiana\",\"French Polynesia\",\"Gabon\",\"Gambia\",\"Georgia\",\"Germany\",\"Ghana\",\"Greece\",\"Greenland\",\"Grenada\",\"Guadeloupe\",\"Guam\",\"Guatemala\",\"Guinea\",\"Guinea-Bissau\",\"Guyana\",\"Haiti\",\"Honduras\",\"Hong Kong, China\",\"Hungary\",\"Iceland\",\"India\",\"Indonesia\",\"Iran\",\"Iraq\",\"Ireland\",\"Israel\",\"Italy\",\"Jamaica\",\"Japan\",\"Jordan\",\"Kazakhstan\",\"Kenya\",\"Kiribati\",\"Korea, Dem. Rep.\",\"Korea, Rep.\",\"Kuwait\",\"Kyrgyzstan\",\"Laos\",\"Latvia\",\"Lebanon\",\"Lesotho\",\"Liberia\",\"Libya\",\"Lithuania\",\"Luxembourg\",\"Macao, China\",\"Macedonia, FYR\",\"Madagascar\",\"Malawi\",\"Malaysia\",\"Maldives\",\"Mali\",\"Malta\",\"Martinique\",\"Mauritania\",\"Mauritius\",\"Mayotte\",\"Mexico\",\"Micronesia, Fed. Sts.\",\"Moldova\",\"Mongolia\",\"Montenegro\",\"Morocco\",\"Mozambique\",\"Myanmar\",\"Namibia\",\"Nepal\",\"Netherlands\",\"Netherlands Antilles\",\"New Caledonia\",\"New Zealand\",\"Nicaragua\",\"Niger\",\"Nigeria\",\"Norway\",\"Oman\",\"Pakistan\",\"Panama\",\"Papua New Guinea\",\"Paraguay\",\"Peru\",\"Philippines\",\"Poland\",\"Portugal\",\"Puerto Rico\",\"Qatar\",\"Reunion\",\"Romania\",\"Russia\",\"Rwanda\",\"Saint Lucia\",\"Saint Vincent and the Grenadines\",\"Samoa\",\"Sao Tome and Principe\",\"Saudi Arabia\",\"Senegal\",\"Serbia\",\"Seychelles\",\"Sierra Leone\",\"Singapore\",\"Slovak Republic\",\"Slovenia\",\"Solomon Islands\",\"Somalia\",\"South Africa\",\"South Sudan\",\"Spain\",\"Sri Lanka\",\"Sudan\",\"Suriname\",\"Swaziland\",\"Sweden\",\"Switzerland\",\"Syria\",\"Taiwan\",\"Tajikistan\",\"Tanzania\",\"Thailand\",\"Timor-Leste\",\"Togo\",\"Tonga\",\"Trinidad and Tobago\",\"Tunisia\",\"Turkey\",\"Turkmenistan\",\"Uganda\",\"Ukraine\",\"United Arab Emirates\",\"United Kingdom\",\"United States\",\"Uruguay\",\"Uzbekistan\",\"Vanuatu\",\"Venezuela\",\"Vietnam\",\"Virgin Islands (U.S.)\",\"West Bank and Gaza\",\"Western Sahara\",\"Yemen, Rep.\",\"Zambia\",\"Zimbabwe\"],\"x\":{\"__ndarray__\":\"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\",\"dtype\":\"float64\",\"shape\":[202]},\"y\":{\"__ndarray__\":\"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\",\"dtype\":\"float64\",\"shape\":[202]}},\"selected\":{\"id\":\"1246\",\"type\":\"Selection\"},\"selection_policy\":{\"id\":\"1247\",\"type\":\"UnionRenderers\"}},\"id\":\"1190\",\"type\":\"ColumnDataSource\"},{\"attributes\":{\"callback\":null,\"end\":100000,\"start\":100},\"id\":\"1192\",\"type\":\"Range1d\"},{\"attributes\":{},\"id\":\"1242\",\"type\":\"BasicTickFormatter\"},{\"attributes\":{},\"id\":\"1213\",\"type\":\"SaveTool\"},{\"attributes\":{\"overlay\":{\"id\":\"1245\",\"type\":\"BoxAnnotation\"}},\"id\":\"1212\",\"type\":\"BoxZoomTool\"},{\"attributes\":{\"bottom_units\":\"screen\",\"fill_alpha\":{\"value\":0.5},\"fill_color\":{\"value\":\"lightgrey\"},\"left_units\":\"screen\",\"level\":\"overlay\",\"line_alpha\":{\"value\":1.0},\"line_color\":{\"value\":\"black\"},\"line_dash\":[4,4],\"line_width\":{\"value\":2},\"render_mode\":\"css\",\"right_units\":\"screen\",\"top_units\":\"screen\"},\"id\":\"1245\",\"type\":\"BoxAnnotation\"},{\"attributes\":{\"formatter\":{\"id\":\"1242\",\"type\":\"BasicTickFormatter\"},\"ticker\":{\"id\":\"1206\",\"type\":\"BasicTicker\"}},\"id\":\"1205\",\"type\":\"LinearAxis\"},{\"attributes\":{},\"id\":\"1196\",\"type\":\"LogScale\"},{\"attributes\":{\"format\":\"$0,\"},\"id\":\"1228\",\"type\":\"NumeralTickFormatter\"},{\"attributes\":{},\"id\":\"1246\",\"type\":\"Selection\"},{\"attributes\":{},\"id\":\"1247\",\"type\":\"UnionRenderers\"}],\"root_ids\":[\"1191\"]},\"title\":\"Bokeh Application\",\"version\":\"1.2.0\"}};\n",
       "  var render_items = [{\"docid\":\"920f4dec-8192-4f50-aafe-cedd6f6fd74f\",\"roots\":{\"1191\":\"df4b515f-fbbc-4f97-8ab9-b81280a90ca6\"}}];\n",
       "  root.Bokeh.embed.embed_items_notebook(docs_json, render_items);\n",
       "\n",
       "  }\n",
       "  if (root.Bokeh !== undefined) {\n",
       "    embed_document(root);\n",
       "  } else {\n",
       "    var attempts = 0;\n",
       "    var timer = setInterval(function(root) {\n",
       "      if (root.Bokeh !== undefined) {\n",
       "        embed_document(root);\n",
       "        clearInterval(timer);\n",
       "      }\n",
       "      attempts++;\n",
       "      if (attempts > 100) {\n",
       "        console.log(\"Bokeh: ERROR: Unable to run BokehJS code because BokehJS library is missing\");\n",
       "        clearInterval(timer);\n",
       "      }\n",
       "    }, 10, root)\n",
       "  }\n",
       "})(window);"
      ],
      "application/vnd.bokehjs_exec.v0+json": ""
     },
     "metadata": {
      "application/vnd.bokehjs_exec.v0+json": {
       "id": "1191"
      }
     },
     "output_type": "display_data"
    }
   ],
   "source": [
    "fig = figure(**PLOT_OPTS)\n",
    "fig.circle(x = 'x', y = 'y', source = source)\n",
    "fig.xaxis[0].formatter = NumeralTickFormatter(format=\"$0,\")\n",
    "show(fig)"
   ]
  },
  {
   "cell_type": "code",
   "execution_count": null,
   "metadata": {},
   "outputs": [],
   "source": []
  },
  {
   "cell_type": "markdown",
   "metadata": {},
   "source": [
    "###  Add a hover"
   ]
  },
  {
   "cell_type": "code",
   "execution_count": null,
   "metadata": {},
   "outputs": [],
   "source": []
  },
  {
   "cell_type": "code",
   "execution_count": 18,
   "metadata": {},
   "outputs": [
    {
     "data": {
      "text/html": [
       "\n",
       "\n",
       "\n",
       "\n",
       "\n",
       "\n",
       "  <div class=\"bk-root\" id=\"1d3db5f9-4c5b-465c-9345-66f236085096\" data-root-id=\"1297\"></div>\n"
      ]
     },
     "metadata": {},
     "output_type": "display_data"
    },
    {
     "data": {
      "application/javascript": [
       "(function(root) {\n",
       "  function embed_document(root) {\n",
       "    \n",
       "  var docs_json = {\"5646307a-b631-49ed-891e-e6951b7b38e2\":{\"roots\":{\"references\":[{\"attributes\":{\"below\":[{\"id\":\"1306\",\"type\":\"LogAxis\"}],\"center\":[{\"id\":\"1310\",\"type\":\"Grid\"},{\"id\":\"1315\",\"type\":\"Grid\"}],\"left\":[{\"id\":\"1311\",\"type\":\"LinearAxis\"}],\"renderers\":[{\"id\":\"1321\",\"type\":\"GlyphRenderer\"}],\"title\":{\"id\":\"1344\",\"type\":\"Title\"},\"toolbar\":{\"id\":\"1316\",\"type\":\"Toolbar\"},\"x_range\":{\"id\":\"1298\",\"type\":\"Range1d\"},\"x_scale\":{\"id\":\"1302\",\"type\":\"LogScale\"},\"y_range\":{\"id\":\"1300\",\"type\":\"Range1d\"},\"y_scale\":{\"id\":\"1304\",\"type\":\"LinearScale\"}},\"id\":\"1297\",\"subtype\":\"Figure\",\"type\":\"Plot\"},{\"attributes\":{},\"id\":\"1304\",\"type\":\"LinearScale\"},{\"attributes\":{\"formatter\":{\"id\":\"1323\",\"type\":\"NumeralTickFormatter\"},\"ticker\":{\"id\":\"1307\",\"type\":\"LogTicker\"}},\"id\":\"1306\",\"type\":\"LogAxis\"},{\"attributes\":{\"num_minor_ticks\":10},\"id\":\"1307\",\"type\":\"LogTicker\"},{\"attributes\":{\"callback\":null,\"end\":100000,\"start\":100},\"id\":\"1298\",\"type\":\"Range1d\"},{\"attributes\":{\"ticker\":{\"id\":\"1307\",\"type\":\"LogTicker\"}},\"id\":\"1310\",\"type\":\"Grid\"},{\"attributes\":{},\"id\":\"1312\",\"type\":\"BasicTicker\"},{\"attributes\":{\"dimension\":1,\"ticker\":{\"id\":\"1312\",\"type\":\"BasicTicker\"}},\"id\":\"1315\",\"type\":\"Grid\"},{\"attributes\":{\"callback\":null,\"end\":100},\"id\":\"1300\",\"type\":\"Range1d\"},{\"attributes\":{\"format\":\"$0,\"},\"id\":\"1323\",\"type\":\"NumeralTickFormatter\"},{\"attributes\":{\"active_drag\":\"auto\",\"active_inspect\":\"auto\",\"active_multi\":null,\"active_scroll\":\"auto\",\"active_tap\":\"auto\",\"tools\":[{\"id\":\"1296\",\"type\":\"HoverTool\"}]},\"id\":\"1316\",\"type\":\"Toolbar\"},{\"attributes\":{\"formatter\":{\"id\":\"1345\",\"type\":\"BasicTickFormatter\"},\"ticker\":{\"id\":\"1312\",\"type\":\"BasicTicker\"}},\"id\":\"1311\",\"type\":\"LinearAxis\"},{\"attributes\":{\"callback\":null,\"show_arrow\":false,\"tooltips\":\"@country\"},\"id\":\"1296\",\"type\":\"HoverTool\"},{\"attributes\":{\"fill_alpha\":{\"value\":0.6},\"fill_color\":{\"value\":\"#1f77b4\"},\"line_alpha\":{\"value\":0.6},\"line_color\":{\"value\":\"#1f77b4\"},\"size\":{\"units\":\"screen\",\"value\":15},\"x\":{\"field\":\"x\"},\"y\":{\"field\":\"y\"}},\"id\":\"1319\",\"type\":\"Circle\"},{\"attributes\":{\"fill_alpha\":{\"value\":0.1},\"fill_color\":{\"value\":\"#1f77b4\"},\"line_alpha\":{\"value\":0.1},\"line_color\":{\"value\":\"#1f77b4\"},\"size\":{\"units\":\"screen\",\"value\":15},\"x\":{\"field\":\"x\"},\"y\":{\"field\":\"y\"}},\"id\":\"1320\",\"type\":\"Circle\"},{\"attributes\":{\"data_source\":{\"id\":\"1190\",\"type\":\"ColumnDataSource\"},\"glyph\":{\"id\":\"1319\",\"type\":\"Circle\"},\"hover_glyph\":null,\"muted_glyph\":null,\"nonselection_glyph\":{\"id\":\"1320\",\"type\":\"Circle\"},\"selection_glyph\":null,\"view\":{\"id\":\"1322\",\"type\":\"CDSView\"}},\"id\":\"1321\",\"type\":\"GlyphRenderer\"},{\"attributes\":{\"callback\":null,\"data\":{\"country\":[\"Afghanistan\",\"Albania\",\"Algeria\",\"Angola\",\"Antigua and Barbuda\",\"Argentina\",\"Armenia\",\"Aruba\",\"Australia\",\"Austria\",\"Azerbaijan\",\"Bahamas\",\"Bahrain\",\"Bangladesh\",\"Barbados\",\"Belarus\",\"Belgium\",\"Belize\",\"Benin\",\"Bhutan\",\"Bolivia\",\"Bosnia and Herzegovina\",\"Botswana\",\"Brazil\",\"Brunei\",\"Bulgaria\",\"Burkina Faso\",\"Burundi\",\"Cambodia\",\"Cameroon\",\"Canada\",\"Cape Verde\",\"Central African Rep.\",\"Chad\",\"Channel Islands\",\"Chile\",\"China\",\"Colombia\",\"Comoros\",\"Congo, Dem. Rep.\",\"Congo, Rep.\",\"Costa Rica\",\"Cote d'Ivoire\",\"Croatia\",\"Cuba\",\"Cyprus\",\"Czech Rep.\",\"Denmark\",\"Djibouti\",\"Dominican Rep.\",\"Ecuador\",\"Egypt\",\"El Salvador\",\"Equatorial Guinea\",\"Eritrea\",\"Estonia\",\"Ethiopia\",\"Fiji\",\"Finland\",\"France\",\"French Guiana\",\"French Polynesia\",\"Gabon\",\"Gambia\",\"Georgia\",\"Germany\",\"Ghana\",\"Greece\",\"Greenland\",\"Grenada\",\"Guadeloupe\",\"Guam\",\"Guatemala\",\"Guinea\",\"Guinea-Bissau\",\"Guyana\",\"Haiti\",\"Honduras\",\"Hong Kong, China\",\"Hungary\",\"Iceland\",\"India\",\"Indonesia\",\"Iran\",\"Iraq\",\"Ireland\",\"Israel\",\"Italy\",\"Jamaica\",\"Japan\",\"Jordan\",\"Kazakhstan\",\"Kenya\",\"Kiribati\",\"Korea, Dem. Rep.\",\"Korea, Rep.\",\"Kuwait\",\"Kyrgyzstan\",\"Laos\",\"Latvia\",\"Lebanon\",\"Lesotho\",\"Liberia\",\"Libya\",\"Lithuania\",\"Luxembourg\",\"Macao, China\",\"Macedonia, FYR\",\"Madagascar\",\"Malawi\",\"Malaysia\",\"Maldives\",\"Mali\",\"Malta\",\"Martinique\",\"Mauritania\",\"Mauritius\",\"Mayotte\",\"Mexico\",\"Micronesia, Fed. Sts.\",\"Moldova\",\"Mongolia\",\"Montenegro\",\"Morocco\",\"Mozambique\",\"Myanmar\",\"Namibia\",\"Nepal\",\"Netherlands\",\"Netherlands Antilles\",\"New Caledonia\",\"New Zealand\",\"Nicaragua\",\"Niger\",\"Nigeria\",\"Norway\",\"Oman\",\"Pakistan\",\"Panama\",\"Papua New Guinea\",\"Paraguay\",\"Peru\",\"Philippines\",\"Poland\",\"Portugal\",\"Puerto Rico\",\"Qatar\",\"Reunion\",\"Romania\",\"Russia\",\"Rwanda\",\"Saint Lucia\",\"Saint Vincent and the Grenadines\",\"Samoa\",\"Sao Tome and Principe\",\"Saudi Arabia\",\"Senegal\",\"Serbia\",\"Seychelles\",\"Sierra Leone\",\"Singapore\",\"Slovak Republic\",\"Slovenia\",\"Solomon Islands\",\"Somalia\",\"South Africa\",\"South Sudan\",\"Spain\",\"Sri Lanka\",\"Sudan\",\"Suriname\",\"Swaziland\",\"Sweden\",\"Switzerland\",\"Syria\",\"Taiwan\",\"Tajikistan\",\"Tanzania\",\"Thailand\",\"Timor-Leste\",\"Togo\",\"Tonga\",\"Trinidad and Tobago\",\"Tunisia\",\"Turkey\",\"Turkmenistan\",\"Uganda\",\"Ukraine\",\"United Arab Emirates\",\"United Kingdom\",\"United States\",\"Uruguay\",\"Uzbekistan\",\"Vanuatu\",\"Venezuela\",\"Vietnam\",\"Virgin Islands (U.S.)\",\"West Bank and Gaza\",\"Western Sahara\",\"Yemen, Rep.\",\"Zambia\",\"Zimbabwe\"],\"x\":{\"__ndarray__\":\"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\",\"dtype\":\"float64\",\"shape\":[202]},\"y\":{\"__ndarray__\":\"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\",\"dtype\":\"float64\",\"shape\":[202]}},\"selected\":{\"id\":\"1246\",\"type\":\"Selection\"},\"selection_policy\":{\"id\":\"1247\",\"type\":\"UnionRenderers\"}},\"id\":\"1190\",\"type\":\"ColumnDataSource\"},{\"attributes\":{\"source\":{\"id\":\"1190\",\"type\":\"ColumnDataSource\"}},\"id\":\"1322\",\"type\":\"CDSView\"},{\"attributes\":{\"text\":\"\"},\"id\":\"1344\",\"type\":\"Title\"},{\"attributes\":{},\"id\":\"1302\",\"type\":\"LogScale\"},{\"attributes\":{},\"id\":\"1345\",\"type\":\"BasicTickFormatter\"},{\"attributes\":{},\"id\":\"1246\",\"type\":\"Selection\"},{\"attributes\":{},\"id\":\"1247\",\"type\":\"UnionRenderers\"}],\"root_ids\":[\"1297\"]},\"title\":\"Bokeh Application\",\"version\":\"1.2.0\"}};\n",
       "  var render_items = [{\"docid\":\"5646307a-b631-49ed-891e-e6951b7b38e2\",\"roots\":{\"1297\":\"1d3db5f9-4c5b-465c-9345-66f236085096\"}}];\n",
       "  root.Bokeh.embed.embed_items_notebook(docs_json, render_items);\n",
       "\n",
       "  }\n",
       "  if (root.Bokeh !== undefined) {\n",
       "    embed_document(root);\n",
       "  } else {\n",
       "    var attempts = 0;\n",
       "    var timer = setInterval(function(root) {\n",
       "      if (root.Bokeh !== undefined) {\n",
       "        embed_document(root);\n",
       "        clearInterval(timer);\n",
       "      }\n",
       "      attempts++;\n",
       "      if (attempts > 100) {\n",
       "        console.log(\"Bokeh: ERROR: Unable to run BokehJS code because BokehJS library is missing\");\n",
       "        clearInterval(timer);\n",
       "      }\n",
       "    }, 10, root)\n",
       "  }\n",
       "})(window);"
      ],
      "application/vnd.bokehjs_exec.v0+json": ""
     },
     "metadata": {
      "application/vnd.bokehjs_exec.v0+json": {
       "id": "1297"
      }
     },
     "output_type": "display_data"
    }
   ],
   "source": [
    "hover = HoverTool(tooltips='@country', show_arrow = False)\n",
    "fig = fig = figure(tools=[hover], **PLOT_OPTS) \n",
    "fig.circle(x = 'x', y = 'y', size = 15, alpha = 0.6, source = source)\n",
    "fig.xaxis[0].formatter = NumeralTickFormatter(format=\"$0,\")\n",
    "show(fig)"
   ]
  },
  {
   "cell_type": "code",
   "execution_count": null,
   "metadata": {},
   "outputs": [],
   "source": []
  },
  {
   "cell_type": "code",
   "execution_count": 19,
   "metadata": {},
   "outputs": [
    {
     "data": {
      "text/plain": [
       "['x', 'y', 'country', 'population', 'region']"
      ]
     },
     "execution_count": 19,
     "metadata": {},
     "output_type": "execute_result"
    }
   ],
   "source": [
    "source = ColumnDataSource(dict(\n",
    "    x = gdp,\n",
    "    y = life_expectancy,\n",
    "    country = data_2010.Country,\n",
    "    population = data_2010.population,\n",
    "    region = data_2010.region\n",
    "))\n",
    "source.column_names"
   ]
  },
  {
   "cell_type": "code",
   "execution_count": 20,
   "metadata": {},
   "outputs": [],
   "source": [
    "# YOu can also do it this way\n",
    "#source = ColumnDataSource(data.loc[2010])\n",
    "#source.column_names"
   ]
  },
  {
   "cell_type": "markdown",
   "metadata": {},
   "source": [
    "### Plot based on the size of the populations of countries"
   ]
  },
  {
   "cell_type": "code",
   "execution_count": 21,
   "metadata": {},
   "outputs": [
    {
     "data": {
      "text/html": [
       "\n",
       "\n",
       "\n",
       "\n",
       "\n",
       "\n",
       "  <div class=\"bk-root\" id=\"4100441e-8134-4072-a83f-2c9f746edc2e\" data-root-id=\"1395\"></div>\n"
      ]
     },
     "metadata": {},
     "output_type": "display_data"
    },
    {
     "data": {
      "application/javascript": [
       "(function(root) {\n",
       "  function embed_document(root) {\n",
       "    \n",
       "  var docs_json = {\"d9873a11-185c-4122-b551-319035861211\":{\"roots\":{\"references\":[{\"attributes\":{\"below\":[{\"id\":\"1406\",\"type\":\"LogAxis\"}],\"center\":[{\"id\":\"1410\",\"type\":\"Grid\"},{\"id\":\"1415\",\"type\":\"Grid\"}],\"left\":[{\"id\":\"1411\",\"type\":\"LinearAxis\"}],\"renderers\":[{\"id\":\"1421\",\"type\":\"GlyphRenderer\"}],\"title\":{\"id\":\"1396\",\"type\":\"Title\"},\"toolbar\":{\"id\":\"1416\",\"type\":\"Toolbar\"},\"toolbar_location\":\"above\",\"x_range\":{\"id\":\"1398\",\"type\":\"Range1d\"},\"x_scale\":{\"id\":\"1402\",\"type\":\"LogScale\"},\"y_range\":{\"id\":\"1400\",\"type\":\"Range1d\"},\"y_scale\":{\"id\":\"1404\",\"type\":\"LinearScale\"}},\"id\":\"1395\",\"subtype\":\"Figure\",\"type\":\"Plot\"},{\"attributes\":{},\"id\":\"1451\",\"type\":\"BasicTickFormatter\"},{\"attributes\":{\"text\":\"Life Expectancy Against GDP in 2010\"},\"id\":\"1396\",\"type\":\"Title\"},{\"attributes\":{},\"id\":\"1454\",\"type\":\"Selection\"},{\"attributes\":{\"callback\":null,\"end\":100000,\"start\":100},\"id\":\"1398\",\"type\":\"Range1d\"},{\"attributes\":{},\"id\":\"1455\",\"type\":\"UnionRenderers\"},{\"attributes\":{\"callback\":null,\"end\":100},\"id\":\"1400\",\"type\":\"Range1d\"},{\"attributes\":{\"format\":\"$0,\"},\"id\":\"1423\",\"type\":\"NumeralTickFormatter\"},{\"attributes\":{},\"id\":\"1402\",\"type\":\"LogScale\"},{\"attributes\":{},\"id\":\"1404\",\"type\":\"LinearScale\"},{\"attributes\":{\"callback\":null,\"show_arrow\":false,\"tooltips\":\"@country\"},\"id\":\"1394\",\"type\":\"HoverTool\"},{\"attributes\":{\"formatter\":{\"id\":\"1423\",\"type\":\"NumeralTickFormatter\"},\"ticker\":{\"id\":\"1407\",\"type\":\"LogTicker\"}},\"id\":\"1406\",\"type\":\"LogAxis\"},{\"attributes\":{\"num_minor_ticks\":10},\"id\":\"1407\",\"type\":\"LogTicker\"},{\"attributes\":{\"ticker\":{\"id\":\"1407\",\"type\":\"LogTicker\"}},\"id\":\"1410\",\"type\":\"Grid\"},{\"attributes\":{\"callback\":null,\"data\":{\"country\":[\"Afghanistan\",\"Albania\",\"Algeria\",\"Angola\",\"Antigua and Barbuda\",\"Argentina\",\"Armenia\",\"Aruba\",\"Australia\",\"Austria\",\"Azerbaijan\",\"Bahamas\",\"Bahrain\",\"Bangladesh\",\"Barbados\",\"Belarus\",\"Belgium\",\"Belize\",\"Benin\",\"Bhutan\",\"Bolivia\",\"Bosnia and Herzegovina\",\"Botswana\",\"Brazil\",\"Brunei\",\"Bulgaria\",\"Burkina Faso\",\"Burundi\",\"Cambodia\",\"Cameroon\",\"Canada\",\"Cape Verde\",\"Central African Rep.\",\"Chad\",\"Channel Islands\",\"Chile\",\"China\",\"Colombia\",\"Comoros\",\"Congo, Dem. Rep.\",\"Congo, Rep.\",\"Costa Rica\",\"Cote d'Ivoire\",\"Croatia\",\"Cuba\",\"Cyprus\",\"Czech Rep.\",\"Denmark\",\"Djibouti\",\"Dominican Rep.\",\"Ecuador\",\"Egypt\",\"El Salvador\",\"Equatorial Guinea\",\"Eritrea\",\"Estonia\",\"Ethiopia\",\"Fiji\",\"Finland\",\"France\",\"French Guiana\",\"French Polynesia\",\"Gabon\",\"Gambia\",\"Georgia\",\"Germany\",\"Ghana\",\"Greece\",\"Greenland\",\"Grenada\",\"Guadeloupe\",\"Guam\",\"Guatemala\",\"Guinea\",\"Guinea-Bissau\",\"Guyana\",\"Haiti\",\"Honduras\",\"Hong Kong, China\",\"Hungary\",\"Iceland\",\"India\",\"Indonesia\",\"Iran\",\"Iraq\",\"Ireland\",\"Israel\",\"Italy\",\"Jamaica\",\"Japan\",\"Jordan\",\"Kazakhstan\",\"Kenya\",\"Kiribati\",\"Korea, Dem. Rep.\",\"Korea, Rep.\",\"Kuwait\",\"Kyrgyzstan\",\"Laos\",\"Latvia\",\"Lebanon\",\"Lesotho\",\"Liberia\",\"Libya\",\"Lithuania\",\"Luxembourg\",\"Macao, China\",\"Macedonia, FYR\",\"Madagascar\",\"Malawi\",\"Malaysia\",\"Maldives\",\"Mali\",\"Malta\",\"Martinique\",\"Mauritania\",\"Mauritius\",\"Mayotte\",\"Mexico\",\"Micronesia, Fed. Sts.\",\"Moldova\",\"Mongolia\",\"Montenegro\",\"Morocco\",\"Mozambique\",\"Myanmar\",\"Namibia\",\"Nepal\",\"Netherlands\",\"Netherlands Antilles\",\"New Caledonia\",\"New Zealand\",\"Nicaragua\",\"Niger\",\"Nigeria\",\"Norway\",\"Oman\",\"Pakistan\",\"Panama\",\"Papua New Guinea\",\"Paraguay\",\"Peru\",\"Philippines\",\"Poland\",\"Portugal\",\"Puerto Rico\",\"Qatar\",\"Reunion\",\"Romania\",\"Russia\",\"Rwanda\",\"Saint Lucia\",\"Saint Vincent and the Grenadines\",\"Samoa\",\"Sao Tome and Principe\",\"Saudi Arabia\",\"Senegal\",\"Serbia\",\"Seychelles\",\"Sierra Leone\",\"Singapore\",\"Slovak Republic\",\"Slovenia\",\"Solomon Islands\",\"Somalia\",\"South Africa\",\"South Sudan\",\"Spain\",\"Sri Lanka\",\"Sudan\",\"Suriname\",\"Swaziland\",\"Sweden\",\"Switzerland\",\"Syria\",\"Taiwan\",\"Tajikistan\",\"Tanzania\",\"Thailand\",\"Timor-Leste\",\"Togo\",\"Tonga\",\"Trinidad and Tobago\",\"Tunisia\",\"Turkey\",\"Turkmenistan\",\"Uganda\",\"Ukraine\",\"United Arab Emirates\",\"United Kingdom\",\"United States\",\"Uruguay\",\"Uzbekistan\",\"Vanuatu\",\"Venezuela\",\"Vietnam\",\"Virgin Islands (U.S.)\",\"West Bank and Gaza\",\"Western Sahara\",\"Yemen, Rep.\",\"Zambia\",\"Zimbabwe\"],\"population\":{\"__ndarray__\":\"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\",\"dtype\":\"float64\",\"shape\":[202]},\"region\":[\"South Asia\",\"Europe & Central Asia\",\"Middle East & North Africa\",\"Sub-Saharan Africa\",\"America\",\"America\",\"Europe & Central Asia\",\"America\",\"East Asia & Pacific\",\"Europe & Central Asia\",\"Europe & Central Asia\",\"America\",\"Middle East & North Africa\",\"South Asia\",\"America\",\"Europe & Central Asia\",\"Europe & Central Asia\",\"America\",\"Sub-Saharan Africa\",\"South Asia\",\"America\",\"Europe & Central Asia\",\"Sub-Saharan Africa\",\"America\",\"East Asia & Pacific\",\"Europe & Central Asia\",\"Sub-Saharan Africa\",\"Sub-Saharan Africa\",\"East Asia & Pacific\",\"Sub-Saharan Africa\",\"America\",\"Sub-Saharan Africa\",\"Sub-Saharan Africa\",\"Sub-Saharan Africa\",\"Europe & Central Asia\",\"America\",\"East Asia & Pacific\",\"America\",\"Sub-Saharan Africa\",\"Sub-Saharan Africa\",\"Sub-Saharan Africa\",\"America\",\"Sub-Saharan Africa\",\"Europe & Central Asia\",\"America\",\"Europe & Central Asia\",\"Europe & Central Asia\",\"Europe & Central Asia\",\"Middle East & North Africa\",\"America\",\"America\",\"Middle East & North Africa\",\"America\",\"Sub-Saharan Africa\",\"Sub-Saharan Africa\",\"Europe & Central Asia\",\"Sub-Saharan Africa\",\"East Asia & Pacific\",\"Europe & Central Asia\",\"Europe & Central Asia\",\"America\",\"East Asia & Pacific\",\"Sub-Saharan Africa\",\"Sub-Saharan Africa\",\"Europe & Central Asia\",\"Europe & Central Asia\",\"Sub-Saharan Africa\",\"Europe & Central Asia\",\"Europe & Central Asia\",\"America\",\"America\",\"East Asia & Pacific\",\"America\",\"Sub-Saharan Africa\",\"Sub-Saharan Africa\",\"America\",\"America\",\"America\",\"East Asia & Pacific\",\"Europe & Central Asia\",\"Europe & Central Asia\",\"South Asia\",\"East Asia & Pacific\",\"Middle East & North Africa\",\"Middle East & North Africa\",\"Europe & Central Asia\",\"Middle East & North Africa\",\"Europe & Central Asia\",\"America\",\"East Asia & Pacific\",\"Middle East & North Africa\",\"Europe & Central Asia\",\"Sub-Saharan Africa\",\"East Asia & Pacific\",\"East Asia & Pacific\",\"East Asia & Pacific\",\"Middle East & North Africa\",\"Europe & Central Asia\",\"East Asia & Pacific\",\"Europe & Central Asia\",\"Middle East & North Africa\",\"Sub-Saharan Africa\",\"Sub-Saharan Africa\",\"Middle East & North Africa\",\"Europe & Central Asia\",\"Europe & Central Asia\",\"East Asia & Pacific\",\"Europe & Central Asia\",\"Sub-Saharan Africa\",\"Sub-Saharan Africa\",\"East Asia & Pacific\",\"South Asia\",\"Sub-Saharan Africa\",\"Europe & Central Asia\",\"America\",\"Sub-Saharan Africa\",\"Sub-Saharan Africa\",\"Sub-Saharan Africa\",\"America\",\"East Asia & Pacific\",\"Europe & Central Asia\",\"East Asia & Pacific\",\"Europe & Central Asia\",\"Middle East & North Africa\",\"Sub-Saharan Africa\",\"East Asia & Pacific\",\"Sub-Saharan Africa\",\"South Asia\",\"Europe & Central Asia\",\"America\",\"East Asia & Pacific\",\"East Asia & Pacific\",\"America\",\"Sub-Saharan Africa\",\"Sub-Saharan Africa\",\"Europe & Central Asia\",\"Middle East & North Africa\",\"South Asia\",\"America\",\"East Asia & Pacific\",\"America\",\"America\",\"East Asia & Pacific\",\"Europe & Central Asia\",\"Europe & Central Asia\",\"America\",\"Middle East & North Africa\",\"Sub-Saharan Africa\",\"Europe & Central Asia\",\"Europe & Central Asia\",\"Sub-Saharan Africa\",\"America\",\"America\",\"East Asia & Pacific\",\"Sub-Saharan Africa\",\"Middle East & North Africa\",\"Sub-Saharan Africa\",\"Europe & Central Asia\",\"Sub-Saharan Africa\",\"Sub-Saharan Africa\",\"East Asia & Pacific\",\"Europe & Central Asia\",\"Europe & Central Asia\",\"East Asia & Pacific\",\"Sub-Saharan Africa\",\"Sub-Saharan Africa\",\"Sub-Saharan Africa\",\"Europe & Central Asia\",\"South Asia\",\"Sub-Saharan Africa\",\"America\",\"Sub-Saharan Africa\",\"Europe & Central Asia\",\"Europe & Central Asia\",\"Middle East & North Africa\",\"East Asia & Pacific\",\"Europe & Central Asia\",\"Sub-Saharan Africa\",\"East Asia & Pacific\",\"East Asia & Pacific\",\"Sub-Saharan Africa\",\"East Asia & Pacific\",\"America\",\"Middle East & North Africa\",\"Europe & Central Asia\",\"Europe & Central Asia\",\"Sub-Saharan Africa\",\"Europe & Central Asia\",\"Middle East & North Africa\",\"Europe & Central Asia\",\"America\",\"America\",\"Europe & Central Asia\",\"East Asia & Pacific\",\"America\",\"East Asia & Pacific\",\"America\",\"Middle East & North Africa\",\"Middle East & North Africa\",\"Middle East & North Africa\",\"Sub-Saharan Africa\",\"Sub-Saharan Africa\"],\"x\":{\"__ndarray__\":\"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\",\"dtype\":\"float64\",\"shape\":[202]},\"y\":{\"__ndarray__\":\"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\",\"dtype\":\"float64\",\"shape\":[202]}},\"selected\":{\"id\":\"1454\",\"type\":\"Selection\"},\"selection_policy\":{\"id\":\"1455\",\"type\":\"UnionRenderers\"}},\"id\":\"1392\",\"type\":\"ColumnDataSource\"},{\"attributes\":{},\"id\":\"1412\",\"type\":\"BasicTicker\"},{\"attributes\":{\"dimension\":1,\"ticker\":{\"id\":\"1412\",\"type\":\"BasicTicker\"}},\"id\":\"1415\",\"type\":\"Grid\"},{\"attributes\":{\"active_drag\":\"auto\",\"active_inspect\":\"auto\",\"active_multi\":null,\"active_scroll\":\"auto\",\"active_tap\":\"auto\",\"tools\":[{\"id\":\"1394\",\"type\":\"HoverTool\"}]},\"id\":\"1416\",\"type\":\"Toolbar\"},{\"attributes\":{\"fill_alpha\":{\"value\":0.6},\"fill_color\":{\"value\":\"#1f77b4\"},\"line_alpha\":{\"value\":0.6},\"line_color\":{\"value\":\"#1f77b4\"},\"size\":{\"field\":\"population\",\"transform\":{\"id\":\"1393\",\"type\":\"LinearInterpolator\"},\"units\":\"screen\"},\"x\":{\"field\":\"x\"},\"y\":{\"field\":\"y\"}},\"id\":\"1419\",\"type\":\"Circle\"},{\"attributes\":{\"data\":null,\"x\":[1170.0,1359368470.0],\"y\":[5,50]},\"id\":\"1393\",\"type\":\"LinearInterpolator\"},{\"attributes\":{\"fill_alpha\":{\"value\":0.1},\"fill_color\":{\"value\":\"#1f77b4\"},\"line_alpha\":{\"value\":0.1},\"line_color\":{\"value\":\"#1f77b4\"},\"size\":{\"field\":\"population\",\"transform\":{\"id\":\"1393\",\"type\":\"LinearInterpolator\"},\"units\":\"screen\"},\"x\":{\"field\":\"x\"},\"y\":{\"field\":\"y\"}},\"id\":\"1420\",\"type\":\"Circle\"},{\"attributes\":{\"formatter\":{\"id\":\"1451\",\"type\":\"BasicTickFormatter\"},\"ticker\":{\"id\":\"1412\",\"type\":\"BasicTicker\"}},\"id\":\"1411\",\"type\":\"LinearAxis\"},{\"attributes\":{\"data_source\":{\"id\":\"1392\",\"type\":\"ColumnDataSource\"},\"glyph\":{\"id\":\"1419\",\"type\":\"Circle\"},\"hover_glyph\":null,\"muted_glyph\":null,\"nonselection_glyph\":{\"id\":\"1420\",\"type\":\"Circle\"},\"selection_glyph\":null,\"view\":{\"id\":\"1422\",\"type\":\"CDSView\"}},\"id\":\"1421\",\"type\":\"GlyphRenderer\"},{\"attributes\":{\"source\":{\"id\":\"1392\",\"type\":\"ColumnDataSource\"}},\"id\":\"1422\",\"type\":\"CDSView\"}],\"root_ids\":[\"1395\"]},\"title\":\"Bokeh Application\",\"version\":\"1.2.0\"}};\n",
       "  var render_items = [{\"docid\":\"d9873a11-185c-4122-b551-319035861211\",\"roots\":{\"1395\":\"4100441e-8134-4072-a83f-2c9f746edc2e\"}}];\n",
       "  root.Bokeh.embed.embed_items_notebook(docs_json, render_items);\n",
       "\n",
       "  }\n",
       "  if (root.Bokeh !== undefined) {\n",
       "    embed_document(root);\n",
       "  } else {\n",
       "    var attempts = 0;\n",
       "    var timer = setInterval(function(root) {\n",
       "      if (root.Bokeh !== undefined) {\n",
       "        embed_document(root);\n",
       "        clearInterval(timer);\n",
       "      }\n",
       "      attempts++;\n",
       "      if (attempts > 100) {\n",
       "        console.log(\"Bokeh: ERROR: Unable to run BokehJS code because BokehJS library is missing\");\n",
       "        clearInterval(timer);\n",
       "      }\n",
       "    }, 10, root)\n",
       "  }\n",
       "})(window);"
      ],
      "application/vnd.bokehjs_exec.v0+json": ""
     },
     "metadata": {
      "application/vnd.bokehjs_exec.v0+json": {
       "id": "1395"
      }
     },
     "output_type": "display_data"
    }
   ],
   "source": [
    "\n",
    "\n",
    "size_mapper = LinearInterpolator(\n",
    "    x = [data.population.min(), data.population.max()],\n",
    "    y = [5, 50]\n",
    ")\n",
    "\n",
    "hover = HoverTool(tooltips='@country', show_arrow = False)\n",
    "fig = fig = figure(\n",
    "    title = 'Life Expectancy Against GDP in 2010',\n",
    "    toolbar_location = 'above',\n",
    "    tools=[hover], \n",
    "    **PLOT_OPTS\n",
    ") \n",
    "fig.circle(x = 'x', \n",
    "           y = 'y', \n",
    "           size = {\n",
    "               'field' : 'population',\n",
    "               'transform' : size_mapper\n",
    "           }, \n",
    "           alpha = 0.6, \n",
    "           source = source\n",
    "          )\n",
    "fig.xaxis[0].formatter = NumeralTickFormatter(format=\"$0,\")\n",
    "show(fig)"
   ]
  },
  {
   "cell_type": "code",
   "execution_count": null,
   "metadata": {},
   "outputs": [],
   "source": []
  },
  {
   "cell_type": "markdown",
   "metadata": {},
   "source": [
    "###  Add colours to differentiate countries"
   ]
  },
  {
   "cell_type": "code",
   "execution_count": null,
   "metadata": {},
   "outputs": [],
   "source": []
  },
  {
   "cell_type": "code",
   "execution_count": 22,
   "metadata": {},
   "outputs": [
    {
     "data": {
      "text/plain": [
       "['#3288bd', '#99d594', '#e6f598', '#fee08b', '#fc8d59', '#d53e4f']"
      ]
     },
     "execution_count": 22,
     "metadata": {},
     "output_type": "execute_result"
    }
   ],
   "source": [
    "from bokeh.palettes import Spectral6\n",
    "Spectral6"
   ]
  },
  {
   "cell_type": "code",
   "execution_count": 23,
   "metadata": {},
   "outputs": [
    {
     "data": {
      "text/plain": [
       "['South Asia',\n",
       " 'Europe & Central Asia',\n",
       " 'Middle East & North Africa',\n",
       " 'Sub-Saharan Africa',\n",
       " 'America',\n",
       " 'East Asia & Pacific']"
      ]
     },
     "execution_count": 23,
     "metadata": {},
     "output_type": "execute_result"
    }
   ],
   "source": [
    "#Get all the regions in the data; unique\n",
    "list(data.region.unique())"
   ]
  },
  {
   "cell_type": "code",
   "execution_count": 24,
   "metadata": {},
   "outputs": [],
   "source": [
    "from bokeh.models import CategoricalColorMapper"
   ]
  },
  {
   "cell_type": "code",
   "execution_count": 25,
   "metadata": {},
   "outputs": [
    {
     "data": {
      "text/html": [
       "\n",
       "\n",
       "\n",
       "\n",
       "\n",
       "\n",
       "  <div class=\"bk-root\" id=\"83a028ab-c4d1-4baa-aec7-06fd7a2da98b\" data-root-id=\"1495\"></div>\n"
      ]
     },
     "metadata": {},
     "output_type": "display_data"
    },
    {
     "data": {
      "application/javascript": [
       "(function(root) {\n",
       "  function embed_document(root) {\n",
       "    \n",
       "  var docs_json = {\"cb231be0-14bb-47c7-8643-bef76ac9c8f0\":{\"roots\":{\"references\":[{\"attributes\":{\"below\":[{\"id\":\"1506\",\"type\":\"LogAxis\"}],\"center\":[{\"id\":\"1510\",\"type\":\"Grid\"},{\"id\":\"1515\",\"type\":\"Grid\"}],\"left\":[{\"id\":\"1511\",\"type\":\"LinearAxis\"}],\"renderers\":[{\"id\":\"1521\",\"type\":\"GlyphRenderer\"}],\"title\":{\"id\":\"1496\",\"type\":\"Title\"},\"toolbar\":{\"id\":\"1516\",\"type\":\"Toolbar\"},\"toolbar_location\":\"above\",\"x_range\":{\"id\":\"1498\",\"type\":\"Range1d\"},\"x_scale\":{\"id\":\"1502\",\"type\":\"LogScale\"},\"y_range\":{\"id\":\"1500\",\"type\":\"Range1d\"},\"y_scale\":{\"id\":\"1504\",\"type\":\"LinearScale\"}},\"id\":\"1495\",\"subtype\":\"Figure\",\"type\":\"Plot\"},{\"attributes\":{\"active_drag\":\"auto\",\"active_inspect\":\"auto\",\"active_multi\":null,\"active_scroll\":\"auto\",\"active_tap\":\"auto\",\"tools\":[{\"id\":\"1494\",\"type\":\"HoverTool\"}]},\"id\":\"1516\",\"type\":\"Toolbar\"},{\"attributes\":{},\"id\":\"1557\",\"type\":\"BasicTickFormatter\"},{\"attributes\":{},\"id\":\"1454\",\"type\":\"Selection\"},{\"attributes\":{\"fill_alpha\":{\"value\":0.6},\"fill_color\":{\"field\":\"region\",\"transform\":{\"id\":\"1493\",\"type\":\"CategoricalColorMapper\"}},\"line_alpha\":{\"value\":0.6},\"line_color\":{\"field\":\"region\",\"transform\":{\"id\":\"1493\",\"type\":\"CategoricalColorMapper\"}},\"size\":{\"field\":\"population\",\"transform\":{\"id\":\"1492\",\"type\":\"LinearInterpolator\"},\"units\":\"screen\"},\"x\":{\"field\":\"x\"},\"y\":{\"field\":\"y\"}},\"id\":\"1519\",\"type\":\"Circle\"},{\"attributes\":{},\"id\":\"1455\",\"type\":\"UnionRenderers\"},{\"attributes\":{\"fill_alpha\":{\"value\":0.1},\"fill_color\":{\"value\":\"#1f77b4\"},\"line_alpha\":{\"value\":0.1},\"line_color\":{\"value\":\"#1f77b4\"},\"size\":{\"field\":\"population\",\"transform\":{\"id\":\"1492\",\"type\":\"LinearInterpolator\"},\"units\":\"screen\"},\"x\":{\"field\":\"x\"},\"y\":{\"field\":\"y\"}},\"id\":\"1520\",\"type\":\"Circle\"},{\"attributes\":{\"data\":null,\"x\":[1170.0,1359368470.0],\"y\":[5,50]},\"id\":\"1492\",\"type\":\"LinearInterpolator\"},{\"attributes\":{\"data_source\":{\"id\":\"1392\",\"type\":\"ColumnDataSource\"},\"glyph\":{\"id\":\"1519\",\"type\":\"Circle\"},\"hover_glyph\":null,\"muted_glyph\":null,\"nonselection_glyph\":{\"id\":\"1520\",\"type\":\"Circle\"},\"selection_glyph\":null,\"view\":{\"id\":\"1522\",\"type\":\"CDSView\"}},\"id\":\"1521\",\"type\":\"GlyphRenderer\"},{\"attributes\":{\"callback\":null,\"show_arrow\":false,\"tooltips\":\"@country\"},\"id\":\"1494\",\"type\":\"HoverTool\"},{\"attributes\":{\"source\":{\"id\":\"1392\",\"type\":\"ColumnDataSource\"}},\"id\":\"1522\",\"type\":\"CDSView\"},{\"attributes\":{\"formatter\":{\"id\":\"1557\",\"type\":\"BasicTickFormatter\"},\"ticker\":{\"id\":\"1512\",\"type\":\"BasicTicker\"}},\"id\":\"1511\",\"type\":\"LinearAxis\"},{\"attributes\":{\"format\":\"$0,\"},\"id\":\"1523\",\"type\":\"NumeralTickFormatter\"},{\"attributes\":{\"callback\":null,\"data\":{\"country\":[\"Afghanistan\",\"Albania\",\"Algeria\",\"Angola\",\"Antigua and Barbuda\",\"Argentina\",\"Armenia\",\"Aruba\",\"Australia\",\"Austria\",\"Azerbaijan\",\"Bahamas\",\"Bahrain\",\"Bangladesh\",\"Barbados\",\"Belarus\",\"Belgium\",\"Belize\",\"Benin\",\"Bhutan\",\"Bolivia\",\"Bosnia and Herzegovina\",\"Botswana\",\"Brazil\",\"Brunei\",\"Bulgaria\",\"Burkina Faso\",\"Burundi\",\"Cambodia\",\"Cameroon\",\"Canada\",\"Cape Verde\",\"Central African Rep.\",\"Chad\",\"Channel Islands\",\"Chile\",\"China\",\"Colombia\",\"Comoros\",\"Congo, Dem. Rep.\",\"Congo, Rep.\",\"Costa Rica\",\"Cote d'Ivoire\",\"Croatia\",\"Cuba\",\"Cyprus\",\"Czech Rep.\",\"Denmark\",\"Djibouti\",\"Dominican Rep.\",\"Ecuador\",\"Egypt\",\"El Salvador\",\"Equatorial Guinea\",\"Eritrea\",\"Estonia\",\"Ethiopia\",\"Fiji\",\"Finland\",\"France\",\"French Guiana\",\"French Polynesia\",\"Gabon\",\"Gambia\",\"Georgia\",\"Germany\",\"Ghana\",\"Greece\",\"Greenland\",\"Grenada\",\"Guadeloupe\",\"Guam\",\"Guatemala\",\"Guinea\",\"Guinea-Bissau\",\"Guyana\",\"Haiti\",\"Honduras\",\"Hong Kong, China\",\"Hungary\",\"Iceland\",\"India\",\"Indonesia\",\"Iran\",\"Iraq\",\"Ireland\",\"Israel\",\"Italy\",\"Jamaica\",\"Japan\",\"Jordan\",\"Kazakhstan\",\"Kenya\",\"Kiribati\",\"Korea, Dem. Rep.\",\"Korea, Rep.\",\"Kuwait\",\"Kyrgyzstan\",\"Laos\",\"Latvia\",\"Lebanon\",\"Lesotho\",\"Liberia\",\"Libya\",\"Lithuania\",\"Luxembourg\",\"Macao, China\",\"Macedonia, FYR\",\"Madagascar\",\"Malawi\",\"Malaysia\",\"Maldives\",\"Mali\",\"Malta\",\"Martinique\",\"Mauritania\",\"Mauritius\",\"Mayotte\",\"Mexico\",\"Micronesia, Fed. Sts.\",\"Moldova\",\"Mongolia\",\"Montenegro\",\"Morocco\",\"Mozambique\",\"Myanmar\",\"Namibia\",\"Nepal\",\"Netherlands\",\"Netherlands Antilles\",\"New Caledonia\",\"New Zealand\",\"Nicaragua\",\"Niger\",\"Nigeria\",\"Norway\",\"Oman\",\"Pakistan\",\"Panama\",\"Papua New Guinea\",\"Paraguay\",\"Peru\",\"Philippines\",\"Poland\",\"Portugal\",\"Puerto Rico\",\"Qatar\",\"Reunion\",\"Romania\",\"Russia\",\"Rwanda\",\"Saint Lucia\",\"Saint Vincent and the Grenadines\",\"Samoa\",\"Sao Tome and Principe\",\"Saudi Arabia\",\"Senegal\",\"Serbia\",\"Seychelles\",\"Sierra Leone\",\"Singapore\",\"Slovak Republic\",\"Slovenia\",\"Solomon Islands\",\"Somalia\",\"South Africa\",\"South Sudan\",\"Spain\",\"Sri Lanka\",\"Sudan\",\"Suriname\",\"Swaziland\",\"Sweden\",\"Switzerland\",\"Syria\",\"Taiwan\",\"Tajikistan\",\"Tanzania\",\"Thailand\",\"Timor-Leste\",\"Togo\",\"Tonga\",\"Trinidad and Tobago\",\"Tunisia\",\"Turkey\",\"Turkmenistan\",\"Uganda\",\"Ukraine\",\"United Arab Emirates\",\"United Kingdom\",\"United States\",\"Uruguay\",\"Uzbekistan\",\"Vanuatu\",\"Venezuela\",\"Vietnam\",\"Virgin Islands (U.S.)\",\"West Bank and Gaza\",\"Western Sahara\",\"Yemen, Rep.\",\"Zambia\",\"Zimbabwe\"],\"population\":{\"__ndarray__\":\"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\",\"dtype\":\"float64\",\"shape\":[202]},\"region\":[\"South Asia\",\"Europe & Central Asia\",\"Middle East & North Africa\",\"Sub-Saharan Africa\",\"America\",\"America\",\"Europe & Central Asia\",\"America\",\"East Asia & Pacific\",\"Europe & Central Asia\",\"Europe & Central Asia\",\"America\",\"Middle East & North Africa\",\"South Asia\",\"America\",\"Europe & Central Asia\",\"Europe & Central Asia\",\"America\",\"Sub-Saharan Africa\",\"South Asia\",\"America\",\"Europe & Central Asia\",\"Sub-Saharan Africa\",\"America\",\"East Asia & Pacific\",\"Europe & Central Asia\",\"Sub-Saharan Africa\",\"Sub-Saharan Africa\",\"East Asia & Pacific\",\"Sub-Saharan Africa\",\"America\",\"Sub-Saharan Africa\",\"Sub-Saharan Africa\",\"Sub-Saharan Africa\",\"Europe & Central Asia\",\"America\",\"East Asia & Pacific\",\"America\",\"Sub-Saharan Africa\",\"Sub-Saharan Africa\",\"Sub-Saharan Africa\",\"America\",\"Sub-Saharan Africa\",\"Europe & Central Asia\",\"America\",\"Europe & Central Asia\",\"Europe & Central Asia\",\"Europe & Central Asia\",\"Middle East & North Africa\",\"America\",\"America\",\"Middle East & North Africa\",\"America\",\"Sub-Saharan Africa\",\"Sub-Saharan Africa\",\"Europe & Central Asia\",\"Sub-Saharan Africa\",\"East Asia & Pacific\",\"Europe & Central Asia\",\"Europe & Central Asia\",\"America\",\"East Asia & Pacific\",\"Sub-Saharan Africa\",\"Sub-Saharan Africa\",\"Europe & Central Asia\",\"Europe & Central Asia\",\"Sub-Saharan Africa\",\"Europe & Central Asia\",\"Europe & Central Asia\",\"America\",\"America\",\"East Asia & Pacific\",\"America\",\"Sub-Saharan Africa\",\"Sub-Saharan Africa\",\"America\",\"America\",\"America\",\"East Asia & Pacific\",\"Europe & Central Asia\",\"Europe & Central Asia\",\"South Asia\",\"East Asia & Pacific\",\"Middle East & North Africa\",\"Middle East & North Africa\",\"Europe & Central Asia\",\"Middle East & North Africa\",\"Europe & Central Asia\",\"America\",\"East Asia & Pacific\",\"Middle East & North Africa\",\"Europe & Central Asia\",\"Sub-Saharan Africa\",\"East Asia & Pacific\",\"East Asia & Pacific\",\"East Asia & Pacific\",\"Middle East & North Africa\",\"Europe & Central Asia\",\"East Asia & Pacific\",\"Europe & Central Asia\",\"Middle East & North Africa\",\"Sub-Saharan Africa\",\"Sub-Saharan Africa\",\"Middle East & North Africa\",\"Europe & Central Asia\",\"Europe & Central Asia\",\"East Asia & Pacific\",\"Europe & Central Asia\",\"Sub-Saharan Africa\",\"Sub-Saharan Africa\",\"East Asia & Pacific\",\"South Asia\",\"Sub-Saharan Africa\",\"Europe & Central Asia\",\"America\",\"Sub-Saharan Africa\",\"Sub-Saharan Africa\",\"Sub-Saharan Africa\",\"America\",\"East Asia & Pacific\",\"Europe & Central Asia\",\"East Asia & Pacific\",\"Europe & Central Asia\",\"Middle East & North Africa\",\"Sub-Saharan Africa\",\"East Asia & Pacific\",\"Sub-Saharan Africa\",\"South Asia\",\"Europe & Central Asia\",\"America\",\"East Asia & Pacific\",\"East Asia & Pacific\",\"America\",\"Sub-Saharan Africa\",\"Sub-Saharan Africa\",\"Europe & Central Asia\",\"Middle East & North Africa\",\"South Asia\",\"America\",\"East Asia & Pacific\",\"America\",\"America\",\"East Asia & Pacific\",\"Europe & Central Asia\",\"Europe & Central Asia\",\"America\",\"Middle East & North Africa\",\"Sub-Saharan Africa\",\"Europe & Central Asia\",\"Europe & Central Asia\",\"Sub-Saharan Africa\",\"America\",\"America\",\"East Asia & Pacific\",\"Sub-Saharan Africa\",\"Middle East & North Africa\",\"Sub-Saharan Africa\",\"Europe & Central Asia\",\"Sub-Saharan Africa\",\"Sub-Saharan Africa\",\"East Asia & Pacific\",\"Europe & Central Asia\",\"Europe & Central Asia\",\"East Asia & Pacific\",\"Sub-Saharan Africa\",\"Sub-Saharan Africa\",\"Sub-Saharan Africa\",\"Europe & Central Asia\",\"South Asia\",\"Sub-Saharan Africa\",\"America\",\"Sub-Saharan Africa\",\"Europe & Central Asia\",\"Europe & Central Asia\",\"Middle East & North Africa\",\"East Asia & Pacific\",\"Europe & Central Asia\",\"Sub-Saharan Africa\",\"East Asia & Pacific\",\"East Asia & Pacific\",\"Sub-Saharan Africa\",\"East Asia & Pacific\",\"America\",\"Middle East & North Africa\",\"Europe & Central Asia\",\"Europe & Central Asia\",\"Sub-Saharan Africa\",\"Europe & Central Asia\",\"Middle East & North Africa\",\"Europe & Central Asia\",\"America\",\"America\",\"Europe & Central Asia\",\"East Asia & Pacific\",\"America\",\"East Asia & Pacific\",\"America\",\"Middle East & North Africa\",\"Middle East & North Africa\",\"Middle East & North Africa\",\"Sub-Saharan Africa\",\"Sub-Saharan Africa\"],\"x\":{\"__ndarray__\":\"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\",\"dtype\":\"float64\",\"shape\":[202]},\"y\":{\"__ndarray__\":\"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\",\"dtype\":\"float64\",\"shape\":[202]}},\"selected\":{\"id\":\"1454\",\"type\":\"Selection\"},\"selection_policy\":{\"id\":\"1455\",\"type\":\"UnionRenderers\"}},\"id\":\"1392\",\"type\":\"ColumnDataSource\"},{\"attributes\":{\"text\":\"Life Expectancy Against GDP in 2010\"},\"id\":\"1496\",\"type\":\"Title\"},{\"attributes\":{\"callback\":null,\"end\":100000,\"start\":100},\"id\":\"1498\",\"type\":\"Range1d\"},{\"attributes\":{\"callback\":null,\"end\":100},\"id\":\"1500\",\"type\":\"Range1d\"},{\"attributes\":{},\"id\":\"1502\",\"type\":\"LogScale\"},{\"attributes\":{\"factors\":[\"South Asia\",\"Europe & Central Asia\",\"Middle East & North Africa\",\"Sub-Saharan Africa\",\"America\",\"East Asia & Pacific\"],\"palette\":[\"#3288bd\",\"#99d594\",\"#e6f598\",\"#fee08b\",\"#fc8d59\",\"#d53e4f\"]},\"id\":\"1493\",\"type\":\"CategoricalColorMapper\"},{\"attributes\":{},\"id\":\"1504\",\"type\":\"LinearScale\"},{\"attributes\":{\"formatter\":{\"id\":\"1523\",\"type\":\"NumeralTickFormatter\"},\"ticker\":{\"id\":\"1507\",\"type\":\"LogTicker\"}},\"id\":\"1506\",\"type\":\"LogAxis\"},{\"attributes\":{\"num_minor_ticks\":10},\"id\":\"1507\",\"type\":\"LogTicker\"},{\"attributes\":{\"ticker\":{\"id\":\"1507\",\"type\":\"LogTicker\"}},\"id\":\"1510\",\"type\":\"Grid\"},{\"attributes\":{},\"id\":\"1512\",\"type\":\"BasicTicker\"},{\"attributes\":{\"dimension\":1,\"ticker\":{\"id\":\"1512\",\"type\":\"BasicTicker\"}},\"id\":\"1515\",\"type\":\"Grid\"}],\"root_ids\":[\"1495\"]},\"title\":\"Bokeh Application\",\"version\":\"1.2.0\"}};\n",
       "  var render_items = [{\"docid\":\"cb231be0-14bb-47c7-8643-bef76ac9c8f0\",\"notebook_comms_target\":\"1562\",\"roots\":{\"1495\":\"83a028ab-c4d1-4baa-aec7-06fd7a2da98b\"}}];\n",
       "  root.Bokeh.embed.embed_items_notebook(docs_json, render_items);\n",
       "\n",
       "  }\n",
       "  if (root.Bokeh !== undefined) {\n",
       "    embed_document(root);\n",
       "  } else {\n",
       "    var attempts = 0;\n",
       "    var timer = setInterval(function(root) {\n",
       "      if (root.Bokeh !== undefined) {\n",
       "        embed_document(root);\n",
       "        clearInterval(timer);\n",
       "      }\n",
       "      attempts++;\n",
       "      if (attempts > 100) {\n",
       "        console.log(\"Bokeh: ERROR: Unable to run BokehJS code because BokehJS library is missing\");\n",
       "        clearInterval(timer);\n",
       "      }\n",
       "    }, 10, root)\n",
       "  }\n",
       "})(window);"
      ],
      "application/vnd.bokehjs_exec.v0+json": ""
     },
     "metadata": {
      "application/vnd.bokehjs_exec.v0+json": {
       "id": "1495"
      }
     },
     "output_type": "display_data"
    },
    {
     "data": {
      "text/html": [
       "<p><code>&lt;Bokeh Notebook handle for <strong>In[25]</strong>&gt;</code></p>"
      ],
      "text/plain": [
       "<bokeh.io.notebook.CommsHandle at 0xc6caf9748>"
      ]
     },
     "execution_count": 25,
     "metadata": {},
     "output_type": "execute_result"
    }
   ],
   "source": [
    "from bokeh.io import push_notebook\n",
    "from ipywidgets import interact\n",
    "\n",
    "def update(year):\n",
    "    new_data = dict(\n",
    "        x = data.loc[year].gdp,\n",
    "        y = data.loc[year].life,\n",
    "        country = data.loc[year].Country,\n",
    "        region = data.loc[year].region,\n",
    "        population = data.loc[year].population\n",
    "    )\n",
    "    \n",
    "    source.data = new_data\n",
    "    fig.title.text = str(year)\n",
    "    push_notebook()\n",
    "    \n",
    "\n",
    "\n",
    "size_mapper = LinearInterpolator(\n",
    "    x = [data.population.min(), data.population.max()],\n",
    "    y = [5, 50]\n",
    ")\n",
    "\n",
    "colour_mapper = CategoricalColorMapper(\n",
    "    factors = list(data.region.unique()),\n",
    "    palette = Spectral6,\n",
    "    \n",
    ")\n",
    "\n",
    "hover = HoverTool(tooltips='@country', show_arrow = False)\n",
    "\n",
    "fig = fig = figure(\n",
    "    title = 'Life Expectancy Against GDP in 2010',\n",
    "    toolbar_location = 'above',\n",
    "    tools=[hover], \n",
    "    **PLOT_OPTS\n",
    ") \n",
    "fig.circle(x = 'x', \n",
    "           y = 'y', \n",
    "           size = {\n",
    "               'field' : 'population',\n",
    "               'transform' : size_mapper\n",
    "           },\n",
    "           color = {\n",
    "               'field' : 'region',\n",
    "               'transform' : colour_mapper\n",
    "           },\n",
    "           alpha = 0.6, \n",
    "           source = source,\n",
    "           #legend = 'region'\n",
    "          )\n",
    "\n",
    "#set the legend outside the graph\n",
    "#fig.legend.location = (0, -50)\n",
    "#fig.right.append(fig.legend[0])\n",
    "\n",
    "fig.xaxis[0].formatter = NumeralTickFormatter(format=\"$0,\")\n",
    "show(fig, notebook_handle = True)\n"
   ]
  },
  {
   "cell_type": "code",
   "execution_count": 26,
   "metadata": {},
   "outputs": [
    {
     "data": {
      "application/vnd.jupyter.widget-view+json": {
       "model_id": "219c836c56a54b1a96810bdac81db25d",
       "version_major": 2,
       "version_minor": 0
      },
      "text/plain": [
       "interactive(children=(IntSlider(value=1907, description='year', max=2014, min=1800), Output()), _dom_classes=(…"
      ]
     },
     "metadata": {},
     "output_type": "display_data"
    },
    {
     "data": {
      "text/plain": [
       "<function __main__.update(year)>"
      ]
     },
     "execution_count": 26,
     "metadata": {},
     "output_type": "execute_result"
    }
   ],
   "source": [
    "# Runs with an error\n",
    "\n",
    "interact(update, year=(1800, 2014, 1))\n"
   ]
  },
  {
   "cell_type": "code",
   "execution_count": null,
   "metadata": {},
   "outputs": [],
   "source": []
  },
  {
   "cell_type": "code",
   "execution_count": null,
   "metadata": {},
   "outputs": [],
   "source": []
  },
  {
   "cell_type": "code",
   "execution_count": null,
   "metadata": {},
   "outputs": [],
   "source": []
  },
  {
   "cell_type": "code",
   "execution_count": null,
   "metadata": {},
   "outputs": [],
   "source": []
  },
  {
   "cell_type": "code",
   "execution_count": null,
   "metadata": {},
   "outputs": [],
   "source": []
  }
 ],
 "metadata": {
  "kernelspec": {
   "display_name": "Python 3",
   "language": "python",
   "name": "python3"
  },
  "language_info": {
   "codemirror_mode": {
    "name": "ipython",
    "version": 3
   },
   "file_extension": ".py",
   "mimetype": "text/x-python",
   "name": "python",
   "nbconvert_exporter": "python",
   "pygments_lexer": "ipython3",
   "version": "3.7.2"
  }
 },
 "nbformat": 4,
 "nbformat_minor": 2
}
