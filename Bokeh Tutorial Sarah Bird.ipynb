{
 "cells": [
  {
   "cell_type": "code",
   "execution_count": 1,
   "metadata": {},
   "outputs": [],
   "source": [
    "import bokeh\n",
    "from bokeh.io import output_notebook\n",
    "from bokeh.plotting import figure\n",
    "from bokeh.io import show\n",
    "from bokeh.models import NumeralTickFormatter\n",
    "from bokeh.models import ColumnDataSource\n",
    "from bokeh.models import HoverTool\n",
    "from bokeh.models import LinearInterpolator\n",
    "import pandas as pd"
   ]
  },
  {
   "cell_type": "code",
   "execution_count": null,
   "metadata": {},
   "outputs": [],
   "source": []
  },
  {
   "cell_type": "code",
   "execution_count": 2,
   "metadata": {},
   "outputs": [
    {
     "data": {
      "text/plain": [
       "'1.1.0'"
      ]
     },
     "execution_count": 2,
     "metadata": {},
     "output_type": "execute_result"
    }
   ],
   "source": [
    "bokeh.__version__"
   ]
  },
  {
   "cell_type": "markdown",
   "metadata": {},
   "source": [
    "## Import Data into the data Frame"
   ]
  },
  {
   "cell_type": "code",
   "execution_count": null,
   "metadata": {},
   "outputs": [],
   "source": []
  },
  {
   "cell_type": "code",
   "execution_count": 3,
   "metadata": {},
   "outputs": [],
   "source": [
    "#import the data making the year the index\n",
    "data = pd.read_csv('gapminder_tidy.csv', index_col='Year', thousands=',')"
   ]
  },
  {
   "cell_type": "code",
   "execution_count": 4,
   "metadata": {},
   "outputs": [
    {
     "data": {
      "text/html": [
       "<div>\n",
       "<style scoped>\n",
       "    .dataframe tbody tr th:only-of-type {\n",
       "        vertical-align: middle;\n",
       "    }\n",
       "\n",
       "    .dataframe tbody tr th {\n",
       "        vertical-align: top;\n",
       "    }\n",
       "\n",
       "    .dataframe thead th {\n",
       "        text-align: right;\n",
       "    }\n",
       "</style>\n",
       "<table border=\"1\" class=\"dataframe\">\n",
       "  <thead>\n",
       "    <tr style=\"text-align: right;\">\n",
       "      <th></th>\n",
       "      <th>Country</th>\n",
       "      <th>fertility</th>\n",
       "      <th>life</th>\n",
       "      <th>population</th>\n",
       "      <th>child_mortality</th>\n",
       "      <th>gdp</th>\n",
       "      <th>region</th>\n",
       "    </tr>\n",
       "    <tr>\n",
       "      <th>Year</th>\n",
       "      <th></th>\n",
       "      <th></th>\n",
       "      <th></th>\n",
       "      <th></th>\n",
       "      <th></th>\n",
       "      <th></th>\n",
       "      <th></th>\n",
       "    </tr>\n",
       "  </thead>\n",
       "  <tbody>\n",
       "    <tr>\n",
       "      <th>1964</th>\n",
       "      <td>Afghanistan</td>\n",
       "      <td>7.671</td>\n",
       "      <td>33.639</td>\n",
       "      <td>10474903.0</td>\n",
       "      <td>339.7</td>\n",
       "      <td>1182.0</td>\n",
       "      <td>South Asia</td>\n",
       "    </tr>\n",
       "    <tr>\n",
       "      <th>1965</th>\n",
       "      <td>Afghanistan</td>\n",
       "      <td>7.671</td>\n",
       "      <td>34.152</td>\n",
       "      <td>10697983.0</td>\n",
       "      <td>334.1</td>\n",
       "      <td>1182.0</td>\n",
       "      <td>South Asia</td>\n",
       "    </tr>\n",
       "    <tr>\n",
       "      <th>1966</th>\n",
       "      <td>Afghanistan</td>\n",
       "      <td>7.671</td>\n",
       "      <td>34.662</td>\n",
       "      <td>10927724.0</td>\n",
       "      <td>328.7</td>\n",
       "      <td>1168.0</td>\n",
       "      <td>South Asia</td>\n",
       "    </tr>\n",
       "    <tr>\n",
       "      <th>1967</th>\n",
       "      <td>Afghanistan</td>\n",
       "      <td>7.671</td>\n",
       "      <td>35.170</td>\n",
       "      <td>11163656.0</td>\n",
       "      <td>323.3</td>\n",
       "      <td>1173.0</td>\n",
       "      <td>South Asia</td>\n",
       "    </tr>\n",
       "    <tr>\n",
       "      <th>1968</th>\n",
       "      <td>Afghanistan</td>\n",
       "      <td>7.671</td>\n",
       "      <td>35.674</td>\n",
       "      <td>11411022.0</td>\n",
       "      <td>318.1</td>\n",
       "      <td>1187.0</td>\n",
       "      <td>South Asia</td>\n",
       "    </tr>\n",
       "  </tbody>\n",
       "</table>\n",
       "</div>"
      ],
      "text/plain": [
       "          Country  fertility    life  population  child_mortality     gdp  \\\n",
       "Year                                                                        \n",
       "1964  Afghanistan      7.671  33.639  10474903.0            339.7  1182.0   \n",
       "1965  Afghanistan      7.671  34.152  10697983.0            334.1  1182.0   \n",
       "1966  Afghanistan      7.671  34.662  10927724.0            328.7  1168.0   \n",
       "1967  Afghanistan      7.671  35.170  11163656.0            323.3  1173.0   \n",
       "1968  Afghanistan      7.671  35.674  11411022.0            318.1  1187.0   \n",
       "\n",
       "          region  \n",
       "Year              \n",
       "1964  South Asia  \n",
       "1965  South Asia  \n",
       "1966  South Asia  \n",
       "1967  South Asia  \n",
       "1968  South Asia  "
      ]
     },
     "execution_count": 4,
     "metadata": {},
     "output_type": "execute_result"
    }
   ],
   "source": [
    "data.head()"
   ]
  },
  {
   "cell_type": "code",
   "execution_count": null,
   "metadata": {},
   "outputs": [],
   "source": []
  },
  {
   "cell_type": "code",
   "execution_count": null,
   "metadata": {},
   "outputs": [],
   "source": []
  },
  {
   "cell_type": "code",
   "execution_count": null,
   "metadata": {},
   "outputs": [],
   "source": []
  },
  {
   "cell_type": "code",
   "execution_count": 5,
   "metadata": {},
   "outputs": [],
   "source": [
    "#check the data types of each series"
   ]
  },
  {
   "cell_type": "code",
   "execution_count": 6,
   "metadata": {},
   "outputs": [
    {
     "data": {
      "text/plain": [
       "Country             object\n",
       "fertility          float64\n",
       "life               float64\n",
       "population         float64\n",
       "child_mortality    float64\n",
       "gdp                float64\n",
       "region              object\n",
       "dtype: object"
      ]
     },
     "execution_count": 6,
     "metadata": {},
     "output_type": "execute_result"
    }
   ],
   "source": [
    "#check the data types of each series\n",
    "data.dtypes"
   ]
  },
  {
   "cell_type": "code",
   "execution_count": null,
   "metadata": {},
   "outputs": [],
   "source": []
  },
  {
   "cell_type": "code",
   "execution_count": 7,
   "metadata": {},
   "outputs": [
    {
     "data": {
      "text/html": [
       "\n",
       "    <div class=\"bk-root\">\n",
       "        <a href=\"https://bokeh.pydata.org\" target=\"_blank\" class=\"bk-logo bk-logo-small bk-logo-notebook\"></a>\n",
       "        <span id=\"1001\">Loading BokehJS ...</span>\n",
       "    </div>"
      ]
     },
     "metadata": {},
     "output_type": "display_data"
    },
    {
     "data": {
      "application/javascript": [
       "\n",
       "(function(root) {\n",
       "  function now() {\n",
       "    return new Date();\n",
       "  }\n",
       "\n",
       "  var force = true;\n",
       "\n",
       "  if (typeof (root._bokeh_onload_callbacks) === \"undefined\" || force === true) {\n",
       "    root._bokeh_onload_callbacks = [];\n",
       "    root._bokeh_is_loading = undefined;\n",
       "  }\n",
       "\n",
       "  var JS_MIME_TYPE = 'application/javascript';\n",
       "  var HTML_MIME_TYPE = 'text/html';\n",
       "  var EXEC_MIME_TYPE = 'application/vnd.bokehjs_exec.v0+json';\n",
       "  var CLASS_NAME = 'output_bokeh rendered_html';\n",
       "\n",
       "  /**\n",
       "   * Render data to the DOM node\n",
       "   */\n",
       "  function render(props, node) {\n",
       "    var script = document.createElement(\"script\");\n",
       "    node.appendChild(script);\n",
       "  }\n",
       "\n",
       "  /**\n",
       "   * Handle when an output is cleared or removed\n",
       "   */\n",
       "  function handleClearOutput(event, handle) {\n",
       "    var cell = handle.cell;\n",
       "\n",
       "    var id = cell.output_area._bokeh_element_id;\n",
       "    var server_id = cell.output_area._bokeh_server_id;\n",
       "    // Clean up Bokeh references\n",
       "    if (id != null && id in Bokeh.index) {\n",
       "      Bokeh.index[id].model.document.clear();\n",
       "      delete Bokeh.index[id];\n",
       "    }\n",
       "\n",
       "    if (server_id !== undefined) {\n",
       "      // Clean up Bokeh references\n",
       "      var cmd = \"from bokeh.io.state import curstate; print(curstate().uuid_to_server['\" + server_id + \"'].get_sessions()[0].document.roots[0]._id)\";\n",
       "      cell.notebook.kernel.execute(cmd, {\n",
       "        iopub: {\n",
       "          output: function(msg) {\n",
       "            var id = msg.content.text.trim();\n",
       "            if (id in Bokeh.index) {\n",
       "              Bokeh.index[id].model.document.clear();\n",
       "              delete Bokeh.index[id];\n",
       "            }\n",
       "          }\n",
       "        }\n",
       "      });\n",
       "      // Destroy server and session\n",
       "      var cmd = \"import bokeh.io.notebook as ion; ion.destroy_server('\" + server_id + \"')\";\n",
       "      cell.notebook.kernel.execute(cmd);\n",
       "    }\n",
       "  }\n",
       "\n",
       "  /**\n",
       "   * Handle when a new output is added\n",
       "   */\n",
       "  function handleAddOutput(event, handle) {\n",
       "    var output_area = handle.output_area;\n",
       "    var output = handle.output;\n",
       "\n",
       "    // limit handleAddOutput to display_data with EXEC_MIME_TYPE content only\n",
       "    if ((output.output_type != \"display_data\") || (!output.data.hasOwnProperty(EXEC_MIME_TYPE))) {\n",
       "      return\n",
       "    }\n",
       "\n",
       "    var toinsert = output_area.element.find(\".\" + CLASS_NAME.split(' ')[0]);\n",
       "\n",
       "    if (output.metadata[EXEC_MIME_TYPE][\"id\"] !== undefined) {\n",
       "      toinsert[toinsert.length - 1].firstChild.textContent = output.data[JS_MIME_TYPE];\n",
       "      // store reference to embed id on output_area\n",
       "      output_area._bokeh_element_id = output.metadata[EXEC_MIME_TYPE][\"id\"];\n",
       "    }\n",
       "    if (output.metadata[EXEC_MIME_TYPE][\"server_id\"] !== undefined) {\n",
       "      var bk_div = document.createElement(\"div\");\n",
       "      bk_div.innerHTML = output.data[HTML_MIME_TYPE];\n",
       "      var script_attrs = bk_div.children[0].attributes;\n",
       "      for (var i = 0; i < script_attrs.length; i++) {\n",
       "        toinsert[toinsert.length - 1].firstChild.setAttribute(script_attrs[i].name, script_attrs[i].value);\n",
       "      }\n",
       "      // store reference to server id on output_area\n",
       "      output_area._bokeh_server_id = output.metadata[EXEC_MIME_TYPE][\"server_id\"];\n",
       "    }\n",
       "  }\n",
       "\n",
       "  function register_renderer(events, OutputArea) {\n",
       "\n",
       "    function append_mime(data, metadata, element) {\n",
       "      // create a DOM node to render to\n",
       "      var toinsert = this.create_output_subarea(\n",
       "        metadata,\n",
       "        CLASS_NAME,\n",
       "        EXEC_MIME_TYPE\n",
       "      );\n",
       "      this.keyboard_manager.register_events(toinsert);\n",
       "      // Render to node\n",
       "      var props = {data: data, metadata: metadata[EXEC_MIME_TYPE]};\n",
       "      render(props, toinsert[toinsert.length - 1]);\n",
       "      element.append(toinsert);\n",
       "      return toinsert\n",
       "    }\n",
       "\n",
       "    /* Handle when an output is cleared or removed */\n",
       "    events.on('clear_output.CodeCell', handleClearOutput);\n",
       "    events.on('delete.Cell', handleClearOutput);\n",
       "\n",
       "    /* Handle when a new output is added */\n",
       "    events.on('output_added.OutputArea', handleAddOutput);\n",
       "\n",
       "    /**\n",
       "     * Register the mime type and append_mime function with output_area\n",
       "     */\n",
       "    OutputArea.prototype.register_mime_type(EXEC_MIME_TYPE, append_mime, {\n",
       "      /* Is output safe? */\n",
       "      safe: true,\n",
       "      /* Index of renderer in `output_area.display_order` */\n",
       "      index: 0\n",
       "    });\n",
       "  }\n",
       "\n",
       "  // register the mime type if in Jupyter Notebook environment and previously unregistered\n",
       "  if (root.Jupyter !== undefined) {\n",
       "    var events = require('base/js/events');\n",
       "    var OutputArea = require('notebook/js/outputarea').OutputArea;\n",
       "\n",
       "    if (OutputArea.prototype.mime_types().indexOf(EXEC_MIME_TYPE) == -1) {\n",
       "      register_renderer(events, OutputArea);\n",
       "    }\n",
       "  }\n",
       "\n",
       "  \n",
       "  if (typeof (root._bokeh_timeout) === \"undefined\" || force === true) {\n",
       "    root._bokeh_timeout = Date.now() + 5000;\n",
       "    root._bokeh_failed_load = false;\n",
       "  }\n",
       "\n",
       "  var NB_LOAD_WARNING = {'data': {'text/html':\n",
       "     \"<div style='background-color: #fdd'>\\n\"+\n",
       "     \"<p>\\n\"+\n",
       "     \"BokehJS does not appear to have successfully loaded. If loading BokehJS from CDN, this \\n\"+\n",
       "     \"may be due to a slow or bad network connection. Possible fixes:\\n\"+\n",
       "     \"</p>\\n\"+\n",
       "     \"<ul>\\n\"+\n",
       "     \"<li>re-rerun `output_notebook()` to attempt to load from CDN again, or</li>\\n\"+\n",
       "     \"<li>use INLINE resources instead, as so:</li>\\n\"+\n",
       "     \"</ul>\\n\"+\n",
       "     \"<code>\\n\"+\n",
       "     \"from bokeh.resources import INLINE\\n\"+\n",
       "     \"output_notebook(resources=INLINE)\\n\"+\n",
       "     \"</code>\\n\"+\n",
       "     \"</div>\"}};\n",
       "\n",
       "  function display_loaded() {\n",
       "    var el = document.getElementById(\"1001\");\n",
       "    if (el != null) {\n",
       "      el.textContent = \"BokehJS is loading...\";\n",
       "    }\n",
       "    if (root.Bokeh !== undefined) {\n",
       "      if (el != null) {\n",
       "        el.textContent = \"BokehJS \" + root.Bokeh.version + \" successfully loaded.\";\n",
       "      }\n",
       "    } else if (Date.now() < root._bokeh_timeout) {\n",
       "      setTimeout(display_loaded, 100)\n",
       "    }\n",
       "  }\n",
       "\n",
       "\n",
       "  function run_callbacks() {\n",
       "    try {\n",
       "      root._bokeh_onload_callbacks.forEach(function(callback) { callback() });\n",
       "    }\n",
       "    finally {\n",
       "      delete root._bokeh_onload_callbacks\n",
       "    }\n",
       "    console.info(\"Bokeh: all callbacks have finished\");\n",
       "  }\n",
       "\n",
       "  function load_libs(js_urls, callback) {\n",
       "    root._bokeh_onload_callbacks.push(callback);\n",
       "    if (root._bokeh_is_loading > 0) {\n",
       "      console.log(\"Bokeh: BokehJS is being loaded, scheduling callback at\", now());\n",
       "      return null;\n",
       "    }\n",
       "    if (js_urls == null || js_urls.length === 0) {\n",
       "      run_callbacks();\n",
       "      return null;\n",
       "    }\n",
       "    console.log(\"Bokeh: BokehJS not loaded, scheduling load and callback at\", now());\n",
       "    root._bokeh_is_loading = js_urls.length;\n",
       "    for (var i = 0; i < js_urls.length; i++) {\n",
       "      var url = js_urls[i];\n",
       "      var s = document.createElement('script');\n",
       "      s.src = url;\n",
       "      s.async = false;\n",
       "      s.onreadystatechange = s.onload = function() {\n",
       "        root._bokeh_is_loading--;\n",
       "        if (root._bokeh_is_loading === 0) {\n",
       "          console.log(\"Bokeh: all BokehJS libraries loaded\");\n",
       "          run_callbacks()\n",
       "        }\n",
       "      };\n",
       "      s.onerror = function() {\n",
       "        console.warn(\"failed to load library \" + url);\n",
       "      };\n",
       "      console.log(\"Bokeh: injecting script tag for BokehJS library: \", url);\n",
       "      document.getElementsByTagName(\"head\")[0].appendChild(s);\n",
       "    }\n",
       "  };var element = document.getElementById(\"1001\");\n",
       "  if (element == null) {\n",
       "    console.log(\"Bokeh: ERROR: autoload.js configured with elementid '1001' but no matching script tag was found. \")\n",
       "    return false;\n",
       "  }\n",
       "\n",
       "  var js_urls = [\"https://cdn.pydata.org/bokeh/release/bokeh-1.0.4.min.js\", \"https://cdn.pydata.org/bokeh/release/bokeh-widgets-1.0.4.min.js\", \"https://cdn.pydata.org/bokeh/release/bokeh-tables-1.0.4.min.js\", \"https://cdn.pydata.org/bokeh/release/bokeh-gl-1.0.4.min.js\"];\n",
       "\n",
       "  var inline_js = [\n",
       "    function(Bokeh) {\n",
       "      Bokeh.set_log_level(\"info\");\n",
       "    },\n",
       "    \n",
       "    function(Bokeh) {\n",
       "      \n",
       "    },\n",
       "    function(Bokeh) {\n",
       "      console.log(\"Bokeh: injecting CSS: https://cdn.pydata.org/bokeh/release/bokeh-1.0.4.min.css\");\n",
       "      Bokeh.embed.inject_css(\"https://cdn.pydata.org/bokeh/release/bokeh-1.0.4.min.css\");\n",
       "      console.log(\"Bokeh: injecting CSS: https://cdn.pydata.org/bokeh/release/bokeh-widgets-1.0.4.min.css\");\n",
       "      Bokeh.embed.inject_css(\"https://cdn.pydata.org/bokeh/release/bokeh-widgets-1.0.4.min.css\");\n",
       "      console.log(\"Bokeh: injecting CSS: https://cdn.pydata.org/bokeh/release/bokeh-tables-1.0.4.min.css\");\n",
       "      Bokeh.embed.inject_css(\"https://cdn.pydata.org/bokeh/release/bokeh-tables-1.0.4.min.css\");\n",
       "    }\n",
       "  ];\n",
       "\n",
       "  function run_inline_js() {\n",
       "    \n",
       "    if ((root.Bokeh !== undefined) || (force === true)) {\n",
       "      for (var i = 0; i < inline_js.length; i++) {\n",
       "        inline_js[i].call(root, root.Bokeh);\n",
       "      }if (force === true) {\n",
       "        display_loaded();\n",
       "      }} else if (Date.now() < root._bokeh_timeout) {\n",
       "      setTimeout(run_inline_js, 100);\n",
       "    } else if (!root._bokeh_failed_load) {\n",
       "      console.log(\"Bokeh: BokehJS failed to load within specified timeout.\");\n",
       "      root._bokeh_failed_load = true;\n",
       "    } else if (force !== true) {\n",
       "      var cell = $(document.getElementById(\"1001\")).parents('.cell').data().cell;\n",
       "      cell.output_area.append_execute_result(NB_LOAD_WARNING)\n",
       "    }\n",
       "\n",
       "  }\n",
       "\n",
       "  if (root._bokeh_is_loading === 0) {\n",
       "    console.log(\"Bokeh: BokehJS loaded, going straight to plotting\");\n",
       "    run_inline_js();\n",
       "  } else {\n",
       "    load_libs(js_urls, function() {\n",
       "      console.log(\"Bokeh: BokehJS plotting callback run at\", now());\n",
       "      run_inline_js();\n",
       "    });\n",
       "  }\n",
       "}(window));"
      ],
      "application/vnd.bokehjs_load.v0+json": "\n(function(root) {\n  function now() {\n    return new Date();\n  }\n\n  var force = true;\n\n  if (typeof (root._bokeh_onload_callbacks) === \"undefined\" || force === true) {\n    root._bokeh_onload_callbacks = [];\n    root._bokeh_is_loading = undefined;\n  }\n\n  \n\n  \n  if (typeof (root._bokeh_timeout) === \"undefined\" || force === true) {\n    root._bokeh_timeout = Date.now() + 5000;\n    root._bokeh_failed_load = false;\n  }\n\n  var NB_LOAD_WARNING = {'data': {'text/html':\n     \"<div style='background-color: #fdd'>\\n\"+\n     \"<p>\\n\"+\n     \"BokehJS does not appear to have successfully loaded. If loading BokehJS from CDN, this \\n\"+\n     \"may be due to a slow or bad network connection. Possible fixes:\\n\"+\n     \"</p>\\n\"+\n     \"<ul>\\n\"+\n     \"<li>re-rerun `output_notebook()` to attempt to load from CDN again, or</li>\\n\"+\n     \"<li>use INLINE resources instead, as so:</li>\\n\"+\n     \"</ul>\\n\"+\n     \"<code>\\n\"+\n     \"from bokeh.resources import INLINE\\n\"+\n     \"output_notebook(resources=INLINE)\\n\"+\n     \"</code>\\n\"+\n     \"</div>\"}};\n\n  function display_loaded() {\n    var el = document.getElementById(\"1001\");\n    if (el != null) {\n      el.textContent = \"BokehJS is loading...\";\n    }\n    if (root.Bokeh !== undefined) {\n      if (el != null) {\n        el.textContent = \"BokehJS \" + root.Bokeh.version + \" successfully loaded.\";\n      }\n    } else if (Date.now() < root._bokeh_timeout) {\n      setTimeout(display_loaded, 100)\n    }\n  }\n\n\n  function run_callbacks() {\n    try {\n      root._bokeh_onload_callbacks.forEach(function(callback) { callback() });\n    }\n    finally {\n      delete root._bokeh_onload_callbacks\n    }\n    console.info(\"Bokeh: all callbacks have finished\");\n  }\n\n  function load_libs(js_urls, callback) {\n    root._bokeh_onload_callbacks.push(callback);\n    if (root._bokeh_is_loading > 0) {\n      console.log(\"Bokeh: BokehJS is being loaded, scheduling callback at\", now());\n      return null;\n    }\n    if (js_urls == null || js_urls.length === 0) {\n      run_callbacks();\n      return null;\n    }\n    console.log(\"Bokeh: BokehJS not loaded, scheduling load and callback at\", now());\n    root._bokeh_is_loading = js_urls.length;\n    for (var i = 0; i < js_urls.length; i++) {\n      var url = js_urls[i];\n      var s = document.createElement('script');\n      s.src = url;\n      s.async = false;\n      s.onreadystatechange = s.onload = function() {\n        root._bokeh_is_loading--;\n        if (root._bokeh_is_loading === 0) {\n          console.log(\"Bokeh: all BokehJS libraries loaded\");\n          run_callbacks()\n        }\n      };\n      s.onerror = function() {\n        console.warn(\"failed to load library \" + url);\n      };\n      console.log(\"Bokeh: injecting script tag for BokehJS library: \", url);\n      document.getElementsByTagName(\"head\")[0].appendChild(s);\n    }\n  };var element = document.getElementById(\"1001\");\n  if (element == null) {\n    console.log(\"Bokeh: ERROR: autoload.js configured with elementid '1001' but no matching script tag was found. \")\n    return false;\n  }\n\n  var js_urls = [\"https://cdn.pydata.org/bokeh/release/bokeh-1.0.4.min.js\", \"https://cdn.pydata.org/bokeh/release/bokeh-widgets-1.0.4.min.js\", \"https://cdn.pydata.org/bokeh/release/bokeh-tables-1.0.4.min.js\", \"https://cdn.pydata.org/bokeh/release/bokeh-gl-1.0.4.min.js\"];\n\n  var inline_js = [\n    function(Bokeh) {\n      Bokeh.set_log_level(\"info\");\n    },\n    \n    function(Bokeh) {\n      \n    },\n    function(Bokeh) {\n      console.log(\"Bokeh: injecting CSS: https://cdn.pydata.org/bokeh/release/bokeh-1.0.4.min.css\");\n      Bokeh.embed.inject_css(\"https://cdn.pydata.org/bokeh/release/bokeh-1.0.4.min.css\");\n      console.log(\"Bokeh: injecting CSS: https://cdn.pydata.org/bokeh/release/bokeh-widgets-1.0.4.min.css\");\n      Bokeh.embed.inject_css(\"https://cdn.pydata.org/bokeh/release/bokeh-widgets-1.0.4.min.css\");\n      console.log(\"Bokeh: injecting CSS: https://cdn.pydata.org/bokeh/release/bokeh-tables-1.0.4.min.css\");\n      Bokeh.embed.inject_css(\"https://cdn.pydata.org/bokeh/release/bokeh-tables-1.0.4.min.css\");\n    }\n  ];\n\n  function run_inline_js() {\n    \n    if ((root.Bokeh !== undefined) || (force === true)) {\n      for (var i = 0; i < inline_js.length; i++) {\n        inline_js[i].call(root, root.Bokeh);\n      }if (force === true) {\n        display_loaded();\n      }} else if (Date.now() < root._bokeh_timeout) {\n      setTimeout(run_inline_js, 100);\n    } else if (!root._bokeh_failed_load) {\n      console.log(\"Bokeh: BokehJS failed to load within specified timeout.\");\n      root._bokeh_failed_load = true;\n    } else if (force !== true) {\n      var cell = $(document.getElementById(\"1001\")).parents('.cell').data().cell;\n      cell.output_area.append_execute_result(NB_LOAD_WARNING)\n    }\n\n  }\n\n  if (root._bokeh_is_loading === 0) {\n    console.log(\"Bokeh: BokehJS loaded, going straight to plotting\");\n    run_inline_js();\n  } else {\n    load_libs(js_urls, function() {\n      console.log(\"Bokeh: BokehJS plotting callback run at\", now());\n      run_inline_js();\n    });\n  }\n}(window));"
     },
     "metadata": {},
     "output_type": "display_data"
    }
   ],
   "source": [
    "#load bokehJS into Jupyter notebook\n",
    "output_notebook()"
   ]
  },
  {
   "cell_type": "code",
   "execution_count": null,
   "metadata": {},
   "outputs": [],
   "source": []
  },
  {
   "cell_type": "code",
   "execution_count": 41,
   "metadata": {},
   "outputs": [],
   "source": [
    "# get figure\n",
    "fig = figure(\n",
    "    #height = 200,\n",
    "    x_axis_type = 'log',\n",
    "           x_range = (100, 100000),\n",
    "           y_range = (0, 100)\n",
    "            )"
   ]
  },
  {
   "cell_type": "code",
   "execution_count": 42,
   "metadata": {},
   "outputs": [],
   "source": [
    "#Get the 2010 data only\n",
    "data_2010 = data.loc[2010]"
   ]
  },
  {
   "cell_type": "code",
   "execution_count": 43,
   "metadata": {},
   "outputs": [
    {
     "data": {
      "text/html": [
       "<div>\n",
       "<style scoped>\n",
       "    .dataframe tbody tr th:only-of-type {\n",
       "        vertical-align: middle;\n",
       "    }\n",
       "\n",
       "    .dataframe tbody tr th {\n",
       "        vertical-align: top;\n",
       "    }\n",
       "\n",
       "    .dataframe thead th {\n",
       "        text-align: right;\n",
       "    }\n",
       "</style>\n",
       "<table border=\"1\" class=\"dataframe\">\n",
       "  <thead>\n",
       "    <tr style=\"text-align: right;\">\n",
       "      <th></th>\n",
       "      <th>Country</th>\n",
       "      <th>fertility</th>\n",
       "      <th>life</th>\n",
       "      <th>population</th>\n",
       "      <th>child_mortality</th>\n",
       "      <th>gdp</th>\n",
       "      <th>region</th>\n",
       "    </tr>\n",
       "    <tr>\n",
       "      <th>Year</th>\n",
       "      <th></th>\n",
       "      <th></th>\n",
       "      <th></th>\n",
       "      <th></th>\n",
       "      <th></th>\n",
       "      <th></th>\n",
       "      <th></th>\n",
       "    </tr>\n",
       "  </thead>\n",
       "  <tbody>\n",
       "    <tr>\n",
       "      <th>2010</th>\n",
       "      <td>Afghanistan</td>\n",
       "      <td>5.659</td>\n",
       "      <td>59.612</td>\n",
       "      <td>31411743.0</td>\n",
       "      <td>105.0</td>\n",
       "      <td>1637.0</td>\n",
       "      <td>South Asia</td>\n",
       "    </tr>\n",
       "    <tr>\n",
       "      <th>2010</th>\n",
       "      <td>Albania</td>\n",
       "      <td>1.741</td>\n",
       "      <td>76.780</td>\n",
       "      <td>3204284.0</td>\n",
       "      <td>16.6</td>\n",
       "      <td>9374.0</td>\n",
       "      <td>Europe &amp; Central Asia</td>\n",
       "    </tr>\n",
       "    <tr>\n",
       "      <th>2010</th>\n",
       "      <td>Algeria</td>\n",
       "      <td>2.817</td>\n",
       "      <td>70.615</td>\n",
       "      <td>35468208.0</td>\n",
       "      <td>27.4</td>\n",
       "      <td>12494.0</td>\n",
       "      <td>Middle East &amp; North Africa</td>\n",
       "    </tr>\n",
       "    <tr>\n",
       "      <th>2010</th>\n",
       "      <td>Angola</td>\n",
       "      <td>6.218</td>\n",
       "      <td>50.689</td>\n",
       "      <td>19081912.0</td>\n",
       "      <td>182.5</td>\n",
       "      <td>7047.0</td>\n",
       "      <td>Sub-Saharan Africa</td>\n",
       "    </tr>\n",
       "    <tr>\n",
       "      <th>2010</th>\n",
       "      <td>Antigua and Barbuda</td>\n",
       "      <td>2.130</td>\n",
       "      <td>75.437</td>\n",
       "      <td>88710.0</td>\n",
       "      <td>9.9</td>\n",
       "      <td>20567.0</td>\n",
       "      <td>America</td>\n",
       "    </tr>\n",
       "  </tbody>\n",
       "</table>\n",
       "</div>"
      ],
      "text/plain": [
       "                  Country  fertility    life  population  child_mortality  \\\n",
       "Year                                                                        \n",
       "2010          Afghanistan      5.659  59.612  31411743.0            105.0   \n",
       "2010              Albania      1.741  76.780   3204284.0             16.6   \n",
       "2010              Algeria      2.817  70.615  35468208.0             27.4   \n",
       "2010               Angola      6.218  50.689  19081912.0            182.5   \n",
       "2010  Antigua and Barbuda      2.130  75.437     88710.0              9.9   \n",
       "\n",
       "          gdp                      region  \n",
       "Year                                       \n",
       "2010   1637.0                  South Asia  \n",
       "2010   9374.0       Europe & Central Asia  \n",
       "2010  12494.0  Middle East & North Africa  \n",
       "2010   7047.0          Sub-Saharan Africa  \n",
       "2010  20567.0                     America  "
      ]
     },
     "execution_count": 43,
     "metadata": {},
     "output_type": "execute_result"
    }
   ],
   "source": [
    "data_2010.head()"
   ]
  },
  {
   "cell_type": "code",
   "execution_count": null,
   "metadata": {},
   "outputs": [],
   "source": []
  },
  {
   "cell_type": "markdown",
   "metadata": {},
   "source": [
    "### Plot Life expectancy against GDP"
   ]
  },
  {
   "cell_type": "code",
   "execution_count": 44,
   "metadata": {},
   "outputs": [
    {
     "data": {
      "text/html": [
       "\n",
       "\n",
       "\n",
       "\n",
       "\n",
       "\n",
       "  <div class=\"bk-root\" id=\"7a839bd1-832d-469c-9c34-76dde0c55f4a\" data-root-id=\"2649\"></div>\n"
      ]
     },
     "metadata": {},
     "output_type": "display_data"
    },
    {
     "data": {
      "application/javascript": [
       "(function(root) {\n",
       "  function embed_document(root) {\n",
       "    \n",
       "  var docs_json = {\"fbb37c6e-87dd-49b8-813c-44ad5ed6a34f\":{\"roots\":{\"references\":[{\"attributes\":{\"below\":[{\"id\":\"2658\",\"type\":\"LogAxis\"}],\"left\":[{\"id\":\"2663\",\"type\":\"LinearAxis\"}],\"renderers\":[{\"id\":\"2658\",\"type\":\"LogAxis\"},{\"id\":\"2662\",\"type\":\"Grid\"},{\"id\":\"2663\",\"type\":\"LinearAxis\"},{\"id\":\"2667\",\"type\":\"Grid\"},{\"id\":\"2676\",\"type\":\"BoxAnnotation\"},{\"id\":\"2686\",\"type\":\"GlyphRenderer\"}],\"title\":{\"id\":\"2767\",\"type\":\"Title\"},\"toolbar\":{\"id\":\"2674\",\"type\":\"Toolbar\"},\"x_range\":{\"id\":\"2650\",\"type\":\"Range1d\"},\"x_scale\":{\"id\":\"2654\",\"type\":\"LogScale\"},\"y_range\":{\"id\":\"2652\",\"type\":\"Range1d\"},\"y_scale\":{\"id\":\"2656\",\"type\":\"LinearScale\"}},\"id\":\"2649\",\"subtype\":\"Figure\",\"type\":\"Plot\"},{\"attributes\":{\"active_drag\":\"auto\",\"active_inspect\":\"auto\",\"active_multi\":null,\"active_scroll\":\"auto\",\"active_tap\":\"auto\",\"tools\":[{\"id\":\"2668\",\"type\":\"PanTool\"},{\"id\":\"2669\",\"type\":\"WheelZoomTool\"},{\"id\":\"2670\",\"type\":\"BoxZoomTool\"},{\"id\":\"2671\",\"type\":\"SaveTool\"},{\"id\":\"2672\",\"type\":\"ResetTool\"},{\"id\":\"2673\",\"type\":\"HelpTool\"}]},\"id\":\"2674\",\"type\":\"Toolbar\"},{\"attributes\":{},\"id\":\"2671\",\"type\":\"SaveTool\"},{\"attributes\":{\"source\":{\"id\":\"2683\",\"type\":\"ColumnDataSource\"}},\"id\":\"2687\",\"type\":\"CDSView\"},{\"attributes\":{\"fill_alpha\":{\"value\":0.1},\"fill_color\":{\"value\":\"#1f77b4\"},\"line_alpha\":{\"value\":0.1},\"line_color\":{\"value\":\"#1f77b4\"},\"x\":{\"field\":\"x\"},\"y\":{\"field\":\"y\"}},\"id\":\"2685\",\"type\":\"Circle\"},{\"attributes\":{\"callback\":null,\"data\":{\"x\":{\"__ndarray__\":\"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\",\"dtype\":\"float64\",\"shape\":[202]},\"y\":{\"__ndarray__\":\"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\",\"dtype\":\"float64\",\"shape\":[202]}},\"selected\":{\"id\":\"2774\",\"type\":\"Selection\"},\"selection_policy\":{\"id\":\"2775\",\"type\":\"UnionRenderers\"}},\"id\":\"2683\",\"type\":\"ColumnDataSource\"},{\"attributes\":{},\"id\":\"2669\",\"type\":\"WheelZoomTool\"},{\"attributes\":{\"formatter\":{\"id\":\"2769\",\"type\":\"LogTickFormatter\"},\"plot\":{\"id\":\"2649\",\"subtype\":\"Figure\",\"type\":\"Plot\"},\"ticker\":{\"id\":\"2659\",\"type\":\"LogTicker\"}},\"id\":\"2658\",\"type\":\"LogAxis\"},{\"attributes\":{\"ticker\":null},\"id\":\"2769\",\"type\":\"LogTickFormatter\"},{\"attributes\":{},\"id\":\"2668\",\"type\":\"PanTool\"},{\"attributes\":{\"data_source\":{\"id\":\"2683\",\"type\":\"ColumnDataSource\"},\"glyph\":{\"id\":\"2684\",\"type\":\"Circle\"},\"hover_glyph\":null,\"muted_glyph\":null,\"nonselection_glyph\":{\"id\":\"2685\",\"type\":\"Circle\"},\"selection_glyph\":null,\"view\":{\"id\":\"2687\",\"type\":\"CDSView\"}},\"id\":\"2686\",\"type\":\"GlyphRenderer\"},{\"attributes\":{\"plot\":null,\"text\":\"\"},\"id\":\"2767\",\"type\":\"Title\"},{\"attributes\":{\"overlay\":{\"id\":\"2676\",\"type\":\"BoxAnnotation\"}},\"id\":\"2670\",\"type\":\"BoxZoomTool\"},{\"attributes\":{\"bottom_units\":\"screen\",\"fill_alpha\":{\"value\":0.5},\"fill_color\":{\"value\":\"lightgrey\"},\"left_units\":\"screen\",\"level\":\"overlay\",\"line_alpha\":{\"value\":1.0},\"line_color\":{\"value\":\"black\"},\"line_dash\":[4,4],\"line_width\":{\"value\":2},\"plot\":null,\"render_mode\":\"css\",\"right_units\":\"screen\",\"top_units\":\"screen\"},\"id\":\"2676\",\"type\":\"BoxAnnotation\"},{\"attributes\":{\"dimension\":1,\"plot\":{\"id\":\"2649\",\"subtype\":\"Figure\",\"type\":\"Plot\"},\"ticker\":{\"id\":\"2664\",\"type\":\"BasicTicker\"}},\"id\":\"2667\",\"type\":\"Grid\"},{\"attributes\":{\"fill_color\":{\"value\":\"#1f77b4\"},\"line_color\":{\"value\":\"#1f77b4\"},\"x\":{\"field\":\"x\"},\"y\":{\"field\":\"y\"}},\"id\":\"2684\",\"type\":\"Circle\"},{\"attributes\":{},\"id\":\"2672\",\"type\":\"ResetTool\"},{\"attributes\":{\"formatter\":{\"id\":\"2771\",\"type\":\"BasicTickFormatter\"},\"plot\":{\"id\":\"2649\",\"subtype\":\"Figure\",\"type\":\"Plot\"},\"ticker\":{\"id\":\"2664\",\"type\":\"BasicTicker\"}},\"id\":\"2663\",\"type\":\"LinearAxis\"},{\"attributes\":{\"plot\":{\"id\":\"2649\",\"subtype\":\"Figure\",\"type\":\"Plot\"},\"ticker\":{\"id\":\"2659\",\"type\":\"LogTicker\"}},\"id\":\"2662\",\"type\":\"Grid\"},{\"attributes\":{},\"id\":\"2664\",\"type\":\"BasicTicker\"},{\"attributes\":{},\"id\":\"2775\",\"type\":\"UnionRenderers\"},{\"attributes\":{\"num_minor_ticks\":10},\"id\":\"2659\",\"type\":\"LogTicker\"},{\"attributes\":{},\"id\":\"2654\",\"type\":\"LogScale\"},{\"attributes\":{},\"id\":\"2673\",\"type\":\"HelpTool\"},{\"attributes\":{},\"id\":\"2656\",\"type\":\"LinearScale\"},{\"attributes\":{},\"id\":\"2774\",\"type\":\"Selection\"},{\"attributes\":{\"callback\":null,\"end\":100000,\"start\":100},\"id\":\"2650\",\"type\":\"Range1d\"},{\"attributes\":{},\"id\":\"2771\",\"type\":\"BasicTickFormatter\"},{\"attributes\":{\"callback\":null,\"end\":100},\"id\":\"2652\",\"type\":\"Range1d\"}],\"root_ids\":[\"2649\"]},\"title\":\"Bokeh Application\",\"version\":\"1.0.4\"}};\n",
       "  var render_items = [{\"docid\":\"fbb37c6e-87dd-49b8-813c-44ad5ed6a34f\",\"roots\":{\"2649\":\"7a839bd1-832d-469c-9c34-76dde0c55f4a\"}}];\n",
       "  root.Bokeh.embed.embed_items_notebook(docs_json, render_items);\n",
       "\n",
       "  }\n",
       "  if (root.Bokeh !== undefined) {\n",
       "    embed_document(root);\n",
       "  } else {\n",
       "    var attempts = 0;\n",
       "    var timer = setInterval(function(root) {\n",
       "      if (root.Bokeh !== undefined) {\n",
       "        embed_document(root);\n",
       "        clearInterval(timer);\n",
       "      }\n",
       "      attempts++;\n",
       "      if (attempts > 100) {\n",
       "        console.log(\"Bokeh: ERROR: Unable to run BokehJS code because BokehJS library is missing\");\n",
       "        clearInterval(timer);\n",
       "      }\n",
       "    }, 10, root)\n",
       "  }\n",
       "})(window);"
      ],
      "application/vnd.bokehjs_exec.v0+json": ""
     },
     "metadata": {
      "application/vnd.bokehjs_exec.v0+json": {
       "id": "2649"
      }
     },
     "output_type": "display_data"
    }
   ],
   "source": [
    "gdp = data_2010.gdp\n",
    "life_expectancy = data_2010.life\n",
    "fig.circle(x = gdp, y = life_expectancy)\n",
    "show(fig)"
   ]
  },
  {
   "cell_type": "code",
   "execution_count": null,
   "metadata": {},
   "outputs": [],
   "source": []
  },
  {
   "cell_type": "code",
   "execution_count": 45,
   "metadata": {},
   "outputs": [
    {
     "data": {
      "text/html": [
       "\n",
       "\n",
       "\n",
       "\n",
       "\n",
       "\n",
       "  <div class=\"bk-root\" id=\"bf122c48-11d0-415f-bb0c-14510d6ad49a\" data-root-id=\"2649\"></div>\n"
      ]
     },
     "metadata": {},
     "output_type": "display_data"
    },
    {
     "data": {
      "application/javascript": [
       "(function(root) {\n",
       "  function embed_document(root) {\n",
       "    \n",
       "  var docs_json = {\"a7202326-2706-40c3-9b0a-bc32946f6b84\":{\"roots\":{\"references\":[{\"attributes\":{\"below\":[{\"id\":\"2658\",\"type\":\"LogAxis\"}],\"left\":[{\"id\":\"2663\",\"type\":\"LinearAxis\"}],\"renderers\":[{\"id\":\"2658\",\"type\":\"LogAxis\"},{\"id\":\"2662\",\"type\":\"Grid\"},{\"id\":\"2663\",\"type\":\"LinearAxis\"},{\"id\":\"2667\",\"type\":\"Grid\"},{\"id\":\"2676\",\"type\":\"BoxAnnotation\"},{\"id\":\"2686\",\"type\":\"GlyphRenderer\"},{\"id\":\"2833\",\"type\":\"GlyphRenderer\"}],\"title\":{\"id\":\"2767\",\"type\":\"Title\"},\"toolbar\":{\"id\":\"2674\",\"type\":\"Toolbar\"},\"x_range\":{\"id\":\"2650\",\"type\":\"Range1d\"},\"x_scale\":{\"id\":\"2654\",\"type\":\"LogScale\"},\"y_range\":{\"id\":\"2652\",\"type\":\"Range1d\"},\"y_scale\":{\"id\":\"2656\",\"type\":\"LinearScale\"}},\"id\":\"2649\",\"subtype\":\"Figure\",\"type\":\"Plot\"},{\"attributes\":{\"active_drag\":\"auto\",\"active_inspect\":\"auto\",\"active_multi\":null,\"active_scroll\":\"auto\",\"active_tap\":\"auto\",\"tools\":[{\"id\":\"2668\",\"type\":\"PanTool\"},{\"id\":\"2669\",\"type\":\"WheelZoomTool\"},{\"id\":\"2670\",\"type\":\"BoxZoomTool\"},{\"id\":\"2671\",\"type\":\"SaveTool\"},{\"id\":\"2672\",\"type\":\"ResetTool\"},{\"id\":\"2673\",\"type\":\"HelpTool\"}]},\"id\":\"2674\",\"type\":\"Toolbar\"},{\"attributes\":{},\"id\":\"2671\",\"type\":\"SaveTool\"},{\"attributes\":{\"source\":{\"id\":\"2683\",\"type\":\"ColumnDataSource\"}},\"id\":\"2687\",\"type\":\"CDSView\"},{\"attributes\":{\"fill_alpha\":{\"value\":0.1},\"fill_color\":{\"value\":\"#1f77b4\"},\"line_alpha\":{\"value\":0.1},\"line_color\":{\"value\":\"#1f77b4\"},\"x\":{\"field\":\"x\"},\"y\":{\"field\":\"y\"}},\"id\":\"2685\",\"type\":\"Circle\"},{\"attributes\":{\"callback\":null,\"data\":{\"x\":{\"__ndarray__\":\"AAAAAACUmUAAAAAAAE/CQAAAAAAAZ8hAAAAAAACHu0AAAAAAwBXUQAAAAACAys5AAAAAAABsuUAAAAAAAEHgQAAAAABALuRAAAAAAKDt5EAAAAAAACfPQAAAAADAYNZAAAAAACDN40AAAAAAADajQAAAAACA4M1AAAAAAICrzkAAAAAAgOfjQAAAAACACMBAAAAAAACUmUAAAAAAAHS5QAAAAAAAn7RAAAAAAIDcwUAAAAAAAKXKQAAAAAAAosxAAAAAAMA+8UAAAAAAABPNQAAAAAAAXJZAAAAAAACohkAAAAAAAKKjQAAAAAAAFqRAAAAAAKDo40AAAAAAAHW3QAAAAAAAAPh/AAAAAACEnkAAAAAAAAD4fwAAAAAAwdJAAAAAAABrwkAAAAAAgAzFQAAAAAAASJZAAAAAAADAg0AAAAAAAJ21QAAAAAAAEchAAAAAAACYpkAAAAAAQIXTQAAAAABAC9JAAAAAAGB64EAAAAAAAAD4fwAAAACg/uRAAAAAAADSpEAAAAAAAAD4fwAAAACAL8JAAAAAAIC7xEAAAAAAAEW8QAAAAADgz+BAAAAAAADskEAAAAAAgDPVQAAAAAAA5JBAAAAAAAC6u0AAAAAAIEDjQAAAAAAg8eFAAAAAAAAA+H8AAAAAAAD4fwAAAAAAN89AAAAAAAAMmkAAAAAAADK3QAAAAAAA1+NAAAAAAAAmqEAAAAAAgIHcQAAAAACAYdhAAAAAAADVxUAAAAAAAAD4fwAAAAAAAPh/AAAAAADBukAAAAAAAISSQAAAAAAAYJVAAAAAAACmtUAAAAAAALiXQAAAAAAArrBAAAAAAIB950AAAAAAgIvVQAAAAAAg8+JAAAAAAADDsUAAAAAAAJnAQAAAAAAAldBAAAAAAAAVyEAAAAAAgGrlQAAAAABA0dxAAAAAACB14UAAAAAAAFnAQAAAAACAzOBAAAAAAAD8xUAAAAAAQCTTQAAAAAAAjqNAAAAAAAAEm0AAAAAAAAD4fwAAAAAAAPh/AAAAAFBm8kAAAAAAAAD4fwAAAAAAAPh/AAAAAAC50UAAAAAAgMPPQAAAAAAAdqFAAAAAAACIhUAAAAAAQI3dQAAAAACARdRAAAAAALBA9kAAAAAAIBr4QAAAAACA1cVAAAAAAAC4lUAAAAAAAAiHQAAAAACA69NAAAAAAADNxkAAAAAAAACaQAAAAACAQNtAAAAAAAAA+H8AAAAAAMapQAAAAACAd85AAAAAAAAA+H8AAAAAADLOQAAAAAAAEqpAAAAAAACqrkAAAAAAABy+QAAAAAAArMpAAAAAAABCuUAAAAAAABCNQAAAAAAACqhAAAAAAIB4wEAAAAAAADyfQAAAAABgYuZAAAAAAAAA+H8AAAAAAAD4fwAAAAAAFN9AAAAAAAD8rkAAAAAAAEiKQAAAAAAA+rNAAAAAAEC87kAAAAAAgAToQAAAAAAAfLBAAAAAAIAkzUAAAAAAAOagQAAAAAAAYLtAAAAAAIBdw0AAAAAAAO61QAAAAAAA1NRAAAAAAEDA2kAAAAAAwNLgQAAAAAAAP/9AAAAAAAAA+H8AAAAAAH7QQAAAAAAAKNVAAAAAAAC4k0AAAAAAAAD4fwAAAAAAAPh/AAAAAAAdtUAAAAAAAG6lQAAAAADAQ+ZAAAAAAAAMoUAAAAAAgAbIQAAAAAAA49NAAAAAAAAMlUAAAAAAgJfxQAAAAACA3ddAAAAAAEC220AAAAAAAOybQAAAAAAAMINAAAAAAICbx0AAAAAAAPytQAAAAABAHOBAAAAAAACUvUAAAAAAAKSpQAAAAACA+stAAAAAAADmtkAAAAAAQPLkQAAAAADgdOpAAAAAAADLuUAAAAAAoBXjQAAAAAAAfKBAAAAAAAC+oEAAAAAAAAvJQAAAAAAAxJtAAAAAAAB4k0AAAAAAAFGzQAAAAABAotxAAAAAAIBVxEAAAAAAgEjQQAAAAAAAmMNAAAAAAACsl0AAAAAAAKS+QAAAAACAqOtAAAAAAACy4UAAAAAAoBvoQAAAAADAsdBAAAAAAABZsEAAAAAAAAinQAAAAAAAJtBAAAAAAACGsUAAAAAAAAD4fwAAAAAAQ7BAAAAAAAAA+H8AAAAAAAD4fwAAAAAA9qpAAAAAAAAwl0A=\",\"dtype\":\"float64\",\"shape\":[202]},\"y\":{\"__ndarray__\":\"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\",\"dtype\":\"float64\",\"shape\":[202]}},\"selected\":{\"id\":\"2774\",\"type\":\"Selection\"},\"selection_policy\":{\"id\":\"2775\",\"type\":\"UnionRenderers\"}},\"id\":\"2683\",\"type\":\"ColumnDataSource\"},{\"attributes\":{},\"id\":\"2669\",\"type\":\"WheelZoomTool\"},{\"attributes\":{\"formatter\":{\"id\":\"2925\",\"type\":\"NumeralTickFormatter\"},\"plot\":{\"id\":\"2649\",\"subtype\":\"Figure\",\"type\":\"Plot\"},\"ticker\":{\"id\":\"2659\",\"type\":\"LogTicker\"}},\"id\":\"2658\",\"type\":\"LogAxis\"},{\"attributes\":{\"callback\":null,\"data\":{\"x\":{\"__ndarray__\":\"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\",\"dtype\":\"float64\",\"shape\":[202]},\"y\":{\"__ndarray__\":\"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\",\"dtype\":\"float64\",\"shape\":[202]}},\"selected\":{\"id\":\"2923\",\"type\":\"Selection\"},\"selection_policy\":{\"id\":\"2924\",\"type\":\"UnionRenderers\"}},\"id\":\"2830\",\"type\":\"ColumnDataSource\"},{\"attributes\":{},\"id\":\"2668\",\"type\":\"PanTool\"},{\"attributes\":{\"data_source\":{\"id\":\"2683\",\"type\":\"ColumnDataSource\"},\"glyph\":{\"id\":\"2684\",\"type\":\"Circle\"},\"hover_glyph\":null,\"muted_glyph\":null,\"nonselection_glyph\":{\"id\":\"2685\",\"type\":\"Circle\"},\"selection_glyph\":null,\"view\":{\"id\":\"2687\",\"type\":\"CDSView\"}},\"id\":\"2686\",\"type\":\"GlyphRenderer\"},{\"attributes\":{\"plot\":null,\"text\":\"\"},\"id\":\"2767\",\"type\":\"Title\"},{\"attributes\":{\"overlay\":{\"id\":\"2676\",\"type\":\"BoxAnnotation\"}},\"id\":\"2670\",\"type\":\"BoxZoomTool\"},{\"attributes\":{\"bottom_units\":\"screen\",\"fill_alpha\":{\"value\":0.5},\"fill_color\":{\"value\":\"lightgrey\"},\"left_units\":\"screen\",\"level\":\"overlay\",\"line_alpha\":{\"value\":1.0},\"line_color\":{\"value\":\"black\"},\"line_dash\":[4,4],\"line_width\":{\"value\":2},\"plot\":null,\"render_mode\":\"css\",\"right_units\":\"screen\",\"top_units\":\"screen\"},\"id\":\"2676\",\"type\":\"BoxAnnotation\"},{\"attributes\":{\"dimension\":1,\"plot\":{\"id\":\"2649\",\"subtype\":\"Figure\",\"type\":\"Plot\"},\"ticker\":{\"id\":\"2664\",\"type\":\"BasicTicker\"}},\"id\":\"2667\",\"type\":\"Grid\"},{\"attributes\":{\"fill_color\":{\"value\":\"#1f77b4\"},\"line_color\":{\"value\":\"#1f77b4\"},\"x\":{\"field\":\"x\"},\"y\":{\"field\":\"y\"}},\"id\":\"2684\",\"type\":\"Circle\"},{\"attributes\":{\"fill_color\":{\"value\":\"#1f77b4\"},\"line_color\":{\"value\":\"#1f77b4\"},\"x\":{\"field\":\"x\"},\"y\":{\"field\":\"y\"}},\"id\":\"2831\",\"type\":\"Circle\"},{\"attributes\":{\"data_source\":{\"id\":\"2830\",\"type\":\"ColumnDataSource\"},\"glyph\":{\"id\":\"2831\",\"type\":\"Circle\"},\"hover_glyph\":null,\"muted_glyph\":null,\"nonselection_glyph\":{\"id\":\"2832\",\"type\":\"Circle\"},\"selection_glyph\":null,\"view\":{\"id\":\"2834\",\"type\":\"CDSView\"}},\"id\":\"2833\",\"type\":\"GlyphRenderer\"},{\"attributes\":{},\"id\":\"2672\",\"type\":\"ResetTool\"},{\"attributes\":{\"formatter\":{\"id\":\"2771\",\"type\":\"BasicTickFormatter\"},\"plot\":{\"id\":\"2649\",\"subtype\":\"Figure\",\"type\":\"Plot\"},\"ticker\":{\"id\":\"2664\",\"type\":\"BasicTicker\"}},\"id\":\"2663\",\"type\":\"LinearAxis\"},{\"attributes\":{\"plot\":{\"id\":\"2649\",\"subtype\":\"Figure\",\"type\":\"Plot\"},\"ticker\":{\"id\":\"2659\",\"type\":\"LogTicker\"}},\"id\":\"2662\",\"type\":\"Grid\"},{\"attributes\":{},\"id\":\"2664\",\"type\":\"BasicTicker\"},{\"attributes\":{\"source\":{\"id\":\"2830\",\"type\":\"ColumnDataSource\"}},\"id\":\"2834\",\"type\":\"CDSView\"},{\"attributes\":{},\"id\":\"2775\",\"type\":\"UnionRenderers\"},{\"attributes\":{\"num_minor_ticks\":10},\"id\":\"2659\",\"type\":\"LogTicker\"},{\"attributes\":{},\"id\":\"2924\",\"type\":\"UnionRenderers\"},{\"attributes\":{},\"id\":\"2654\",\"type\":\"LogScale\"},{\"attributes\":{},\"id\":\"2673\",\"type\":\"HelpTool\"},{\"attributes\":{},\"id\":\"2656\",\"type\":\"LinearScale\"},{\"attributes\":{},\"id\":\"2923\",\"type\":\"Selection\"},{\"attributes\":{\"fill_alpha\":{\"value\":0.1},\"fill_color\":{\"value\":\"#1f77b4\"},\"line_alpha\":{\"value\":0.1},\"line_color\":{\"value\":\"#1f77b4\"},\"x\":{\"field\":\"x\"},\"y\":{\"field\":\"y\"}},\"id\":\"2832\",\"type\":\"Circle\"},{\"attributes\":{},\"id\":\"2774\",\"type\":\"Selection\"},{\"attributes\":{\"callback\":null,\"end\":100000,\"start\":100},\"id\":\"2650\",\"type\":\"Range1d\"},{\"attributes\":{\"format\":\"$0,\"},\"id\":\"2925\",\"type\":\"NumeralTickFormatter\"},{\"attributes\":{},\"id\":\"2771\",\"type\":\"BasicTickFormatter\"},{\"attributes\":{\"callback\":null,\"end\":100},\"id\":\"2652\",\"type\":\"Range1d\"}],\"root_ids\":[\"2649\"]},\"title\":\"Bokeh Application\",\"version\":\"1.0.4\"}};\n",
       "  var render_items = [{\"docid\":\"a7202326-2706-40c3-9b0a-bc32946f6b84\",\"roots\":{\"2649\":\"bf122c48-11d0-415f-bb0c-14510d6ad49a\"}}];\n",
       "  root.Bokeh.embed.embed_items_notebook(docs_json, render_items);\n",
       "\n",
       "  }\n",
       "  if (root.Bokeh !== undefined) {\n",
       "    embed_document(root);\n",
       "  } else {\n",
       "    var attempts = 0;\n",
       "    var timer = setInterval(function(root) {\n",
       "      if (root.Bokeh !== undefined) {\n",
       "        embed_document(root);\n",
       "        clearInterval(timer);\n",
       "      }\n",
       "      attempts++;\n",
       "      if (attempts > 100) {\n",
       "        console.log(\"Bokeh: ERROR: Unable to run BokehJS code because BokehJS library is missing\");\n",
       "        clearInterval(timer);\n",
       "      }\n",
       "    }, 10, root)\n",
       "  }\n",
       "})(window);"
      ],
      "application/vnd.bokehjs_exec.v0+json": ""
     },
     "metadata": {
      "application/vnd.bokehjs_exec.v0+json": {
       "id": "2649"
      }
     },
     "output_type": "display_data"
    }
   ],
   "source": [
    "# use the formatter to format the x-axis\n",
    "gdp = data_2010.gdp\n",
    "life_expectancy = data_2010.life\n",
    "fig.circle(x = gdp, y = life_expectancy)\n",
    "fig.xaxis[0].formatter = NumeralTickFormatter(format=\"$0,\")\n",
    "show(fig)"
   ]
  },
  {
   "cell_type": "code",
   "execution_count": null,
   "metadata": {},
   "outputs": [],
   "source": []
  },
  {
   "cell_type": "markdown",
   "metadata": {},
   "source": [
    "##  ColumnDataSource"
   ]
  },
  {
   "cell_type": "code",
   "execution_count": 46,
   "metadata": {},
   "outputs": [],
   "source": [
    "source = ColumnDataSource(dict(\n",
    "    x = gdp,\n",
    "    y = life_expectancy,\n",
    "    country = data_2010.Country\n",
    "))"
   ]
  },
  {
   "cell_type": "code",
   "execution_count": 47,
   "metadata": {},
   "outputs": [
    {
     "data": {
      "text/plain": [
       "['x', 'y', 'country']"
      ]
     },
     "execution_count": 47,
     "metadata": {},
     "output_type": "execute_result"
    }
   ],
   "source": [
    "#source.data\n",
    "source.column_names"
   ]
  },
  {
   "cell_type": "code",
   "execution_count": null,
   "metadata": {},
   "outputs": [],
   "source": []
  },
  {
   "cell_type": "code",
   "execution_count": 52,
   "metadata": {},
   "outputs": [],
   "source": [
    "PLOT_OPTS = dict(\n",
    "   # height = 200,\n",
    "    x_axis_type = 'log',\n",
    "    x_range = (100, 100000),\n",
    "    y_range = (0, 100)\n",
    ")"
   ]
  },
  {
   "cell_type": "code",
   "execution_count": 53,
   "metadata": {},
   "outputs": [
    {
     "data": {
      "text/plain": [
       "{'x_axis_type': 'log', 'x_range': (100, 100000), 'y_range': (0, 100)}"
      ]
     },
     "execution_count": 53,
     "metadata": {},
     "output_type": "execute_result"
    }
   ],
   "source": [
    "PLOT_OPTS"
   ]
  },
  {
   "cell_type": "code",
   "execution_count": null,
   "metadata": {},
   "outputs": [],
   "source": []
  },
  {
   "cell_type": "code",
   "execution_count": 54,
   "metadata": {},
   "outputs": [
    {
     "data": {
      "text/html": [
       "\n",
       "\n",
       "\n",
       "\n",
       "\n",
       "\n",
       "  <div class=\"bk-root\" id=\"125051ff-abd4-454f-99f8-a3d010d71014\" data-root-id=\"3457\"></div>\n"
      ]
     },
     "metadata": {},
     "output_type": "display_data"
    },
    {
     "data": {
      "application/javascript": [
       "(function(root) {\n",
       "  function embed_document(root) {\n",
       "    \n",
       "  var docs_json = {\"d733cde8-6599-485d-87ff-d4b05452aae4\":{\"roots\":{\"references\":[{\"attributes\":{\"below\":[{\"id\":\"3466\",\"type\":\"LogAxis\"}],\"left\":[{\"id\":\"3471\",\"type\":\"LinearAxis\"}],\"renderers\":[{\"id\":\"3466\",\"type\":\"LogAxis\"},{\"id\":\"3470\",\"type\":\"Grid\"},{\"id\":\"3471\",\"type\":\"LinearAxis\"},{\"id\":\"3475\",\"type\":\"Grid\"},{\"id\":\"3484\",\"type\":\"BoxAnnotation\"},{\"id\":\"3494\",\"type\":\"GlyphRenderer\"}],\"title\":{\"id\":\"3603\",\"type\":\"Title\"},\"toolbar\":{\"id\":\"3482\",\"type\":\"Toolbar\"},\"x_range\":{\"id\":\"3458\",\"type\":\"Range1d\"},\"x_scale\":{\"id\":\"3462\",\"type\":\"LogScale\"},\"y_range\":{\"id\":\"3460\",\"type\":\"Range1d\"},\"y_scale\":{\"id\":\"3464\",\"type\":\"LinearScale\"}},\"id\":\"3457\",\"subtype\":\"Figure\",\"type\":\"Plot\"},{\"attributes\":{},\"id\":\"3606\",\"type\":\"BasicTickFormatter\"},{\"attributes\":{\"callback\":null,\"end\":100000,\"start\":100},\"id\":\"3458\",\"type\":\"Range1d\"},{\"attributes\":{\"fill_alpha\":{\"value\":0.1},\"fill_color\":{\"value\":\"#1f77b4\"},\"line_alpha\":{\"value\":0.1},\"line_color\":{\"value\":\"#1f77b4\"},\"x\":{\"field\":\"x\"},\"y\":{\"field\":\"y\"}},\"id\":\"3493\",\"type\":\"Circle\"},{\"attributes\":{\"callback\":null,\"end\":100},\"id\":\"3460\",\"type\":\"Range1d\"},{\"attributes\":{},\"id\":\"3462\",\"type\":\"LogScale\"},{\"attributes\":{},\"id\":\"3464\",\"type\":\"LinearScale\"},{\"attributes\":{\"formatter\":{\"id\":\"3496\",\"type\":\"NumeralTickFormatter\"},\"plot\":{\"id\":\"3457\",\"subtype\":\"Figure\",\"type\":\"Plot\"},\"ticker\":{\"id\":\"3467\",\"type\":\"LogTicker\"}},\"id\":\"3466\",\"type\":\"LogAxis\"},{\"attributes\":{\"plot\":{\"id\":\"3457\",\"subtype\":\"Figure\",\"type\":\"Plot\"},\"ticker\":{\"id\":\"3467\",\"type\":\"LogTicker\"}},\"id\":\"3470\",\"type\":\"Grid\"},{\"attributes\":{\"bottom_units\":\"screen\",\"fill_alpha\":{\"value\":0.5},\"fill_color\":{\"value\":\"lightgrey\"},\"left_units\":\"screen\",\"level\":\"overlay\",\"line_alpha\":{\"value\":1.0},\"line_color\":{\"value\":\"black\"},\"line_dash\":[4,4],\"line_width\":{\"value\":2},\"plot\":null,\"render_mode\":\"css\",\"right_units\":\"screen\",\"top_units\":\"screen\"},\"id\":\"3484\",\"type\":\"BoxAnnotation\"},{\"attributes\":{\"formatter\":{\"id\":\"3606\",\"type\":\"BasicTickFormatter\"},\"plot\":{\"id\":\"3457\",\"subtype\":\"Figure\",\"type\":\"Plot\"},\"ticker\":{\"id\":\"3472\",\"type\":\"BasicTicker\"}},\"id\":\"3471\",\"type\":\"LinearAxis\"},{\"attributes\":{\"data_source\":{\"id\":\"3076\",\"type\":\"ColumnDataSource\"},\"glyph\":{\"id\":\"3492\",\"type\":\"Circle\"},\"hover_glyph\":null,\"muted_glyph\":null,\"nonselection_glyph\":{\"id\":\"3493\",\"type\":\"Circle\"},\"selection_glyph\":null,\"view\":{\"id\":\"3495\",\"type\":\"CDSView\"}},\"id\":\"3494\",\"type\":\"GlyphRenderer\"},{\"attributes\":{},\"id\":\"3472\",\"type\":\"BasicTicker\"},{\"attributes\":{\"active_drag\":\"auto\",\"active_inspect\":\"auto\",\"active_multi\":null,\"active_scroll\":\"auto\",\"active_tap\":\"auto\",\"tools\":[{\"id\":\"3476\",\"type\":\"PanTool\"},{\"id\":\"3477\",\"type\":\"WheelZoomTool\"},{\"id\":\"3478\",\"type\":\"BoxZoomTool\"},{\"id\":\"3479\",\"type\":\"SaveTool\"},{\"id\":\"3480\",\"type\":\"ResetTool\"},{\"id\":\"3481\",\"type\":\"HelpTool\"}]},\"id\":\"3482\",\"type\":\"Toolbar\"},{\"attributes\":{\"dimension\":1,\"plot\":{\"id\":\"3457\",\"subtype\":\"Figure\",\"type\":\"Plot\"},\"ticker\":{\"id\":\"3472\",\"type\":\"BasicTicker\"}},\"id\":\"3475\",\"type\":\"Grid\"},{\"attributes\":{},\"id\":\"3213\",\"type\":\"Selection\"},{\"attributes\":{\"plot\":null,\"text\":\"\"},\"id\":\"3603\",\"type\":\"Title\"},{\"attributes\":{\"source\":{\"id\":\"3076\",\"type\":\"ColumnDataSource\"}},\"id\":\"3495\",\"type\":\"CDSView\"},{\"attributes\":{\"format\":\"$0,\"},\"id\":\"3496\",\"type\":\"NumeralTickFormatter\"},{\"attributes\":{},\"id\":\"3476\",\"type\":\"PanTool\"},{\"attributes\":{},\"id\":\"3477\",\"type\":\"WheelZoomTool\"},{\"attributes\":{\"fill_color\":{\"value\":\"#1f77b4\"},\"line_color\":{\"value\":\"#1f77b4\"},\"x\":{\"field\":\"x\"},\"y\":{\"field\":\"y\"}},\"id\":\"3492\",\"type\":\"Circle\"},{\"attributes\":{\"overlay\":{\"id\":\"3484\",\"type\":\"BoxAnnotation\"}},\"id\":\"3478\",\"type\":\"BoxZoomTool\"},{\"attributes\":{\"num_minor_ticks\":10},\"id\":\"3467\",\"type\":\"LogTicker\"},{\"attributes\":{\"callback\":null,\"data\":{\"country\":[\"Afghanistan\",\"Albania\",\"Algeria\",\"Angola\",\"Antigua and Barbuda\",\"Argentina\",\"Armenia\",\"Aruba\",\"Australia\",\"Austria\",\"Azerbaijan\",\"Bahamas\",\"Bahrain\",\"Bangladesh\",\"Barbados\",\"Belarus\",\"Belgium\",\"Belize\",\"Benin\",\"Bhutan\",\"Bolivia\",\"Bosnia and Herzegovina\",\"Botswana\",\"Brazil\",\"Brunei\",\"Bulgaria\",\"Burkina Faso\",\"Burundi\",\"Cambodia\",\"Cameroon\",\"Canada\",\"Cape Verde\",\"Central African Rep.\",\"Chad\",\"Channel Islands\",\"Chile\",\"China\",\"Colombia\",\"Comoros\",\"Congo, Dem. Rep.\",\"Congo, Rep.\",\"Costa Rica\",\"Cote d'Ivoire\",\"Croatia\",\"Cuba\",\"Cyprus\",\"Czech Rep.\",\"Denmark\",\"Djibouti\",\"Dominican Rep.\",\"Ecuador\",\"Egypt\",\"El Salvador\",\"Equatorial Guinea\",\"Eritrea\",\"Estonia\",\"Ethiopia\",\"Fiji\",\"Finland\",\"France\",\"French Guiana\",\"French Polynesia\",\"Gabon\",\"Gambia\",\"Georgia\",\"Germany\",\"Ghana\",\"Greece\",\"Greenland\",\"Grenada\",\"Guadeloupe\",\"Guam\",\"Guatemala\",\"Guinea\",\"Guinea-Bissau\",\"Guyana\",\"Haiti\",\"Honduras\",\"Hong Kong, China\",\"Hungary\",\"Iceland\",\"India\",\"Indonesia\",\"Iran\",\"Iraq\",\"Ireland\",\"Israel\",\"Italy\",\"Jamaica\",\"Japan\",\"Jordan\",\"Kazakhstan\",\"Kenya\",\"Kiribati\",\"Korea, Dem. Rep.\",\"Korea, Rep.\",\"Kuwait\",\"Kyrgyzstan\",\"Laos\",\"Latvia\",\"Lebanon\",\"Lesotho\",\"Liberia\",\"Libya\",\"Lithuania\",\"Luxembourg\",\"Macao, China\",\"Macedonia, FYR\",\"Madagascar\",\"Malawi\",\"Malaysia\",\"Maldives\",\"Mali\",\"Malta\",\"Martinique\",\"Mauritania\",\"Mauritius\",\"Mayotte\",\"Mexico\",\"Micronesia, Fed. Sts.\",\"Moldova\",\"Mongolia\",\"Montenegro\",\"Morocco\",\"Mozambique\",\"Myanmar\",\"Namibia\",\"Nepal\",\"Netherlands\",\"Netherlands Antilles\",\"New Caledonia\",\"New Zealand\",\"Nicaragua\",\"Niger\",\"Nigeria\",\"Norway\",\"Oman\",\"Pakistan\",\"Panama\",\"Papua New Guinea\",\"Paraguay\",\"Peru\",\"Philippines\",\"Poland\",\"Portugal\",\"Puerto Rico\",\"Qatar\",\"Reunion\",\"Romania\",\"Russia\",\"Rwanda\",\"Saint Lucia\",\"Saint Vincent and the Grenadines\",\"Samoa\",\"Sao Tome and Principe\",\"Saudi Arabia\",\"Senegal\",\"Serbia\",\"Seychelles\",\"Sierra Leone\",\"Singapore\",\"Slovak Republic\",\"Slovenia\",\"Solomon Islands\",\"Somalia\",\"South Africa\",\"South Sudan\",\"Spain\",\"Sri Lanka\",\"Sudan\",\"Suriname\",\"Swaziland\",\"Sweden\",\"Switzerland\",\"Syria\",\"Taiwan\",\"Tajikistan\",\"Tanzania\",\"Thailand\",\"Timor-Leste\",\"Togo\",\"Tonga\",\"Trinidad and Tobago\",\"Tunisia\",\"Turkey\",\"Turkmenistan\",\"Uganda\",\"Ukraine\",\"United Arab Emirates\",\"United Kingdom\",\"United States\",\"Uruguay\",\"Uzbekistan\",\"Vanuatu\",\"Venezuela\",\"Vietnam\",\"Virgin Islands (U.S.)\",\"West Bank and Gaza\",\"Western Sahara\",\"Yemen, Rep.\",\"Zambia\",\"Zimbabwe\"],\"x\":{\"__ndarray__\":\"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\",\"dtype\":\"float64\",\"shape\":[202]},\"y\":{\"__ndarray__\":\"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\",\"dtype\":\"float64\",\"shape\":[202]}},\"selected\":{\"id\":\"3213\",\"type\":\"Selection\"},\"selection_policy\":{\"id\":\"3214\",\"type\":\"UnionRenderers\"}},\"id\":\"3076\",\"type\":\"ColumnDataSource\"},{\"attributes\":{},\"id\":\"3214\",\"type\":\"UnionRenderers\"},{\"attributes\":{},\"id\":\"3479\",\"type\":\"SaveTool\"},{\"attributes\":{},\"id\":\"3480\",\"type\":\"ResetTool\"},{\"attributes\":{},\"id\":\"3481\",\"type\":\"HelpTool\"}],\"root_ids\":[\"3457\"]},\"title\":\"Bokeh Application\",\"version\":\"1.0.4\"}};\n",
       "  var render_items = [{\"docid\":\"d733cde8-6599-485d-87ff-d4b05452aae4\",\"roots\":{\"3457\":\"125051ff-abd4-454f-99f8-a3d010d71014\"}}];\n",
       "  root.Bokeh.embed.embed_items_notebook(docs_json, render_items);\n",
       "\n",
       "  }\n",
       "  if (root.Bokeh !== undefined) {\n",
       "    embed_document(root);\n",
       "  } else {\n",
       "    var attempts = 0;\n",
       "    var timer = setInterval(function(root) {\n",
       "      if (root.Bokeh !== undefined) {\n",
       "        embed_document(root);\n",
       "        clearInterval(timer);\n",
       "      }\n",
       "      attempts++;\n",
       "      if (attempts > 100) {\n",
       "        console.log(\"Bokeh: ERROR: Unable to run BokehJS code because BokehJS library is missing\");\n",
       "        clearInterval(timer);\n",
       "      }\n",
       "    }, 10, root)\n",
       "  }\n",
       "})(window);"
      ],
      "application/vnd.bokehjs_exec.v0+json": ""
     },
     "metadata": {
      "application/vnd.bokehjs_exec.v0+json": {
       "id": "3457"
      }
     },
     "output_type": "display_data"
    }
   ],
   "source": [
    "fig = figure(**PLOT_OPTS)\n",
    "fig.circle(x = 'x', y = 'y', source = source)\n",
    "fig.xaxis[0].formatter = NumeralTickFormatter(format=\"$0,\")\n",
    "show(fig)"
   ]
  },
  {
   "cell_type": "code",
   "execution_count": null,
   "metadata": {},
   "outputs": [],
   "source": []
  },
  {
   "cell_type": "markdown",
   "metadata": {},
   "source": [
    "###  Add a hover"
   ]
  },
  {
   "cell_type": "code",
   "execution_count": null,
   "metadata": {},
   "outputs": [],
   "source": []
  },
  {
   "cell_type": "code",
   "execution_count": 55,
   "metadata": {},
   "outputs": [
    {
     "data": {
      "text/html": [
       "\n",
       "\n",
       "\n",
       "\n",
       "\n",
       "\n",
       "  <div class=\"bk-root\" id=\"d54829ad-3453-454d-be99-da4f3846dcef\" data-root-id=\"3660\"></div>\n"
      ]
     },
     "metadata": {},
     "output_type": "display_data"
    },
    {
     "data": {
      "application/javascript": [
       "(function(root) {\n",
       "  function embed_document(root) {\n",
       "    \n",
       "  var docs_json = {\"0489af20-58df-4678-8d94-0643a7b7e6b7\":{\"roots\":{\"references\":[{\"attributes\":{\"below\":[{\"id\":\"3669\",\"type\":\"LogAxis\"}],\"left\":[{\"id\":\"3674\",\"type\":\"LinearAxis\"}],\"renderers\":[{\"id\":\"3669\",\"type\":\"LogAxis\"},{\"id\":\"3673\",\"type\":\"Grid\"},{\"id\":\"3674\",\"type\":\"LinearAxis\"},{\"id\":\"3678\",\"type\":\"Grid\"},{\"id\":\"3684\",\"type\":\"GlyphRenderer\"}],\"title\":{\"id\":\"3801\",\"type\":\"Title\"},\"toolbar\":{\"id\":\"3679\",\"type\":\"Toolbar\"},\"x_range\":{\"id\":\"3661\",\"type\":\"Range1d\"},\"x_scale\":{\"id\":\"3665\",\"type\":\"LogScale\"},\"y_range\":{\"id\":\"3663\",\"type\":\"Range1d\"},\"y_scale\":{\"id\":\"3667\",\"type\":\"LinearScale\"}},\"id\":\"3660\",\"subtype\":\"Figure\",\"type\":\"Plot\"},{\"attributes\":{\"fill_alpha\":{\"value\":0.6},\"fill_color\":{\"value\":\"#1f77b4\"},\"line_alpha\":{\"value\":0.6},\"line_color\":{\"value\":\"#1f77b4\"},\"size\":{\"units\":\"screen\",\"value\":15},\"x\":{\"field\":\"x\"},\"y\":{\"field\":\"y\"}},\"id\":\"3682\",\"type\":\"Circle\"},{\"attributes\":{\"active_drag\":\"auto\",\"active_inspect\":\"auto\",\"active_multi\":null,\"active_scroll\":\"auto\",\"active_tap\":\"auto\",\"tools\":[{\"id\":\"3659\",\"type\":\"HoverTool\"}]},\"id\":\"3679\",\"type\":\"Toolbar\"},{\"attributes\":{\"data_source\":{\"id\":\"3076\",\"type\":\"ColumnDataSource\"},\"glyph\":{\"id\":\"3682\",\"type\":\"Circle\"},\"hover_glyph\":null,\"muted_glyph\":null,\"nonselection_glyph\":{\"id\":\"3683\",\"type\":\"Circle\"},\"selection_glyph\":null,\"view\":{\"id\":\"3685\",\"type\":\"CDSView\"}},\"id\":\"3684\",\"type\":\"GlyphRenderer\"},{\"attributes\":{\"source\":{\"id\":\"3076\",\"type\":\"ColumnDataSource\"}},\"id\":\"3685\",\"type\":\"CDSView\"},{\"attributes\":{\"formatter\":{\"id\":\"3804\",\"type\":\"BasicTickFormatter\"},\"plot\":{\"id\":\"3660\",\"subtype\":\"Figure\",\"type\":\"Plot\"},\"ticker\":{\"id\":\"3675\",\"type\":\"BasicTicker\"}},\"id\":\"3674\",\"type\":\"LinearAxis\"},{\"attributes\":{\"dimension\":1,\"plot\":{\"id\":\"3660\",\"subtype\":\"Figure\",\"type\":\"Plot\"},\"ticker\":{\"id\":\"3675\",\"type\":\"BasicTicker\"}},\"id\":\"3678\",\"type\":\"Grid\"},{\"attributes\":{\"formatter\":{\"id\":\"3686\",\"type\":\"NumeralTickFormatter\"},\"plot\":{\"id\":\"3660\",\"subtype\":\"Figure\",\"type\":\"Plot\"},\"ticker\":{\"id\":\"3670\",\"type\":\"LogTicker\"}},\"id\":\"3669\",\"type\":\"LogAxis\"},{\"attributes\":{},\"id\":\"3667\",\"type\":\"LinearScale\"},{\"attributes\":{},\"id\":\"3804\",\"type\":\"BasicTickFormatter\"},{\"attributes\":{},\"id\":\"3213\",\"type\":\"Selection\"},{\"attributes\":{},\"id\":\"3665\",\"type\":\"LogScale\"},{\"attributes\":{\"format\":\"$0,\"},\"id\":\"3686\",\"type\":\"NumeralTickFormatter\"},{\"attributes\":{\"plot\":{\"id\":\"3660\",\"subtype\":\"Figure\",\"type\":\"Plot\"},\"ticker\":{\"id\":\"3670\",\"type\":\"LogTicker\"}},\"id\":\"3673\",\"type\":\"Grid\"},{\"attributes\":{\"fill_alpha\":{\"value\":0.1},\"fill_color\":{\"value\":\"#1f77b4\"},\"line_alpha\":{\"value\":0.1},\"line_color\":{\"value\":\"#1f77b4\"},\"size\":{\"units\":\"screen\",\"value\":15},\"x\":{\"field\":\"x\"},\"y\":{\"field\":\"y\"}},\"id\":\"3683\",\"type\":\"Circle\"},{\"attributes\":{\"plot\":null,\"text\":\"\"},\"id\":\"3801\",\"type\":\"Title\"},{\"attributes\":{\"callback\":null,\"show_arrow\":false,\"tooltips\":\"@country\"},\"id\":\"3659\",\"type\":\"HoverTool\"},{\"attributes\":{\"callback\":null,\"end\":100},\"id\":\"3663\",\"type\":\"Range1d\"},{\"attributes\":{\"num_minor_ticks\":10},\"id\":\"3670\",\"type\":\"LogTicker\"},{\"attributes\":{\"callback\":null,\"data\":{\"country\":[\"Afghanistan\",\"Albania\",\"Algeria\",\"Angola\",\"Antigua and Barbuda\",\"Argentina\",\"Armenia\",\"Aruba\",\"Australia\",\"Austria\",\"Azerbaijan\",\"Bahamas\",\"Bahrain\",\"Bangladesh\",\"Barbados\",\"Belarus\",\"Belgium\",\"Belize\",\"Benin\",\"Bhutan\",\"Bolivia\",\"Bosnia and Herzegovina\",\"Botswana\",\"Brazil\",\"Brunei\",\"Bulgaria\",\"Burkina Faso\",\"Burundi\",\"Cambodia\",\"Cameroon\",\"Canada\",\"Cape Verde\",\"Central African Rep.\",\"Chad\",\"Channel Islands\",\"Chile\",\"China\",\"Colombia\",\"Comoros\",\"Congo, Dem. Rep.\",\"Congo, Rep.\",\"Costa Rica\",\"Cote d'Ivoire\",\"Croatia\",\"Cuba\",\"Cyprus\",\"Czech Rep.\",\"Denmark\",\"Djibouti\",\"Dominican Rep.\",\"Ecuador\",\"Egypt\",\"El Salvador\",\"Equatorial Guinea\",\"Eritrea\",\"Estonia\",\"Ethiopia\",\"Fiji\",\"Finland\",\"France\",\"French Guiana\",\"French Polynesia\",\"Gabon\",\"Gambia\",\"Georgia\",\"Germany\",\"Ghana\",\"Greece\",\"Greenland\",\"Grenada\",\"Guadeloupe\",\"Guam\",\"Guatemala\",\"Guinea\",\"Guinea-Bissau\",\"Guyana\",\"Haiti\",\"Honduras\",\"Hong Kong, China\",\"Hungary\",\"Iceland\",\"India\",\"Indonesia\",\"Iran\",\"Iraq\",\"Ireland\",\"Israel\",\"Italy\",\"Jamaica\",\"Japan\",\"Jordan\",\"Kazakhstan\",\"Kenya\",\"Kiribati\",\"Korea, Dem. Rep.\",\"Korea, Rep.\",\"Kuwait\",\"Kyrgyzstan\",\"Laos\",\"Latvia\",\"Lebanon\",\"Lesotho\",\"Liberia\",\"Libya\",\"Lithuania\",\"Luxembourg\",\"Macao, China\",\"Macedonia, FYR\",\"Madagascar\",\"Malawi\",\"Malaysia\",\"Maldives\",\"Mali\",\"Malta\",\"Martinique\",\"Mauritania\",\"Mauritius\",\"Mayotte\",\"Mexico\",\"Micronesia, Fed. Sts.\",\"Moldova\",\"Mongolia\",\"Montenegro\",\"Morocco\",\"Mozambique\",\"Myanmar\",\"Namibia\",\"Nepal\",\"Netherlands\",\"Netherlands Antilles\",\"New Caledonia\",\"New Zealand\",\"Nicaragua\",\"Niger\",\"Nigeria\",\"Norway\",\"Oman\",\"Pakistan\",\"Panama\",\"Papua New Guinea\",\"Paraguay\",\"Peru\",\"Philippines\",\"Poland\",\"Portugal\",\"Puerto Rico\",\"Qatar\",\"Reunion\",\"Romania\",\"Russia\",\"Rwanda\",\"Saint Lucia\",\"Saint Vincent and the Grenadines\",\"Samoa\",\"Sao Tome and Principe\",\"Saudi Arabia\",\"Senegal\",\"Serbia\",\"Seychelles\",\"Sierra Leone\",\"Singapore\",\"Slovak Republic\",\"Slovenia\",\"Solomon Islands\",\"Somalia\",\"South Africa\",\"South Sudan\",\"Spain\",\"Sri Lanka\",\"Sudan\",\"Suriname\",\"Swaziland\",\"Sweden\",\"Switzerland\",\"Syria\",\"Taiwan\",\"Tajikistan\",\"Tanzania\",\"Thailand\",\"Timor-Leste\",\"Togo\",\"Tonga\",\"Trinidad and Tobago\",\"Tunisia\",\"Turkey\",\"Turkmenistan\",\"Uganda\",\"Ukraine\",\"United Arab Emirates\",\"United Kingdom\",\"United States\",\"Uruguay\",\"Uzbekistan\",\"Vanuatu\",\"Venezuela\",\"Vietnam\",\"Virgin Islands (U.S.)\",\"West Bank and Gaza\",\"Western Sahara\",\"Yemen, Rep.\",\"Zambia\",\"Zimbabwe\"],\"x\":{\"__ndarray__\":\"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\",\"dtype\":\"float64\",\"shape\":[202]},\"y\":{\"__ndarray__\":\"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\",\"dtype\":\"float64\",\"shape\":[202]}},\"selected\":{\"id\":\"3213\",\"type\":\"Selection\"},\"selection_policy\":{\"id\":\"3214\",\"type\":\"UnionRenderers\"}},\"id\":\"3076\",\"type\":\"ColumnDataSource\"},{\"attributes\":{},\"id\":\"3214\",\"type\":\"UnionRenderers\"},{\"attributes\":{\"callback\":null,\"end\":100000,\"start\":100},\"id\":\"3661\",\"type\":\"Range1d\"},{\"attributes\":{},\"id\":\"3675\",\"type\":\"BasicTicker\"}],\"root_ids\":[\"3660\"]},\"title\":\"Bokeh Application\",\"version\":\"1.0.4\"}};\n",
       "  var render_items = [{\"docid\":\"0489af20-58df-4678-8d94-0643a7b7e6b7\",\"roots\":{\"3660\":\"d54829ad-3453-454d-be99-da4f3846dcef\"}}];\n",
       "  root.Bokeh.embed.embed_items_notebook(docs_json, render_items);\n",
       "\n",
       "  }\n",
       "  if (root.Bokeh !== undefined) {\n",
       "    embed_document(root);\n",
       "  } else {\n",
       "    var attempts = 0;\n",
       "    var timer = setInterval(function(root) {\n",
       "      if (root.Bokeh !== undefined) {\n",
       "        embed_document(root);\n",
       "        clearInterval(timer);\n",
       "      }\n",
       "      attempts++;\n",
       "      if (attempts > 100) {\n",
       "        console.log(\"Bokeh: ERROR: Unable to run BokehJS code because BokehJS library is missing\");\n",
       "        clearInterval(timer);\n",
       "      }\n",
       "    }, 10, root)\n",
       "  }\n",
       "})(window);"
      ],
      "application/vnd.bokehjs_exec.v0+json": ""
     },
     "metadata": {
      "application/vnd.bokehjs_exec.v0+json": {
       "id": "3660"
      }
     },
     "output_type": "display_data"
    }
   ],
   "source": [
    "hover = HoverTool(tooltips='@country', show_arrow = False)\n",
    "fig = fig = figure(tools=[hover], **PLOT_OPTS) \n",
    "fig.circle(x = 'x', y = 'y', size = 15, alpha = 0.6, source = source)\n",
    "fig.xaxis[0].formatter = NumeralTickFormatter(format=\"$0,\")\n",
    "show(fig)"
   ]
  },
  {
   "cell_type": "code",
   "execution_count": null,
   "metadata": {},
   "outputs": [],
   "source": []
  },
  {
   "cell_type": "code",
   "execution_count": 56,
   "metadata": {},
   "outputs": [
    {
     "data": {
      "text/plain": [
       "['x', 'y', 'country', 'population', 'region']"
      ]
     },
     "execution_count": 56,
     "metadata": {},
     "output_type": "execute_result"
    }
   ],
   "source": [
    "source = ColumnDataSource(dict(\n",
    "    x = gdp,\n",
    "    y = life_expectancy,\n",
    "    country = data_2010.Country,\n",
    "    population = data_2010.population,\n",
    "    region = data_2010.region\n",
    "))\n",
    "source.column_names"
   ]
  },
  {
   "cell_type": "code",
   "execution_count": 57,
   "metadata": {},
   "outputs": [],
   "source": [
    "# YOu can also do it this way\n",
    "#source = ColumnDataSource(data.loc[2010])\n",
    "#source.column_names"
   ]
  },
  {
   "cell_type": "markdown",
   "metadata": {},
   "source": [
    "### Plot based on the size of the populations of countries"
   ]
  },
  {
   "cell_type": "code",
   "execution_count": 58,
   "metadata": {},
   "outputs": [
    {
     "data": {
      "text/html": [
       "\n",
       "\n",
       "\n",
       "\n",
       "\n",
       "\n",
       "  <div class=\"bk-root\" id=\"72db0e8a-9f47-4d27-844c-05d19203200e\" data-root-id=\"3854\"></div>\n"
      ]
     },
     "metadata": {},
     "output_type": "display_data"
    },
    {
     "data": {
      "application/javascript": [
       "(function(root) {\n",
       "  function embed_document(root) {\n",
       "    \n",
       "  var docs_json = {\"482cde42-b611-4edf-8daa-5588e7e2b8b6\":{\"roots\":{\"references\":[{\"attributes\":{\"below\":[{\"id\":\"3864\",\"type\":\"LogAxis\"}],\"left\":[{\"id\":\"3869\",\"type\":\"LinearAxis\"}],\"renderers\":[{\"id\":\"3864\",\"type\":\"LogAxis\"},{\"id\":\"3868\",\"type\":\"Grid\"},{\"id\":\"3869\",\"type\":\"LinearAxis\"},{\"id\":\"3873\",\"type\":\"Grid\"},{\"id\":\"3879\",\"type\":\"GlyphRenderer\"}],\"title\":{\"id\":\"3853\",\"type\":\"Title\"},\"toolbar\":{\"id\":\"3874\",\"type\":\"Toolbar\"},\"toolbar_location\":\"above\",\"x_range\":{\"id\":\"3856\",\"type\":\"Range1d\"},\"x_scale\":{\"id\":\"3860\",\"type\":\"LogScale\"},\"y_range\":{\"id\":\"3858\",\"type\":\"Range1d\"},\"y_scale\":{\"id\":\"3862\",\"type\":\"LinearScale\"}},\"id\":\"3854\",\"subtype\":\"Figure\",\"type\":\"Plot\"},{\"attributes\":{},\"id\":\"4005\",\"type\":\"BasicTickFormatter\"},{\"attributes\":{\"callback\":null,\"show_arrow\":false,\"tooltips\":\"@country\"},\"id\":\"3852\",\"type\":\"HoverTool\"},{\"attributes\":{\"source\":{\"id\":\"3850\",\"type\":\"ColumnDataSource\"}},\"id\":\"3880\",\"type\":\"CDSView\"},{\"attributes\":{\"formatter\":{\"id\":\"3881\",\"type\":\"NumeralTickFormatter\"},\"plot\":{\"id\":\"3854\",\"subtype\":\"Figure\",\"type\":\"Plot\"},\"ticker\":{\"id\":\"3865\",\"type\":\"LogTicker\"}},\"id\":\"3864\",\"type\":\"LogAxis\"},{\"attributes\":{\"format\":\"$0,\"},\"id\":\"3881\",\"type\":\"NumeralTickFormatter\"},{\"attributes\":{\"plot\":null,\"text\":\"Life Expectancy Against GDP in 2010\"},\"id\":\"3853\",\"type\":\"Title\"},{\"attributes\":{\"callback\":null,\"data\":{\"country\":[\"Afghanistan\",\"Albania\",\"Algeria\",\"Angola\",\"Antigua and Barbuda\",\"Argentina\",\"Armenia\",\"Aruba\",\"Australia\",\"Austria\",\"Azerbaijan\",\"Bahamas\",\"Bahrain\",\"Bangladesh\",\"Barbados\",\"Belarus\",\"Belgium\",\"Belize\",\"Benin\",\"Bhutan\",\"Bolivia\",\"Bosnia and Herzegovina\",\"Botswana\",\"Brazil\",\"Brunei\",\"Bulgaria\",\"Burkina Faso\",\"Burundi\",\"Cambodia\",\"Cameroon\",\"Canada\",\"Cape Verde\",\"Central African Rep.\",\"Chad\",\"Channel Islands\",\"Chile\",\"China\",\"Colombia\",\"Comoros\",\"Congo, Dem. Rep.\",\"Congo, Rep.\",\"Costa Rica\",\"Cote d'Ivoire\",\"Croatia\",\"Cuba\",\"Cyprus\",\"Czech Rep.\",\"Denmark\",\"Djibouti\",\"Dominican Rep.\",\"Ecuador\",\"Egypt\",\"El Salvador\",\"Equatorial Guinea\",\"Eritrea\",\"Estonia\",\"Ethiopia\",\"Fiji\",\"Finland\",\"France\",\"French Guiana\",\"French Polynesia\",\"Gabon\",\"Gambia\",\"Georgia\",\"Germany\",\"Ghana\",\"Greece\",\"Greenland\",\"Grenada\",\"Guadeloupe\",\"Guam\",\"Guatemala\",\"Guinea\",\"Guinea-Bissau\",\"Guyana\",\"Haiti\",\"Honduras\",\"Hong Kong, China\",\"Hungary\",\"Iceland\",\"India\",\"Indonesia\",\"Iran\",\"Iraq\",\"Ireland\",\"Israel\",\"Italy\",\"Jamaica\",\"Japan\",\"Jordan\",\"Kazakhstan\",\"Kenya\",\"Kiribati\",\"Korea, Dem. Rep.\",\"Korea, Rep.\",\"Kuwait\",\"Kyrgyzstan\",\"Laos\",\"Latvia\",\"Lebanon\",\"Lesotho\",\"Liberia\",\"Libya\",\"Lithuania\",\"Luxembourg\",\"Macao, China\",\"Macedonia, FYR\",\"Madagascar\",\"Malawi\",\"Malaysia\",\"Maldives\",\"Mali\",\"Malta\",\"Martinique\",\"Mauritania\",\"Mauritius\",\"Mayotte\",\"Mexico\",\"Micronesia, Fed. Sts.\",\"Moldova\",\"Mongolia\",\"Montenegro\",\"Morocco\",\"Mozambique\",\"Myanmar\",\"Namibia\",\"Nepal\",\"Netherlands\",\"Netherlands Antilles\",\"New Caledonia\",\"New Zealand\",\"Nicaragua\",\"Niger\",\"Nigeria\",\"Norway\",\"Oman\",\"Pakistan\",\"Panama\",\"Papua New Guinea\",\"Paraguay\",\"Peru\",\"Philippines\",\"Poland\",\"Portugal\",\"Puerto Rico\",\"Qatar\",\"Reunion\",\"Romania\",\"Russia\",\"Rwanda\",\"Saint Lucia\",\"Saint Vincent and the Grenadines\",\"Samoa\",\"Sao Tome and Principe\",\"Saudi Arabia\",\"Senegal\",\"Serbia\",\"Seychelles\",\"Sierra Leone\",\"Singapore\",\"Slovak Republic\",\"Slovenia\",\"Solomon Islands\",\"Somalia\",\"South Africa\",\"South Sudan\",\"Spain\",\"Sri Lanka\",\"Sudan\",\"Suriname\",\"Swaziland\",\"Sweden\",\"Switzerland\",\"Syria\",\"Taiwan\",\"Tajikistan\",\"Tanzania\",\"Thailand\",\"Timor-Leste\",\"Togo\",\"Tonga\",\"Trinidad and Tobago\",\"Tunisia\",\"Turkey\",\"Turkmenistan\",\"Uganda\",\"Ukraine\",\"United Arab Emirates\",\"United Kingdom\",\"United States\",\"Uruguay\",\"Uzbekistan\",\"Vanuatu\",\"Venezuela\",\"Vietnam\",\"Virgin Islands (U.S.)\",\"West Bank and Gaza\",\"Western Sahara\",\"Yemen, Rep.\",\"Zambia\",\"Zimbabwe\"],\"population\":{\"__ndarray__\":\"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\",\"dtype\":\"float64\",\"shape\":[202]},\"region\":[\"South Asia\",\"Europe & Central Asia\",\"Middle East & North Africa\",\"Sub-Saharan Africa\",\"America\",\"America\",\"Europe & Central Asia\",\"America\",\"East Asia & Pacific\",\"Europe & Central Asia\",\"Europe & Central Asia\",\"America\",\"Middle East & North Africa\",\"South Asia\",\"America\",\"Europe & Central Asia\",\"Europe & Central Asia\",\"America\",\"Sub-Saharan Africa\",\"South Asia\",\"America\",\"Europe & Central Asia\",\"Sub-Saharan Africa\",\"America\",\"East Asia & Pacific\",\"Europe & Central Asia\",\"Sub-Saharan Africa\",\"Sub-Saharan Africa\",\"East Asia & Pacific\",\"Sub-Saharan Africa\",\"America\",\"Sub-Saharan Africa\",\"Sub-Saharan Africa\",\"Sub-Saharan Africa\",\"Europe & Central Asia\",\"America\",\"East Asia & Pacific\",\"America\",\"Sub-Saharan Africa\",\"Sub-Saharan Africa\",\"Sub-Saharan Africa\",\"America\",\"Sub-Saharan Africa\",\"Europe & Central Asia\",\"America\",\"Europe & Central Asia\",\"Europe & Central Asia\",\"Europe & Central Asia\",\"Middle East & North Africa\",\"America\",\"America\",\"Middle East & North Africa\",\"America\",\"Sub-Saharan Africa\",\"Sub-Saharan Africa\",\"Europe & Central Asia\",\"Sub-Saharan Africa\",\"East Asia & Pacific\",\"Europe & Central Asia\",\"Europe & Central Asia\",\"America\",\"East Asia & Pacific\",\"Sub-Saharan Africa\",\"Sub-Saharan Africa\",\"Europe & Central Asia\",\"Europe & Central Asia\",\"Sub-Saharan Africa\",\"Europe & Central Asia\",\"Europe & Central Asia\",\"America\",\"America\",\"East Asia & Pacific\",\"America\",\"Sub-Saharan Africa\",\"Sub-Saharan Africa\",\"America\",\"America\",\"America\",\"East Asia & Pacific\",\"Europe & Central Asia\",\"Europe & Central Asia\",\"South Asia\",\"East Asia & Pacific\",\"Middle East & North Africa\",\"Middle East & North Africa\",\"Europe & Central Asia\",\"Middle East & North Africa\",\"Europe & Central Asia\",\"America\",\"East Asia & Pacific\",\"Middle East & North Africa\",\"Europe & Central Asia\",\"Sub-Saharan Africa\",\"East Asia & Pacific\",\"East Asia & Pacific\",\"East Asia & Pacific\",\"Middle East & North Africa\",\"Europe & Central Asia\",\"East Asia & Pacific\",\"Europe & Central Asia\",\"Middle East & North Africa\",\"Sub-Saharan Africa\",\"Sub-Saharan Africa\",\"Middle East & North Africa\",\"Europe & Central Asia\",\"Europe & Central Asia\",\"East Asia & Pacific\",\"Europe & Central Asia\",\"Sub-Saharan Africa\",\"Sub-Saharan Africa\",\"East Asia & Pacific\",\"South Asia\",\"Sub-Saharan Africa\",\"Europe & Central Asia\",\"America\",\"Sub-Saharan Africa\",\"Sub-Saharan Africa\",\"Sub-Saharan Africa\",\"America\",\"East Asia & Pacific\",\"Europe & Central Asia\",\"East Asia & Pacific\",\"Europe & Central Asia\",\"Middle East & North Africa\",\"Sub-Saharan Africa\",\"East Asia & Pacific\",\"Sub-Saharan Africa\",\"South Asia\",\"Europe & Central Asia\",\"America\",\"East Asia & Pacific\",\"East Asia & Pacific\",\"America\",\"Sub-Saharan Africa\",\"Sub-Saharan Africa\",\"Europe & Central Asia\",\"Middle East & North Africa\",\"South Asia\",\"America\",\"East Asia & Pacific\",\"America\",\"America\",\"East Asia & Pacific\",\"Europe & Central Asia\",\"Europe & Central Asia\",\"America\",\"Middle East & North Africa\",\"Sub-Saharan Africa\",\"Europe & Central Asia\",\"Europe & Central Asia\",\"Sub-Saharan Africa\",\"America\",\"America\",\"East Asia & Pacific\",\"Sub-Saharan Africa\",\"Middle East & North Africa\",\"Sub-Saharan Africa\",\"Europe & Central Asia\",\"Sub-Saharan Africa\",\"Sub-Saharan Africa\",\"East Asia & Pacific\",\"Europe & Central Asia\",\"Europe & Central Asia\",\"East Asia & Pacific\",\"Sub-Saharan Africa\",\"Sub-Saharan Africa\",\"Sub-Saharan Africa\",\"Europe & Central Asia\",\"South Asia\",\"Sub-Saharan Africa\",\"America\",\"Sub-Saharan Africa\",\"Europe & Central Asia\",\"Europe & Central Asia\",\"Middle East & North Africa\",\"East Asia & Pacific\",\"Europe & Central Asia\",\"Sub-Saharan Africa\",\"East Asia & Pacific\",\"East Asia & Pacific\",\"Sub-Saharan Africa\",\"East Asia & Pacific\",\"America\",\"Middle East & North Africa\",\"Europe & Central Asia\",\"Europe & Central Asia\",\"Sub-Saharan Africa\",\"Europe & Central Asia\",\"Middle East & North Africa\",\"Europe & Central Asia\",\"America\",\"America\",\"Europe & Central Asia\",\"East Asia & Pacific\",\"America\",\"East Asia & Pacific\",\"America\",\"Middle East & North Africa\",\"Middle East & North Africa\",\"Middle East & North Africa\",\"Sub-Saharan Africa\",\"Sub-Saharan Africa\"],\"x\":{\"__ndarray__\":\"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\",\"dtype\":\"float64\",\"shape\":[202]},\"y\":{\"__ndarray__\":\"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\",\"dtype\":\"float64\",\"shape\":[202]}},\"selected\":{\"id\":\"4007\",\"type\":\"Selection\"},\"selection_policy\":{\"id\":\"4008\",\"type\":\"UnionRenderers\"}},\"id\":\"3850\",\"type\":\"ColumnDataSource\"},{\"attributes\":{\"formatter\":{\"id\":\"4005\",\"type\":\"BasicTickFormatter\"},\"plot\":{\"id\":\"3854\",\"subtype\":\"Figure\",\"type\":\"Plot\"},\"ticker\":{\"id\":\"3870\",\"type\":\"BasicTicker\"}},\"id\":\"3869\",\"type\":\"LinearAxis\"},{\"attributes\":{\"callback\":null,\"end\":100000,\"start\":100},\"id\":\"3856\",\"type\":\"Range1d\"},{\"attributes\":{\"data_source\":{\"id\":\"3850\",\"type\":\"ColumnDataSource\"},\"glyph\":{\"id\":\"3877\",\"type\":\"Circle\"},\"hover_glyph\":null,\"muted_glyph\":null,\"nonselection_glyph\":{\"id\":\"3878\",\"type\":\"Circle\"},\"selection_glyph\":null,\"view\":{\"id\":\"3880\",\"type\":\"CDSView\"}},\"id\":\"3879\",\"type\":\"GlyphRenderer\"},{\"attributes\":{\"num_minor_ticks\":10},\"id\":\"3865\",\"type\":\"LogTicker\"},{\"attributes\":{\"data\":null,\"x\":[1170.0,1359368470.0],\"y\":[5,50]},\"id\":\"3851\",\"type\":\"LinearInterpolator\"},{\"attributes\":{},\"id\":\"4007\",\"type\":\"Selection\"},{\"attributes\":{},\"id\":\"4008\",\"type\":\"UnionRenderers\"},{\"attributes\":{\"dimension\":1,\"plot\":{\"id\":\"3854\",\"subtype\":\"Figure\",\"type\":\"Plot\"},\"ticker\":{\"id\":\"3870\",\"type\":\"BasicTicker\"}},\"id\":\"3873\",\"type\":\"Grid\"},{\"attributes\":{},\"id\":\"3862\",\"type\":\"LinearScale\"},{\"attributes\":{\"fill_alpha\":{\"value\":0.6},\"fill_color\":{\"value\":\"#1f77b4\"},\"line_alpha\":{\"value\":0.6},\"line_color\":{\"value\":\"#1f77b4\"},\"size\":{\"field\":\"population\",\"transform\":{\"id\":\"3851\",\"type\":\"LinearInterpolator\"},\"units\":\"screen\"},\"x\":{\"field\":\"x\"},\"y\":{\"field\":\"y\"}},\"id\":\"3877\",\"type\":\"Circle\"},{\"attributes\":{\"fill_alpha\":{\"value\":0.1},\"fill_color\":{\"value\":\"#1f77b4\"},\"line_alpha\":{\"value\":0.1},\"line_color\":{\"value\":\"#1f77b4\"},\"size\":{\"field\":\"population\",\"transform\":{\"id\":\"3851\",\"type\":\"LinearInterpolator\"},\"units\":\"screen\"},\"x\":{\"field\":\"x\"},\"y\":{\"field\":\"y\"}},\"id\":\"3878\",\"type\":\"Circle\"},{\"attributes\":{},\"id\":\"3870\",\"type\":\"BasicTicker\"},{\"attributes\":{\"active_drag\":\"auto\",\"active_inspect\":\"auto\",\"active_multi\":null,\"active_scroll\":\"auto\",\"active_tap\":\"auto\",\"tools\":[{\"id\":\"3852\",\"type\":\"HoverTool\"}]},\"id\":\"3874\",\"type\":\"Toolbar\"},{\"attributes\":{},\"id\":\"3860\",\"type\":\"LogScale\"},{\"attributes\":{\"plot\":{\"id\":\"3854\",\"subtype\":\"Figure\",\"type\":\"Plot\"},\"ticker\":{\"id\":\"3865\",\"type\":\"LogTicker\"}},\"id\":\"3868\",\"type\":\"Grid\"},{\"attributes\":{\"callback\":null,\"end\":100},\"id\":\"3858\",\"type\":\"Range1d\"}],\"root_ids\":[\"3854\"]},\"title\":\"Bokeh Application\",\"version\":\"1.0.4\"}};\n",
       "  var render_items = [{\"docid\":\"482cde42-b611-4edf-8daa-5588e7e2b8b6\",\"roots\":{\"3854\":\"72db0e8a-9f47-4d27-844c-05d19203200e\"}}];\n",
       "  root.Bokeh.embed.embed_items_notebook(docs_json, render_items);\n",
       "\n",
       "  }\n",
       "  if (root.Bokeh !== undefined) {\n",
       "    embed_document(root);\n",
       "  } else {\n",
       "    var attempts = 0;\n",
       "    var timer = setInterval(function(root) {\n",
       "      if (root.Bokeh !== undefined) {\n",
       "        embed_document(root);\n",
       "        clearInterval(timer);\n",
       "      }\n",
       "      attempts++;\n",
       "      if (attempts > 100) {\n",
       "        console.log(\"Bokeh: ERROR: Unable to run BokehJS code because BokehJS library is missing\");\n",
       "        clearInterval(timer);\n",
       "      }\n",
       "    }, 10, root)\n",
       "  }\n",
       "})(window);"
      ],
      "application/vnd.bokehjs_exec.v0+json": ""
     },
     "metadata": {
      "application/vnd.bokehjs_exec.v0+json": {
       "id": "3854"
      }
     },
     "output_type": "display_data"
    }
   ],
   "source": [
    "\n",
    "\n",
    "size_mapper = LinearInterpolator(\n",
    "    x = [data.population.min(), data.population.max()],\n",
    "    y = [5, 50]\n",
    ")\n",
    "\n",
    "hover = HoverTool(tooltips='@country', show_arrow = False)\n",
    "fig = fig = figure(\n",
    "    title = 'Life Expectancy Against GDP in 2010',\n",
    "    toolbar_location = 'above',\n",
    "    tools=[hover], \n",
    "    **PLOT_OPTS\n",
    ") \n",
    "fig.circle(x = 'x', \n",
    "           y = 'y', \n",
    "           size = {\n",
    "               'field' : 'population',\n",
    "               'transform' : size_mapper\n",
    "           }, \n",
    "           alpha = 0.6, \n",
    "           source = source\n",
    "          )\n",
    "fig.xaxis[0].formatter = NumeralTickFormatter(format=\"$0,\")\n",
    "show(fig)"
   ]
  },
  {
   "cell_type": "code",
   "execution_count": null,
   "metadata": {},
   "outputs": [],
   "source": []
  },
  {
   "cell_type": "markdown",
   "metadata": {},
   "source": [
    "###  Add colours to differentiate countries"
   ]
  },
  {
   "cell_type": "code",
   "execution_count": null,
   "metadata": {},
   "outputs": [],
   "source": []
  },
  {
   "cell_type": "code",
   "execution_count": 59,
   "metadata": {},
   "outputs": [
    {
     "data": {
      "text/plain": [
       "['#3288bd', '#99d594', '#e6f598', '#fee08b', '#fc8d59', '#d53e4f']"
      ]
     },
     "execution_count": 59,
     "metadata": {},
     "output_type": "execute_result"
    }
   ],
   "source": [
    "from bokeh.palettes import Spectral6\n",
    "Spectral6"
   ]
  },
  {
   "cell_type": "code",
   "execution_count": 60,
   "metadata": {},
   "outputs": [
    {
     "data": {
      "text/plain": [
       "['South Asia',\n",
       " 'Europe & Central Asia',\n",
       " 'Middle East & North Africa',\n",
       " 'Sub-Saharan Africa',\n",
       " 'America',\n",
       " 'East Asia & Pacific']"
      ]
     },
     "execution_count": 60,
     "metadata": {},
     "output_type": "execute_result"
    }
   ],
   "source": [
    "#Get all the regions in the data; unique\n",
    "list(data.region.unique())"
   ]
  },
  {
   "cell_type": "code",
   "execution_count": 61,
   "metadata": {},
   "outputs": [],
   "source": [
    "from bokeh.models import CategoricalColorMapper"
   ]
  },
  {
   "cell_type": "code",
   "execution_count": 82,
   "metadata": {},
   "outputs": [
    {
     "data": {
      "text/html": [
       "\n",
       "\n",
       "\n",
       "\n",
       "\n",
       "\n",
       "  <div class=\"bk-root\" id=\"3e0a1ef6-706d-4749-863c-288d75a801bd\" data-root-id=\"6657\"></div>\n"
      ]
     },
     "metadata": {},
     "output_type": "display_data"
    },
    {
     "data": {
      "application/javascript": [
       "(function(root) {\n",
       "  function embed_document(root) {\n",
       "    \n",
       "  var docs_json = {\"225d2a19-24fc-4758-8c32-077841cdc892\":{\"roots\":{\"references\":[{\"attributes\":{\"below\":[{\"id\":\"6667\",\"type\":\"LogAxis\"}],\"left\":[{\"id\":\"6672\",\"type\":\"LinearAxis\"}],\"renderers\":[{\"id\":\"6667\",\"type\":\"LogAxis\"},{\"id\":\"6671\",\"type\":\"Grid\"},{\"id\":\"6672\",\"type\":\"LinearAxis\"},{\"id\":\"6676\",\"type\":\"Grid\"},{\"id\":\"6682\",\"type\":\"GlyphRenderer\"}],\"title\":{\"id\":\"6656\",\"type\":\"Title\"},\"toolbar\":{\"id\":\"6677\",\"type\":\"Toolbar\"},\"toolbar_location\":\"above\",\"x_range\":{\"id\":\"6659\",\"type\":\"Range1d\"},\"x_scale\":{\"id\":\"6663\",\"type\":\"LogScale\"},\"y_range\":{\"id\":\"6661\",\"type\":\"Range1d\"},\"y_scale\":{\"id\":\"6665\",\"type\":\"LinearScale\"}},\"id\":\"6657\",\"subtype\":\"Figure\",\"type\":\"Plot\"},{\"attributes\":{\"factors\":[\"South Asia\",\"Europe & Central Asia\",\"Middle East & North Africa\",\"Sub-Saharan Africa\",\"America\",\"East Asia & Pacific\"],\"palette\":[\"#3288bd\",\"#99d594\",\"#e6f598\",\"#fee08b\",\"#fc8d59\",\"#d53e4f\"]},\"id\":\"6654\",\"type\":\"CategoricalColorMapper\"},{\"attributes\":{\"plot\":{\"id\":\"6657\",\"subtype\":\"Figure\",\"type\":\"Plot\"},\"ticker\":{\"id\":\"6668\",\"type\":\"LogTicker\"}},\"id\":\"6671\",\"type\":\"Grid\"},{\"attributes\":{\"fill_alpha\":{\"value\":0.6},\"fill_color\":{\"field\":\"region\",\"transform\":{\"id\":\"6654\",\"type\":\"CategoricalColorMapper\"}},\"line_alpha\":{\"value\":0.6},\"line_color\":{\"field\":\"region\",\"transform\":{\"id\":\"6654\",\"type\":\"CategoricalColorMapper\"}},\"size\":{\"field\":\"population\",\"transform\":{\"id\":\"6653\",\"type\":\"LinearInterpolator\"},\"units\":\"screen\"},\"x\":{\"field\":\"x\"},\"y\":{\"field\":\"y\"}},\"id\":\"6680\",\"type\":\"Circle\"},{\"attributes\":{\"callback\":null,\"show_arrow\":false,\"tooltips\":\"@country\"},\"id\":\"6655\",\"type\":\"HoverTool\"},{\"attributes\":{\"data\":null,\"x\":[1170.0,1359368470.0],\"y\":[5,50]},\"id\":\"6653\",\"type\":\"LinearInterpolator\"},{\"attributes\":{\"formatter\":{\"id\":\"6880\",\"type\":\"BasicTickFormatter\"},\"plot\":{\"id\":\"6657\",\"subtype\":\"Figure\",\"type\":\"Plot\"},\"ticker\":{\"id\":\"6673\",\"type\":\"BasicTicker\"}},\"id\":\"6672\",\"type\":\"LinearAxis\"},{\"attributes\":{\"active_drag\":\"auto\",\"active_inspect\":\"auto\",\"active_multi\":null,\"active_scroll\":\"auto\",\"active_tap\":\"auto\",\"tools\":[{\"id\":\"6655\",\"type\":\"HoverTool\"}]},\"id\":\"6677\",\"type\":\"Toolbar\"},{\"attributes\":{\"callback\":null,\"data\":{\"country\":[\"Afghanistan\",\"Albania\",\"Algeria\",\"Angola\",\"Antigua and Barbuda\",\"Argentina\",\"Armenia\",\"Aruba\",\"Australia\",\"Austria\",\"Azerbaijan\",\"Bahamas\",\"Bahrain\",\"Bangladesh\",\"Barbados\",\"Belarus\",\"Belgium\",\"Belize\",\"Benin\",\"Bhutan\",\"Bolivia\",\"Bosnia and Herzegovina\",\"Botswana\",\"Brazil\",\"Brunei\",\"Bulgaria\",\"Burkina Faso\",\"Burundi\",\"Cambodia\",\"Cameroon\",\"Canada\",\"Cape Verde\",\"Central African Rep.\",\"Chad\",\"Channel Islands\",\"Chile\",\"China\",\"Colombia\",\"Comoros\",\"Congo, Dem. Rep.\",\"Congo, Rep.\",\"Costa Rica\",\"Cote d'Ivoire\",\"Croatia\",\"Cuba\",\"Cyprus\",\"Czech Rep.\",\"Denmark\",\"Djibouti\",\"Dominican Rep.\",\"Ecuador\",\"Egypt\",\"El Salvador\",\"Equatorial Guinea\",\"Eritrea\",\"Estonia\",\"Ethiopia\",\"Fiji\",\"Finland\",\"France\",\"French Guiana\",\"French Polynesia\",\"Gabon\",\"Gambia\",\"Georgia\",\"Germany\",\"Ghana\",\"Greece\",\"Greenland\",\"Grenada\",\"Guadeloupe\",\"Guam\",\"Guatemala\",\"Guinea\",\"Guinea-Bissau\",\"Guyana\",\"Haiti\",\"Honduras\",\"Hong Kong, China\",\"Hungary\",\"Iceland\",\"India\",\"Indonesia\",\"Iran\",\"Iraq\",\"Ireland\",\"Israel\",\"Italy\",\"Jamaica\",\"Japan\",\"Jordan\",\"Kazakhstan\",\"Kenya\",\"Kiribati\",\"Korea, Dem. Rep.\",\"Korea, Rep.\",\"Kuwait\",\"Kyrgyzstan\",\"Laos\",\"Latvia\",\"Lebanon\",\"Lesotho\",\"Liberia\",\"Libya\",\"Lithuania\",\"Luxembourg\",\"Macao, China\",\"Macedonia, FYR\",\"Madagascar\",\"Malawi\",\"Malaysia\",\"Maldives\",\"Mali\",\"Malta\",\"Martinique\",\"Mauritania\",\"Mauritius\",\"Mayotte\",\"Mexico\",\"Micronesia, Fed. Sts.\",\"Moldova\",\"Mongolia\",\"Montenegro\",\"Morocco\",\"Mozambique\",\"Myanmar\",\"Namibia\",\"Nepal\",\"Netherlands\",\"Netherlands Antilles\",\"New Caledonia\",\"New Zealand\",\"Nicaragua\",\"Niger\",\"Nigeria\",\"Norway\",\"Oman\",\"Pakistan\",\"Panama\",\"Papua New Guinea\",\"Paraguay\",\"Peru\",\"Philippines\",\"Poland\",\"Portugal\",\"Puerto Rico\",\"Qatar\",\"Reunion\",\"Romania\",\"Russia\",\"Rwanda\",\"Saint Lucia\",\"Saint Vincent and the Grenadines\",\"Samoa\",\"Sao Tome and Principe\",\"Saudi Arabia\",\"Senegal\",\"Serbia\",\"Seychelles\",\"Sierra Leone\",\"Singapore\",\"Slovak Republic\",\"Slovenia\",\"Solomon Islands\",\"Somalia\",\"South Africa\",\"South Sudan\",\"Spain\",\"Sri Lanka\",\"Sudan\",\"Suriname\",\"Swaziland\",\"Sweden\",\"Switzerland\",\"Syria\",\"Taiwan\",\"Tajikistan\",\"Tanzania\",\"Thailand\",\"Timor-Leste\",\"Togo\",\"Tonga\",\"Trinidad and Tobago\",\"Tunisia\",\"Turkey\",\"Turkmenistan\",\"Uganda\",\"Ukraine\",\"United Arab Emirates\",\"United Kingdom\",\"United States\",\"Uruguay\",\"Uzbekistan\",\"Vanuatu\",\"Venezuela\",\"Vietnam\",\"Virgin Islands (U.S.)\",\"West Bank and Gaza\",\"Western Sahara\",\"Yemen, Rep.\",\"Zambia\",\"Zimbabwe\"],\"population\":{\"__ndarray__\":\"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\",\"dtype\":\"float64\",\"shape\":[202]},\"region\":[\"South Asia\",\"Europe & Central Asia\",\"Middle East & North Africa\",\"Sub-Saharan Africa\",\"America\",\"America\",\"Europe & Central Asia\",\"America\",\"East Asia & Pacific\",\"Europe & Central Asia\",\"Europe & Central Asia\",\"America\",\"Middle East & North Africa\",\"South Asia\",\"America\",\"Europe & Central Asia\",\"Europe & Central Asia\",\"America\",\"Sub-Saharan Africa\",\"South Asia\",\"America\",\"Europe & Central Asia\",\"Sub-Saharan Africa\",\"America\",\"East Asia & Pacific\",\"Europe & Central Asia\",\"Sub-Saharan Africa\",\"Sub-Saharan Africa\",\"East Asia & Pacific\",\"Sub-Saharan Africa\",\"America\",\"Sub-Saharan Africa\",\"Sub-Saharan Africa\",\"Sub-Saharan Africa\",\"Europe & Central Asia\",\"America\",\"East Asia & Pacific\",\"America\",\"Sub-Saharan Africa\",\"Sub-Saharan Africa\",\"Sub-Saharan Africa\",\"America\",\"Sub-Saharan Africa\",\"Europe & Central Asia\",\"America\",\"Europe & Central Asia\",\"Europe & Central Asia\",\"Europe & Central Asia\",\"Middle East & North Africa\",\"America\",\"America\",\"Middle East & North Africa\",\"America\",\"Sub-Saharan Africa\",\"Sub-Saharan Africa\",\"Europe & Central Asia\",\"Sub-Saharan Africa\",\"East Asia & Pacific\",\"Europe & Central Asia\",\"Europe & Central Asia\",\"America\",\"East Asia & Pacific\",\"Sub-Saharan Africa\",\"Sub-Saharan Africa\",\"Europe & Central Asia\",\"Europe & Central Asia\",\"Sub-Saharan Africa\",\"Europe & Central Asia\",\"Europe & Central Asia\",\"America\",\"America\",\"East Asia & Pacific\",\"America\",\"Sub-Saharan Africa\",\"Sub-Saharan Africa\",\"America\",\"America\",\"America\",\"East Asia & Pacific\",\"Europe & Central Asia\",\"Europe & Central Asia\",\"South Asia\",\"East Asia & Pacific\",\"Middle East & North Africa\",\"Middle East & North Africa\",\"Europe & Central Asia\",\"Middle East & North Africa\",\"Europe & Central Asia\",\"America\",\"East Asia & Pacific\",\"Middle East & North Africa\",\"Europe & Central Asia\",\"Sub-Saharan Africa\",\"East Asia & Pacific\",\"East Asia & Pacific\",\"East Asia & Pacific\",\"Middle East & North Africa\",\"Europe & Central Asia\",\"East Asia & Pacific\",\"Europe & Central Asia\",\"Middle East & North Africa\",\"Sub-Saharan Africa\",\"Sub-Saharan Africa\",\"Middle East & North Africa\",\"Europe & Central Asia\",\"Europe & Central Asia\",\"East Asia & Pacific\",\"Europe & Central Asia\",\"Sub-Saharan Africa\",\"Sub-Saharan Africa\",\"East Asia & Pacific\",\"South Asia\",\"Sub-Saharan Africa\",\"Europe & Central Asia\",\"America\",\"Sub-Saharan Africa\",\"Sub-Saharan Africa\",\"Sub-Saharan Africa\",\"America\",\"East Asia & Pacific\",\"Europe & Central Asia\",\"East Asia & Pacific\",\"Europe & Central Asia\",\"Middle East & North Africa\",\"Sub-Saharan Africa\",\"East Asia & Pacific\",\"Sub-Saharan Africa\",\"South Asia\",\"Europe & Central Asia\",\"America\",\"East Asia & Pacific\",\"East Asia & Pacific\",\"America\",\"Sub-Saharan Africa\",\"Sub-Saharan Africa\",\"Europe & Central Asia\",\"Middle East & North Africa\",\"South Asia\",\"America\",\"East Asia & Pacific\",\"America\",\"America\",\"East Asia & Pacific\",\"Europe & Central Asia\",\"Europe & Central Asia\",\"America\",\"Middle East & North Africa\",\"Sub-Saharan Africa\",\"Europe & Central Asia\",\"Europe & Central Asia\",\"Sub-Saharan Africa\",\"America\",\"America\",\"East Asia & Pacific\",\"Sub-Saharan Africa\",\"Middle East & North Africa\",\"Sub-Saharan Africa\",\"Europe & Central Asia\",\"Sub-Saharan Africa\",\"Sub-Saharan Africa\",\"East Asia & Pacific\",\"Europe & Central Asia\",\"Europe & Central Asia\",\"East Asia & Pacific\",\"Sub-Saharan Africa\",\"Sub-Saharan Africa\",\"Sub-Saharan Africa\",\"Europe & Central Asia\",\"South Asia\",\"Sub-Saharan Africa\",\"America\",\"Sub-Saharan Africa\",\"Europe & Central Asia\",\"Europe & Central Asia\",\"Middle East & North Africa\",\"East Asia & Pacific\",\"Europe & Central Asia\",\"Sub-Saharan Africa\",\"East Asia & Pacific\",\"East Asia & Pacific\",\"Sub-Saharan Africa\",\"East Asia & Pacific\",\"America\",\"Middle East & North Africa\",\"Europe & Central Asia\",\"Europe & Central Asia\",\"Sub-Saharan Africa\",\"Europe & Central Asia\",\"Middle East & North Africa\",\"Europe & Central Asia\",\"America\",\"America\",\"Europe & Central Asia\",\"East Asia & Pacific\",\"America\",\"East Asia & Pacific\",\"America\",\"Middle East & North Africa\",\"Middle East & North Africa\",\"Middle East & North Africa\",\"Sub-Saharan Africa\",\"Sub-Saharan Africa\"],\"x\":{\"__ndarray__\":\"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\",\"dtype\":\"float64\",\"shape\":[202]},\"y\":{\"__ndarray__\":\"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\",\"dtype\":\"float64\",\"shape\":[202]}},\"selected\":{\"id\":\"4007\",\"type\":\"Selection\"},\"selection_policy\":{\"id\":\"4008\",\"type\":\"UnionRenderers\"}},\"id\":\"3850\",\"type\":\"ColumnDataSource\"},{\"attributes\":{\"data_source\":{\"id\":\"3850\",\"type\":\"ColumnDataSource\"},\"glyph\":{\"id\":\"6680\",\"type\":\"Circle\"},\"hover_glyph\":null,\"muted_glyph\":null,\"nonselection_glyph\":{\"id\":\"6681\",\"type\":\"Circle\"},\"selection_glyph\":null,\"view\":{\"id\":\"6683\",\"type\":\"CDSView\"}},\"id\":\"6682\",\"type\":\"GlyphRenderer\"},{\"attributes\":{},\"id\":\"6673\",\"type\":\"BasicTicker\"},{\"attributes\":{\"dimension\":1,\"plot\":{\"id\":\"6657\",\"subtype\":\"Figure\",\"type\":\"Plot\"},\"ticker\":{\"id\":\"6673\",\"type\":\"BasicTicker\"}},\"id\":\"6676\",\"type\":\"Grid\"},{\"attributes\":{},\"id\":\"4007\",\"type\":\"Selection\"},{\"attributes\":{},\"id\":\"4008\",\"type\":\"UnionRenderers\"},{\"attributes\":{\"formatter\":{\"id\":\"6684\",\"type\":\"NumeralTickFormatter\"},\"plot\":{\"id\":\"6657\",\"subtype\":\"Figure\",\"type\":\"Plot\"},\"ticker\":{\"id\":\"6668\",\"type\":\"LogTicker\"}},\"id\":\"6667\",\"type\":\"LogAxis\"},{\"attributes\":{},\"id\":\"6880\",\"type\":\"BasicTickFormatter\"},{\"attributes\":{\"num_minor_ticks\":10},\"id\":\"6668\",\"type\":\"LogTicker\"},{\"attributes\":{\"fill_alpha\":{\"value\":0.1},\"fill_color\":{\"value\":\"#1f77b4\"},\"line_alpha\":{\"value\":0.1},\"line_color\":{\"value\":\"#1f77b4\"},\"size\":{\"field\":\"population\",\"transform\":{\"id\":\"6653\",\"type\":\"LinearInterpolator\"},\"units\":\"screen\"},\"x\":{\"field\":\"x\"},\"y\":{\"field\":\"y\"}},\"id\":\"6681\",\"type\":\"Circle\"},{\"attributes\":{\"format\":\"$0,\"},\"id\":\"6684\",\"type\":\"NumeralTickFormatter\"},{\"attributes\":{},\"id\":\"6665\",\"type\":\"LinearScale\"},{\"attributes\":{\"callback\":null,\"end\":100},\"id\":\"6661\",\"type\":\"Range1d\"},{\"attributes\":{},\"id\":\"6663\",\"type\":\"LogScale\"},{\"attributes\":{\"callback\":null,\"end\":100000,\"start\":100},\"id\":\"6659\",\"type\":\"Range1d\"},{\"attributes\":{\"source\":{\"id\":\"3850\",\"type\":\"ColumnDataSource\"}},\"id\":\"6683\",\"type\":\"CDSView\"},{\"attributes\":{\"plot\":null,\"text\":\"Life Expectancy Against GDP in 2010\"},\"id\":\"6656\",\"type\":\"Title\"}],\"root_ids\":[\"6657\"]},\"title\":\"Bokeh Application\",\"version\":\"1.0.4\"}};\n",
       "  var render_items = [{\"docid\":\"225d2a19-24fc-4758-8c32-077841cdc892\",\"notebook_comms_target\":\"6884\",\"roots\":{\"6657\":\"3e0a1ef6-706d-4749-863c-288d75a801bd\"}}];\n",
       "  root.Bokeh.embed.embed_items_notebook(docs_json, render_items);\n",
       "\n",
       "  }\n",
       "  if (root.Bokeh !== undefined) {\n",
       "    embed_document(root);\n",
       "  } else {\n",
       "    var attempts = 0;\n",
       "    var timer = setInterval(function(root) {\n",
       "      if (root.Bokeh !== undefined) {\n",
       "        embed_document(root);\n",
       "        clearInterval(timer);\n",
       "      }\n",
       "      attempts++;\n",
       "      if (attempts > 100) {\n",
       "        console.log(\"Bokeh: ERROR: Unable to run BokehJS code because BokehJS library is missing\");\n",
       "        clearInterval(timer);\n",
       "      }\n",
       "    }, 10, root)\n",
       "  }\n",
       "})(window);"
      ],
      "application/vnd.bokehjs_exec.v0+json": ""
     },
     "metadata": {
      "application/vnd.bokehjs_exec.v0+json": {
       "id": "6657"
      }
     },
     "output_type": "display_data"
    },
    {
     "data": {
      "text/html": [
       "<p><code>&lt;Bokeh Notebook handle for <strong>In[82]</strong>&gt;</code></p>"
      ],
      "text/plain": [
       "<bokeh.io.notebook.CommsHandle at 0xc4d5eaec88>"
      ]
     },
     "execution_count": 82,
     "metadata": {},
     "output_type": "execute_result"
    }
   ],
   "source": [
    "from bokeh.io import push_notebook\n",
    "from ipywidgets import interact\n",
    "\n",
    "def update(year):\n",
    "    new_data = dict(\n",
    "        x = data.loc[year].gdp,\n",
    "        y = data.loc[year].life,\n",
    "        country = data.loc[year].Country,\n",
    "        region = data.loc[year].region,\n",
    "        population = data.loc[year].population\n",
    "    )\n",
    "    \n",
    "    source.data = new_data\n",
    "    fig.title.text = str(year)\n",
    "    push_notebook()\n",
    "    \n",
    "\n",
    "\n",
    "size_mapper = LinearInterpolator(\n",
    "    x = [data.population.min(), data.population.max()],\n",
    "    y = [5, 50]\n",
    ")\n",
    "\n",
    "colour_mapper = CategoricalColorMapper(\n",
    "    factors = list(data.region.unique()),\n",
    "    palette = Spectral6,\n",
    "    \n",
    ")\n",
    "\n",
    "hover = HoverTool(tooltips='@country', show_arrow = False)\n",
    "\n",
    "fig = fig = figure(\n",
    "    title = 'Life Expectancy Against GDP in 2010',\n",
    "    toolbar_location = 'above',\n",
    "    tools=[hover], \n",
    "    **PLOT_OPTS\n",
    ") \n",
    "fig.circle(x = 'x', \n",
    "           y = 'y', \n",
    "           size = {\n",
    "               'field' : 'population',\n",
    "               'transform' : size_mapper\n",
    "           },\n",
    "           color = {\n",
    "               'field' : 'region',\n",
    "               'transform' : colour_mapper\n",
    "           },\n",
    "           alpha = 0.6, \n",
    "           source = source,\n",
    "           #legend = 'region'\n",
    "          )\n",
    "\n",
    "#set the legend outside the graph\n",
    "#fig.legend.location = (0, -50)\n",
    "#fig.right.append(fig.legend[0])\n",
    "\n",
    "fig.xaxis[0].formatter = NumeralTickFormatter(format=\"$0,\")\n",
    "show(fig, notebook_handle = True)\n"
   ]
  },
  {
   "cell_type": "code",
   "execution_count": 83,
   "metadata": {},
   "outputs": [
    {
     "data": {
      "application/vnd.jupyter.widget-view+json": {
       "model_id": "b525b424b9114f17bb1e5b3b3f44c351",
       "version_major": 2,
       "version_minor": 0
      },
      "text/plain": [
       "interactive(children=(IntSlider(value=1907, description='year', max=2014, min=1800), Output()), _dom_classes=(…"
      ]
     },
     "metadata": {},
     "output_type": "display_data"
    },
    {
     "data": {
      "text/plain": [
       "<function __main__.update(year)>"
      ]
     },
     "execution_count": 83,
     "metadata": {},
     "output_type": "execute_result"
    }
   ],
   "source": [
    "# Runs with an error\n",
    "\n",
    "interact(update, year=(1800, 2014, 1))\n"
   ]
  },
  {
   "cell_type": "code",
   "execution_count": null,
   "metadata": {},
   "outputs": [],
   "source": []
  },
  {
   "cell_type": "code",
   "execution_count": null,
   "metadata": {},
   "outputs": [],
   "source": []
  },
  {
   "cell_type": "code",
   "execution_count": null,
   "metadata": {},
   "outputs": [],
   "source": []
  },
  {
   "cell_type": "code",
   "execution_count": null,
   "metadata": {},
   "outputs": [],
   "source": []
  },
  {
   "cell_type": "code",
   "execution_count": null,
   "metadata": {},
   "outputs": [],
   "source": []
  }
 ],
 "metadata": {
  "kernelspec": {
   "display_name": "Python 3",
   "language": "python",
   "name": "python3"
  },
  "language_info": {
   "codemirror_mode": {
    "name": "ipython",
    "version": 3
   },
   "file_extension": ".py",
   "mimetype": "text/x-python",
   "name": "python",
   "nbconvert_exporter": "python",
   "pygments_lexer": "ipython3",
   "version": "3.7.2"
  }
 },
 "nbformat": 4,
 "nbformat_minor": 2
}
