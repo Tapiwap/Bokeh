{
 "cells": [
  {
   "cell_type": "code",
   "execution_count": 1,
   "metadata": {},
   "outputs": [],
   "source": [
    "#importing libraries\n",
    "from bokeh.plotting import figure\n",
    "from bokeh.io import curdoc\n",
    "from bokeh.models.annotations import LabelSet\n",
    "from bokeh.models import ColumnDataSource, Range1d\n",
    "from bokeh.models.widgets import Select, Slider\n",
    "from bokeh.layouts import layout"
   ]
  },
  {
   "cell_type": "code",
   "execution_count": null,
   "metadata": {},
   "outputs": [],
   "source": []
  },
  {
   "cell_type": "code",
   "execution_count": 2,
   "metadata": {},
   "outputs": [],
   "source": [
    "#crate columndatasource\n",
    "source_original=ColumnDataSource(dict(average_grades=[7,8,10],\n",
    "                             exam_grades=[6,9,8],\n",
    "                             student_names=[\"Stephan\",\"Helder\",\"Riazudidn\"]))"
   ]
  },
  {
   "cell_type": "code",
   "execution_count": 3,
   "metadata": {},
   "outputs": [],
   "source": [
    "source=ColumnDataSource(dict(average_grades=[7,8,10],\n",
    "                             exam_grades=[6,9,8],\n",
    "                             student_names=[\"Stephan\",\"Helder\",\"Riazudidn\"]))"
   ]
  },
  {
   "cell_type": "code",
   "execution_count": 5,
   "metadata": {},
   "outputs": [],
   "source": [
    "#create the figure\n",
    "f = figure(x_range=Range1d(start=0,end=12),\n",
    "           y_range=Range1d(start=0,end=12))\n"
   ]
  },
  {
   "cell_type": "code",
   "execution_count": 6,
   "metadata": {},
   "outputs": [],
   "source": [
    "#add labels for glyphs\n",
    "labels=LabelSet(x=\"average_grades\",y=\"exam_grades\",text=\"student_names\",x_offset=5, y_offset=5, source=source)\n",
    "f.add_layout(labels)"
   ]
  },
  {
   "cell_type": "code",
   "execution_count": 7,
   "metadata": {},
   "outputs": [
    {
     "data": {
      "text/html": [
       "<div style=\"display: table;\"><div style=\"display: table-row;\"><div style=\"display: table-cell;\"><b title=\"bokeh.models.renderers.GlyphRenderer\">GlyphRenderer</b>(</div><div style=\"display: table-cell;\">id&nbsp;=&nbsp;'1042', <span id=\"1045\" style=\"cursor: pointer;\">&hellip;)</span></div></div><div class=\"1044\" style=\"display: none;\"><div style=\"display: table-cell;\"></div><div style=\"display: table-cell;\">data_source&nbsp;=&nbsp;ColumnDataSource(id='1002', ...),</div></div><div class=\"1044\" style=\"display: none;\"><div style=\"display: table-cell;\"></div><div style=\"display: table-cell;\">glyph&nbsp;=&nbsp;Circle(id='1040', ...),</div></div><div class=\"1044\" style=\"display: none;\"><div style=\"display: table-cell;\"></div><div style=\"display: table-cell;\">hover_glyph&nbsp;=&nbsp;None,</div></div><div class=\"1044\" style=\"display: none;\"><div style=\"display: table-cell;\"></div><div style=\"display: table-cell;\">js_event_callbacks&nbsp;=&nbsp;{},</div></div><div class=\"1044\" style=\"display: none;\"><div style=\"display: table-cell;\"></div><div style=\"display: table-cell;\">js_property_callbacks&nbsp;=&nbsp;{},</div></div><div class=\"1044\" style=\"display: none;\"><div style=\"display: table-cell;\"></div><div style=\"display: table-cell;\">level&nbsp;=&nbsp;'glyph',</div></div><div class=\"1044\" style=\"display: none;\"><div style=\"display: table-cell;\"></div><div style=\"display: table-cell;\">muted&nbsp;=&nbsp;False,</div></div><div class=\"1044\" style=\"display: none;\"><div style=\"display: table-cell;\"></div><div style=\"display: table-cell;\">muted_glyph&nbsp;=&nbsp;None,</div></div><div class=\"1044\" style=\"display: none;\"><div style=\"display: table-cell;\"></div><div style=\"display: table-cell;\">name&nbsp;=&nbsp;None,</div></div><div class=\"1044\" style=\"display: none;\"><div style=\"display: table-cell;\"></div><div style=\"display: table-cell;\">nonselection_glyph&nbsp;=&nbsp;Circle(id='1041', ...),</div></div><div class=\"1044\" style=\"display: none;\"><div style=\"display: table-cell;\"></div><div style=\"display: table-cell;\">selection_glyph&nbsp;=&nbsp;None,</div></div><div class=\"1044\" style=\"display: none;\"><div style=\"display: table-cell;\"></div><div style=\"display: table-cell;\">subscribed_events&nbsp;=&nbsp;[],</div></div><div class=\"1044\" style=\"display: none;\"><div style=\"display: table-cell;\"></div><div style=\"display: table-cell;\">tags&nbsp;=&nbsp;[],</div></div><div class=\"1044\" style=\"display: none;\"><div style=\"display: table-cell;\"></div><div style=\"display: table-cell;\">view&nbsp;=&nbsp;CDSView(id='1043', ...),</div></div><div class=\"1044\" style=\"display: none;\"><div style=\"display: table-cell;\"></div><div style=\"display: table-cell;\">visible&nbsp;=&nbsp;True,</div></div><div class=\"1044\" style=\"display: none;\"><div style=\"display: table-cell;\"></div><div style=\"display: table-cell;\">x_range_name&nbsp;=&nbsp;'default',</div></div><div class=\"1044\" style=\"display: none;\"><div style=\"display: table-cell;\"></div><div style=\"display: table-cell;\">y_range_name&nbsp;=&nbsp;'default')</div></div></div>\n",
       "<script>\n",
       "(function() {\n",
       "  var expanded = false;\n",
       "  var ellipsis = document.getElementById(\"1045\");\n",
       "  ellipsis.addEventListener(\"click\", function() {\n",
       "    var rows = document.getElementsByClassName(\"1044\");\n",
       "    for (var i = 0; i < rows.length; i++) {\n",
       "      var el = rows[i];\n",
       "      el.style.display = expanded ? \"none\" : \"table-row\";\n",
       "    }\n",
       "    ellipsis.innerHTML = expanded ? \"&hellip;)\" : \"&lsaquo;&lsaquo;&lsaquo;\";\n",
       "    expanded = !expanded;\n",
       "  });\n",
       "})();\n",
       "</script>\n"
      ],
      "text/plain": [
       "GlyphRenderer(id='1042', ...)"
      ]
     },
     "execution_count": 7,
     "metadata": {},
     "output_type": "execute_result"
    }
   ],
   "source": [
    "#create glyphs\n",
    "f.circle(x=\"average_grades\", y=\"exam_grades\", source=source, size=8)\n"
   ]
  },
  {
   "cell_type": "code",
   "execution_count": 10,
   "metadata": {},
   "outputs": [],
   "source": [
    "#create filtering function\n",
    "def filter_grades(attr,old,new):\n",
    "    source.data={key:[value for i, value in enumerate(source_original.data[key]) if source_original.data[\"exam_grades\"][i]>=slider.value] for key in source_original.data}\n",
    "    print(slider.value)\n",
    "\n",
    "#create label function\n",
    "def update_labels(attr,old,new):\n",
    "    labels.text=select.value"
   ]
  },
  {
   "cell_type": "code",
   "execution_count": 19,
   "metadata": {},
   "outputs": [
    {
     "data": {
      "text/plain": [
       "10"
      ]
     },
     "execution_count": 19,
     "metadata": {},
     "output_type": "execute_result"
    }
   ],
   "source": [
    "max(source_original.data[\"exam_grades\"])+1"
   ]
  },
  {
   "cell_type": "code",
   "execution_count": 16,
   "metadata": {},
   "outputs": [
    {
     "data": {
      "text/plain": [
       "8"
      ]
     },
     "execution_count": 16,
     "metadata": {},
     "output_type": "execute_result"
    }
   ],
   "source": [
    "slider=Slider(start=min(source_original.data[\"exam_grades\"])-1,end=max(source_original.data[\"exam_grades\"])+1,value=8,step=0.1,title=\"Exam Grade: \")\n",
    "slider.on_change(\"value\",filter_grades)\n",
    "slider.value"
   ]
  },
  {
   "cell_type": "code",
   "execution_count": 14,
   "metadata": {},
   "outputs": [],
   "source": [
    "source.data={key:[value for i, value in enumerate(source_original.data[key]) \n",
    "                  if source_original.data[\"exam_grades\"][i]>=slider.value] for key in source_original.data}"
   ]
  },
  {
   "cell_type": "code",
   "execution_count": 23,
   "metadata": {},
   "outputs": [
    {
     "data": {
      "text/plain": [
       "{'average_grades': [7, 8, 10],\n",
       " 'exam_grades': [6, 9, 8],\n",
       " 'student_names': ['Stephan', 'Helder', 'Riazudidn']}"
      ]
     },
     "execution_count": 23,
     "metadata": {},
     "output_type": "execute_result"
    }
   ],
   "source": [
    "source_original.data"
   ]
  },
  {
   "cell_type": "code",
   "execution_count": 21,
   "metadata": {},
   "outputs": [
    {
     "name": "stdout",
     "output_type": "stream",
     "text": [
      "{'average_grades': 10, 'exam_grades': 8, 'student_names': 'Riazudidn'}\n"
     ]
    }
   ],
   "source": [
    "test = dict()\n",
    "for key in source_original.data:\n",
    "    for i, value in enumerate(source_original.data[key]):\n",
    "        if source_original.data[\"exam_grades\"][i] >= slider.value:\n",
    "            test.update({key : value})\n",
    "            \n"
   ]
  },
  {
   "cell_type": "code",
   "execution_count": 69,
   "metadata": {
    "scrolled": true
   },
   "outputs": [
    {
     "name": "stdout",
     "output_type": "stream",
     "text": [
      "{'average_grades': [8, 10], 'exam_grades': [9, 8], 'student_names': ['Helder', 'Riazudidn']}\n"
     ]
    }
   ],
   "source": [
    "test = dict()\n",
    "\n",
    "for key in source_original.data:\n",
    "    temp_list = []\n",
    "    for index, value in enumerate(source_original.data[key]):\n",
    "        if source_original.data[\"exam_grades\"][index] >= slider.value:\n",
    "            temp_list.append(value)\n",
    "            test.update({key : temp_list})\n",
    "        \n",
    "print(test)"
   ]
  },
  {
   "cell_type": "code",
   "execution_count": 70,
   "metadata": {},
   "outputs": [
    {
     "data": {
      "text/plain": [
       "{'average_grades': [8, 10],\n",
       " 'exam_grades': [9, 8],\n",
       " 'student_names': ['Helder', 'Riazudidn']}"
      ]
     },
     "execution_count": 70,
     "metadata": {},
     "output_type": "execute_result"
    }
   ],
   "source": [
    "{key:[value for i, value in enumerate(source_original.data[key]) \n",
    "                  if source_original.data[\"exam_grades\"][i]>=slider.value] for key in source_original.data}"
   ]
  },
  {
   "cell_type": "code",
   "execution_count": 80,
   "metadata": {},
   "outputs": [
    {
     "data": {
      "text/plain": [
       "{'average_grades': [8, 10],\n",
       " 'exam_grades': [9, 8],\n",
       " 'student_names': ['Helder', 'Riazudidn']}"
      ]
     },
     "execution_count": 80,
     "metadata": {},
     "output_type": "execute_result"
    }
   ],
   "source": [
    "{key:[value for i, value in enumerate(source_original.data[key]) if source_original.data[\"exam_grades\"][i] >= 8 ] for key in source_original.data}"
   ]
  },
  {
   "cell_type": "code",
   "execution_count": null,
   "metadata": {},
   "outputs": [],
   "source": []
  },
  {
   "cell_type": "code",
   "execution_count": null,
   "metadata": {},
   "outputs": [],
   "source": []
  }
 ],
 "metadata": {
  "kernelspec": {
   "display_name": "Python 3",
   "language": "python",
   "name": "python3"
  },
  "language_info": {
   "codemirror_mode": {
    "name": "ipython",
    "version": 3
   },
   "file_extension": ".py",
   "mimetype": "text/x-python",
   "name": "python",
   "nbconvert_exporter": "python",
   "pygments_lexer": "ipython3",
   "version": "3.7.2"
  }
 },
 "nbformat": 4,
 "nbformat_minor": 2
}
