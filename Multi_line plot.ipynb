{
 "cells": [
  {
   "cell_type": "markdown",
   "metadata": {},
   "source": [
    "# Mutli Line Plot"
   ]
  },
  {
   "cell_type": "code",
   "execution_count": 1,
   "metadata": {},
   "outputs": [],
   "source": [
    "import pandas as pd\n",
    "import numpy as np"
   ]
  },
  {
   "cell_type": "code",
   "execution_count": 2,
   "metadata": {},
   "outputs": [
    {
     "data": {
      "text/html": [
       "<div>\n",
       "<style scoped>\n",
       "    .dataframe tbody tr th:only-of-type {\n",
       "        vertical-align: middle;\n",
       "    }\n",
       "\n",
       "    .dataframe tbody tr th {\n",
       "        vertical-align: top;\n",
       "    }\n",
       "\n",
       "    .dataframe thead th {\n",
       "        text-align: right;\n",
       "    }\n",
       "</style>\n",
       "<table border=\"1\" class=\"dataframe\">\n",
       "  <thead>\n",
       "    <tr style=\"text-align: right;\">\n",
       "      <th></th>\n",
       "      <th>group</th>\n",
       "      <th>x</th>\n",
       "      <th>y</th>\n",
       "    </tr>\n",
       "  </thead>\n",
       "  <tbody>\n",
       "    <tr>\n",
       "      <th>0</th>\n",
       "      <td>Group 1</td>\n",
       "      <td>1</td>\n",
       "      <td>5</td>\n",
       "    </tr>\n",
       "    <tr>\n",
       "      <th>1</th>\n",
       "      <td>Group 1</td>\n",
       "      <td>2</td>\n",
       "      <td>9</td>\n",
       "    </tr>\n",
       "    <tr>\n",
       "      <th>2</th>\n",
       "      <td>Group 1</td>\n",
       "      <td>3</td>\n",
       "      <td>5</td>\n",
       "    </tr>\n",
       "    <tr>\n",
       "      <th>3</th>\n",
       "      <td>Group 1</td>\n",
       "      <td>4</td>\n",
       "      <td>4</td>\n",
       "    </tr>\n",
       "    <tr>\n",
       "      <th>4</th>\n",
       "      <td>Group 1</td>\n",
       "      <td>5</td>\n",
       "      <td>8</td>\n",
       "    </tr>\n",
       "  </tbody>\n",
       "</table>\n",
       "</div>"
      ],
      "text/plain": [
       "     group  x  y\n",
       "0  Group 1  1  5\n",
       "1  Group 1  2  9\n",
       "2  Group 1  3  5\n",
       "3  Group 1  4  4\n",
       "4  Group 1  5  8"
      ]
     },
     "execution_count": 2,
     "metadata": {},
     "output_type": "execute_result"
    }
   ],
   "source": [
    "# Repeat each element 10 times\n",
    "group = np.repeat(['Group 1', 'Group 2', 'Group 3'], 10)\n",
    "# Create a list of 1 - 10, 3 times\n",
    "x = list(range(1,11))*3\n",
    "# create an array of 30 random integers between 0 and 10\n",
    "y = np.random.randint(10, size=30)\n",
    "# Create a dataframe of the data\n",
    "df = pd.DataFrame({'group': group,'x': x,'y': y})\n",
    "df.head()"
   ]
  },
  {
   "cell_type": "code",
   "execution_count": 3,
   "metadata": {},
   "outputs": [
    {
     "data": {
      "text/html": [
       "\n",
       "    <div class=\"bk-root\">\n",
       "        <a href=\"https://bokeh.pydata.org\" target=\"_blank\" class=\"bk-logo bk-logo-small bk-logo-notebook\"></a>\n",
       "        <span id=\"1001\">Loading BokehJS ...</span>\n",
       "    </div>"
      ]
     },
     "metadata": {},
     "output_type": "display_data"
    },
    {
     "data": {
      "application/javascript": [
       "\n",
       "(function(root) {\n",
       "  function now() {\n",
       "    return new Date();\n",
       "  }\n",
       "\n",
       "  var force = true;\n",
       "\n",
       "  if (typeof root._bokeh_onload_callbacks === \"undefined\" || force === true) {\n",
       "    root._bokeh_onload_callbacks = [];\n",
       "    root._bokeh_is_loading = undefined;\n",
       "  }\n",
       "\n",
       "  var JS_MIME_TYPE = 'application/javascript';\n",
       "  var HTML_MIME_TYPE = 'text/html';\n",
       "  var EXEC_MIME_TYPE = 'application/vnd.bokehjs_exec.v0+json';\n",
       "  var CLASS_NAME = 'output_bokeh rendered_html';\n",
       "\n",
       "  /**\n",
       "   * Render data to the DOM node\n",
       "   */\n",
       "  function render(props, node) {\n",
       "    var script = document.createElement(\"script\");\n",
       "    node.appendChild(script);\n",
       "  }\n",
       "\n",
       "  /**\n",
       "   * Handle when an output is cleared or removed\n",
       "   */\n",
       "  function handleClearOutput(event, handle) {\n",
       "    var cell = handle.cell;\n",
       "\n",
       "    var id = cell.output_area._bokeh_element_id;\n",
       "    var server_id = cell.output_area._bokeh_server_id;\n",
       "    // Clean up Bokeh references\n",
       "    if (id != null && id in Bokeh.index) {\n",
       "      Bokeh.index[id].model.document.clear();\n",
       "      delete Bokeh.index[id];\n",
       "    }\n",
       "\n",
       "    if (server_id !== undefined) {\n",
       "      // Clean up Bokeh references\n",
       "      var cmd = \"from bokeh.io.state import curstate; print(curstate().uuid_to_server['\" + server_id + \"'].get_sessions()[0].document.roots[0]._id)\";\n",
       "      cell.notebook.kernel.execute(cmd, {\n",
       "        iopub: {\n",
       "          output: function(msg) {\n",
       "            var id = msg.content.text.trim();\n",
       "            if (id in Bokeh.index) {\n",
       "              Bokeh.index[id].model.document.clear();\n",
       "              delete Bokeh.index[id];\n",
       "            }\n",
       "          }\n",
       "        }\n",
       "      });\n",
       "      // Destroy server and session\n",
       "      var cmd = \"import bokeh.io.notebook as ion; ion.destroy_server('\" + server_id + \"')\";\n",
       "      cell.notebook.kernel.execute(cmd);\n",
       "    }\n",
       "  }\n",
       "\n",
       "  /**\n",
       "   * Handle when a new output is added\n",
       "   */\n",
       "  function handleAddOutput(event, handle) {\n",
       "    var output_area = handle.output_area;\n",
       "    var output = handle.output;\n",
       "\n",
       "    // limit handleAddOutput to display_data with EXEC_MIME_TYPE content only\n",
       "    if ((output.output_type != \"display_data\") || (!output.data.hasOwnProperty(EXEC_MIME_TYPE))) {\n",
       "      return\n",
       "    }\n",
       "\n",
       "    var toinsert = output_area.element.find(\".\" + CLASS_NAME.split(' ')[0]);\n",
       "\n",
       "    if (output.metadata[EXEC_MIME_TYPE][\"id\"] !== undefined) {\n",
       "      toinsert[toinsert.length - 1].firstChild.textContent = output.data[JS_MIME_TYPE];\n",
       "      // store reference to embed id on output_area\n",
       "      output_area._bokeh_element_id = output.metadata[EXEC_MIME_TYPE][\"id\"];\n",
       "    }\n",
       "    if (output.metadata[EXEC_MIME_TYPE][\"server_id\"] !== undefined) {\n",
       "      var bk_div = document.createElement(\"div\");\n",
       "      bk_div.innerHTML = output.data[HTML_MIME_TYPE];\n",
       "      var script_attrs = bk_div.children[0].attributes;\n",
       "      for (var i = 0; i < script_attrs.length; i++) {\n",
       "        toinsert[toinsert.length - 1].firstChild.setAttribute(script_attrs[i].name, script_attrs[i].value);\n",
       "      }\n",
       "      // store reference to server id on output_area\n",
       "      output_area._bokeh_server_id = output.metadata[EXEC_MIME_TYPE][\"server_id\"];\n",
       "    }\n",
       "  }\n",
       "\n",
       "  function register_renderer(events, OutputArea) {\n",
       "\n",
       "    function append_mime(data, metadata, element) {\n",
       "      // create a DOM node to render to\n",
       "      var toinsert = this.create_output_subarea(\n",
       "        metadata,\n",
       "        CLASS_NAME,\n",
       "        EXEC_MIME_TYPE\n",
       "      );\n",
       "      this.keyboard_manager.register_events(toinsert);\n",
       "      // Render to node\n",
       "      var props = {data: data, metadata: metadata[EXEC_MIME_TYPE]};\n",
       "      render(props, toinsert[toinsert.length - 1]);\n",
       "      element.append(toinsert);\n",
       "      return toinsert\n",
       "    }\n",
       "\n",
       "    /* Handle when an output is cleared or removed */\n",
       "    events.on('clear_output.CodeCell', handleClearOutput);\n",
       "    events.on('delete.Cell', handleClearOutput);\n",
       "\n",
       "    /* Handle when a new output is added */\n",
       "    events.on('output_added.OutputArea', handleAddOutput);\n",
       "\n",
       "    /**\n",
       "     * Register the mime type and append_mime function with output_area\n",
       "     */\n",
       "    OutputArea.prototype.register_mime_type(EXEC_MIME_TYPE, append_mime, {\n",
       "      /* Is output safe? */\n",
       "      safe: true,\n",
       "      /* Index of renderer in `output_area.display_order` */\n",
       "      index: 0\n",
       "    });\n",
       "  }\n",
       "\n",
       "  // register the mime type if in Jupyter Notebook environment and previously unregistered\n",
       "  if (root.Jupyter !== undefined) {\n",
       "    var events = require('base/js/events');\n",
       "    var OutputArea = require('notebook/js/outputarea').OutputArea;\n",
       "\n",
       "    if (OutputArea.prototype.mime_types().indexOf(EXEC_MIME_TYPE) == -1) {\n",
       "      register_renderer(events, OutputArea);\n",
       "    }\n",
       "  }\n",
       "\n",
       "  \n",
       "  if (typeof (root._bokeh_timeout) === \"undefined\" || force === true) {\n",
       "    root._bokeh_timeout = Date.now() + 5000;\n",
       "    root._bokeh_failed_load = false;\n",
       "  }\n",
       "\n",
       "  var NB_LOAD_WARNING = {'data': {'text/html':\n",
       "     \"<div style='background-color: #fdd'>\\n\"+\n",
       "     \"<p>\\n\"+\n",
       "     \"BokehJS does not appear to have successfully loaded. If loading BokehJS from CDN, this \\n\"+\n",
       "     \"may be due to a slow or bad network connection. Possible fixes:\\n\"+\n",
       "     \"</p>\\n\"+\n",
       "     \"<ul>\\n\"+\n",
       "     \"<li>re-rerun `output_notebook()` to attempt to load from CDN again, or</li>\\n\"+\n",
       "     \"<li>use INLINE resources instead, as so:</li>\\n\"+\n",
       "     \"</ul>\\n\"+\n",
       "     \"<code>\\n\"+\n",
       "     \"from bokeh.resources import INLINE\\n\"+\n",
       "     \"output_notebook(resources=INLINE)\\n\"+\n",
       "     \"</code>\\n\"+\n",
       "     \"</div>\"}};\n",
       "\n",
       "  function display_loaded() {\n",
       "    var el = document.getElementById(\"1001\");\n",
       "    if (el != null) {\n",
       "      el.textContent = \"BokehJS is loading...\";\n",
       "    }\n",
       "    if (root.Bokeh !== undefined) {\n",
       "      if (el != null) {\n",
       "        el.textContent = \"BokehJS \" + root.Bokeh.version + \" successfully loaded.\";\n",
       "      }\n",
       "    } else if (Date.now() < root._bokeh_timeout) {\n",
       "      setTimeout(display_loaded, 100)\n",
       "    }\n",
       "  }\n",
       "\n",
       "\n",
       "  function run_callbacks() {\n",
       "    try {\n",
       "      root._bokeh_onload_callbacks.forEach(function(callback) {\n",
       "        if (callback != null)\n",
       "          callback();\n",
       "      });\n",
       "    } finally {\n",
       "      delete root._bokeh_onload_callbacks\n",
       "    }\n",
       "    console.debug(\"Bokeh: all callbacks have finished\");\n",
       "  }\n",
       "\n",
       "  function load_libs(css_urls, js_urls, callback) {\n",
       "    if (css_urls == null) css_urls = [];\n",
       "    if (js_urls == null) js_urls = [];\n",
       "\n",
       "    root._bokeh_onload_callbacks.push(callback);\n",
       "    if (root._bokeh_is_loading > 0) {\n",
       "      console.debug(\"Bokeh: BokehJS is being loaded, scheduling callback at\", now());\n",
       "      return null;\n",
       "    }\n",
       "    if (js_urls == null || js_urls.length === 0) {\n",
       "      run_callbacks();\n",
       "      return null;\n",
       "    }\n",
       "    console.debug(\"Bokeh: BokehJS not loaded, scheduling load and callback at\", now());\n",
       "    root._bokeh_is_loading = css_urls.length + js_urls.length;\n",
       "\n",
       "    function on_load() {\n",
       "      root._bokeh_is_loading--;\n",
       "      if (root._bokeh_is_loading === 0) {\n",
       "        console.debug(\"Bokeh: all BokehJS libraries/stylesheets loaded\");\n",
       "        run_callbacks()\n",
       "      }\n",
       "    }\n",
       "\n",
       "    function on_error() {\n",
       "      console.error(\"failed to load \" + url);\n",
       "    }\n",
       "\n",
       "    for (var i = 0; i < css_urls.length; i++) {\n",
       "      var url = css_urls[i];\n",
       "      const element = document.createElement(\"link\");\n",
       "      element.onload = on_load;\n",
       "      element.onerror = on_error;\n",
       "      element.rel = \"stylesheet\";\n",
       "      element.type = \"text/css\";\n",
       "      element.href = url;\n",
       "      console.debug(\"Bokeh: injecting link tag for BokehJS stylesheet: \", url);\n",
       "      document.body.appendChild(element);\n",
       "    }\n",
       "\n",
       "    for (var i = 0; i < js_urls.length; i++) {\n",
       "      var url = js_urls[i];\n",
       "      var element = document.createElement('script');\n",
       "      element.onload = on_load;\n",
       "      element.onerror = on_error;\n",
       "      element.async = false;\n",
       "      element.src = url;\n",
       "      console.debug(\"Bokeh: injecting script tag for BokehJS library: \", url);\n",
       "      document.head.appendChild(element);\n",
       "    }\n",
       "  };var element = document.getElementById(\"1001\");\n",
       "  if (element == null) {\n",
       "    console.error(\"Bokeh: ERROR: autoload.js configured with elementid '1001' but no matching script tag was found. \")\n",
       "    return false;\n",
       "  }\n",
       "\n",
       "  function inject_raw_css(css) {\n",
       "    const element = document.createElement(\"style\");\n",
       "    element.appendChild(document.createTextNode(css));\n",
       "    document.body.appendChild(element);\n",
       "  }\n",
       "\n",
       "  var js_urls = [\"https://cdn.pydata.org/bokeh/release/bokeh-1.2.0.min.js\", \"https://cdn.pydata.org/bokeh/release/bokeh-widgets-1.2.0.min.js\", \"https://cdn.pydata.org/bokeh/release/bokeh-tables-1.2.0.min.js\", \"https://cdn.pydata.org/bokeh/release/bokeh-gl-1.2.0.min.js\"];\n",
       "  var css_urls = [\"https://cdn.pydata.org/bokeh/release/bokeh-1.2.0.min.css\", \"https://cdn.pydata.org/bokeh/release/bokeh-widgets-1.2.0.min.css\", \"https://cdn.pydata.org/bokeh/release/bokeh-tables-1.2.0.min.css\"];\n",
       "\n",
       "  var inline_js = [\n",
       "    function(Bokeh) {\n",
       "      Bokeh.set_log_level(\"info\");\n",
       "    },\n",
       "    \n",
       "    function(Bokeh) {\n",
       "      \n",
       "    },\n",
       "    function(Bokeh) {} // ensure no trailing comma for IE\n",
       "  ];\n",
       "\n",
       "  function run_inline_js() {\n",
       "    \n",
       "    if ((root.Bokeh !== undefined) || (force === true)) {\n",
       "      for (var i = 0; i < inline_js.length; i++) {\n",
       "        inline_js[i].call(root, root.Bokeh);\n",
       "      }if (force === true) {\n",
       "        display_loaded();\n",
       "      }} else if (Date.now() < root._bokeh_timeout) {\n",
       "      setTimeout(run_inline_js, 100);\n",
       "    } else if (!root._bokeh_failed_load) {\n",
       "      console.log(\"Bokeh: BokehJS failed to load within specified timeout.\");\n",
       "      root._bokeh_failed_load = true;\n",
       "    } else if (force !== true) {\n",
       "      var cell = $(document.getElementById(\"1001\")).parents('.cell').data().cell;\n",
       "      cell.output_area.append_execute_result(NB_LOAD_WARNING)\n",
       "    }\n",
       "\n",
       "  }\n",
       "\n",
       "  if (root._bokeh_is_loading === 0) {\n",
       "    console.debug(\"Bokeh: BokehJS loaded, going straight to plotting\");\n",
       "    run_inline_js();\n",
       "  } else {\n",
       "    load_libs(css_urls, js_urls, function() {\n",
       "      console.debug(\"Bokeh: BokehJS plotting callback run at\", now());\n",
       "      run_inline_js();\n",
       "    });\n",
       "  }\n",
       "}(window));"
      ],
      "application/vnd.bokehjs_load.v0+json": "\n(function(root) {\n  function now() {\n    return new Date();\n  }\n\n  var force = true;\n\n  if (typeof root._bokeh_onload_callbacks === \"undefined\" || force === true) {\n    root._bokeh_onload_callbacks = [];\n    root._bokeh_is_loading = undefined;\n  }\n\n  \n\n  \n  if (typeof (root._bokeh_timeout) === \"undefined\" || force === true) {\n    root._bokeh_timeout = Date.now() + 5000;\n    root._bokeh_failed_load = false;\n  }\n\n  var NB_LOAD_WARNING = {'data': {'text/html':\n     \"<div style='background-color: #fdd'>\\n\"+\n     \"<p>\\n\"+\n     \"BokehJS does not appear to have successfully loaded. If loading BokehJS from CDN, this \\n\"+\n     \"may be due to a slow or bad network connection. Possible fixes:\\n\"+\n     \"</p>\\n\"+\n     \"<ul>\\n\"+\n     \"<li>re-rerun `output_notebook()` to attempt to load from CDN again, or</li>\\n\"+\n     \"<li>use INLINE resources instead, as so:</li>\\n\"+\n     \"</ul>\\n\"+\n     \"<code>\\n\"+\n     \"from bokeh.resources import INLINE\\n\"+\n     \"output_notebook(resources=INLINE)\\n\"+\n     \"</code>\\n\"+\n     \"</div>\"}};\n\n  function display_loaded() {\n    var el = document.getElementById(\"1001\");\n    if (el != null) {\n      el.textContent = \"BokehJS is loading...\";\n    }\n    if (root.Bokeh !== undefined) {\n      if (el != null) {\n        el.textContent = \"BokehJS \" + root.Bokeh.version + \" successfully loaded.\";\n      }\n    } else if (Date.now() < root._bokeh_timeout) {\n      setTimeout(display_loaded, 100)\n    }\n  }\n\n\n  function run_callbacks() {\n    try {\n      root._bokeh_onload_callbacks.forEach(function(callback) {\n        if (callback != null)\n          callback();\n      });\n    } finally {\n      delete root._bokeh_onload_callbacks\n    }\n    console.debug(\"Bokeh: all callbacks have finished\");\n  }\n\n  function load_libs(css_urls, js_urls, callback) {\n    if (css_urls == null) css_urls = [];\n    if (js_urls == null) js_urls = [];\n\n    root._bokeh_onload_callbacks.push(callback);\n    if (root._bokeh_is_loading > 0) {\n      console.debug(\"Bokeh: BokehJS is being loaded, scheduling callback at\", now());\n      return null;\n    }\n    if (js_urls == null || js_urls.length === 0) {\n      run_callbacks();\n      return null;\n    }\n    console.debug(\"Bokeh: BokehJS not loaded, scheduling load and callback at\", now());\n    root._bokeh_is_loading = css_urls.length + js_urls.length;\n\n    function on_load() {\n      root._bokeh_is_loading--;\n      if (root._bokeh_is_loading === 0) {\n        console.debug(\"Bokeh: all BokehJS libraries/stylesheets loaded\");\n        run_callbacks()\n      }\n    }\n\n    function on_error() {\n      console.error(\"failed to load \" + url);\n    }\n\n    for (var i = 0; i < css_urls.length; i++) {\n      var url = css_urls[i];\n      const element = document.createElement(\"link\");\n      element.onload = on_load;\n      element.onerror = on_error;\n      element.rel = \"stylesheet\";\n      element.type = \"text/css\";\n      element.href = url;\n      console.debug(\"Bokeh: injecting link tag for BokehJS stylesheet: \", url);\n      document.body.appendChild(element);\n    }\n\n    for (var i = 0; i < js_urls.length; i++) {\n      var url = js_urls[i];\n      var element = document.createElement('script');\n      element.onload = on_load;\n      element.onerror = on_error;\n      element.async = false;\n      element.src = url;\n      console.debug(\"Bokeh: injecting script tag for BokehJS library: \", url);\n      document.head.appendChild(element);\n    }\n  };var element = document.getElementById(\"1001\");\n  if (element == null) {\n    console.error(\"Bokeh: ERROR: autoload.js configured with elementid '1001' but no matching script tag was found. \")\n    return false;\n  }\n\n  function inject_raw_css(css) {\n    const element = document.createElement(\"style\");\n    element.appendChild(document.createTextNode(css));\n    document.body.appendChild(element);\n  }\n\n  var js_urls = [\"https://cdn.pydata.org/bokeh/release/bokeh-1.2.0.min.js\", \"https://cdn.pydata.org/bokeh/release/bokeh-widgets-1.2.0.min.js\", \"https://cdn.pydata.org/bokeh/release/bokeh-tables-1.2.0.min.js\", \"https://cdn.pydata.org/bokeh/release/bokeh-gl-1.2.0.min.js\"];\n  var css_urls = [\"https://cdn.pydata.org/bokeh/release/bokeh-1.2.0.min.css\", \"https://cdn.pydata.org/bokeh/release/bokeh-widgets-1.2.0.min.css\", \"https://cdn.pydata.org/bokeh/release/bokeh-tables-1.2.0.min.css\"];\n\n  var inline_js = [\n    function(Bokeh) {\n      Bokeh.set_log_level(\"info\");\n    },\n    \n    function(Bokeh) {\n      \n    },\n    function(Bokeh) {} // ensure no trailing comma for IE\n  ];\n\n  function run_inline_js() {\n    \n    if ((root.Bokeh !== undefined) || (force === true)) {\n      for (var i = 0; i < inline_js.length; i++) {\n        inline_js[i].call(root, root.Bokeh);\n      }if (force === true) {\n        display_loaded();\n      }} else if (Date.now() < root._bokeh_timeout) {\n      setTimeout(run_inline_js, 100);\n    } else if (!root._bokeh_failed_load) {\n      console.log(\"Bokeh: BokehJS failed to load within specified timeout.\");\n      root._bokeh_failed_load = true;\n    } else if (force !== true) {\n      var cell = $(document.getElementById(\"1001\")).parents('.cell').data().cell;\n      cell.output_area.append_execute_result(NB_LOAD_WARNING)\n    }\n\n  }\n\n  if (root._bokeh_is_loading === 0) {\n    console.debug(\"Bokeh: BokehJS loaded, going straight to plotting\");\n    run_inline_js();\n  } else {\n    load_libs(css_urls, js_urls, function() {\n      console.debug(\"Bokeh: BokehJS plotting callback run at\", now());\n      run_inline_js();\n    });\n  }\n}(window));"
     },
     "metadata": {},
     "output_type": "display_data"
    }
   ],
   "source": [
    "from bokeh.io import show, output_notebook\n",
    "from bokeh.models import ColumnDataSource\n",
    "from bokeh.models import HoverTool\n",
    "from bokeh.palettes import Category10\n",
    "from bokeh.plotting import figure\n",
    "\n",
    "output_notebook()"
   ]
  },
  {
   "cell_type": "code",
   "execution_count": 4,
   "metadata": {},
   "outputs": [
    {
     "data": {
      "text/plain": [
       "array(['Group 1', 'Group 2', 'Group 3'], dtype=object)"
      ]
     },
     "execution_count": 4,
     "metadata": {},
     "output_type": "execute_result"
    }
   ],
   "source": [
    "p2 = figure(plot_width=600, plot_height=300)\n",
    "grp_list = df.group.unique()\n",
    "grp_list"
   ]
  },
  {
   "cell_type": "code",
   "execution_count": 5,
   "metadata": {},
   "outputs": [
    {
     "data": {
      "text/html": [
       "\n",
       "\n",
       "\n",
       "\n",
       "\n",
       "\n",
       "  <div class=\"bk-root\" id=\"cf4574f7-8ddd-46c3-bf07-8483fea270d2\" data-root-id=\"1002\"></div>\n"
      ]
     },
     "metadata": {},
     "output_type": "display_data"
    },
    {
     "data": {
      "application/javascript": [
       "(function(root) {\n",
       "  function embed_document(root) {\n",
       "    \n",
       "  var docs_json = {\"add2477c-f5fe-45d0-b277-5bef9284c0f1\":{\"roots\":{\"references\":[{\"attributes\":{\"below\":[{\"id\":\"1011\",\"type\":\"LinearAxis\"}],\"center\":[{\"id\":\"1015\",\"type\":\"Grid\"},{\"id\":\"1020\",\"type\":\"Grid\"},{\"id\":\"1047\",\"type\":\"Legend\"}],\"left\":[{\"id\":\"1016\",\"type\":\"LinearAxis\"}],\"plot_height\":300,\"renderers\":[{\"id\":\"1038\",\"type\":\"GlyphRenderer\"},{\"id\":\"1055\",\"type\":\"GlyphRenderer\"},{\"id\":\"1073\",\"type\":\"GlyphRenderer\"}],\"title\":{\"id\":\"1041\",\"type\":\"Title\"},\"toolbar\":{\"id\":\"1027\",\"type\":\"Toolbar\"},\"x_range\":{\"id\":\"1003\",\"type\":\"DataRange1d\"},\"x_scale\":{\"id\":\"1007\",\"type\":\"LinearScale\"},\"y_range\":{\"id\":\"1005\",\"type\":\"DataRange1d\"},\"y_scale\":{\"id\":\"1009\",\"type\":\"LinearScale\"}},\"id\":\"1002\",\"subtype\":\"Figure\",\"type\":\"Plot\"},{\"attributes\":{},\"id\":\"1044\",\"type\":\"BasicTickFormatter\"},{\"attributes\":{},\"id\":\"1009\",\"type\":\"LinearScale\"},{\"attributes\":{\"bottom_units\":\"screen\",\"fill_alpha\":{\"value\":0.5},\"fill_color\":{\"value\":\"lightgrey\"},\"left_units\":\"screen\",\"level\":\"overlay\",\"line_alpha\":{\"value\":1.0},\"line_color\":{\"value\":\"black\"},\"line_dash\":[4,4],\"line_width\":{\"value\":2},\"render_mode\":\"css\",\"right_units\":\"screen\",\"top_units\":\"screen\"},\"id\":\"1046\",\"type\":\"BoxAnnotation\"},{\"attributes\":{\"formatter\":{\"id\":\"1044\",\"type\":\"BasicTickFormatter\"},\"ticker\":{\"id\":\"1012\",\"type\":\"BasicTicker\"}},\"id\":\"1011\",\"type\":\"LinearAxis\"},{\"attributes\":{\"line_color\":\"#2ca02c\",\"x\":{\"field\":\"x\"},\"y\":{\"field\":\"y\"}},\"id\":\"1071\",\"type\":\"Line\"},{\"attributes\":{},\"id\":\"1012\",\"type\":\"BasicTicker\"},{\"attributes\":{\"label\":{\"value\":\"Group 1\"},\"renderers\":[{\"id\":\"1038\",\"type\":\"GlyphRenderer\"}]},\"id\":\"1048\",\"type\":\"LegendItem\"},{\"attributes\":{\"line_alpha\":0.1,\"line_color\":\"#1f77b4\",\"x\":{\"field\":\"x\"},\"y\":{\"field\":\"y\"}},\"id\":\"1072\",\"type\":\"Line\"},{\"attributes\":{\"ticker\":{\"id\":\"1012\",\"type\":\"BasicTicker\"}},\"id\":\"1015\",\"type\":\"Grid\"},{\"attributes\":{\"callback\":null,\"tooltips\":[[\"group\",\"@group\"],[\"x\",\"@x\"],[\"y\",\"@y\"]]},\"id\":\"1049\",\"type\":\"HoverTool\"},{\"attributes\":{\"data_source\":{\"id\":\"1069\",\"type\":\"ColumnDataSource\"},\"glyph\":{\"id\":\"1071\",\"type\":\"Line\"},\"hover_glyph\":null,\"muted_glyph\":null,\"nonselection_glyph\":{\"id\":\"1072\",\"type\":\"Line\"},\"selection_glyph\":null,\"view\":{\"id\":\"1074\",\"type\":\"CDSView\"}},\"id\":\"1073\",\"type\":\"GlyphRenderer\"},{\"attributes\":{\"formatter\":{\"id\":\"1042\",\"type\":\"BasicTickFormatter\"},\"ticker\":{\"id\":\"1017\",\"type\":\"BasicTicker\"}},\"id\":\"1016\",\"type\":\"LinearAxis\"},{\"attributes\":{\"source\":{\"id\":\"1069\",\"type\":\"ColumnDataSource\"}},\"id\":\"1074\",\"type\":\"CDSView\"},{\"attributes\":{},\"id\":\"1100\",\"type\":\"UnionRenderers\"},{\"attributes\":{},\"id\":\"1084\",\"type\":\"UnionRenderers\"},{\"attributes\":{\"dimension\":1,\"ticker\":{\"id\":\"1017\",\"type\":\"BasicTicker\"}},\"id\":\"1020\",\"type\":\"Grid\"},{\"attributes\":{},\"id\":\"1085\",\"type\":\"Selection\"},{\"attributes\":{\"label\":{\"value\":\"Group 3\"},\"renderers\":[{\"id\":\"1073\",\"type\":\"GlyphRenderer\"}]},\"id\":\"1086\",\"type\":\"LegendItem\"},{\"attributes\":{\"data_source\":{\"id\":\"1051\",\"type\":\"ColumnDataSource\"},\"glyph\":{\"id\":\"1053\",\"type\":\"Line\"},\"hover_glyph\":null,\"muted_glyph\":null,\"nonselection_glyph\":{\"id\":\"1054\",\"type\":\"Line\"},\"selection_glyph\":null,\"view\":{\"id\":\"1056\",\"type\":\"CDSView\"}},\"id\":\"1055\",\"type\":\"GlyphRenderer\"},{\"attributes\":{\"line_color\":\"#ff7f0e\",\"x\":{\"field\":\"x\"},\"y\":{\"field\":\"y\"}},\"id\":\"1053\",\"type\":\"Line\"},{\"attributes\":{},\"id\":\"1017\",\"type\":\"BasicTicker\"},{\"attributes\":{\"callback\":null,\"tooltips\":[[\"group\",\"@group\"],[\"x\",\"@x\"],[\"y\",\"@y\"]]},\"id\":\"1087\",\"type\":\"HoverTool\"},{\"attributes\":{\"callback\":null,\"data\":{\"group\":[\"Group 1\",\"Group 1\",\"Group 1\",\"Group 1\",\"Group 1\",\"Group 1\",\"Group 1\",\"Group 1\",\"Group 1\",\"Group 1\"],\"x\":[1,2,3,4,5,6,7,8,9,10],\"y\":{\"__ndarray__\":\"BQAAAAkAAAAFAAAABAAAAAgAAAACAAAAAwAAAAYAAAAJAAAAAgAAAA==\",\"dtype\":\"int32\",\"shape\":[10]}},\"selected\":{\"id\":\"1065\",\"type\":\"Selection\"},\"selection_policy\":{\"id\":\"1064\",\"type\":\"UnionRenderers\"}},\"id\":\"1034\",\"type\":\"ColumnDataSource\"},{\"attributes\":{},\"id\":\"1021\",\"type\":\"PanTool\"},{\"attributes\":{\"line_alpha\":0.1,\"line_color\":\"#1f77b4\",\"x\":{\"field\":\"x\"},\"y\":{\"field\":\"y\"}},\"id\":\"1054\",\"type\":\"Line\"},{\"attributes\":{\"source\":{\"id\":\"1051\",\"type\":\"ColumnDataSource\"}},\"id\":\"1056\",\"type\":\"CDSView\"},{\"attributes\":{},\"id\":\"1022\",\"type\":\"WheelZoomTool\"},{\"attributes\":{},\"id\":\"1064\",\"type\":\"UnionRenderers\"},{\"attributes\":{\"line_color\":\"#1f77b4\",\"x\":{\"field\":\"x\"},\"y\":{\"field\":\"y\"}},\"id\":\"1036\",\"type\":\"Line\"},{\"attributes\":{},\"id\":\"1101\",\"type\":\"Selection\"},{\"attributes\":{\"overlay\":{\"id\":\"1046\",\"type\":\"BoxAnnotation\"}},\"id\":\"1023\",\"type\":\"BoxZoomTool\"},{\"attributes\":{},\"id\":\"1065\",\"type\":\"Selection\"},{\"attributes\":{\"line_alpha\":0.1,\"line_color\":\"#1f77b4\",\"x\":{\"field\":\"x\"},\"y\":{\"field\":\"y\"}},\"id\":\"1037\",\"type\":\"Line\"},{\"attributes\":{},\"id\":\"1024\",\"type\":\"SaveTool\"},{\"attributes\":{\"label\":{\"value\":\"Group 2\"},\"renderers\":[{\"id\":\"1055\",\"type\":\"GlyphRenderer\"}]},\"id\":\"1066\",\"type\":\"LegendItem\"},{\"attributes\":{\"items\":[{\"id\":\"1048\",\"type\":\"LegendItem\"},{\"id\":\"1066\",\"type\":\"LegendItem\"},{\"id\":\"1086\",\"type\":\"LegendItem\"}]},\"id\":\"1047\",\"type\":\"Legend\"},{\"attributes\":{\"callback\":null,\"data\":{\"group\":[\"Group 2\",\"Group 2\",\"Group 2\",\"Group 2\",\"Group 2\",\"Group 2\",\"Group 2\",\"Group 2\",\"Group 2\",\"Group 2\"],\"x\":[1,2,3,4,5,6,7,8,9,10],\"y\":{\"__ndarray__\":\"AgAAAAAAAAAAAAAABgAAAAAAAAAEAAAACQAAAAIAAAACAAAABAAAAA==\",\"dtype\":\"int32\",\"shape\":[10]}},\"selected\":{\"id\":\"1085\",\"type\":\"Selection\"},\"selection_policy\":{\"id\":\"1084\",\"type\":\"UnionRenderers\"}},\"id\":\"1051\",\"type\":\"ColumnDataSource\"},{\"attributes\":{},\"id\":\"1025\",\"type\":\"ResetTool\"},{\"attributes\":{\"callback\":null,\"tooltips\":[[\"group\",\"@group\"],[\"x\",\"@x\"],[\"y\",\"@y\"]]},\"id\":\"1067\",\"type\":\"HoverTool\"},{\"attributes\":{\"data_source\":{\"id\":\"1034\",\"type\":\"ColumnDataSource\"},\"glyph\":{\"id\":\"1036\",\"type\":\"Line\"},\"hover_glyph\":null,\"muted_glyph\":null,\"nonselection_glyph\":{\"id\":\"1037\",\"type\":\"Line\"},\"selection_glyph\":null,\"view\":{\"id\":\"1039\",\"type\":\"CDSView\"}},\"id\":\"1038\",\"type\":\"GlyphRenderer\"},{\"attributes\":{},\"id\":\"1026\",\"type\":\"HelpTool\"},{\"attributes\":{\"source\":{\"id\":\"1034\",\"type\":\"ColumnDataSource\"}},\"id\":\"1039\",\"type\":\"CDSView\"},{\"attributes\":{\"active_drag\":\"auto\",\"active_inspect\":\"auto\",\"active_multi\":null,\"active_scroll\":\"auto\",\"active_tap\":\"auto\",\"tools\":[{\"id\":\"1021\",\"type\":\"PanTool\"},{\"id\":\"1022\",\"type\":\"WheelZoomTool\"},{\"id\":\"1023\",\"type\":\"BoxZoomTool\"},{\"id\":\"1024\",\"type\":\"SaveTool\"},{\"id\":\"1025\",\"type\":\"ResetTool\"},{\"id\":\"1026\",\"type\":\"HelpTool\"},{\"id\":\"1049\",\"type\":\"HoverTool\"},{\"id\":\"1067\",\"type\":\"HoverTool\"},{\"id\":\"1087\",\"type\":\"HoverTool\"}]},\"id\":\"1027\",\"type\":\"Toolbar\"},{\"attributes\":{\"callback\":null},\"id\":\"1003\",\"type\":\"DataRange1d\"},{\"attributes\":{\"text\":\"\"},\"id\":\"1041\",\"type\":\"Title\"},{\"attributes\":{\"callback\":null},\"id\":\"1005\",\"type\":\"DataRange1d\"},{\"attributes\":{},\"id\":\"1042\",\"type\":\"BasicTickFormatter\"},{\"attributes\":{\"callback\":null,\"data\":{\"group\":[\"Group 3\",\"Group 3\",\"Group 3\",\"Group 3\",\"Group 3\",\"Group 3\",\"Group 3\",\"Group 3\",\"Group 3\",\"Group 3\"],\"x\":[1,2,3,4,5,6,7,8,9,10],\"y\":{\"__ndarray__\":\"BAAAAAkAAAAFAAAABgAAAAMAAAAGAAAACAAAAAYAAAAFAAAABgAAAA==\",\"dtype\":\"int32\",\"shape\":[10]}},\"selected\":{\"id\":\"1101\",\"type\":\"Selection\"},\"selection_policy\":{\"id\":\"1100\",\"type\":\"UnionRenderers\"}},\"id\":\"1069\",\"type\":\"ColumnDataSource\"},{\"attributes\":{},\"id\":\"1007\",\"type\":\"LinearScale\"}],\"root_ids\":[\"1002\"]},\"title\":\"Bokeh Application\",\"version\":\"1.2.0\"}};\n",
       "  var render_items = [{\"docid\":\"add2477c-f5fe-45d0-b277-5bef9284c0f1\",\"roots\":{\"1002\":\"cf4574f7-8ddd-46c3-bf07-8483fea270d2\"}}];\n",
       "  root.Bokeh.embed.embed_items_notebook(docs_json, render_items);\n",
       "\n",
       "  }\n",
       "  if (root.Bokeh !== undefined) {\n",
       "    embed_document(root);\n",
       "  } else {\n",
       "    var attempts = 0;\n",
       "    var timer = setInterval(function(root) {\n",
       "      if (root.Bokeh !== undefined) {\n",
       "        embed_document(root);\n",
       "        clearInterval(timer);\n",
       "      }\n",
       "      attempts++;\n",
       "      if (attempts > 100) {\n",
       "        console.log(\"Bokeh: ERROR: Unable to run BokehJS code because BokehJS library is missing\");\n",
       "        clearInterval(timer);\n",
       "      }\n",
       "    }, 10, root)\n",
       "  }\n",
       "})(window);"
      ],
      "application/vnd.bokehjs_exec.v0+json": ""
     },
     "metadata": {
      "application/vnd.bokehjs_exec.v0+json": {
       "id": "1002"
      }
     },
     "output_type": "display_data"
    }
   ],
   "source": [
    "for i in range(len(grp_list)):\n",
    "    source = ColumnDataSource(\n",
    "        data = {'x': df.loc[df.group == grp_list[i]].x,\n",
    "                'group' : df.loc[df.group == grp_list[i]].group, \n",
    "                'y': df.loc[df.group == grp_list[i]].y}\n",
    "    )\n",
    "    \n",
    "    p2.line(x = 'x', y = 'y', source = source, legend = grp_list[i], color = (Category10[3])[i])\n",
    "    \n",
    "    # add tool tips\n",
    "    hover = HoverTool(tooltips = [\n",
    "        ('group','@group'),\n",
    "        ('x','@x'),\n",
    "        ('y','@y')\n",
    "    ])\n",
    "    p2.add_tools(hover)\n",
    "\n",
    "show(p2)\n"
   ]
  },
  {
   "cell_type": "code",
   "execution_count": null,
   "metadata": {},
   "outputs": [],
   "source": []
  },
  {
   "cell_type": "code",
   "execution_count": null,
   "metadata": {},
   "outputs": [],
   "source": []
  },
  {
   "cell_type": "code",
   "execution_count": null,
   "metadata": {},
   "outputs": [],
   "source": []
  },
  {
   "cell_type": "code",
   "execution_count": null,
   "metadata": {},
   "outputs": [],
   "source": []
  },
  {
   "cell_type": "code",
   "execution_count": null,
   "metadata": {},
   "outputs": [],
   "source": []
  },
  {
   "cell_type": "markdown",
   "metadata": {},
   "source": [
    "#  Bubble Chart"
   ]
  },
  {
   "cell_type": "code",
   "execution_count": 6,
   "metadata": {},
   "outputs": [],
   "source": [
    "from bokeh.models import LinearColorMapper, ColorBar, BasicTicker, PrintfTickFormatter\n",
    "from bokeh.palettes import Viridis256\n",
    "from bokeh.transform import transform"
   ]
  },
  {
   "cell_type": "code",
   "execution_count": 7,
   "metadata": {},
   "outputs": [],
   "source": [
    "# Create the data\n",
    "scale = 10\n",
    "d = {'T_range': ['0-50', '0-50', '0-50', '0-50',\n",
    "                 '51-60', '51-60', '51-60', '51-60',\n",
    "                 '61-70', '61-70', '61-70', '61-70'],\n",
    "     'Subject': ['English', 'Maths', 'Chinese', 'Arts',\n",
    "                 'English', 'Maths', 'Chinese', 'Arts',\n",
    "                'English', 'Maths', 'Chinese', 'Arts'],\n",
    "     'count': [603, 240, 188, 89,\n",
    "               220, 118, 112, 43,\n",
    "              123, 2342, 32, 212],\n",
    "     'count_scaled': [603 / scale, 240 / scale, 188 / scale, 89 / scale,\n",
    "           220 / scale, 118 / scale, 112 / scale, 43 / scale,\n",
    "          123 / scale, 2342 / scale, 32 / scale, 212 / scale]}"
   ]
  },
  {
   "cell_type": "code",
   "execution_count": 8,
   "metadata": {},
   "outputs": [
    {
     "data": {
      "text/html": [
       "\n",
       "\n",
       "\n",
       "\n",
       "\n",
       "\n",
       "  <div class=\"bk-root\" id=\"0e3b7a28-0962-478c-b23d-decb73d130ac\" data-root-id=\"1181\"></div>\n"
      ]
     },
     "metadata": {},
     "output_type": "display_data"
    },
    {
     "data": {
      "application/javascript": [
       "(function(root) {\n",
       "  function embed_document(root) {\n",
       "    \n",
       "  var docs_json = {\"2a0bc1bd-2693-4c93-a3dd-eca0a949a294\":{\"roots\":{\"references\":[{\"attributes\":{\"below\":[{\"id\":\"1190\",\"type\":\"CategoricalAxis\"}],\"center\":[{\"id\":\"1193\",\"type\":\"Grid\"},{\"id\":\"1197\",\"type\":\"Grid\"}],\"left\":[{\"id\":\"1194\",\"type\":\"CategoricalAxis\"}],\"renderers\":[{\"id\":\"1218\",\"type\":\"GlyphRenderer\"}],\"right\":[{\"id\":\"1213\",\"type\":\"ColorBar\"}],\"title\":{\"id\":\"1236\",\"type\":\"Title\"},\"toolbar\":{\"id\":\"1204\",\"type\":\"Toolbar\"},\"x_range\":{\"id\":\"1182\",\"type\":\"FactorRange\"},\"x_scale\":{\"id\":\"1186\",\"type\":\"CategoricalScale\"},\"y_range\":{\"id\":\"1184\",\"type\":\"FactorRange\"},\"y_scale\":{\"id\":\"1188\",\"type\":\"CategoricalScale\"}},\"id\":\"1181\",\"subtype\":\"Figure\",\"type\":\"Plot\"},{\"attributes\":{\"overlay\":{\"id\":\"1242\",\"type\":\"BoxAnnotation\"}},\"id\":\"1200\",\"type\":\"BoxZoomTool\"},{\"attributes\":{\"bottom_units\":\"screen\",\"fill_alpha\":{\"value\":0.5},\"fill_color\":{\"value\":\"lightgrey\"},\"left_units\":\"screen\",\"level\":\"overlay\",\"line_alpha\":{\"value\":1.0},\"line_color\":{\"value\":\"black\"},\"line_dash\":[4,4],\"line_width\":{\"value\":2},\"render_mode\":\"css\",\"right_units\":\"screen\",\"top_units\":\"screen\"},\"id\":\"1242\",\"type\":\"BoxAnnotation\"},{\"attributes\":{},\"id\":\"1195\",\"type\":\"CategoricalTicker\"},{\"attributes\":{},\"id\":\"1188\",\"type\":\"CategoricalScale\"},{\"attributes\":{},\"id\":\"1243\",\"type\":\"UnionRenderers\"},{\"attributes\":{},\"id\":\"1186\",\"type\":\"CategoricalScale\"},{\"attributes\":{\"callback\":null,\"tooltips\":[[\"Count\",\"@count\"]]},\"id\":\"1220\",\"type\":\"HoverTool\"},{\"attributes\":{},\"id\":\"1244\",\"type\":\"Selection\"},{\"attributes\":{},\"id\":\"1199\",\"type\":\"WheelZoomTool\"},{\"attributes\":{},\"id\":\"1198\",\"type\":\"PanTool\"},{\"attributes\":{},\"id\":\"1212\",\"type\":\"BasicTicker\"},{\"attributes\":{\"data_source\":{\"id\":\"1180\",\"type\":\"ColumnDataSource\"},\"glyph\":{\"id\":\"1216\",\"type\":\"Scatter\"},\"hover_glyph\":null,\"muted_glyph\":null,\"nonselection_glyph\":{\"id\":\"1217\",\"type\":\"Scatter\"},\"selection_glyph\":null,\"view\":{\"id\":\"1219\",\"type\":\"CDSView\"}},\"id\":\"1218\",\"type\":\"GlyphRenderer\"},{\"attributes\":{},\"id\":\"1241\",\"type\":\"BasicTickFormatter\"},{\"attributes\":{\"high\":2342,\"low\":32,\"palette\":[\"#440154\",\"#440255\",\"#440357\",\"#450558\",\"#45065A\",\"#45085B\",\"#46095C\",\"#460B5E\",\"#460C5F\",\"#460E61\",\"#470F62\",\"#471163\",\"#471265\",\"#471466\",\"#471567\",\"#471669\",\"#47186A\",\"#48196B\",\"#481A6C\",\"#481C6E\",\"#481D6F\",\"#481E70\",\"#482071\",\"#482172\",\"#482273\",\"#482374\",\"#472575\",\"#472676\",\"#472777\",\"#472878\",\"#472A79\",\"#472B7A\",\"#472C7B\",\"#462D7C\",\"#462F7C\",\"#46307D\",\"#46317E\",\"#45327F\",\"#45347F\",\"#453580\",\"#453681\",\"#443781\",\"#443982\",\"#433A83\",\"#433B83\",\"#433C84\",\"#423D84\",\"#423E85\",\"#424085\",\"#414186\",\"#414286\",\"#404387\",\"#404487\",\"#3F4587\",\"#3F4788\",\"#3E4888\",\"#3E4989\",\"#3D4A89\",\"#3D4B89\",\"#3D4C89\",\"#3C4D8A\",\"#3C4E8A\",\"#3B508A\",\"#3B518A\",\"#3A528B\",\"#3A538B\",\"#39548B\",\"#39558B\",\"#38568B\",\"#38578C\",\"#37588C\",\"#37598C\",\"#365A8C\",\"#365B8C\",\"#355C8C\",\"#355D8C\",\"#345E8D\",\"#345F8D\",\"#33608D\",\"#33618D\",\"#32628D\",\"#32638D\",\"#31648D\",\"#31658D\",\"#31668D\",\"#30678D\",\"#30688D\",\"#2F698D\",\"#2F6A8D\",\"#2E6B8E\",\"#2E6C8E\",\"#2E6D8E\",\"#2D6E8E\",\"#2D6F8E\",\"#2C708E\",\"#2C718E\",\"#2C728E\",\"#2B738E\",\"#2B748E\",\"#2A758E\",\"#2A768E\",\"#2A778E\",\"#29788E\",\"#29798E\",\"#287A8E\",\"#287A8E\",\"#287B8E\",\"#277C8E\",\"#277D8E\",\"#277E8E\",\"#267F8E\",\"#26808E\",\"#26818E\",\"#25828E\",\"#25838D\",\"#24848D\",\"#24858D\",\"#24868D\",\"#23878D\",\"#23888D\",\"#23898D\",\"#22898D\",\"#228A8D\",\"#228B8D\",\"#218C8D\",\"#218D8C\",\"#218E8C\",\"#208F8C\",\"#20908C\",\"#20918C\",\"#1F928C\",\"#1F938B\",\"#1F948B\",\"#1F958B\",\"#1F968B\",\"#1E978A\",\"#1E988A\",\"#1E998A\",\"#1E998A\",\"#1E9A89\",\"#1E9B89\",\"#1E9C89\",\"#1E9D88\",\"#1E9E88\",\"#1E9F88\",\"#1EA087\",\"#1FA187\",\"#1FA286\",\"#1FA386\",\"#20A485\",\"#20A585\",\"#21A685\",\"#21A784\",\"#22A784\",\"#23A883\",\"#23A982\",\"#24AA82\",\"#25AB81\",\"#26AC81\",\"#27AD80\",\"#28AE7F\",\"#29AF7F\",\"#2AB07E\",\"#2BB17D\",\"#2CB17D\",\"#2EB27C\",\"#2FB37B\",\"#30B47A\",\"#32B57A\",\"#33B679\",\"#35B778\",\"#36B877\",\"#38B976\",\"#39B976\",\"#3BBA75\",\"#3DBB74\",\"#3EBC73\",\"#40BD72\",\"#42BE71\",\"#44BE70\",\"#45BF6F\",\"#47C06E\",\"#49C16D\",\"#4BC26C\",\"#4DC26B\",\"#4FC369\",\"#51C468\",\"#53C567\",\"#55C666\",\"#57C665\",\"#59C764\",\"#5BC862\",\"#5EC961\",\"#60C960\",\"#62CA5F\",\"#64CB5D\",\"#67CC5C\",\"#69CC5B\",\"#6BCD59\",\"#6DCE58\",\"#70CE56\",\"#72CF55\",\"#74D054\",\"#77D052\",\"#79D151\",\"#7CD24F\",\"#7ED24E\",\"#81D34C\",\"#83D34B\",\"#86D449\",\"#88D547\",\"#8BD546\",\"#8DD644\",\"#90D643\",\"#92D741\",\"#95D73F\",\"#97D83E\",\"#9AD83C\",\"#9DD93A\",\"#9FD938\",\"#A2DA37\",\"#A5DA35\",\"#A7DB33\",\"#AADB32\",\"#ADDC30\",\"#AFDC2E\",\"#B2DD2C\",\"#B5DD2B\",\"#B7DD29\",\"#BADE27\",\"#BDDE26\",\"#BFDF24\",\"#C2DF22\",\"#C5DF21\",\"#C7E01F\",\"#CAE01E\",\"#CDE01D\",\"#CFE11C\",\"#D2E11B\",\"#D4E11A\",\"#D7E219\",\"#DAE218\",\"#DCE218\",\"#DFE318\",\"#E1E318\",\"#E4E318\",\"#E7E419\",\"#E9E419\",\"#ECE41A\",\"#EEE51B\",\"#F1E51C\",\"#F3E51E\",\"#F6E61F\",\"#F8E621\",\"#FAE622\",\"#FDE724\"]},\"id\":\"1211\",\"type\":\"LinearColorMapper\"},{\"attributes\":{\"callback\":null,\"factors\":[\"English\",\"Maths\",\"Chinese\",\"Arts\"]},\"id\":\"1184\",\"type\":\"FactorRange\"},{\"attributes\":{\"active_drag\":\"auto\",\"active_inspect\":\"auto\",\"active_multi\":null,\"active_scroll\":\"auto\",\"active_tap\":\"auto\",\"tools\":[{\"id\":\"1198\",\"type\":\"PanTool\"},{\"id\":\"1199\",\"type\":\"WheelZoomTool\"},{\"id\":\"1200\",\"type\":\"BoxZoomTool\"},{\"id\":\"1201\",\"type\":\"SaveTool\"},{\"id\":\"1202\",\"type\":\"ResetTool\"},{\"id\":\"1203\",\"type\":\"HelpTool\"},{\"id\":\"1220\",\"type\":\"HoverTool\"}]},\"id\":\"1204\",\"type\":\"Toolbar\"},{\"attributes\":{},\"id\":\"1202\",\"type\":\"ResetTool\"},{\"attributes\":{\"fill_alpha\":{\"value\":0.1},\"fill_color\":{\"value\":\"#1f77b4\"},\"line_alpha\":{\"value\":0.1},\"line_color\":{\"value\":\"#1f77b4\"},\"size\":{\"field\":\"count_scaled\",\"units\":\"screen\"},\"x\":{\"field\":\"T_range\"},\"y\":{\"field\":\"Subject\"}},\"id\":\"1217\",\"type\":\"Scatter\"},{\"attributes\":{},\"id\":\"1201\",\"type\":\"SaveTool\"},{\"attributes\":{\"source\":{\"id\":\"1180\",\"type\":\"ColumnDataSource\"}},\"id\":\"1219\",\"type\":\"CDSView\"},{\"attributes\":{},\"id\":\"1237\",\"type\":\"CategoricalTickFormatter\"},{\"attributes\":{\"fill_color\":{\"field\":\"count\",\"transform\":{\"id\":\"1211\",\"type\":\"LinearColorMapper\"}},\"line_color\":{\"value\":\"#1f77b4\"},\"size\":{\"field\":\"count_scaled\",\"units\":\"screen\"},\"x\":{\"field\":\"T_range\"},\"y\":{\"field\":\"Subject\"}},\"id\":\"1216\",\"type\":\"Scatter\"},{\"attributes\":{\"color_mapper\":{\"id\":\"1211\",\"type\":\"LinearColorMapper\"},\"formatter\":{\"id\":\"1241\",\"type\":\"BasicTickFormatter\"},\"location\":[0,0],\"ticker\":{\"id\":\"1212\",\"type\":\"BasicTicker\"}},\"id\":\"1213\",\"type\":\"ColorBar\"},{\"attributes\":{\"callback\":null,\"factors\":[\"0-50\",\"51-60\",\"61-70\"]},\"id\":\"1182\",\"type\":\"FactorRange\"},{\"attributes\":{\"dimension\":1,\"ticker\":{\"id\":\"1195\",\"type\":\"CategoricalTicker\"}},\"id\":\"1197\",\"type\":\"Grid\"},{\"attributes\":{\"formatter\":{\"id\":\"1239\",\"type\":\"CategoricalTickFormatter\"},\"ticker\":{\"id\":\"1191\",\"type\":\"CategoricalTicker\"}},\"id\":\"1190\",\"type\":\"CategoricalAxis\"},{\"attributes\":{\"callback\":null,\"data\":{\"Subject\":[\"English\",\"Maths\",\"Chinese\",\"Arts\",\"English\",\"Maths\",\"Chinese\",\"Arts\",\"English\",\"Maths\",\"Chinese\",\"Arts\"],\"T_range\":[\"0-50\",\"0-50\",\"0-50\",\"0-50\",\"51-60\",\"51-60\",\"51-60\",\"51-60\",\"61-70\",\"61-70\",\"61-70\",\"61-70\"],\"count\":[603,240,188,89,220,118,112,43,123,2342,32,212],\"count_scaled\":{\"__ndarray__\":\"ZmZmZmYmTkAAAAAAAAA4QM3MzMzMzDJAzczMzMzMIUAAAAAAAAA2QJqZmZmZmSdAZmZmZmZmJkAzMzMzMzMRQJqZmZmZmShAZmZmZmZGbUCamZmZmZkJQDMzMzMzMzVA\",\"dtype\":\"float64\",\"shape\":[12]},\"index\":[0,1,2,3,4,5,6,7,8,9,10,11]},\"selected\":{\"id\":\"1244\",\"type\":\"Selection\"},\"selection_policy\":{\"id\":\"1243\",\"type\":\"UnionRenderers\"}},\"id\":\"1180\",\"type\":\"ColumnDataSource\"},{\"attributes\":{},\"id\":\"1191\",\"type\":\"CategoricalTicker\"},{\"attributes\":{},\"id\":\"1203\",\"type\":\"HelpTool\"},{\"attributes\":{},\"id\":\"1239\",\"type\":\"CategoricalTickFormatter\"},{\"attributes\":{\"ticker\":{\"id\":\"1191\",\"type\":\"CategoricalTicker\"}},\"id\":\"1193\",\"type\":\"Grid\"},{\"attributes\":{\"text\":\"\"},\"id\":\"1236\",\"type\":\"Title\"},{\"attributes\":{\"formatter\":{\"id\":\"1237\",\"type\":\"CategoricalTickFormatter\"},\"ticker\":{\"id\":\"1195\",\"type\":\"CategoricalTicker\"}},\"id\":\"1194\",\"type\":\"CategoricalAxis\"}],\"root_ids\":[\"1181\"]},\"title\":\"Bokeh Application\",\"version\":\"1.2.0\"}};\n",
       "  var render_items = [{\"docid\":\"2a0bc1bd-2693-4c93-a3dd-eca0a949a294\",\"roots\":{\"1181\":\"0e3b7a28-0962-478c-b23d-decb73d130ac\"}}];\n",
       "  root.Bokeh.embed.embed_items_notebook(docs_json, render_items);\n",
       "\n",
       "  }\n",
       "  if (root.Bokeh !== undefined) {\n",
       "    embed_document(root);\n",
       "  } else {\n",
       "    var attempts = 0;\n",
       "    var timer = setInterval(function(root) {\n",
       "      if (root.Bokeh !== undefined) {\n",
       "        embed_document(root);\n",
       "        clearInterval(timer);\n",
       "      }\n",
       "      attempts++;\n",
       "      if (attempts > 100) {\n",
       "        console.log(\"Bokeh: ERROR: Unable to run BokehJS code because BokehJS library is missing\");\n",
       "        clearInterval(timer);\n",
       "      }\n",
       "    }, 10, root)\n",
       "  }\n",
       "})(window);"
      ],
      "application/vnd.bokehjs_exec.v0+json": ""
     },
     "metadata": {
      "application/vnd.bokehjs_exec.v0+json": {
       "id": "1181"
      }
     },
     "output_type": "display_data"
    }
   ],
   "source": [
    "# Create the data source and the figure\n",
    "df = pd.DataFrame(data = d)\n",
    "source = ColumnDataSource(df)\n",
    "\n",
    "p = figure(x_range = df['T_range'].unique(), y_range = df['Subject'].unique())\n",
    "\n",
    "# Create the colour map\n",
    "colour_mapper = LinearColorMapper(palette = Viridis256, low = df['count'].min(), high = df['count'].max())\n",
    "colour_bar = ColorBar(color_mapper = colour_mapper, location = (0, 0), ticker = BasicTicker())\n",
    "p.add_layout(colour_bar, 'right')\n",
    "p.scatter(x = 'T_range', y = 'Subject', size = 'count_scaled', legend = None, \n",
    "          fill_color = transform('count', colour_mapper), source = source)\n",
    "p.add_tools(HoverTool(tooltips = [('Count', '@count')]))\n",
    "\n",
    "show(p)"
   ]
  },
  {
   "cell_type": "code",
   "execution_count": null,
   "metadata": {},
   "outputs": [],
   "source": []
  },
  {
   "cell_type": "code",
   "execution_count": null,
   "metadata": {},
   "outputs": [],
   "source": []
  },
  {
   "cell_type": "markdown",
   "metadata": {},
   "source": [
    "# Gapminder Dataset"
   ]
  },
  {
   "cell_type": "code",
   "execution_count": 9,
   "metadata": {},
   "outputs": [
    {
     "data": {
      "text/html": [
       "<div>\n",
       "<style scoped>\n",
       "    .dataframe tbody tr th:only-of-type {\n",
       "        vertical-align: middle;\n",
       "    }\n",
       "\n",
       "    .dataframe tbody tr th {\n",
       "        vertical-align: top;\n",
       "    }\n",
       "\n",
       "    .dataframe thead th {\n",
       "        text-align: right;\n",
       "    }\n",
       "</style>\n",
       "<table border=\"1\" class=\"dataframe\">\n",
       "  <thead>\n",
       "    <tr style=\"text-align: right;\">\n",
       "      <th></th>\n",
       "      <th>Country</th>\n",
       "      <th>fertility</th>\n",
       "      <th>life</th>\n",
       "      <th>population</th>\n",
       "      <th>child_mortality</th>\n",
       "      <th>gdp</th>\n",
       "      <th>region</th>\n",
       "    </tr>\n",
       "    <tr>\n",
       "      <th>Year</th>\n",
       "      <th></th>\n",
       "      <th></th>\n",
       "      <th></th>\n",
       "      <th></th>\n",
       "      <th></th>\n",
       "      <th></th>\n",
       "      <th></th>\n",
       "    </tr>\n",
       "  </thead>\n",
       "  <tbody>\n",
       "    <tr>\n",
       "      <th>1964</th>\n",
       "      <td>Afghanistan</td>\n",
       "      <td>7.671</td>\n",
       "      <td>33.639</td>\n",
       "      <td>10474903.0</td>\n",
       "      <td>339.7</td>\n",
       "      <td>1182.0</td>\n",
       "      <td>South Asia</td>\n",
       "    </tr>\n",
       "    <tr>\n",
       "      <th>1965</th>\n",
       "      <td>Afghanistan</td>\n",
       "      <td>7.671</td>\n",
       "      <td>34.152</td>\n",
       "      <td>10697983.0</td>\n",
       "      <td>334.1</td>\n",
       "      <td>1182.0</td>\n",
       "      <td>South Asia</td>\n",
       "    </tr>\n",
       "    <tr>\n",
       "      <th>1966</th>\n",
       "      <td>Afghanistan</td>\n",
       "      <td>7.671</td>\n",
       "      <td>34.662</td>\n",
       "      <td>10927724.0</td>\n",
       "      <td>328.7</td>\n",
       "      <td>1168.0</td>\n",
       "      <td>South Asia</td>\n",
       "    </tr>\n",
       "    <tr>\n",
       "      <th>1967</th>\n",
       "      <td>Afghanistan</td>\n",
       "      <td>7.671</td>\n",
       "      <td>35.170</td>\n",
       "      <td>11163656.0</td>\n",
       "      <td>323.3</td>\n",
       "      <td>1173.0</td>\n",
       "      <td>South Asia</td>\n",
       "    </tr>\n",
       "    <tr>\n",
       "      <th>1968</th>\n",
       "      <td>Afghanistan</td>\n",
       "      <td>7.671</td>\n",
       "      <td>35.674</td>\n",
       "      <td>11411022.0</td>\n",
       "      <td>318.1</td>\n",
       "      <td>1187.0</td>\n",
       "      <td>South Asia</td>\n",
       "    </tr>\n",
       "  </tbody>\n",
       "</table>\n",
       "</div>"
      ],
      "text/plain": [
       "          Country  fertility    life  population  child_mortality     gdp  \\\n",
       "Year                                                                        \n",
       "1964  Afghanistan      7.671  33.639  10474903.0            339.7  1182.0   \n",
       "1965  Afghanistan      7.671  34.152  10697983.0            334.1  1182.0   \n",
       "1966  Afghanistan      7.671  34.662  10927724.0            328.7  1168.0   \n",
       "1967  Afghanistan      7.671  35.170  11163656.0            323.3  1173.0   \n",
       "1968  Afghanistan      7.671  35.674  11411022.0            318.1  1187.0   \n",
       "\n",
       "          region  \n",
       "Year              \n",
       "1964  South Asia  \n",
       "1965  South Asia  \n",
       "1966  South Asia  \n",
       "1967  South Asia  \n",
       "1968  South Asia  "
      ]
     },
     "execution_count": 9,
     "metadata": {},
     "output_type": "execute_result"
    }
   ],
   "source": [
    "#import the data making the year the index\n",
    "data = pd.read_csv('gapminder_tidy.csv', index_col='Year', thousands=',')\n",
    "data.head()"
   ]
  },
  {
   "cell_type": "code",
   "execution_count": 26,
   "metadata": {},
   "outputs": [
    {
     "data": {
      "text/html": [
       "\n",
       "\n",
       "\n",
       "\n",
       "\n",
       "\n",
       "  <div class=\"bk-root\" id=\"ee7e10b5-a2bd-4008-838d-8b809fc61b84\" data-root-id=\"3430\"></div>\n"
      ]
     },
     "metadata": {},
     "output_type": "display_data"
    },
    {
     "data": {
      "application/javascript": [
       "(function(root) {\n",
       "  function embed_document(root) {\n",
       "    \n",
       "  var docs_json = {\"9bd4ccb3-05a1-4a4f-8ce3-395c71104c83\":{\"roots\":{\"references\":[{\"attributes\":{\"below\":[{\"id\":\"3441\",\"type\":\"LogAxis\"}],\"center\":[{\"id\":\"3445\",\"type\":\"Grid\"},{\"id\":\"3450\",\"type\":\"Grid\"}],\"left\":[{\"id\":\"3446\",\"type\":\"LinearAxis\"}],\"renderers\":[{\"id\":\"3458\",\"type\":\"GlyphRenderer\"}],\"title\":{\"id\":\"3431\",\"type\":\"Title\"},\"toolbar\":{\"id\":\"3451\",\"type\":\"Toolbar\"},\"x_range\":{\"id\":\"3433\",\"type\":\"Range1d\"},\"x_scale\":{\"id\":\"3437\",\"type\":\"LogScale\"},\"y_range\":{\"id\":\"3435\",\"type\":\"Range1d\"},\"y_scale\":{\"id\":\"3439\",\"type\":\"LinearScale\"}},\"id\":\"3430\",\"subtype\":\"Figure\",\"type\":\"Plot\"},{\"attributes\":{},\"id\":\"3581\",\"type\":\"UnionRenderers\"},{\"attributes\":{\"data\":null,\"x\":[1170.0,1359368470.0],\"y\":[5,75]},\"id\":\"3454\",\"type\":\"LinearInterpolator\"},{\"attributes\":{},\"id\":\"3582\",\"type\":\"Selection\"},{\"attributes\":{\"callback\":null,\"data\":{\"country\":[\"Afghanistan\",\"Albania\",\"Algeria\",\"Angola\",\"Antigua and Barbuda\",\"Argentina\",\"Armenia\",\"Aruba\",\"Australia\",\"Austria\",\"Azerbaijan\",\"Bahamas\",\"Bahrain\",\"Bangladesh\",\"Barbados\",\"Belarus\",\"Belgium\",\"Belize\",\"Benin\",\"Bhutan\",\"Bolivia\",\"Bosnia and Herzegovina\",\"Botswana\",\"Brazil\",\"Brunei\",\"Bulgaria\",\"Burkina Faso\",\"Burundi\",\"Cambodia\",\"Cameroon\",\"Canada\",\"Cape Verde\",\"Central African Rep.\",\"Chad\",\"Channel Islands\",\"Chile\",\"China\",\"Colombia\",\"Comoros\",\"Congo, Dem. Rep.\",\"Congo, Rep.\",\"Costa Rica\",\"Cote d'Ivoire\",\"Croatia\",\"Cuba\",\"Cyprus\",\"Czech Rep.\",\"Denmark\",\"Djibouti\",\"Dominican Rep.\",\"Ecuador\",\"Egypt\",\"El Salvador\",\"Equatorial Guinea\",\"Eritrea\",\"Estonia\",\"Ethiopia\",\"Fiji\",\"Finland\",\"France\",\"French Guiana\",\"French Polynesia\",\"Gabon\",\"Gambia\",\"Georgia\",\"Germany\",\"Ghana\",\"Greece\",\"Greenland\",\"Grenada\",\"Guadeloupe\",\"Guam\",\"Guatemala\",\"Guinea\",\"Guinea-Bissau\",\"Guyana\",\"Haiti\",\"Honduras\",\"Hong Kong, China\",\"Hungary\",\"Iceland\",\"India\",\"Indonesia\",\"Iran\",\"Iraq\",\"Ireland\",\"Israel\",\"Italy\",\"Jamaica\",\"Japan\",\"Jordan\",\"Kazakhstan\",\"Kenya\",\"Kiribati\",\"Korea, Dem. Rep.\",\"Korea, Rep.\",\"Kuwait\",\"Kyrgyzstan\",\"Laos\",\"Latvia\",\"Lebanon\",\"Lesotho\",\"Liberia\",\"Libya\",\"Lithuania\",\"Luxembourg\",\"Macao, China\",\"Macedonia, FYR\",\"Madagascar\",\"Malawi\",\"Malaysia\",\"Maldives\",\"Mali\",\"Malta\",\"Martinique\",\"Mauritania\",\"Mauritius\",\"Mayotte\",\"Mexico\",\"Micronesia, Fed. Sts.\",\"Moldova\",\"Mongolia\",\"Montenegro\",\"Morocco\",\"Mozambique\",\"Myanmar\",\"Namibia\",\"Nepal\",\"Netherlands\",\"Netherlands Antilles\",\"New Caledonia\",\"New Zealand\",\"Nicaragua\",\"Niger\",\"Nigeria\",\"Norway\",\"Oman\",\"Pakistan\",\"Panama\",\"Papua New Guinea\",\"Paraguay\",\"Peru\",\"Philippines\",\"Poland\",\"Portugal\",\"Puerto Rico\",\"Qatar\",\"Reunion\",\"Romania\",\"Russia\",\"Rwanda\",\"Saint Lucia\",\"Saint Vincent and the Grenadines\",\"Samoa\",\"Sao Tome and Principe\",\"Saudi Arabia\",\"Senegal\",\"Serbia\",\"Seychelles\",\"Sierra Leone\",\"Singapore\",\"Slovak Republic\",\"Slovenia\",\"Solomon Islands\",\"Somalia\",\"South Africa\",\"South Sudan\",\"Spain\",\"Sri Lanka\",\"Sudan\",\"Suriname\",\"Swaziland\",\"Sweden\",\"Switzerland\",\"Syria\",\"Taiwan\",\"Tajikistan\",\"Tanzania\",\"Thailand\",\"Timor-Leste\",\"Togo\",\"Tonga\",\"Trinidad and Tobago\",\"Tunisia\",\"Turkey\",\"Turkmenistan\",\"Uganda\",\"Ukraine\",\"United Arab Emirates\",\"United Kingdom\",\"United States\",\"Uruguay\",\"Uzbekistan\",\"Vanuatu\",\"Venezuela\",\"Vietnam\",\"Virgin Islands (U.S.)\",\"West Bank and Gaza\",\"Western Sahara\",\"Yemen, Rep.\",\"Zambia\",\"Zimbabwe\"],\"population\":{\"__ndarray__\":\"AAAA8OH0fUEAAAAAXnJIQQAAAICd6YBBAAAAgKsyckEAAAAAYKj1QAAAAMAmRYNBAAAAADSXR0EAAAAAAD76QAAAAACePHVBAAAAgHUCYEEAAADgOIZhQQAAAAB07RRBAAAAAAtBM0EAAABGubmhQQAAAADMrhBBAAAAoENNYkEAAABAgG5kQQAAAAAsBRNBAAAAgDzhYEEAAAAAaCcmQQAAACCP8GJBAAAAgAqwTEEAAAAAoZ8+QQAAAExLPadBAAAAACBZGEEAAAAAr5ZcQQAAAEBdaW9BAAAAQGD6X0EAAADgcfdqQQAAAJDisHJBAAAAiGo4gEEAAAAA/EUeQQAAAMDmyVBBAAAAAAlqZUEAAAAAQLgCQQAAAIAlUnBBAAAAnMn800EAAADIOROGQQAAAAA8bCZBAAAAGHd0j0EAAACASdhOQQAAAMCxxVFBAAAAgMzSckEAAACAIMxQQQAAAGAPeWVBAAAAAB/XMEEAAAAAhANkQQAAAIAPLFVBAAAAABgfK0EAAAAAU+9iQQAAAGDclmtBAAAA1DxXk0EAAABA2J9XQQAAAADiXyVBAAAAAIsKVEEAAAAA1HY0QQAAAJTWxpNBAAAAAJ5DKkEAAACA0HZUQQAAABh78I1BAAAAAHg3DEEAAAAAsIYQQQAAAAC3+DZBAAAAAIpfOkEAAAAAPZpQQQAAAARYn5NBAAAA8AhDd0EAAABAjqplQQAAAAAA+utAAAAAAHCC+UAAAAAA6B0cQQAAAADA9QVBAAAAINhxa0EAAADA0gljQQAAAADYHjdBAAAAAHoGJ0EAAADggw9jQQAAAABj/lxBAAAAQOHnWkEAAACg0wpjQQAAAAAgihNBAADAbYg/0kEAAACyR5isQQAAAPj9opFBAAAAcFI0fkEAAAAAIw1RQQAAAACITFxBAAAAAHbfjEEAAAAAnulEQQAAAMAjK55BAAAAwDaaV0EAAADgX5FuQQAAAFBlUYNBAAAAAKBN+EAAAABQ5zd3QQAAAADJ+YZBAAAAAC7hREEAAADAM1lUQQAAAICPp1dBAAAAAI4uQUEAAABAgyBQQQAAAADbkEBBAAAAAAV5TkEAAAAAKj5YQQAAAIBtW0lBAAAAAOD4HkEAAAAAUJcgQQAAAAATcT9BAAAAsBXBc0EAAAAgzWtsQQAAAJDXFXtBAAAAALRHE0EAAAAgylBtQQAAAAAMbBlBAAAAANjEGEEAAACAXmVKQQAAAADk0jNBAAAAAJDqCEEAAAAcywqbQQAAAACAHftAAAAAgEpCS0EAAACA0AZFQQAAAACERSNBAAAAQKN4fkEAAADQok52QQAAACDc3oZBAAAAgIxrQUEAAABATJJ8QQAAAIDPr29BAAAAAIh/CEEAAAAAsJ8OQQAAAADCqVBBAAAAwIAUVkEAAAAgMpZtQQAAAByx4qJBAAAAwKmgUkEAAACAcTpFQQAAAE6msaRBAAAAAMrUSkEAAACAhilaQQAAAABFn1hBAAAAAMK6e0EAAAD4LzyWQQAAAKBxQIJBAAAAgK5cZEEAAACASJpMQQAAAABJ1jpBAAAAAOjRKUEAAAAwsn10QQAAAKi8CqFBAAAAoIBDZEEAAAAA2EUFQQAAAABQsfpAAAAAAEhZBkEAAAAAqDAEQQAAAGAxLXpBAAAAACi3Z0EAAADAm8xiQQAAAABgH/VAAAAAAARiVkEAAACANGdTQQAAAMAZ1lRBAAAAAHD4PkEAAAAASGwgQQAAAAAXzGFBAAAAiLrnh0EAAACgX/VhQQAAAOih+IVBAAAA0MLkc0EAAABADkeAQQAAAAC4AiBBAAAAAAgZMkEAAADg7ONhQQAAAICvPF1BAAAA4A53c0EAAACAVvV1QQAAAEBrPVpBAAAAUMhhhUEAAADo4nqQQQAAAAADKDFBAAAAgIX+VkEAAAAAoGf5QAAAAAAZeDRBAAAAwKT9Y0EAAAAUc1iRQQAAAMDSO1NBAAAAsFLgf0EAAABI5KuFQQAAAICip1xBAAAAkLOUjUEAAABMFYCyQQAAAACps0lBAAAA4F0sekEAAAAAGEENQQAAABApo3tBAAAA9NfxlEEAAAAAAKD6QAAAAAAM0U5BAAAAAIgwIEEAAAAgMvB2QQAAAEDn9mhBAAAAwGf6Z0E=\",\"dtype\":\"float64\",\"shape\":[202]},\"region\":[\"South Asia\",\"Europe & Central Asia\",\"Middle East & North Africa\",\"Sub-Saharan Africa\",\"America\",\"America\",\"Europe & Central Asia\",\"America\",\"East Asia & Pacific\",\"Europe & Central Asia\",\"Europe & Central Asia\",\"America\",\"Middle East & North Africa\",\"South Asia\",\"America\",\"Europe & Central Asia\",\"Europe & Central Asia\",\"America\",\"Sub-Saharan Africa\",\"South Asia\",\"America\",\"Europe & Central Asia\",\"Sub-Saharan Africa\",\"America\",\"East Asia & Pacific\",\"Europe & Central Asia\",\"Sub-Saharan Africa\",\"Sub-Saharan Africa\",\"East Asia & Pacific\",\"Sub-Saharan Africa\",\"America\",\"Sub-Saharan Africa\",\"Sub-Saharan Africa\",\"Sub-Saharan Africa\",\"Europe & Central Asia\",\"America\",\"East Asia & Pacific\",\"America\",\"Sub-Saharan Africa\",\"Sub-Saharan Africa\",\"Sub-Saharan Africa\",\"America\",\"Sub-Saharan Africa\",\"Europe & Central Asia\",\"America\",\"Europe & Central Asia\",\"Europe & Central Asia\",\"Europe & Central Asia\",\"Middle East & North Africa\",\"America\",\"America\",\"Middle East & North Africa\",\"America\",\"Sub-Saharan Africa\",\"Sub-Saharan Africa\",\"Europe & Central Asia\",\"Sub-Saharan Africa\",\"East Asia & Pacific\",\"Europe & Central Asia\",\"Europe & Central Asia\",\"America\",\"East Asia & Pacific\",\"Sub-Saharan Africa\",\"Sub-Saharan Africa\",\"Europe & Central Asia\",\"Europe & Central Asia\",\"Sub-Saharan Africa\",\"Europe & Central Asia\",\"Europe & Central Asia\",\"America\",\"America\",\"East Asia & Pacific\",\"America\",\"Sub-Saharan Africa\",\"Sub-Saharan Africa\",\"America\",\"America\",\"America\",\"East Asia & Pacific\",\"Europe & Central Asia\",\"Europe & Central Asia\",\"South Asia\",\"East Asia & Pacific\",\"Middle East & North Africa\",\"Middle East & North Africa\",\"Europe & Central Asia\",\"Middle East & North Africa\",\"Europe & Central Asia\",\"America\",\"East Asia & Pacific\",\"Middle East & North Africa\",\"Europe & Central Asia\",\"Sub-Saharan Africa\",\"East Asia & Pacific\",\"East Asia & Pacific\",\"East Asia & Pacific\",\"Middle East & North Africa\",\"Europe & Central Asia\",\"East Asia & Pacific\",\"Europe & Central Asia\",\"Middle East & North Africa\",\"Sub-Saharan Africa\",\"Sub-Saharan Africa\",\"Middle East & North Africa\",\"Europe & Central Asia\",\"Europe & Central Asia\",\"East Asia & Pacific\",\"Europe & Central Asia\",\"Sub-Saharan Africa\",\"Sub-Saharan Africa\",\"East Asia & Pacific\",\"South Asia\",\"Sub-Saharan Africa\",\"Europe & Central Asia\",\"America\",\"Sub-Saharan Africa\",\"Sub-Saharan Africa\",\"Sub-Saharan Africa\",\"America\",\"East Asia & Pacific\",\"Europe & Central Asia\",\"East Asia & Pacific\",\"Europe & Central Asia\",\"Middle East & North Africa\",\"Sub-Saharan Africa\",\"East Asia & Pacific\",\"Sub-Saharan Africa\",\"South Asia\",\"Europe & Central Asia\",\"America\",\"East Asia & Pacific\",\"East Asia & Pacific\",\"America\",\"Sub-Saharan Africa\",\"Sub-Saharan Africa\",\"Europe & Central Asia\",\"Middle East & North Africa\",\"South Asia\",\"America\",\"East Asia & Pacific\",\"America\",\"America\",\"East Asia & Pacific\",\"Europe & Central Asia\",\"Europe & Central Asia\",\"America\",\"Middle East & North Africa\",\"Sub-Saharan Africa\",\"Europe & Central Asia\",\"Europe & Central Asia\",\"Sub-Saharan Africa\",\"America\",\"America\",\"East Asia & Pacific\",\"Sub-Saharan Africa\",\"Middle East & North Africa\",\"Sub-Saharan Africa\",\"Europe & Central Asia\",\"Sub-Saharan Africa\",\"Sub-Saharan Africa\",\"East Asia & Pacific\",\"Europe & Central Asia\",\"Europe & Central Asia\",\"East Asia & Pacific\",\"Sub-Saharan Africa\",\"Sub-Saharan Africa\",\"Sub-Saharan Africa\",\"Europe & Central Asia\",\"South Asia\",\"Sub-Saharan Africa\",\"America\",\"Sub-Saharan Africa\",\"Europe & Central Asia\",\"Europe & Central Asia\",\"Middle East & North Africa\",\"East Asia & Pacific\",\"Europe & Central Asia\",\"Sub-Saharan Africa\",\"East Asia & Pacific\",\"East Asia & Pacific\",\"Sub-Saharan Africa\",\"East Asia & Pacific\",\"America\",\"Middle East & North Africa\",\"Europe & Central Asia\",\"Europe & Central Asia\",\"Sub-Saharan Africa\",\"Europe & Central Asia\",\"Middle East & North Africa\",\"Europe & Central Asia\",\"America\",\"America\",\"Europe & Central Asia\",\"East Asia & Pacific\",\"America\",\"East Asia & Pacific\",\"America\",\"Middle East & North Africa\",\"Middle East & North Africa\",\"Middle East & North Africa\",\"Sub-Saharan Africa\",\"Sub-Saharan Africa\"],\"x\":{\"__ndarray__\":\"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\",\"dtype\":\"float64\",\"shape\":[202]},\"y\":{\"__ndarray__\":\"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\",\"dtype\":\"float64\",\"shape\":[202]}},\"selected\":{\"id\":\"3582\",\"type\":\"Selection\"},\"selection_policy\":{\"id\":\"3581\",\"type\":\"UnionRenderers\"}},\"id\":\"3453\",\"type\":\"ColumnDataSource\"},{\"attributes\":{\"callback\":null,\"show_arrow\":false,\"tooltips\":\"@country : @population\"},\"id\":\"3429\",\"type\":\"HoverTool\"},{\"attributes\":{\"active_drag\":\"auto\",\"active_inspect\":\"auto\",\"active_multi\":null,\"active_scroll\":\"auto\",\"active_tap\":\"auto\",\"tools\":[{\"id\":\"3429\",\"type\":\"HoverTool\"}]},\"id\":\"3451\",\"type\":\"Toolbar\"},{\"attributes\":{\"formatter\":{\"id\":\"3578\",\"type\":\"BasicTickFormatter\"},\"ticker\":{\"id\":\"3447\",\"type\":\"BasicTicker\"}},\"id\":\"3446\",\"type\":\"LinearAxis\"},{\"attributes\":{\"dimension\":1,\"ticker\":{\"id\":\"3447\",\"type\":\"BasicTicker\"}},\"id\":\"3450\",\"type\":\"Grid\"},{\"attributes\":{\"ticker\":{\"id\":\"3442\",\"type\":\"LogTicker\"}},\"id\":\"3445\",\"type\":\"Grid\"},{\"attributes\":{\"fill_alpha\":{\"value\":0.7},\"fill_color\":{\"value\":\"#1f77b4\"},\"line_alpha\":{\"value\":0.7},\"line_color\":{\"value\":\"#1f77b4\"},\"size\":{\"field\":\"population\",\"transform\":{\"id\":\"3454\",\"type\":\"LinearInterpolator\"},\"units\":\"screen\"},\"x\":{\"field\":\"x\"},\"y\":{\"field\":\"y\"}},\"id\":\"3456\",\"type\":\"Circle\"},{\"attributes\":{},\"id\":\"3447\",\"type\":\"BasicTicker\"},{\"attributes\":{\"callback\":null,\"end\":100},\"id\":\"3435\",\"type\":\"Range1d\"},{\"attributes\":{\"data_source\":{\"id\":\"3453\",\"type\":\"ColumnDataSource\"},\"glyph\":{\"id\":\"3456\",\"type\":\"Circle\"},\"hover_glyph\":null,\"muted_glyph\":null,\"nonselection_glyph\":{\"id\":\"3457\",\"type\":\"Circle\"},\"selection_glyph\":null,\"view\":{\"id\":\"3459\",\"type\":\"CDSView\"}},\"id\":\"3458\",\"type\":\"GlyphRenderer\"},{\"attributes\":{\"text\":\"Life Expectancy Against GDP in 2010\"},\"id\":\"3431\",\"type\":\"Title\"},{\"attributes\":{\"num_minor_ticks\":10},\"id\":\"3442\",\"type\":\"LogTicker\"},{\"attributes\":{\"formatter\":{\"id\":\"3460\",\"type\":\"NumeralTickFormatter\"},\"ticker\":{\"id\":\"3442\",\"type\":\"LogTicker\"}},\"id\":\"3441\",\"type\":\"LogAxis\"},{\"attributes\":{},\"id\":\"3437\",\"type\":\"LogScale\"},{\"attributes\":{},\"id\":\"3439\",\"type\":\"LinearScale\"},{\"attributes\":{\"callback\":null,\"end\":100000,\"start\":100},\"id\":\"3433\",\"type\":\"Range1d\"},{\"attributes\":{},\"id\":\"3578\",\"type\":\"BasicTickFormatter\"},{\"attributes\":{\"fill_alpha\":{\"value\":0.1},\"fill_color\":{\"value\":\"#1f77b4\"},\"line_alpha\":{\"value\":0.1},\"line_color\":{\"value\":\"#1f77b4\"},\"size\":{\"field\":\"population\",\"transform\":{\"id\":\"3454\",\"type\":\"LinearInterpolator\"},\"units\":\"screen\"},\"x\":{\"field\":\"x\"},\"y\":{\"field\":\"y\"}},\"id\":\"3457\",\"type\":\"Circle\"},{\"attributes\":{\"format\":\"$0,\"},\"id\":\"3460\",\"type\":\"NumeralTickFormatter\"},{\"attributes\":{\"source\":{\"id\":\"3453\",\"type\":\"ColumnDataSource\"}},\"id\":\"3459\",\"type\":\"CDSView\"}],\"root_ids\":[\"3430\"]},\"title\":\"Bokeh Application\",\"version\":\"1.2.0\"}};\n",
       "  var render_items = [{\"docid\":\"9bd4ccb3-05a1-4a4f-8ce3-395c71104c83\",\"roots\":{\"3430\":\"ee7e10b5-a2bd-4008-838d-8b809fc61b84\"}}];\n",
       "  root.Bokeh.embed.embed_items_notebook(docs_json, render_items);\n",
       "\n",
       "  }\n",
       "  if (root.Bokeh !== undefined) {\n",
       "    embed_document(root);\n",
       "  } else {\n",
       "    var attempts = 0;\n",
       "    var timer = setInterval(function(root) {\n",
       "      if (root.Bokeh !== undefined) {\n",
       "        embed_document(root);\n",
       "        clearInterval(timer);\n",
       "      }\n",
       "      attempts++;\n",
       "      if (attempts > 100) {\n",
       "        console.log(\"Bokeh: ERROR: Unable to run BokehJS code because BokehJS library is missing\");\n",
       "        clearInterval(timer);\n",
       "      }\n",
       "    }, 10, root)\n",
       "  }\n",
       "})(window);"
      ],
      "application/vnd.bokehjs_exec.v0+json": ""
     },
     "metadata": {
      "application/vnd.bokehjs_exec.v0+json": {
       "id": "3430"
      }
     },
     "output_type": "display_data"
    }
   ],
   "source": [
    "from bokeh.palettes import Spectral6\n",
    "from bokeh.models import NumeralTickFormatter, LinearInterpolator, CategoricalColorMapper\n",
    "\n",
    "# get figure\n",
    "hover = HoverTool(tooltips='@country : @population', show_arrow = False)\n",
    "fig = figure(title = 'Life Expectancy Against GDP in 2010',\n",
    "             tools=[hover], x_axis_type = 'log',\n",
    "             x_range = (100, 100000),y_range = (0, 100))\n",
    "\n",
    "#Get the 2010 data only\n",
    "data_2010 = data.loc[2010]\n",
    "\n",
    "source = ColumnDataSource(dict(x = data_2010.gdp, y = data_2010.life, \n",
    "                               country = data_2010.Country, population = data_2010.population, region = data_2010.region))\n",
    "\n",
    "size_mapper = LinearInterpolator(x = [data.population.min(), data.population.max()],\n",
    "                                 y = [5, 50])\n",
    "\n",
    "\n",
    "fig.circle(x = 'x', y = 'y',\n",
    "           size = {\n",
    "               'field' : 'population',\n",
    "               'transform' : size_mapper\n",
    "           },\n",
    "           alpha = 0.7,\n",
    "           source = source)\n",
    "fig.xaxis[0].formatter = NumeralTickFormatter(format=\"$0,\")\n",
    "\n",
    "show(fig)"
   ]
  },
  {
   "cell_type": "code",
   "execution_count": null,
   "metadata": {},
   "outputs": [],
   "source": []
  },
  {
   "cell_type": "code",
   "execution_count": 11,
   "metadata": {},
   "outputs": [
    {
     "data": {
      "text/html": [
       "\n",
       "\n",
       "\n",
       "\n",
       "\n",
       "\n",
       "  <div class=\"bk-root\" id=\"27ae1de6-2b6c-4a3a-bbb2-293b7bebb753\" data-root-id=\"1404\"></div>\n"
      ]
     },
     "metadata": {},
     "output_type": "display_data"
    },
    {
     "data": {
      "application/javascript": [
       "(function(root) {\n",
       "  function embed_document(root) {\n",
       "    \n",
       "  var docs_json = {\"42dc11fb-000b-4894-8fd3-37e3abfc418b\":{\"roots\":{\"references\":[{\"attributes\":{\"below\":[{\"id\":\"1415\",\"type\":\"LinearAxis\"}],\"center\":[{\"id\":\"1419\",\"type\":\"Grid\"},{\"id\":\"1424\",\"type\":\"Grid\"}],\"left\":[{\"id\":\"1420\",\"type\":\"LinearAxis\"}],\"plot_height\":400,\"plot_width\":900,\"renderers\":[{\"id\":\"1441\",\"type\":\"GlyphRenderer\"}],\"title\":{\"id\":\"1405\",\"type\":\"Title\"},\"toolbar\":{\"id\":\"1431\",\"type\":\"Toolbar\"},\"x_range\":{\"id\":\"1407\",\"type\":\"DataRange1d\"},\"x_scale\":{\"id\":\"1411\",\"type\":\"LinearScale\"},\"y_range\":{\"id\":\"1409\",\"type\":\"DataRange1d\"},\"y_scale\":{\"id\":\"1413\",\"type\":\"LinearScale\"}},\"id\":\"1404\",\"subtype\":\"Figure\",\"type\":\"Plot\"},{\"attributes\":{},\"id\":\"1475\",\"type\":\"BasicTickFormatter\"},{\"attributes\":{},\"id\":\"1428\",\"type\":\"SaveTool\"},{\"attributes\":{\"line_alpha\":0.1,\"line_color\":\"#1f77b4\",\"x\":{\"field\":\"year\"},\"y\":{\"field\":\"life\"}},\"id\":\"1440\",\"type\":\"Line\"},{\"attributes\":{},\"id\":\"1429\",\"type\":\"ResetTool\"},{\"attributes\":{\"text\":\"Life Expectancy Growth From 1964\"},\"id\":\"1405\",\"type\":\"Title\"},{\"attributes\":{},\"id\":\"1430\",\"type\":\"HelpTool\"},{\"attributes\":{\"callback\":null},\"id\":\"1407\",\"type\":\"DataRange1d\"},{\"attributes\":{\"active_drag\":\"auto\",\"active_inspect\":\"auto\",\"active_multi\":null,\"active_scroll\":\"auto\",\"active_tap\":\"auto\",\"tools\":[{\"id\":\"1425\",\"type\":\"PanTool\"},{\"id\":\"1426\",\"type\":\"WheelZoomTool\"},{\"id\":\"1427\",\"type\":\"BoxZoomTool\"},{\"id\":\"1428\",\"type\":\"SaveTool\"},{\"id\":\"1429\",\"type\":\"ResetTool\"},{\"id\":\"1430\",\"type\":\"HelpTool\"}]},\"id\":\"1431\",\"type\":\"Toolbar\"},{\"attributes\":{\"callback\":null},\"id\":\"1409\",\"type\":\"DataRange1d\"},{\"attributes\":{\"data_source\":{\"id\":\"1403\",\"type\":\"ColumnDataSource\"},\"glyph\":{\"id\":\"1439\",\"type\":\"Line\"},\"hover_glyph\":null,\"muted_glyph\":null,\"nonselection_glyph\":{\"id\":\"1440\",\"type\":\"Line\"},\"selection_glyph\":null,\"view\":{\"id\":\"1442\",\"type\":\"CDSView\"}},\"id\":\"1441\",\"type\":\"GlyphRenderer\"},{\"attributes\":{},\"id\":\"1479\",\"type\":\"Selection\"},{\"attributes\":{},\"id\":\"1411\",\"type\":\"LinearScale\"},{\"attributes\":{\"source\":{\"id\":\"1403\",\"type\":\"ColumnDataSource\"}},\"id\":\"1442\",\"type\":\"CDSView\"},{\"attributes\":{},\"id\":\"1413\",\"type\":\"LinearScale\"},{\"attributes\":{\"formatter\":{\"id\":\"1475\",\"type\":\"BasicTickFormatter\"},\"ticker\":{\"id\":\"1416\",\"type\":\"BasicTicker\"}},\"id\":\"1415\",\"type\":\"LinearAxis\"},{\"attributes\":{},\"id\":\"1473\",\"type\":\"BasicTickFormatter\"},{\"attributes\":{},\"id\":\"1416\",\"type\":\"BasicTicker\"},{\"attributes\":{\"ticker\":{\"id\":\"1416\",\"type\":\"BasicTicker\"}},\"id\":\"1419\",\"type\":\"Grid\"},{\"attributes\":{\"formatter\":{\"id\":\"1473\",\"type\":\"BasicTickFormatter\"},\"ticker\":{\"id\":\"1421\",\"type\":\"BasicTicker\"}},\"id\":\"1420\",\"type\":\"LinearAxis\"},{\"attributes\":{},\"id\":\"1478\",\"type\":\"UnionRenderers\"},{\"attributes\":{},\"id\":\"1421\",\"type\":\"BasicTicker\"},{\"attributes\":{\"dimension\":1,\"ticker\":{\"id\":\"1421\",\"type\":\"BasicTicker\"}},\"id\":\"1424\",\"type\":\"Grid\"},{\"attributes\":{\"callback\":null,\"data\":{\"life\":[52.035,52.38399999999999,52.764,53.18600000000001,53.659,54.184,54.75899999999999,55.379,56.027,56.68600000000001,57.344,57.99,58.61600000000001,59.219,59.79600000000001,60.341,60.859,61.364,61.858,62.331,62.762,63.13,63.41,63.573,63.591,63.437,63.06800000000001,62.444,61.572,60.477,59.195,57.771,56.256,54.715,53.217,51.81800000000001,50.567,49.492,48.58600000000001,47.839,47.257,46.83600000000001,46.565,46.422,46.38399999999999,46.441,46.588,46.824,47.152,47.572],\"year\":[1964,1965,1966,1967,1968,1969,1970,1971,1972,1973,1974,1975,1976,1977,1978,1979,1980,1981,1982,1983,1984,1985,1986,1987,1988,1989,1990,1991,1992,1993,1994,1995,1996,1997,1998,1999,2000,2001,2002,2003,2004,2005,2006,2007,2008,2009,2010,2011,2012,2013]},\"selected\":{\"id\":\"1479\",\"type\":\"Selection\"},\"selection_policy\":{\"id\":\"1478\",\"type\":\"UnionRenderers\"}},\"id\":\"1403\",\"type\":\"ColumnDataSource\"},{\"attributes\":{\"bottom_units\":\"screen\",\"fill_alpha\":{\"value\":0.5},\"fill_color\":{\"value\":\"lightgrey\"},\"left_units\":\"screen\",\"level\":\"overlay\",\"line_alpha\":{\"value\":1.0},\"line_color\":{\"value\":\"black\"},\"line_dash\":[4,4],\"line_width\":{\"value\":2},\"render_mode\":\"css\",\"right_units\":\"screen\",\"top_units\":\"screen\"},\"id\":\"1477\",\"type\":\"BoxAnnotation\"},{\"attributes\":{\"line_color\":\"#1f77b4\",\"x\":{\"field\":\"year\"},\"y\":{\"field\":\"life\"}},\"id\":\"1439\",\"type\":\"Line\"},{\"attributes\":{},\"id\":\"1425\",\"type\":\"PanTool\"},{\"attributes\":{},\"id\":\"1426\",\"type\":\"WheelZoomTool\"},{\"attributes\":{\"overlay\":{\"id\":\"1477\",\"type\":\"BoxAnnotation\"}},\"id\":\"1427\",\"type\":\"BoxZoomTool\"}],\"root_ids\":[\"1404\"]},\"title\":\"Bokeh Application\",\"version\":\"1.2.0\"}};\n",
       "  var render_items = [{\"docid\":\"42dc11fb-000b-4894-8fd3-37e3abfc418b\",\"roots\":{\"1404\":\"27ae1de6-2b6c-4a3a-bbb2-293b7bebb753\"}}];\n",
       "  root.Bokeh.embed.embed_items_notebook(docs_json, render_items);\n",
       "\n",
       "  }\n",
       "  if (root.Bokeh !== undefined) {\n",
       "    embed_document(root);\n",
       "  } else {\n",
       "    var attempts = 0;\n",
       "    var timer = setInterval(function(root) {\n",
       "      if (root.Bokeh !== undefined) {\n",
       "        embed_document(root);\n",
       "        clearInterval(timer);\n",
       "      }\n",
       "      attempts++;\n",
       "      if (attempts > 100) {\n",
       "        console.log(\"Bokeh: ERROR: Unable to run BokehJS code because BokehJS library is missing\");\n",
       "        clearInterval(timer);\n",
       "      }\n",
       "    }, 10, root)\n",
       "  }\n",
       "})(window);"
      ],
      "application/vnd.bokehjs_exec.v0+json": ""
     },
     "metadata": {
      "application/vnd.bokehjs_exec.v0+json": {
       "id": "1404"
      }
     },
     "output_type": "display_data"
    }
   ],
   "source": [
    "life_data = data[data.Country == 'Botswana'].reset_index()\n",
    "source = ColumnDataSource(data = dict(\n",
    "    year = list(life_data.Year),\n",
    "    life = list(life_data.life)\n",
    "))\n",
    "\n",
    "fig = figure(plot_width=900, plot_height=400, title = 'Life Expectancy Growth From 1964')\n",
    "\n",
    "fig.line(x = 'year', y = 'life', source = source)\n",
    "\n",
    "show(fig)"
   ]
  },
  {
   "cell_type": "code",
   "execution_count": 33,
   "metadata": {},
   "outputs": [
    {
     "data": {
      "text/html": [
       "\n",
       "\n",
       "\n",
       "\n",
       "\n",
       "\n",
       "  <div class=\"bk-root\" id=\"2f1c9c57-251b-477a-af16-989c7372f636\" data-root-id=\"4924\"></div>\n"
      ]
     },
     "metadata": {},
     "output_type": "display_data"
    },
    {
     "data": {
      "application/javascript": [
       "(function(root) {\n",
       "  function embed_document(root) {\n",
       "    \n",
       "  var docs_json = {\"96a46592-1962-493b-9290-326746063938\":{\"roots\":{\"references\":[{\"attributes\":{\"below\":[{\"id\":\"4935\",\"type\":\"LinearAxis\"}],\"center\":[{\"id\":\"4939\",\"type\":\"Grid\"},{\"id\":\"4944\",\"type\":\"Grid\"},{\"id\":\"4970\",\"type\":\"Legend\"}],\"left\":[{\"id\":\"4940\",\"type\":\"LinearAxis\"}],\"plot_height\":400,\"plot_width\":900,\"renderers\":[{\"id\":\"4962\",\"type\":\"GlyphRenderer\"},{\"id\":\"4978\",\"type\":\"GlyphRenderer\"},{\"id\":\"4995\",\"type\":\"GlyphRenderer\"}],\"title\":{\"id\":\"4925\",\"type\":\"Title\"},\"toolbar\":{\"id\":\"4951\",\"type\":\"Toolbar\"},\"x_range\":{\"id\":\"4927\",\"type\":\"DataRange1d\"},\"x_scale\":{\"id\":\"4931\",\"type\":\"LinearScale\"},\"y_range\":{\"id\":\"4929\",\"type\":\"DataRange1d\"},\"y_scale\":{\"id\":\"4933\",\"type\":\"LinearScale\"}},\"id\":\"4924\",\"subtype\":\"Figure\",\"type\":\"Plot\"},{\"attributes\":{\"line_alpha\":0.1,\"line_color\":\"#1f77b4\",\"x\":{\"field\":\"year\"},\"y\":{\"field\":\"life\"}},\"id\":\"4994\",\"type\":\"Line\"},{\"attributes\":{\"bottom_units\":\"screen\",\"fill_alpha\":{\"value\":0.5},\"fill_color\":{\"value\":\"lightgrey\"},\"left_units\":\"screen\",\"level\":\"overlay\",\"line_alpha\":{\"value\":1.0},\"line_color\":{\"value\":\"black\"},\"line_dash\":[4,4],\"line_width\":{\"value\":2},\"render_mode\":\"css\",\"right_units\":\"screen\",\"top_units\":\"screen\"},\"id\":\"4969\",\"type\":\"BoxAnnotation\"},{\"attributes\":{},\"id\":\"4965\",\"type\":\"BasicTickFormatter\"},{\"attributes\":{\"data_source\":{\"id\":\"4991\",\"type\":\"ColumnDataSource\"},\"glyph\":{\"id\":\"4993\",\"type\":\"Line\"},\"hover_glyph\":null,\"muted_glyph\":null,\"nonselection_glyph\":{\"id\":\"4994\",\"type\":\"Line\"},\"selection_glyph\":null,\"view\":{\"id\":\"4996\",\"type\":\"CDSView\"}},\"id\":\"4995\",\"type\":\"GlyphRenderer\"},{\"attributes\":{\"callback\":null,\"data\":{\"country\":[\"Zimbabwe\",\"Zimbabwe\",\"Zimbabwe\",\"Zimbabwe\",\"Zimbabwe\",\"Zimbabwe\",\"Zimbabwe\",\"Zimbabwe\",\"Zimbabwe\",\"Zimbabwe\",\"Zimbabwe\",\"Zimbabwe\",\"Zimbabwe\",\"Zimbabwe\",\"Zimbabwe\",\"Zimbabwe\",\"Zimbabwe\",\"Zimbabwe\",\"Zimbabwe\",\"Zimbabwe\",\"Zimbabwe\",\"Zimbabwe\",\"Zimbabwe\",\"Zimbabwe\",\"Zimbabwe\",\"Zimbabwe\",\"Zimbabwe\",\"Zimbabwe\",\"Zimbabwe\",\"Zimbabwe\",\"Zimbabwe\",\"Zimbabwe\",\"Zimbabwe\",\"Zimbabwe\",\"Zimbabwe\",\"Zimbabwe\",\"Zimbabwe\",\"Zimbabwe\",\"Zimbabwe\",\"Zimbabwe\",\"Zimbabwe\",\"Zimbabwe\",\"Zimbabwe\",\"Zimbabwe\",\"Zimbabwe\",\"Zimbabwe\",\"Zimbabwe\",\"Zimbabwe\",\"Zimbabwe\",\"Zimbabwe\"],\"life\":[52.993,53.325,53.648,53.965,54.279,54.596,54.918,55.247,55.58600000000001,55.94,56.312,56.719,57.179,57.691,58.246,58.823,59.40600000000001,59.975,60.497,60.933,61.246,61.4,61.365,61.133,60.697,60.049,59.157,57.99,56.57100000000001,54.952,53.197,51.378,49.565,47.839,46.284,44.977,43.976000000000006,43.31,42.965,42.93600000000001,43.244,43.958,45.157,46.827,48.89,51.234,53.684,56.04,58.142,59.871],\"year\":[1964,1965,1966,1967,1968,1969,1970,1971,1972,1973,1974,1975,1976,1977,1978,1979,1980,1981,1982,1983,1984,1985,1986,1987,1988,1989,1990,1991,1992,1993,1994,1995,1996,1997,1998,1999,2000,2001,2002,2003,2004,2005,2006,2007,2008,2009,2010,2011,2012,2013]},\"selected\":{\"id\":\"5006\",\"type\":\"Selection\"},\"selection_policy\":{\"id\":\"5005\",\"type\":\"UnionRenderers\"}},\"id\":\"4974\",\"type\":\"ColumnDataSource\"},{\"attributes\":{\"ticker\":{\"id\":\"4936\",\"type\":\"BasicTicker\"}},\"id\":\"4939\",\"type\":\"Grid\"},{\"attributes\":{\"line_color\":\"#ff7f0e\",\"x\":{\"field\":\"year\"},\"y\":{\"field\":\"life\"}},\"id\":\"4976\",\"type\":\"Line\"},{\"attributes\":{\"callback\":null,\"data\":{\"country\":[\"Botswana\",\"Botswana\",\"Botswana\",\"Botswana\",\"Botswana\",\"Botswana\",\"Botswana\",\"Botswana\",\"Botswana\",\"Botswana\",\"Botswana\",\"Botswana\",\"Botswana\",\"Botswana\",\"Botswana\",\"Botswana\",\"Botswana\",\"Botswana\",\"Botswana\",\"Botswana\",\"Botswana\",\"Botswana\",\"Botswana\",\"Botswana\",\"Botswana\",\"Botswana\",\"Botswana\",\"Botswana\",\"Botswana\",\"Botswana\",\"Botswana\",\"Botswana\",\"Botswana\",\"Botswana\",\"Botswana\",\"Botswana\",\"Botswana\",\"Botswana\",\"Botswana\",\"Botswana\",\"Botswana\",\"Botswana\",\"Botswana\",\"Botswana\",\"Botswana\",\"Botswana\",\"Botswana\",\"Botswana\",\"Botswana\",\"Botswana\"],\"life\":[52.035,52.38399999999999,52.764,53.18600000000001,53.659,54.184,54.75899999999999,55.379,56.027,56.68600000000001,57.344,57.99,58.61600000000001,59.219,59.79600000000001,60.341,60.859,61.364,61.858,62.331,62.762,63.13,63.41,63.573,63.591,63.437,63.06800000000001,62.444,61.572,60.477,59.195,57.771,56.256,54.715,53.217,51.81800000000001,50.567,49.492,48.58600000000001,47.839,47.257,46.83600000000001,46.565,46.422,46.38399999999999,46.441,46.588,46.824,47.152,47.572],\"year\":[1964,1965,1966,1967,1968,1969,1970,1971,1972,1973,1974,1975,1976,1977,1978,1979,1980,1981,1982,1983,1984,1985,1986,1987,1988,1989,1990,1991,1992,1993,1994,1995,1996,1997,1998,1999,2000,2001,2002,2003,2004,2005,2006,2007,2008,2009,2010,2011,2012,2013]},\"selected\":{\"id\":\"4987\",\"type\":\"Selection\"},\"selection_policy\":{\"id\":\"4986\",\"type\":\"UnionRenderers\"}},\"id\":\"4958\",\"type\":\"ColumnDataSource\"},{\"attributes\":{\"source\":{\"id\":\"4991\",\"type\":\"ColumnDataSource\"}},\"id\":\"4996\",\"type\":\"CDSView\"},{\"attributes\":{},\"id\":\"4945\",\"type\":\"PanTool\"},{\"attributes\":{},\"id\":\"5005\",\"type\":\"UnionRenderers\"},{\"attributes\":{},\"id\":\"4946\",\"type\":\"WheelZoomTool\"},{\"attributes\":{},\"id\":\"5006\",\"type\":\"Selection\"},{\"attributes\":{\"overlay\":{\"id\":\"4969\",\"type\":\"BoxAnnotation\"}},\"id\":\"4947\",\"type\":\"BoxZoomTool\"},{\"attributes\":{\"label\":{\"value\":\"Lesotho\"},\"renderers\":[{\"id\":\"4995\",\"type\":\"GlyphRenderer\"}]},\"id\":\"5007\",\"type\":\"LegendItem\"},{\"attributes\":{\"line_alpha\":0.1,\"line_color\":\"#1f77b4\",\"x\":{\"field\":\"year\"},\"y\":{\"field\":\"life\"}},\"id\":\"4977\",\"type\":\"Line\"},{\"attributes\":{},\"id\":\"4948\",\"type\":\"SaveTool\"},{\"attributes\":{\"callback\":null,\"data\":{\"country\":[\"Lesotho\",\"Lesotho\",\"Lesotho\",\"Lesotho\",\"Lesotho\",\"Lesotho\",\"Lesotho\",\"Lesotho\",\"Lesotho\",\"Lesotho\",\"Lesotho\",\"Lesotho\",\"Lesotho\",\"Lesotho\",\"Lesotho\",\"Lesotho\",\"Lesotho\",\"Lesotho\",\"Lesotho\",\"Lesotho\",\"Lesotho\",\"Lesotho\",\"Lesotho\",\"Lesotho\",\"Lesotho\",\"Lesotho\",\"Lesotho\",\"Lesotho\",\"Lesotho\",\"Lesotho\",\"Lesotho\",\"Lesotho\",\"Lesotho\",\"Lesotho\",\"Lesotho\",\"Lesotho\",\"Lesotho\",\"Lesotho\",\"Lesotho\",\"Lesotho\",\"Lesotho\",\"Lesotho\",\"Lesotho\",\"Lesotho\",\"Lesotho\",\"Lesotho\",\"Lesotho\",\"Lesotho\",\"Lesotho\",\"Lesotho\"],\"life\":[48.077,48.26,48.397,48.518,48.651,48.817,49.03100000000001,49.303,49.627,49.999,50.418,50.887,51.408,51.973,52.57,53.184,53.795,54.38,54.927,55.433,55.897,56.363,56.895,57.51300000000001,58.192,58.875,59.442,59.75,59.695,59.215,58.302,56.958,55.222,53.235,51.15600000000001,49.114,47.265,45.745,44.611,43.889,43.597,43.724,44.22,44.96100000000001,45.825,46.729,47.584,48.327,48.947,49.44600000000001],\"year\":[1964,1965,1966,1967,1968,1969,1970,1971,1972,1973,1974,1975,1976,1977,1978,1979,1980,1981,1982,1983,1984,1985,1986,1987,1988,1989,1990,1991,1992,1993,1994,1995,1996,1997,1998,1999,2000,2001,2002,2003,2004,2005,2006,2007,2008,2009,2010,2011,2012,2013]},\"selected\":{\"id\":\"5180\",\"type\":\"Selection\"},\"selection_policy\":{\"id\":\"5179\",\"type\":\"UnionRenderers\"}},\"id\":\"4991\",\"type\":\"ColumnDataSource\"},{\"attributes\":{\"callback\":null,\"tooltips\":[[\"Country\",\"@country\"],[\"Year\",\"@year\"],[\"Life Exp\",\"@life\"]]},\"id\":\"5008\",\"type\":\"HoverTool\"},{\"attributes\":{\"data_source\":{\"id\":\"4974\",\"type\":\"ColumnDataSource\"},\"glyph\":{\"id\":\"4976\",\"type\":\"Line\"},\"hover_glyph\":null,\"muted_glyph\":null,\"nonselection_glyph\":{\"id\":\"4977\",\"type\":\"Line\"},\"selection_glyph\":null,\"view\":{\"id\":\"4979\",\"type\":\"CDSView\"}},\"id\":\"4978\",\"type\":\"GlyphRenderer\"},{\"attributes\":{},\"id\":\"4949\",\"type\":\"ResetTool\"},{\"attributes\":{},\"id\":\"5179\",\"type\":\"UnionRenderers\"},{\"attributes\":{\"source\":{\"id\":\"4974\",\"type\":\"ColumnDataSource\"}},\"id\":\"4979\",\"type\":\"CDSView\"},{\"attributes\":{},\"id\":\"4950\",\"type\":\"HelpTool\"},{\"attributes\":{\"text\":\"Population Growth From 1964\"},\"id\":\"4925\",\"type\":\"Title\"},{\"attributes\":{\"label\":{\"value\":\"Botswana\"},\"renderers\":[{\"id\":\"4962\",\"type\":\"GlyphRenderer\"}]},\"id\":\"4971\",\"type\":\"LegendItem\"},{\"attributes\":{},\"id\":\"5180\",\"type\":\"Selection\"},{\"attributes\":{},\"id\":\"4986\",\"type\":\"UnionRenderers\"},{\"attributes\":{\"active_drag\":\"auto\",\"active_inspect\":\"auto\",\"active_multi\":null,\"active_scroll\":\"auto\",\"active_tap\":\"auto\",\"tools\":[{\"id\":\"4945\",\"type\":\"PanTool\"},{\"id\":\"4946\",\"type\":\"WheelZoomTool\"},{\"id\":\"4947\",\"type\":\"BoxZoomTool\"},{\"id\":\"4948\",\"type\":\"SaveTool\"},{\"id\":\"4949\",\"type\":\"ResetTool\"},{\"id\":\"4950\",\"type\":\"HelpTool\"},{\"id\":\"4972\",\"type\":\"HoverTool\"},{\"id\":\"4989\",\"type\":\"HoverTool\"},{\"id\":\"5008\",\"type\":\"HoverTool\"}]},\"id\":\"4951\",\"type\":\"Toolbar\"},{\"attributes\":{\"callback\":null},\"id\":\"4927\",\"type\":\"DataRange1d\"},{\"attributes\":{\"items\":[{\"id\":\"4971\",\"type\":\"LegendItem\"},{\"id\":\"4988\",\"type\":\"LegendItem\"},{\"id\":\"5007\",\"type\":\"LegendItem\"}]},\"id\":\"4970\",\"type\":\"Legend\"},{\"attributes\":{},\"id\":\"4987\",\"type\":\"Selection\"},{\"attributes\":{\"callback\":null},\"id\":\"4929\",\"type\":\"DataRange1d\"},{\"attributes\":{\"label\":{\"value\":\"Zimbabwe\"},\"renderers\":[{\"id\":\"4978\",\"type\":\"GlyphRenderer\"}]},\"id\":\"4988\",\"type\":\"LegendItem\"},{\"attributes\":{},\"id\":\"4931\",\"type\":\"LinearScale\"},{\"attributes\":{\"callback\":null,\"tooltips\":[[\"Country\",\"@country\"],[\"Year\",\"@year\"],[\"Life Exp\",\"@life\"]]},\"id\":\"4989\",\"type\":\"HoverTool\"},{\"attributes\":{},\"id\":\"4933\",\"type\":\"LinearScale\"},{\"attributes\":{\"callback\":null,\"tooltips\":[[\"Country\",\"@country\"],[\"Year\",\"@year\"],[\"Life Exp\",\"@life\"]]},\"id\":\"4972\",\"type\":\"HoverTool\"},{\"attributes\":{\"axis_label\":\"Year\",\"formatter\":{\"id\":\"4967\",\"type\":\"BasicTickFormatter\"},\"ticker\":{\"id\":\"4936\",\"type\":\"BasicTicker\"}},\"id\":\"4935\",\"type\":\"LinearAxis\"},{\"attributes\":{},\"id\":\"4967\",\"type\":\"BasicTickFormatter\"},{\"attributes\":{},\"id\":\"4936\",\"type\":\"BasicTicker\"},{\"attributes\":{\"line_color\":\"#1f77b4\",\"x\":{\"field\":\"year\"},\"y\":{\"field\":\"life\"}},\"id\":\"4960\",\"type\":\"Line\"},{\"attributes\":{\"line_color\":\"#2ca02c\",\"x\":{\"field\":\"year\"},\"y\":{\"field\":\"life\"}},\"id\":\"4993\",\"type\":\"Line\"},{\"attributes\":{\"line_alpha\":0.1,\"line_color\":\"#1f77b4\",\"x\":{\"field\":\"year\"},\"y\":{\"field\":\"life\"}},\"id\":\"4961\",\"type\":\"Line\"},{\"attributes\":{\"axis_label\":\"Life Expectancy\",\"formatter\":{\"id\":\"4965\",\"type\":\"BasicTickFormatter\"},\"ticker\":{\"id\":\"4941\",\"type\":\"BasicTicker\"}},\"id\":\"4940\",\"type\":\"LinearAxis\"},{\"attributes\":{\"data_source\":{\"id\":\"4958\",\"type\":\"ColumnDataSource\"},\"glyph\":{\"id\":\"4960\",\"type\":\"Line\"},\"hover_glyph\":null,\"muted_glyph\":null,\"nonselection_glyph\":{\"id\":\"4961\",\"type\":\"Line\"},\"selection_glyph\":null,\"view\":{\"id\":\"4963\",\"type\":\"CDSView\"}},\"id\":\"4962\",\"type\":\"GlyphRenderer\"},{\"attributes\":{},\"id\":\"4941\",\"type\":\"BasicTicker\"},{\"attributes\":{\"source\":{\"id\":\"4958\",\"type\":\"ColumnDataSource\"}},\"id\":\"4963\",\"type\":\"CDSView\"},{\"attributes\":{\"dimension\":1,\"ticker\":{\"id\":\"4941\",\"type\":\"BasicTicker\"}},\"id\":\"4944\",\"type\":\"Grid\"}],\"root_ids\":[\"4924\"]},\"title\":\"Bokeh Application\",\"version\":\"1.2.0\"}};\n",
       "  var render_items = [{\"docid\":\"96a46592-1962-493b-9290-326746063938\",\"roots\":{\"4924\":\"2f1c9c57-251b-477a-af16-989c7372f636\"}}];\n",
       "  root.Bokeh.embed.embed_items_notebook(docs_json, render_items);\n",
       "\n",
       "  }\n",
       "  if (root.Bokeh !== undefined) {\n",
       "    embed_document(root);\n",
       "  } else {\n",
       "    var attempts = 0;\n",
       "    var timer = setInterval(function(root) {\n",
       "      if (root.Bokeh !== undefined) {\n",
       "        embed_document(root);\n",
       "        clearInterval(timer);\n",
       "      }\n",
       "      attempts++;\n",
       "      if (attempts > 100) {\n",
       "        console.log(\"Bokeh: ERROR: Unable to run BokehJS code because BokehJS library is missing\");\n",
       "        clearInterval(timer);\n",
       "      }\n",
       "    }, 10, root)\n",
       "  }\n",
       "})(window);"
      ],
      "application/vnd.bokehjs_exec.v0+json": ""
     },
     "metadata": {
      "application/vnd.bokehjs_exec.v0+json": {
       "id": "4924"
      }
     },
     "output_type": "display_data"
    }
   ],
   "source": [
    "countries = ['Botswana', 'Zimbabwe', 'Lesotho']\n",
    "fig = figure(plot_width=900, plot_height=400, title = 'Population Growth From 1964')\n",
    "\n",
    "for i, country in enumerate(countries):\n",
    "    life_data = data[data.Country == country].reset_index()\n",
    "    \n",
    "    source = ColumnDataSource(data = dict(year = list(life_data.Year),\n",
    "                                         life = list(life_data.life),\n",
    "                                         country = list(life_data.Country)))\n",
    "    \n",
    "    fig.line(x = 'year', y = 'life', legend = countries[i], color = Category10[3][i], source = source)\n",
    "    \n",
    "    # add some tool tips\n",
    "    hover = HoverTool(tooltips = [\n",
    "        ('Country', '@country'),\n",
    "        ('Year', '@year'),\n",
    "        ('Life Exp', '@life')\n",
    "    ])\n",
    "    fig.add_tools(hover)\n",
    "    fig.xaxis.axis_label = 'Year'\n",
    "    fig.yaxis.axis_label = 'Life Expectancy'\n",
    "\n",
    "show(fig)"
   ]
  },
  {
   "cell_type": "code",
   "execution_count": null,
   "metadata": {},
   "outputs": [],
   "source": []
  },
  {
   "cell_type": "code",
   "execution_count": 54,
   "metadata": {},
   "outputs": [
    {
     "data": {
      "text/html": [
       "\n",
       "\n",
       "\n",
       "\n",
       "\n",
       "\n",
       "  <div class=\"bk-root\" id=\"011a654e-80c0-4f14-beee-28f927a71ceb\" data-root-id=\"10411\"></div>\n"
      ]
     },
     "metadata": {},
     "output_type": "display_data"
    },
    {
     "data": {
      "application/javascript": [
       "(function(root) {\n",
       "  function embed_document(root) {\n",
       "    \n",
       "  var docs_json = {\"2ca68742-e01c-4c44-b29b-a50c384492c4\":{\"roots\":{\"references\":[{\"attributes\":{\"below\":[{\"id\":\"10422\",\"type\":\"LogAxis\"}],\"center\":[{\"id\":\"10426\",\"type\":\"Grid\"},{\"id\":\"10431\",\"type\":\"Grid\"},{\"id\":\"10460\",\"type\":\"Legend\"}],\"left\":[{\"id\":\"10427\",\"type\":\"LinearAxis\"}],\"plot_width\":1000,\"renderers\":[{\"id\":\"10452\",\"type\":\"GlyphRenderer\"}],\"title\":{\"id\":\"10412\",\"type\":\"Title\"},\"toolbar\":{\"id\":\"10438\",\"type\":\"Toolbar\"},\"x_range\":{\"id\":\"10414\",\"type\":\"Range1d\"},\"x_scale\":{\"id\":\"10418\",\"type\":\"LogScale\"},\"y_range\":{\"id\":\"10416\",\"type\":\"Range1d\"},\"y_scale\":{\"id\":\"10420\",\"type\":\"LinearScale\"}},\"id\":\"10411\",\"subtype\":\"Figure\",\"type\":\"Plot\"},{\"attributes\":{\"overlay\":{\"id\":\"10459\",\"type\":\"BoxAnnotation\"}},\"id\":\"10434\",\"type\":\"BoxZoomTool\"},{\"attributes\":{\"label\":{\"field\":\"region\"},\"renderers\":[{\"id\":\"10452\",\"type\":\"GlyphRenderer\"}]},\"id\":\"10461\",\"type\":\"LegendItem\"},{\"attributes\":{},\"id\":\"10435\",\"type\":\"SaveTool\"},{\"attributes\":{},\"id\":\"10436\",\"type\":\"ResetTool\"},{\"attributes\":{\"items\":[{\"id\":\"10461\",\"type\":\"LegendItem\"}],\"location\":\"top_center\",\"orientation\":\"horizontal\"},\"id\":\"10460\",\"type\":\"Legend\"},{\"attributes\":{\"text\":\"Life Expectancy Against GDP in 2010\"},\"id\":\"10412\",\"type\":\"Title\"},{\"attributes\":{},\"id\":\"10437\",\"type\":\"HelpTool\"},{\"attributes\":{},\"id\":\"10753\",\"type\":\"UnionRenderers\"},{\"attributes\":{\"callback\":null,\"end\":200000,\"start\":100},\"id\":\"10414\",\"type\":\"Range1d\"},{\"attributes\":{\"active_drag\":\"auto\",\"active_inspect\":\"auto\",\"active_multi\":null,\"active_scroll\":\"auto\",\"active_tap\":\"auto\",\"tools\":[{\"id\":\"10432\",\"type\":\"PanTool\"},{\"id\":\"10433\",\"type\":\"WheelZoomTool\"},{\"id\":\"10434\",\"type\":\"BoxZoomTool\"},{\"id\":\"10435\",\"type\":\"SaveTool\"},{\"id\":\"10436\",\"type\":\"ResetTool\"},{\"id\":\"10437\",\"type\":\"HelpTool\"},{\"id\":\"10446\",\"type\":\"HoverTool\"}]},\"id\":\"10438\",\"type\":\"Toolbar\"},{\"attributes\":{\"bottom_units\":\"screen\",\"fill_alpha\":{\"value\":0.5},\"fill_color\":{\"value\":\"lightgrey\"},\"left_units\":\"screen\",\"level\":\"overlay\",\"line_alpha\":{\"value\":1.0},\"line_color\":{\"value\":\"black\"},\"line_dash\":[4,4],\"line_width\":{\"value\":2},\"render_mode\":\"css\",\"right_units\":\"screen\",\"top_units\":\"screen\"},\"id\":\"10459\",\"type\":\"BoxAnnotation\"},{\"attributes\":{\"callback\":null,\"data\":{\"country\":[\"Afghanistan\",\"Albania\",\"Algeria\",\"Angola\",\"Antigua and Barbuda\",\"Argentina\",\"Armenia\",\"Aruba\",\"Australia\",\"Austria\",\"Azerbaijan\",\"Bahamas\",\"Bahrain\",\"Bangladesh\",\"Barbados\",\"Belarus\",\"Belgium\",\"Belize\",\"Benin\",\"Bhutan\",\"Bolivia\",\"Bosnia and Herzegovina\",\"Botswana\",\"Brazil\",\"Brunei\",\"Bulgaria\",\"Burkina Faso\",\"Burundi\",\"Cambodia\",\"Cameroon\",\"Canada\",\"Cape Verde\",\"Central African Rep.\",\"Chad\",\"Channel Islands\",\"Chile\",\"China\",\"Colombia\",\"Comoros\",\"Congo, Dem. Rep.\",\"Congo, Rep.\",\"Costa Rica\",\"Cote d'Ivoire\",\"Croatia\",\"Cuba\",\"Cyprus\",\"Czech Rep.\",\"Denmark\",\"Djibouti\",\"Dominican Rep.\",\"Ecuador\",\"Egypt\",\"El Salvador\",\"Equatorial Guinea\",\"Eritrea\",\"Estonia\",\"Ethiopia\",\"Fiji\",\"Finland\",\"France\",\"French Guiana\",\"French Polynesia\",\"Gabon\",\"Gambia\",\"Georgia\",\"Germany\",\"Ghana\",\"Greece\",\"Greenland\",\"Grenada\",\"Guadeloupe\",\"Guam\",\"Guatemala\",\"Guinea\",\"Guinea-Bissau\",\"Guyana\",\"Haiti\",\"Honduras\",\"Hong Kong, China\",\"Hungary\",\"Iceland\",\"India\",\"Indonesia\",\"Iran\",\"Iraq\",\"Ireland\",\"Israel\",\"Italy\",\"Jamaica\",\"Japan\",\"Jordan\",\"Kazakhstan\",\"Kenya\",\"Kiribati\",\"Korea, Dem. Rep.\",\"Korea, Rep.\",\"Kuwait\",\"Kyrgyzstan\",\"Laos\",\"Latvia\",\"Lebanon\",\"Lesotho\",\"Liberia\",\"Libya\",\"Lithuania\",\"Luxembourg\",\"Macao, China\",\"Macedonia, FYR\",\"Madagascar\",\"Malawi\",\"Malaysia\",\"Maldives\",\"Mali\",\"Malta\",\"Martinique\",\"Mauritania\",\"Mauritius\",\"Mayotte\",\"Mexico\",\"Micronesia, Fed. Sts.\",\"Moldova\",\"Mongolia\",\"Montenegro\",\"Morocco\",\"Mozambique\",\"Myanmar\",\"Namibia\",\"Nepal\",\"Netherlands\",\"Netherlands Antilles\",\"New Caledonia\",\"New Zealand\",\"Nicaragua\",\"Niger\",\"Nigeria\",\"Norway\",\"Oman\",\"Pakistan\",\"Panama\",\"Papua New Guinea\",\"Paraguay\",\"Peru\",\"Philippines\",\"Poland\",\"Portugal\",\"Puerto Rico\",\"Qatar\",\"Reunion\",\"Romania\",\"Russia\",\"Rwanda\",\"Saint Lucia\",\"Saint Vincent and the Grenadines\",\"Samoa\",\"Sao Tome and Principe\",\"Saudi Arabia\",\"Senegal\",\"Serbia\",\"Seychelles\",\"Sierra Leone\",\"Singapore\",\"Slovak Republic\",\"Slovenia\",\"Solomon Islands\",\"Somalia\",\"South Africa\",\"South Sudan\",\"Spain\",\"Sri Lanka\",\"Sudan\",\"Suriname\",\"Swaziland\",\"Sweden\",\"Switzerland\",\"Syria\",\"Taiwan\",\"Tajikistan\",\"Tanzania\",\"Thailand\",\"Timor-Leste\",\"Togo\",\"Tonga\",\"Trinidad and Tobago\",\"Tunisia\",\"Turkey\",\"Turkmenistan\",\"Uganda\",\"Ukraine\",\"United Arab Emirates\",\"United Kingdom\",\"United States\",\"Uruguay\",\"Uzbekistan\",\"Vanuatu\",\"Venezuela\",\"Vietnam\",\"Virgin Islands (U.S.)\",\"West Bank and Gaza\",\"Western Sahara\",\"Yemen, Rep.\",\"Zambia\",\"Zimbabwe\"],\"population\":{\"__ndarray__\":\"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\",\"dtype\":\"float64\",\"shape\":[202]},\"region\":[\"South Asia\",\"Europe & Central Asia\",\"Middle East & North Africa\",\"Sub-Saharan Africa\",\"America\",\"America\",\"Europe & Central Asia\",\"America\",\"East Asia & Pacific\",\"Europe & Central Asia\",\"Europe & Central Asia\",\"America\",\"Middle East & North Africa\",\"South Asia\",\"America\",\"Europe & Central Asia\",\"Europe & Central Asia\",\"America\",\"Sub-Saharan Africa\",\"South Asia\",\"America\",\"Europe & Central Asia\",\"Sub-Saharan Africa\",\"America\",\"East Asia & Pacific\",\"Europe & Central Asia\",\"Sub-Saharan Africa\",\"Sub-Saharan Africa\",\"East Asia & Pacific\",\"Sub-Saharan Africa\",\"America\",\"Sub-Saharan Africa\",\"Sub-Saharan Africa\",\"Sub-Saharan Africa\",\"Europe & Central Asia\",\"America\",\"East Asia & Pacific\",\"America\",\"Sub-Saharan Africa\",\"Sub-Saharan Africa\",\"Sub-Saharan Africa\",\"America\",\"Sub-Saharan Africa\",\"Europe & Central Asia\",\"America\",\"Europe & Central Asia\",\"Europe & Central Asia\",\"Europe & Central Asia\",\"Middle East & North Africa\",\"America\",\"America\",\"Middle East & North Africa\",\"America\",\"Sub-Saharan Africa\",\"Sub-Saharan Africa\",\"Europe & Central Asia\",\"Sub-Saharan Africa\",\"East Asia & Pacific\",\"Europe & Central Asia\",\"Europe & Central Asia\",\"America\",\"East Asia & Pacific\",\"Sub-Saharan Africa\",\"Sub-Saharan Africa\",\"Europe & Central Asia\",\"Europe & Central Asia\",\"Sub-Saharan Africa\",\"Europe & Central Asia\",\"Europe & Central Asia\",\"America\",\"America\",\"East Asia & Pacific\",\"America\",\"Sub-Saharan Africa\",\"Sub-Saharan Africa\",\"America\",\"America\",\"America\",\"East Asia & Pacific\",\"Europe & Central Asia\",\"Europe & Central Asia\",\"South Asia\",\"East Asia & Pacific\",\"Middle East & North Africa\",\"Middle East & North Africa\",\"Europe & Central Asia\",\"Middle East & North Africa\",\"Europe & Central Asia\",\"America\",\"East Asia & Pacific\",\"Middle East & North Africa\",\"Europe & Central Asia\",\"Sub-Saharan Africa\",\"East Asia & Pacific\",\"East Asia & Pacific\",\"East Asia & Pacific\",\"Middle East & North Africa\",\"Europe & Central Asia\",\"East Asia & Pacific\",\"Europe & Central Asia\",\"Middle East & North Africa\",\"Sub-Saharan Africa\",\"Sub-Saharan Africa\",\"Middle East & North Africa\",\"Europe & Central Asia\",\"Europe & Central Asia\",\"East Asia & Pacific\",\"Europe & Central Asia\",\"Sub-Saharan Africa\",\"Sub-Saharan Africa\",\"East Asia & Pacific\",\"South Asia\",\"Sub-Saharan Africa\",\"Europe & Central Asia\",\"America\",\"Sub-Saharan Africa\",\"Sub-Saharan Africa\",\"Sub-Saharan Africa\",\"America\",\"East Asia & Pacific\",\"Europe & Central Asia\",\"East Asia & Pacific\",\"Europe & Central Asia\",\"Middle East & North Africa\",\"Sub-Saharan Africa\",\"East Asia & Pacific\",\"Sub-Saharan Africa\",\"South Asia\",\"Europe & Central Asia\",\"America\",\"East Asia & Pacific\",\"East Asia & Pacific\",\"America\",\"Sub-Saharan Africa\",\"Sub-Saharan Africa\",\"Europe & Central Asia\",\"Middle East & North Africa\",\"South Asia\",\"America\",\"East Asia & Pacific\",\"America\",\"America\",\"East Asia & Pacific\",\"Europe & Central Asia\",\"Europe & Central Asia\",\"America\",\"Middle East & North Africa\",\"Sub-Saharan Africa\",\"Europe & Central Asia\",\"Europe & Central Asia\",\"Sub-Saharan Africa\",\"America\",\"America\",\"East Asia & Pacific\",\"Sub-Saharan Africa\",\"Middle East & North Africa\",\"Sub-Saharan Africa\",\"Europe & Central Asia\",\"Sub-Saharan Africa\",\"Sub-Saharan Africa\",\"East Asia & Pacific\",\"Europe & Central Asia\",\"Europe & Central Asia\",\"East Asia & Pacific\",\"Sub-Saharan Africa\",\"Sub-Saharan Africa\",\"Sub-Saharan Africa\",\"Europe & Central Asia\",\"South Asia\",\"Sub-Saharan Africa\",\"America\",\"Sub-Saharan Africa\",\"Europe & Central Asia\",\"Europe & Central Asia\",\"Middle East & North Africa\",\"East Asia & Pacific\",\"Europe & Central Asia\",\"Sub-Saharan Africa\",\"East Asia & Pacific\",\"East Asia & Pacific\",\"Sub-Saharan Africa\",\"East Asia & Pacific\",\"America\",\"Middle East & North Africa\",\"Europe & Central Asia\",\"Europe & Central Asia\",\"Sub-Saharan Africa\",\"Europe & Central Asia\",\"Middle East & North Africa\",\"Europe & Central Asia\",\"America\",\"America\",\"Europe & Central Asia\",\"East Asia & Pacific\",\"America\",\"East Asia & Pacific\",\"America\",\"Middle East & North Africa\",\"Middle East & North Africa\",\"Middle East & North Africa\",\"Sub-Saharan Africa\",\"Sub-Saharan Africa\"],\"x\":{\"__ndarray__\":\"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\",\"dtype\":\"float64\",\"shape\":[202]},\"y\":{\"__ndarray__\":\"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\",\"dtype\":\"float64\",\"shape\":[202]}},\"selected\":{\"id\":\"10754\",\"type\":\"Selection\"},\"selection_policy\":{\"id\":\"10753\",\"type\":\"UnionRenderers\"}},\"id\":\"10445\",\"type\":\"ColumnDataSource\"},{\"attributes\":{\"callback\":null,\"end\":100},\"id\":\"10416\",\"type\":\"Range1d\"},{\"attributes\":{},\"id\":\"10418\",\"type\":\"LogScale\"},{\"attributes\":{\"data\":null,\"x\":[1170.0,1359368470.0],\"y\":[10,75]},\"id\":\"10447\",\"type\":\"LinearInterpolator\"},{\"attributes\":{\"factors\":[\"South Asia\",\"Europe & Central Asia\",\"Middle East & North Africa\",\"Sub-Saharan Africa\",\"America\",\"East Asia & Pacific\"],\"palette\":[\"#3288bd\",\"#99d594\",\"#e6f598\",\"#fee08b\",\"#fc8d59\",\"#d53e4f\"]},\"id\":\"10448\",\"type\":\"CategoricalColorMapper\"},{\"attributes\":{},\"id\":\"10420\",\"type\":\"LinearScale\"},{\"attributes\":{\"formatter\":{\"id\":\"10462\",\"type\":\"NumeralTickFormatter\"},\"ticker\":{\"id\":\"10423\",\"type\":\"LogTicker\"}},\"id\":\"10422\",\"type\":\"LogAxis\"},{\"attributes\":{},\"id\":\"10754\",\"type\":\"Selection\"},{\"attributes\":{\"num_minor_ticks\":10},\"id\":\"10423\",\"type\":\"LogTicker\"},{\"attributes\":{\"fill_alpha\":{\"value\":0.7},\"fill_color\":{\"field\":\"region\",\"transform\":{\"id\":\"10448\",\"type\":\"CategoricalColorMapper\"}},\"line_alpha\":{\"value\":0.7},\"line_color\":{\"field\":\"region\",\"transform\":{\"id\":\"10448\",\"type\":\"CategoricalColorMapper\"}},\"size\":{\"field\":\"population\",\"transform\":{\"id\":\"10447\",\"type\":\"LinearInterpolator\"},\"units\":\"screen\"},\"x\":{\"field\":\"x\"},\"y\":{\"field\":\"y\"}},\"id\":\"10450\",\"type\":\"Circle\"},{\"attributes\":{\"ticker\":{\"id\":\"10423\",\"type\":\"LogTicker\"}},\"id\":\"10426\",\"type\":\"Grid\"},{\"attributes\":{\"fill_alpha\":{\"value\":0.1},\"fill_color\":{\"value\":\"#1f77b4\"},\"line_alpha\":{\"value\":0.1},\"line_color\":{\"value\":\"#1f77b4\"},\"size\":{\"field\":\"population\",\"transform\":{\"id\":\"10447\",\"type\":\"LinearInterpolator\"},\"units\":\"screen\"},\"x\":{\"field\":\"x\"},\"y\":{\"field\":\"y\"}},\"id\":\"10451\",\"type\":\"Circle\"},{\"attributes\":{\"formatter\":{\"id\":\"10455\",\"type\":\"BasicTickFormatter\"},\"ticker\":{\"id\":\"10428\",\"type\":\"BasicTicker\"}},\"id\":\"10427\",\"type\":\"LinearAxis\"},{\"attributes\":{\"data_source\":{\"id\":\"10445\",\"type\":\"ColumnDataSource\"},\"glyph\":{\"id\":\"10450\",\"type\":\"Circle\"},\"hover_glyph\":null,\"muted_glyph\":null,\"nonselection_glyph\":{\"id\":\"10451\",\"type\":\"Circle\"},\"selection_glyph\":null,\"view\":{\"id\":\"10453\",\"type\":\"CDSView\"}},\"id\":\"10452\",\"type\":\"GlyphRenderer\"},{\"attributes\":{\"format\":\"$0,\"},\"id\":\"10462\",\"type\":\"NumeralTickFormatter\"},{\"attributes\":{},\"id\":\"10428\",\"type\":\"BasicTicker\"},{\"attributes\":{\"source\":{\"id\":\"10445\",\"type\":\"ColumnDataSource\"}},\"id\":\"10453\",\"type\":\"CDSView\"},{\"attributes\":{\"dimension\":1,\"ticker\":{\"id\":\"10428\",\"type\":\"BasicTicker\"}},\"id\":\"10431\",\"type\":\"Grid\"},{\"attributes\":{},\"id\":\"10455\",\"type\":\"BasicTickFormatter\"},{\"attributes\":{\"callback\":null,\"tooltips\":\"@country\"},\"id\":\"10446\",\"type\":\"HoverTool\"},{\"attributes\":{},\"id\":\"10432\",\"type\":\"PanTool\"},{\"attributes\":{},\"id\":\"10433\",\"type\":\"WheelZoomTool\"}],\"root_ids\":[\"10411\"]},\"title\":\"Bokeh Application\",\"version\":\"1.2.0\"}};\n",
       "  var render_items = [{\"docid\":\"2ca68742-e01c-4c44-b29b-a50c384492c4\",\"roots\":{\"10411\":\"011a654e-80c0-4f14-beee-28f927a71ceb\"}}];\n",
       "  root.Bokeh.embed.embed_items_notebook(docs_json, render_items);\n",
       "\n",
       "  }\n",
       "  if (root.Bokeh !== undefined) {\n",
       "    embed_document(root);\n",
       "  } else {\n",
       "    var attempts = 0;\n",
       "    var timer = setInterval(function(root) {\n",
       "      if (root.Bokeh !== undefined) {\n",
       "        embed_document(root);\n",
       "        clearInterval(timer);\n",
       "      }\n",
       "      attempts++;\n",
       "      if (attempts > 100) {\n",
       "        console.log(\"Bokeh: ERROR: Unable to run BokehJS code because BokehJS library is missing\");\n",
       "        clearInterval(timer);\n",
       "      }\n",
       "    }, 10, root)\n",
       "  }\n",
       "})(window);"
      ],
      "application/vnd.bokehjs_exec.v0+json": ""
     },
     "metadata": {
      "application/vnd.bokehjs_exec.v0+json": {
       "id": "10411"
      }
     },
     "output_type": "display_data"
    }
   ],
   "source": [
    "# Coloured Bubble Chart\n",
    "# Colour By Region\n",
    "from bokeh.palettes import Spectral6\n",
    "from bokeh.models import NumeralTickFormatter, LinearInterpolator, CategoricalColorMapper\n",
    "\n",
    "data.head()\n",
    "\n",
    "\n",
    "fig = figure(title = 'Life Expectancy Against GDP in 2010', x_axis_type = 'log',\n",
    "             x_range = (100, 200000),y_range = (0, 100), plot_width=1000)\n",
    "\n",
    "#Get the 2010 data only\n",
    "data_2010 = data.loc[2010]\n",
    "\n",
    "source = ColumnDataSource(dict(x = data_2010.gdp, y = data_2010.life, \n",
    "                               country = data_2010.Country, population = data_2010.population, region = data_2010.region))\n",
    "hover = HoverTool(tooltips=\"@country\")\n",
    "\n",
    "size_mapper = LinearInterpolator(x = [data.population.min(), data.population.max()],\n",
    "                                 y = [10, 75])\n",
    "\n",
    "colour_mapper = CategoricalColorMapper(factors = list(data.region.unique()),\n",
    "                                      palette = Spectral6)\n",
    "\n",
    "fig.circle(x = 'x', y = 'y',\n",
    "           size = {\n",
    "               'field' : 'population',\n",
    "               'transform' : size_mapper\n",
    "           },\n",
    "           color = {\n",
    "               'field': 'region',\n",
    "               'transform': colour_mapper\n",
    "           },\n",
    "           alpha = 0.7,\n",
    "           legend = 'region',\n",
    "           source = source)\n",
    "fig.xaxis[0].formatter = NumeralTickFormatter(format=\"$0,\")\n",
    "fig.add_tools(hover)\n",
    "fig.legend.location = 'top_center'\n",
    "fig.legend.orientation = \"horizontal\"\n",
    "\n",
    "show(fig)"
   ]
  },
  {
   "cell_type": "code",
   "execution_count": 36,
   "metadata": {},
   "outputs": [
    {
     "data": {
      "text/plain": [
       "182668.0"
      ]
     },
     "execution_count": 36,
     "metadata": {},
     "output_type": "execute_result"
    }
   ],
   "source": [
    "data.gdp.max()"
   ]
  },
  {
   "cell_type": "code",
   "execution_count": null,
   "metadata": {},
   "outputs": [],
   "source": []
  }
 ],
 "metadata": {
  "kernelspec": {
   "display_name": "Python 3",
   "language": "python",
   "name": "python3"
  },
  "language_info": {
   "codemirror_mode": {
    "name": "ipython",
    "version": 3
   },
   "file_extension": ".py",
   "mimetype": "text/x-python",
   "name": "python",
   "nbconvert_exporter": "python",
   "pygments_lexer": "ipython3",
   "version": "3.7.2"
  }
 },
 "nbformat": 4,
 "nbformat_minor": 2
}
